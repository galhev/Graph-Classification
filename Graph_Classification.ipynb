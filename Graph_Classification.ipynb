{
  "nbformat": 4,
  "nbformat_minor": 0,
  "metadata": {
    "colab": {
      "name": "Intelici_Challenge.ipynb",
      "version": "0.3.2",
      "provenance": [],
      "collapsed_sections": []
    },
    "kernelspec": {
      "name": "python3",
      "display_name": "Python 3"
    }
  },
  "cells": [
    {
      "cell_type": "markdown",
      "metadata": {
        "id": "MHvkn8U1yEPX",
        "colab_type": "text"
      },
      "source": [
        "# Intelici Challenge - Graph Classification"
      ]
    },
    {
      "cell_type": "code",
      "metadata": {
        "id": "h6X_hK7HxEyS",
        "colab_type": "code",
        "colab": {}
      },
      "source": [
        "By: Gal Hever"
      ],
      "execution_count": 0,
      "outputs": []
    },
    {
      "cell_type": "markdown",
      "metadata": {
        "id": "eHsD2DSEw8kS",
        "colab_type": "text"
      },
      "source": [
        "In this challenge you'll be classifying graphs, which is the basis for the work we do at Intelici.\n",
        "\n",
        "This is a binary classification challenge with 992 graphs in the training set, and 121 in the test set. In order to extract graph features, you may use all algorithms and functions that networkx (or any other library) provides you, or write your own.\n",
        "\n",
        "We don't have the ground truth for this data. Instead, four annotators with different skill levels tagged the data, so you'll need to find a way to obtain labels to use for training.\n",
        "\n",
        "The purpose of this challenge is to see how you work. Writing clean and orderly code and demonstrating understanding is more important than receiving perfect results.\n",
        "\n",
        "# Layout\n",
        "- graphs/ contains 1113 graph files in edge list format\n",
        "- classes_train.csv contains 5 columns: Graph filename, Annotator 1, Annotator 2, Annotator 3, Annotator 4\n",
        "- classes_test.csv contains 2 columns: Graph filenae, class"
      ]
    },
    {
      "cell_type": "markdown",
      "metadata": {
        "id": "SgjKjJuwJN5h",
        "colab_type": "text"
      },
      "source": [
        "### Import Data"
      ]
    },
    {
      "cell_type": "code",
      "metadata": {
        "id": "w6pM2E_mjd-_",
        "colab_type": "code",
        "colab": {}
      },
      "source": [
        "import networkx as nx\n",
        "import matplotlib.pyplot as plt\n",
        "import pandas as pd\n",
        "import numpy as np\n",
        "import matplotlib.pyplot as plt\n",
        "import seaborn as sns\n",
        "import sklearn"
      ],
      "execution_count": 0,
      "outputs": []
    },
    {
      "cell_type": "code",
      "metadata": {
        "id": "FxTEIPbHb5Zr",
        "colab_type": "code",
        "outputId": "3ae35569-5dfd-4045-caba-218422d6bcec",
        "colab": {
          "resources": {
            "http://localhost:8080/nbextensions/google.colab/files.js": {
              "data": "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",
              "ok": true,
              "headers": [
                [
                  "content-type",
                  "application/javascript"
                ]
              ],
              "status": 200,
              "status_text": ""
            }
          },
          "base_uri": "https://localhost:8080/",
          "height": 37882
        }
      },
      "source": [
        "from google.colab import files\n",
        "uploaded = files.upload()"
      ],
      "execution_count": 0,
      "outputs": [
        {
          "output_type": "display_data",
          "data": {
            "text/html": [
              "\n",
              "     <input type=\"file\" id=\"files-fbf7bdf4-ed85-4b9b-81d6-e1057c690f09\" name=\"files[]\" multiple disabled />\n",
              "     <output id=\"result-fbf7bdf4-ed85-4b9b-81d6-e1057c690f09\">\n",
              "      Upload widget is only available when the cell has been executed in the\n",
              "      current browser session. Please rerun this cell to enable.\n",
              "      </output>\n",
              "      <script src=\"/nbextensions/google.colab/files.js\"></script> "
            ],
            "text/plain": [
              "<IPython.core.display.HTML object>"
            ]
          },
          "metadata": {
            "tags": []
          }
        },
        {
          "output_type": "stream",
          "text": [
            "Saving 1 to 1\n",
            "Saving 2 to 2\n",
            "Saving 3 to 3\n",
            "Saving 4 to 4\n",
            "Saving 5 to 5\n",
            "Saving 6 to 6\n",
            "Saving 7 to 7\n",
            "Saving 8 to 8\n",
            "Saving 9 to 9\n",
            "Saving 10 to 10\n",
            "Saving 11 to 11\n",
            "Saving 12 to 12\n",
            "Saving 13 to 13\n",
            "Saving 14 to 14\n",
            "Saving 15 to 15\n",
            "Saving 16 to 16\n",
            "Saving 17 to 17\n",
            "Saving 18 to 18\n",
            "Saving 19 to 19\n",
            "Saving 20 to 20\n",
            "Saving 21 to 21\n",
            "Saving 22 to 22\n",
            "Saving 23 to 23\n",
            "Saving 24 to 24\n",
            "Saving 25 to 25\n",
            "Saving 26 to 26\n",
            "Saving 27 to 27\n",
            "Saving 28 to 28\n",
            "Saving 29 to 29\n",
            "Saving 30 to 30\n",
            "Saving 31 to 31\n",
            "Saving 32 to 32\n",
            "Saving 33 to 33\n",
            "Saving 34 to 34\n",
            "Saving 35 to 35\n",
            "Saving 36 to 36\n",
            "Saving 37 to 37\n",
            "Saving 38 to 38\n",
            "Saving 39 to 39\n",
            "Saving 40 to 40\n",
            "Saving 41 to 41\n",
            "Saving 42 to 42\n",
            "Saving 43 to 43\n",
            "Saving 44 to 44\n",
            "Saving 45 to 45\n",
            "Saving 46 to 46\n",
            "Saving 47 to 47\n",
            "Saving 48 to 48\n",
            "Saving 49 to 49\n",
            "Saving 50 to 50\n",
            "Saving 51 to 51\n",
            "Saving 52 to 52\n",
            "Saving 53 to 53\n",
            "Saving 54 to 54\n",
            "Saving 55 to 55\n",
            "Saving 56 to 56\n",
            "Saving 57 to 57\n",
            "Saving 58 to 58\n",
            "Saving 59 to 59\n",
            "Saving 60 to 60\n",
            "Saving 61 to 61\n",
            "Saving 62 to 62\n",
            "Saving 63 to 63\n",
            "Saving 64 to 64\n",
            "Saving 65 to 65\n",
            "Saving 66 to 66\n",
            "Saving 67 to 67\n",
            "Saving 68 to 68\n",
            "Saving 69 to 69\n",
            "Saving 70 to 70\n",
            "Saving 71 to 71\n",
            "Saving 72 to 72\n",
            "Saving 73 to 73\n",
            "Saving 74 to 74\n",
            "Saving 75 to 75\n",
            "Saving 76 to 76\n",
            "Saving 77 to 77\n",
            "Saving 78 to 78\n",
            "Saving 79 to 79\n",
            "Saving 80 to 80\n",
            "Saving 81 to 81\n",
            "Saving 82 to 82\n",
            "Saving 83 to 83\n",
            "Saving 84 to 84\n",
            "Saving 85 to 85\n",
            "Saving 86 to 86\n",
            "Saving 87 to 87\n",
            "Saving 88 to 88\n",
            "Saving 89 to 89\n",
            "Saving 90 to 90\n",
            "Saving 91 to 91\n",
            "Saving 92 to 92\n",
            "Saving 93 to 93\n",
            "Saving 94 to 94\n",
            "Saving 95 to 95\n",
            "Saving 96 to 96\n",
            "Saving 97 to 97\n",
            "Saving 98 to 98\n",
            "Saving 99 to 99\n",
            "Saving 100 to 100\n",
            "Saving 101 to 101\n",
            "Saving 102 to 102\n",
            "Saving 103 to 103\n",
            "Saving 104 to 104\n",
            "Saving 105 to 105\n",
            "Saving 106 to 106\n",
            "Saving 107 to 107\n",
            "Saving 108 to 108\n",
            "Saving 109 to 109\n",
            "Saving 110 to 110\n",
            "Saving 111 to 111\n",
            "Saving 112 to 112\n",
            "Saving 113 to 113\n",
            "Saving 114 to 114\n",
            "Saving 115 to 115\n",
            "Saving 116 to 116\n",
            "Saving 117 to 117\n",
            "Saving 118 to 118\n",
            "Saving 119 to 119\n",
            "Saving 120 to 120\n",
            "Saving 121 to 121\n",
            "Saving 122 to 122\n",
            "Saving 123 to 123\n",
            "Saving 124 to 124\n",
            "Saving 125 to 125\n",
            "Saving 126 to 126\n",
            "Saving 127 to 127\n",
            "Saving 128 to 128\n",
            "Saving 129 to 129\n",
            "Saving 130 to 130\n",
            "Saving 131 to 131\n",
            "Saving 132 to 132\n",
            "Saving 133 to 133\n",
            "Saving 134 to 134\n",
            "Saving 135 to 135\n",
            "Saving 136 to 136\n",
            "Saving 137 to 137\n",
            "Saving 138 to 138\n",
            "Saving 139 to 139\n",
            "Saving 140 to 140\n",
            "Saving 141 to 141\n",
            "Saving 142 to 142\n",
            "Saving 143 to 143\n",
            "Saving 144 to 144\n",
            "Saving 145 to 145\n",
            "Saving 146 to 146\n",
            "Saving 147 to 147\n",
            "Saving 148 to 148\n",
            "Saving 149 to 149\n",
            "Saving 150 to 150\n",
            "Saving 151 to 151\n",
            "Saving 152 to 152\n",
            "Saving 153 to 153\n",
            "Saving 154 to 154\n",
            "Saving 155 to 155\n",
            "Saving 156 to 156\n",
            "Saving 157 to 157\n",
            "Saving 158 to 158\n",
            "Saving 159 to 159\n",
            "Saving 160 to 160\n",
            "Saving 161 to 161\n",
            "Saving 162 to 162\n",
            "Saving 163 to 163\n",
            "Saving 164 to 164\n",
            "Saving 165 to 165\n",
            "Saving 166 to 166\n",
            "Saving 167 to 167\n",
            "Saving 168 to 168\n",
            "Saving 169 to 169\n",
            "Saving 170 to 170\n",
            "Saving 171 to 171\n",
            "Saving 172 to 172\n",
            "Saving 173 to 173\n",
            "Saving 174 to 174\n",
            "Saving 175 to 175\n",
            "Saving 176 to 176\n",
            "Saving 177 to 177\n",
            "Saving 178 to 178\n",
            "Saving 179 to 179\n",
            "Saving 180 to 180\n",
            "Saving 181 to 181\n",
            "Saving 182 to 182\n",
            "Saving 183 to 183\n",
            "Saving 184 to 184\n",
            "Saving 185 to 185\n",
            "Saving 186 to 186\n",
            "Saving 187 to 187\n",
            "Saving 188 to 188\n",
            "Saving 189 to 189\n",
            "Saving 190 to 190\n",
            "Saving 191 to 191\n",
            "Saving 192 to 192\n",
            "Saving 193 to 193\n",
            "Saving 194 to 194\n",
            "Saving 195 to 195\n",
            "Saving 196 to 196\n",
            "Saving 197 to 197\n",
            "Saving 198 to 198\n",
            "Saving 199 to 199\n",
            "Saving 200 to 200\n",
            "Saving 201 to 201\n",
            "Saving 202 to 202\n",
            "Saving 203 to 203\n",
            "Saving 204 to 204\n",
            "Saving 205 to 205\n",
            "Saving 206 to 206\n",
            "Saving 207 to 207\n",
            "Saving 208 to 208\n",
            "Saving 209 to 209\n",
            "Saving 210 to 210\n",
            "Saving 211 to 211\n",
            "Saving 212 to 212\n",
            "Saving 213 to 213\n",
            "Saving 214 to 214\n",
            "Saving 215 to 215\n",
            "Saving 216 to 216\n",
            "Saving 217 to 217\n",
            "Saving 218 to 218\n",
            "Saving 219 to 219\n",
            "Saving 220 to 220\n",
            "Saving 221 to 221\n",
            "Saving 222 to 222\n",
            "Saving 223 to 223\n",
            "Saving 224 to 224\n",
            "Saving 225 to 225\n",
            "Saving 226 to 226\n",
            "Saving 227 to 227\n",
            "Saving 228 to 228\n",
            "Saving 229 to 229\n",
            "Saving 230 to 230\n",
            "Saving 231 to 231\n",
            "Saving 232 to 232\n",
            "Saving 233 to 233\n",
            "Saving 234 to 234\n",
            "Saving 235 to 235\n",
            "Saving 236 to 236\n",
            "Saving 237 to 237\n",
            "Saving 238 to 238\n",
            "Saving 239 to 239\n",
            "Saving 240 to 240\n",
            "Saving 241 to 241\n",
            "Saving 242 to 242\n",
            "Saving 243 to 243\n",
            "Saving 244 to 244\n",
            "Saving 245 to 245\n",
            "Saving 246 to 246\n",
            "Saving 247 to 247\n",
            "Saving 248 to 248\n",
            "Saving 249 to 249\n",
            "Saving 250 to 250\n",
            "Saving 251 to 251\n",
            "Saving 252 to 252\n",
            "Saving 253 to 253\n",
            "Saving 254 to 254\n",
            "Saving 255 to 255\n",
            "Saving 256 to 256\n",
            "Saving 257 to 257\n",
            "Saving 258 to 258\n",
            "Saving 259 to 259\n",
            "Saving 260 to 260\n",
            "Saving 261 to 261\n",
            "Saving 262 to 262\n",
            "Saving 263 to 263\n",
            "Saving 264 to 264\n",
            "Saving 265 to 265\n",
            "Saving 266 to 266\n",
            "Saving 267 to 267\n",
            "Saving 268 to 268\n",
            "Saving 269 to 269\n",
            "Saving 270 to 270\n",
            "Saving 271 to 271\n",
            "Saving 272 to 272\n",
            "Saving 273 to 273\n",
            "Saving 274 to 274\n",
            "Saving 275 to 275\n",
            "Saving 276 to 276\n",
            "Saving 277 to 277\n",
            "Saving 278 to 278\n",
            "Saving 279 to 279\n",
            "Saving 280 to 280\n",
            "Saving 281 to 281\n",
            "Saving 282 to 282\n",
            "Saving 283 to 283\n",
            "Saving 284 to 284\n",
            "Saving 285 to 285\n",
            "Saving 286 to 286\n",
            "Saving 287 to 287\n",
            "Saving 288 to 288\n",
            "Saving 289 to 289\n",
            "Saving 290 to 290\n",
            "Saving 291 to 291\n",
            "Saving 292 to 292\n",
            "Saving 293 to 293\n",
            "Saving 294 to 294\n",
            "Saving 295 to 295\n",
            "Saving 296 to 296\n",
            "Saving 297 to 297\n",
            "Saving 298 to 298\n",
            "Saving 299 to 299\n",
            "Saving 300 to 300\n",
            "Saving 301 to 301\n",
            "Saving 302 to 302\n",
            "Saving 303 to 303\n",
            "Saving 304 to 304\n",
            "Saving 305 to 305\n",
            "Saving 306 to 306\n",
            "Saving 307 to 307\n",
            "Saving 308 to 308\n",
            "Saving 309 to 309\n",
            "Saving 310 to 310\n",
            "Saving 311 to 311\n",
            "Saving 312 to 312\n",
            "Saving 313 to 313\n",
            "Saving 314 to 314\n",
            "Saving 315 to 315\n",
            "Saving 316 to 316\n",
            "Saving 317 to 317\n",
            "Saving 318 to 318\n",
            "Saving 319 to 319\n",
            "Saving 320 to 320\n",
            "Saving 321 to 321\n",
            "Saving 322 to 322\n",
            "Saving 323 to 323\n",
            "Saving 324 to 324\n",
            "Saving 325 to 325\n",
            "Saving 326 to 326\n",
            "Saving 327 to 327\n",
            "Saving 328 to 328\n",
            "Saving 329 to 329\n",
            "Saving 330 to 330\n",
            "Saving 331 to 331\n",
            "Saving 332 to 332\n",
            "Saving 333 to 333\n",
            "Saving 334 to 334\n",
            "Saving 335 to 335\n",
            "Saving 336 to 336\n",
            "Saving 337 to 337\n",
            "Saving 338 to 338\n",
            "Saving 339 to 339\n",
            "Saving 340 to 340\n",
            "Saving 341 to 341\n",
            "Saving 342 to 342\n",
            "Saving 343 to 343\n",
            "Saving 344 to 344\n",
            "Saving 345 to 345\n",
            "Saving 346 to 346\n",
            "Saving 347 to 347\n",
            "Saving 348 to 348\n",
            "Saving 349 to 349\n",
            "Saving 350 to 350\n",
            "Saving 351 to 351\n",
            "Saving 352 to 352\n",
            "Saving 353 to 353\n",
            "Saving 354 to 354\n",
            "Saving 355 to 355\n",
            "Saving 356 to 356\n",
            "Saving 357 to 357\n",
            "Saving 358 to 358\n",
            "Saving 359 to 359\n",
            "Saving 360 to 360\n",
            "Saving 361 to 361\n",
            "Saving 362 to 362\n",
            "Saving 363 to 363\n",
            "Saving 364 to 364\n",
            "Saving 365 to 365\n",
            "Saving 366 to 366\n",
            "Saving 367 to 367\n",
            "Saving 368 to 368\n",
            "Saving 369 to 369\n",
            "Saving 370 to 370\n",
            "Saving 371 to 371\n",
            "Saving 372 to 372\n",
            "Saving 373 to 373\n",
            "Saving 374 to 374\n",
            "Saving 375 to 375\n",
            "Saving 376 to 376\n",
            "Saving 377 to 377\n",
            "Saving 378 to 378\n",
            "Saving 379 to 379\n",
            "Saving 380 to 380\n",
            "Saving 381 to 381\n",
            "Saving 382 to 382\n",
            "Saving 383 to 383\n",
            "Saving 384 to 384\n",
            "Saving 385 to 385\n",
            "Saving 386 to 386\n",
            "Saving 387 to 387\n",
            "Saving 388 to 388\n",
            "Saving 389 to 389\n",
            "Saving 390 to 390\n",
            "Saving 391 to 391\n",
            "Saving 392 to 392\n",
            "Saving 393 to 393\n",
            "Saving 394 to 394\n",
            "Saving 395 to 395\n",
            "Saving 396 to 396\n",
            "Saving 397 to 397\n",
            "Saving 398 to 398\n",
            "Saving 399 to 399\n",
            "Saving 400 to 400\n",
            "Saving 401 to 401\n",
            "Saving 402 to 402\n",
            "Saving 403 to 403\n",
            "Saving 404 to 404\n",
            "Saving 405 to 405\n",
            "Saving 406 to 406\n",
            "Saving 407 to 407\n",
            "Saving 408 to 408\n",
            "Saving 409 to 409\n",
            "Saving 410 to 410\n",
            "Saving 411 to 411\n",
            "Saving 412 to 412\n",
            "Saving 413 to 413\n",
            "Saving 414 to 414\n",
            "Saving 415 to 415\n",
            "Saving 416 to 416\n",
            "Saving 417 to 417\n",
            "Saving 418 to 418\n",
            "Saving 419 to 419\n",
            "Saving 420 to 420\n",
            "Saving 421 to 421\n",
            "Saving 422 to 422\n",
            "Saving 423 to 423\n",
            "Saving 424 to 424\n",
            "Saving 425 to 425\n",
            "Saving 426 to 426\n",
            "Saving 427 to 427\n",
            "Saving 428 to 428\n",
            "Saving 429 to 429\n",
            "Saving 430 to 430\n",
            "Saving 431 to 431\n",
            "Saving 432 to 432\n",
            "Saving 433 to 433\n",
            "Saving 434 to 434\n",
            "Saving 435 to 435\n",
            "Saving 436 to 436\n",
            "Saving 437 to 437\n",
            "Saving 438 to 438\n",
            "Saving 439 to 439\n",
            "Saving 440 to 440\n",
            "Saving 441 to 441\n",
            "Saving 442 to 442\n",
            "Saving 443 to 443\n",
            "Saving 444 to 444\n",
            "Saving 445 to 445\n",
            "Saving 446 to 446\n",
            "Saving 447 to 447\n",
            "Saving 448 to 448\n",
            "Saving 449 to 449\n",
            "Saving 450 to 450\n",
            "Saving 451 to 451\n",
            "Saving 452 to 452\n",
            "Saving 453 to 453\n",
            "Saving 454 to 454\n",
            "Saving 455 to 455\n",
            "Saving 456 to 456\n",
            "Saving 457 to 457\n",
            "Saving 458 to 458\n",
            "Saving 459 to 459\n",
            "Saving 460 to 460\n",
            "Saving 461 to 461\n",
            "Saving 462 to 462\n",
            "Saving 463 to 463\n",
            "Saving 464 to 464\n",
            "Saving 465 to 465\n",
            "Saving 466 to 466\n",
            "Saving 467 to 467\n",
            "Saving 468 to 468\n",
            "Saving 469 to 469\n",
            "Saving 470 to 470\n",
            "Saving 471 to 471\n",
            "Saving 472 to 472\n",
            "Saving 473 to 473\n",
            "Saving 474 to 474\n",
            "Saving 475 to 475\n",
            "Saving 476 to 476\n",
            "Saving 477 to 477\n",
            "Saving 478 to 478\n",
            "Saving 479 to 479\n",
            "Saving 480 to 480\n",
            "Saving 481 to 481\n",
            "Saving 482 to 482\n",
            "Saving 483 to 483\n",
            "Saving 484 to 484\n",
            "Saving 485 to 485\n",
            "Saving 486 to 486\n",
            "Saving 487 to 487\n",
            "Saving 488 to 488\n",
            "Saving 489 to 489\n",
            "Saving 490 to 490\n",
            "Saving 491 to 491\n",
            "Saving 492 to 492\n",
            "Saving 493 to 493\n",
            "Saving 494 to 494\n",
            "Saving 495 to 495\n",
            "Saving 496 to 496\n",
            "Saving 497 to 497\n",
            "Saving 498 to 498\n",
            "Saving 499 to 499\n",
            "Saving 500 to 500\n",
            "Saving 501 to 501\n",
            "Saving 502 to 502\n",
            "Saving 503 to 503\n",
            "Saving 504 to 504\n",
            "Saving 505 to 505\n",
            "Saving 506 to 506\n",
            "Saving 507 to 507\n",
            "Saving 508 to 508\n",
            "Saving 509 to 509\n",
            "Saving 510 to 510\n",
            "Saving 511 to 511\n",
            "Saving 512 to 512\n",
            "Saving 513 to 513\n",
            "Saving 514 to 514\n",
            "Saving 515 to 515\n",
            "Saving 516 to 516\n",
            "Saving 517 to 517\n",
            "Saving 518 to 518\n",
            "Saving 519 to 519\n",
            "Saving 520 to 520\n",
            "Saving 521 to 521\n",
            "Saving 522 to 522\n",
            "Saving 523 to 523\n",
            "Saving 524 to 524\n",
            "Saving 525 to 525\n",
            "Saving 526 to 526\n",
            "Saving 527 to 527\n",
            "Saving 528 to 528\n",
            "Saving 529 to 529\n",
            "Saving 530 to 530\n",
            "Saving 531 to 531\n",
            "Saving 532 to 532\n",
            "Saving 533 to 533\n",
            "Saving 534 to 534\n",
            "Saving 535 to 535\n",
            "Saving 536 to 536\n",
            "Saving 537 to 537\n",
            "Saving 538 to 538\n",
            "Saving 539 to 539\n",
            "Saving 540 to 540\n",
            "Saving 541 to 541\n",
            "Saving 542 to 542\n",
            "Saving 543 to 543\n",
            "Saving 544 to 544\n",
            "Saving 545 to 545\n",
            "Saving 546 to 546\n",
            "Saving 547 to 547\n",
            "Saving 548 to 548\n",
            "Saving 549 to 549\n",
            "Saving 550 to 550\n",
            "Saving 551 to 551\n",
            "Saving 552 to 552\n",
            "Saving 553 to 553\n",
            "Saving 554 to 554\n",
            "Saving 555 to 555\n",
            "Saving 556 to 556\n",
            "Saving 557 to 557\n",
            "Saving 558 to 558\n",
            "Saving 559 to 559\n",
            "Saving 560 to 560\n",
            "Saving 561 to 561\n",
            "Saving 562 to 562\n",
            "Saving 563 to 563\n",
            "Saving 564 to 564\n",
            "Saving 565 to 565\n",
            "Saving 566 to 566\n",
            "Saving 567 to 567\n",
            "Saving 568 to 568\n",
            "Saving 569 to 569\n",
            "Saving 570 to 570\n",
            "Saving 571 to 571\n",
            "Saving 572 to 572\n",
            "Saving 573 to 573\n",
            "Saving 574 to 574\n",
            "Saving 575 to 575\n",
            "Saving 576 to 576\n",
            "Saving 577 to 577\n",
            "Saving 578 to 578\n",
            "Saving 579 to 579\n",
            "Saving 580 to 580\n",
            "Saving 581 to 581\n",
            "Saving 582 to 582\n",
            "Saving 583 to 583\n",
            "Saving 584 to 584\n",
            "Saving 585 to 585\n",
            "Saving 586 to 586\n",
            "Saving 587 to 587\n",
            "Saving 588 to 588\n",
            "Saving 589 to 589\n",
            "Saving 590 to 590\n",
            "Saving 591 to 591\n",
            "Saving 592 to 592\n",
            "Saving 593 to 593\n",
            "Saving 594 to 594\n",
            "Saving 595 to 595\n",
            "Saving 596 to 596\n",
            "Saving 597 to 597\n",
            "Saving 598 to 598\n",
            "Saving 599 to 599\n",
            "Saving 600 to 600\n",
            "Saving 601 to 601\n",
            "Saving 602 to 602\n",
            "Saving 603 to 603\n",
            "Saving 604 to 604\n",
            "Saving 605 to 605\n",
            "Saving 606 to 606\n",
            "Saving 607 to 607\n",
            "Saving 608 to 608\n",
            "Saving 609 to 609\n",
            "Saving 610 to 610\n",
            "Saving 611 to 611\n",
            "Saving 612 to 612\n",
            "Saving 613 to 613\n",
            "Saving 614 to 614\n",
            "Saving 615 to 615\n",
            "Saving 616 to 616\n",
            "Saving 617 to 617\n",
            "Saving 618 to 618\n",
            "Saving 619 to 619\n",
            "Saving 620 to 620\n",
            "Saving 621 to 621\n",
            "Saving 622 to 622\n",
            "Saving 623 to 623\n",
            "Saving 624 to 624\n",
            "Saving 625 to 625\n",
            "Saving 626 to 626\n",
            "Saving 627 to 627\n",
            "Saving 628 to 628\n",
            "Saving 629 to 629\n",
            "Saving 630 to 630\n",
            "Saving 631 to 631\n",
            "Saving 632 to 632\n",
            "Saving 633 to 633\n",
            "Saving 634 to 634\n",
            "Saving 635 to 635\n",
            "Saving 636 to 636\n",
            "Saving 637 to 637\n",
            "Saving 638 to 638\n",
            "Saving 639 to 639\n",
            "Saving 640 to 640\n",
            "Saving 641 to 641\n",
            "Saving 642 to 642\n",
            "Saving 643 to 643\n",
            "Saving 644 to 644\n",
            "Saving 645 to 645\n",
            "Saving 646 to 646\n",
            "Saving 647 to 647\n",
            "Saving 648 to 648\n",
            "Saving 649 to 649\n",
            "Saving 650 to 650\n",
            "Saving 651 to 651\n",
            "Saving 652 to 652\n",
            "Saving 653 to 653\n",
            "Saving 654 to 654\n",
            "Saving 655 to 655\n",
            "Saving 656 to 656\n",
            "Saving 657 to 657\n",
            "Saving 658 to 658\n",
            "Saving 659 to 659\n",
            "Saving 660 to 660\n",
            "Saving 661 to 661\n",
            "Saving 662 to 662\n",
            "Saving 663 to 663\n",
            "Saving 664 to 664\n",
            "Saving 665 to 665\n",
            "Saving 666 to 666\n",
            "Saving 667 to 667\n",
            "Saving 668 to 668\n",
            "Saving 669 to 669\n",
            "Saving 670 to 670\n",
            "Saving 671 to 671\n",
            "Saving 672 to 672\n",
            "Saving 673 to 673\n",
            "Saving 674 to 674\n",
            "Saving 675 to 675\n",
            "Saving 676 to 676\n",
            "Saving 677 to 677\n",
            "Saving 678 to 678\n",
            "Saving 679 to 679\n",
            "Saving 680 to 680\n",
            "Saving 681 to 681\n",
            "Saving 682 to 682\n",
            "Saving 683 to 683\n",
            "Saving 684 to 684\n",
            "Saving 685 to 685\n",
            "Saving 686 to 686\n",
            "Saving 687 to 687\n",
            "Saving 688 to 688\n",
            "Saving 689 to 689\n",
            "Saving 690 to 690\n",
            "Saving 691 to 691\n",
            "Saving 692 to 692\n",
            "Saving 693 to 693\n",
            "Saving 694 to 694\n",
            "Saving 695 to 695\n",
            "Saving 696 to 696\n",
            "Saving 697 to 697\n",
            "Saving 698 to 698\n",
            "Saving 699 to 699\n",
            "Saving 700 to 700\n",
            "Saving 701 to 701\n",
            "Saving 702 to 702\n",
            "Saving 703 to 703\n",
            "Saving 704 to 704\n",
            "Saving 705 to 705\n",
            "Saving 706 to 706\n",
            "Saving 707 to 707\n",
            "Saving 708 to 708\n",
            "Saving 709 to 709\n",
            "Saving 710 to 710\n",
            "Saving 711 to 711\n",
            "Saving 712 to 712\n",
            "Saving 713 to 713\n",
            "Saving 714 to 714\n",
            "Saving 715 to 715\n",
            "Saving 716 to 716\n",
            "Saving 717 to 717\n",
            "Saving 718 to 718\n",
            "Saving 719 to 719\n",
            "Saving 720 to 720\n",
            "Saving 721 to 721\n",
            "Saving 722 to 722\n",
            "Saving 723 to 723\n",
            "Saving 724 to 724\n",
            "Saving 725 to 725\n",
            "Saving 726 to 726\n",
            "Saving 727 to 727\n",
            "Saving 728 to 728\n",
            "Saving 729 to 729\n",
            "Saving 730 to 730\n",
            "Saving 731 to 731\n",
            "Saving 732 to 732\n",
            "Saving 733 to 733\n",
            "Saving 734 to 734\n",
            "Saving 735 to 735\n",
            "Saving 736 to 736\n",
            "Saving 737 to 737\n",
            "Saving 738 to 738\n",
            "Saving 739 to 739\n",
            "Saving 740 to 740\n",
            "Saving 741 to 741\n",
            "Saving 742 to 742\n",
            "Saving 743 to 743\n",
            "Saving 744 to 744\n",
            "Saving 745 to 745\n",
            "Saving 746 to 746\n",
            "Saving 747 to 747\n",
            "Saving 748 to 748\n",
            "Saving 749 to 749\n",
            "Saving 750 to 750\n",
            "Saving 751 to 751\n",
            "Saving 752 to 752\n",
            "Saving 753 to 753\n",
            "Saving 754 to 754\n",
            "Saving 755 to 755\n",
            "Saving 756 to 756\n",
            "Saving 757 to 757\n",
            "Saving 758 to 758\n",
            "Saving 759 to 759\n",
            "Saving 760 to 760\n",
            "Saving 761 to 761\n",
            "Saving 762 to 762\n",
            "Saving 763 to 763\n",
            "Saving 764 to 764\n",
            "Saving 765 to 765\n",
            "Saving 766 to 766\n",
            "Saving 767 to 767\n",
            "Saving 768 to 768\n",
            "Saving 769 to 769\n",
            "Saving 770 to 770\n",
            "Saving 771 to 771\n",
            "Saving 772 to 772\n",
            "Saving 773 to 773\n",
            "Saving 774 to 774\n",
            "Saving 775 to 775\n",
            "Saving 776 to 776\n",
            "Saving 777 to 777\n",
            "Saving 778 to 778\n",
            "Saving 779 to 779\n",
            "Saving 780 to 780\n",
            "Saving 781 to 781\n",
            "Saving 782 to 782\n",
            "Saving 783 to 783\n",
            "Saving 784 to 784\n",
            "Saving 785 to 785\n",
            "Saving 786 to 786\n",
            "Saving 787 to 787\n",
            "Saving 788 to 788\n",
            "Saving 789 to 789\n",
            "Saving 790 to 790\n",
            "Saving 791 to 791\n",
            "Saving 792 to 792\n",
            "Saving 793 to 793\n",
            "Saving 794 to 794\n",
            "Saving 795 to 795\n",
            "Saving 796 to 796\n",
            "Saving 797 to 797\n",
            "Saving 798 to 798\n",
            "Saving 799 to 799\n",
            "Saving 800 to 800\n",
            "Saving 801 to 801\n",
            "Saving 802 to 802\n",
            "Saving 803 to 803\n",
            "Saving 804 to 804\n",
            "Saving 805 to 805\n",
            "Saving 806 to 806\n",
            "Saving 807 to 807\n",
            "Saving 808 to 808\n",
            "Saving 809 to 809\n",
            "Saving 810 to 810\n",
            "Saving 811 to 811\n",
            "Saving 812 to 812\n",
            "Saving 813 to 813\n",
            "Saving 814 to 814\n",
            "Saving 815 to 815\n",
            "Saving 816 to 816\n",
            "Saving 817 to 817\n",
            "Saving 818 to 818\n",
            "Saving 819 to 819\n",
            "Saving 820 to 820\n",
            "Saving 821 to 821\n",
            "Saving 822 to 822\n",
            "Saving 823 to 823\n",
            "Saving 824 to 824\n",
            "Saving 825 to 825\n",
            "Saving 826 to 826\n",
            "Saving 827 to 827\n",
            "Saving 828 to 828\n",
            "Saving 829 to 829\n",
            "Saving 830 to 830\n",
            "Saving 831 to 831\n",
            "Saving 832 to 832\n",
            "Saving 833 to 833\n",
            "Saving 834 to 834\n",
            "Saving 835 to 835\n",
            "Saving 836 to 836\n",
            "Saving 837 to 837\n",
            "Saving 838 to 838\n",
            "Saving 839 to 839\n",
            "Saving 840 to 840\n",
            "Saving 841 to 841\n",
            "Saving 842 to 842\n",
            "Saving 843 to 843\n",
            "Saving 844 to 844\n",
            "Saving 845 to 845\n",
            "Saving 846 to 846\n",
            "Saving 847 to 847\n",
            "Saving 848 to 848\n",
            "Saving 849 to 849\n",
            "Saving 850 to 850\n",
            "Saving 851 to 851\n",
            "Saving 852 to 852\n",
            "Saving 853 to 853\n",
            "Saving 854 to 854\n",
            "Saving 855 to 855\n",
            "Saving 856 to 856\n",
            "Saving 857 to 857\n",
            "Saving 858 to 858\n",
            "Saving 859 to 859\n",
            "Saving 860 to 860\n",
            "Saving 861 to 861\n",
            "Saving 862 to 862\n",
            "Saving 863 to 863\n",
            "Saving 864 to 864\n",
            "Saving 865 to 865\n",
            "Saving 866 to 866\n",
            "Saving 867 to 867\n",
            "Saving 868 to 868\n",
            "Saving 869 to 869\n",
            "Saving 870 to 870\n",
            "Saving 871 to 871\n",
            "Saving 872 to 872\n",
            "Saving 873 to 873\n",
            "Saving 874 to 874\n",
            "Saving 875 to 875\n",
            "Saving 876 to 876\n",
            "Saving 877 to 877\n",
            "Saving 878 to 878\n",
            "Saving 879 to 879\n",
            "Saving 880 to 880\n",
            "Saving 881 to 881\n",
            "Saving 882 to 882\n",
            "Saving 883 to 883\n",
            "Saving 884 to 884\n",
            "Saving 885 to 885\n",
            "Saving 886 to 886\n",
            "Saving 887 to 887\n",
            "Saving 888 to 888\n",
            "Saving 889 to 889\n",
            "Saving 890 to 890\n",
            "Saving 891 to 891\n",
            "Saving 892 to 892\n",
            "Saving 893 to 893\n",
            "Saving 894 to 894\n",
            "Saving 895 to 895\n",
            "Saving 896 to 896\n",
            "Saving 897 to 897\n",
            "Saving 898 to 898\n",
            "Saving 899 to 899\n",
            "Saving 900 to 900\n",
            "Saving 901 to 901\n",
            "Saving 902 to 902\n",
            "Saving 903 to 903\n",
            "Saving 904 to 904\n",
            "Saving 905 to 905\n",
            "Saving 906 to 906\n",
            "Saving 907 to 907\n",
            "Saving 908 to 908\n",
            "Saving 909 to 909\n",
            "Saving 910 to 910\n",
            "Saving 911 to 911\n",
            "Saving 912 to 912\n",
            "Saving 913 to 913\n",
            "Saving 914 to 914\n",
            "Saving 915 to 915\n",
            "Saving 916 to 916\n",
            "Saving 917 to 917\n",
            "Saving 918 to 918\n",
            "Saving 919 to 919\n",
            "Saving 920 to 920\n",
            "Saving 921 to 921\n",
            "Saving 922 to 922\n",
            "Saving 923 to 923\n",
            "Saving 924 to 924\n",
            "Saving 925 to 925\n",
            "Saving 926 to 926\n",
            "Saving 927 to 927\n",
            "Saving 928 to 928\n",
            "Saving 929 to 929\n",
            "Saving 930 to 930\n",
            "Saving 931 to 931\n",
            "Saving 932 to 932\n",
            "Saving 933 to 933\n",
            "Saving 934 to 934\n",
            "Saving 935 to 935\n",
            "Saving 936 to 936\n",
            "Saving 937 to 937\n",
            "Saving 938 to 938\n",
            "Saving 939 to 939\n",
            "Saving 940 to 940\n",
            "Saving 941 to 941\n",
            "Saving 942 to 942\n",
            "Saving 943 to 943\n",
            "Saving 944 to 944\n",
            "Saving 945 to 945\n",
            "Saving 946 to 946\n",
            "Saving 947 to 947\n",
            "Saving 948 to 948\n",
            "Saving 949 to 949\n",
            "Saving 950 to 950\n",
            "Saving 951 to 951\n",
            "Saving 952 to 952\n",
            "Saving 953 to 953\n",
            "Saving 954 to 954\n",
            "Saving 955 to 955\n",
            "Saving 956 to 956\n",
            "Saving 957 to 957\n",
            "Saving 958 to 958\n",
            "Saving 959 to 959\n",
            "Saving 960 to 960\n",
            "Saving 961 to 961\n",
            "Saving 962 to 962\n",
            "Saving 963 to 963\n",
            "Saving 964 to 964\n",
            "Saving 965 to 965\n",
            "Saving 966 to 966\n",
            "Saving 967 to 967\n",
            "Saving 968 to 968\n",
            "Saving 969 to 969\n",
            "Saving 970 to 970\n",
            "Saving 971 to 971\n",
            "Saving 972 to 972\n",
            "Saving 973 to 973\n",
            "Saving 974 to 974\n",
            "Saving 975 to 975\n",
            "Saving 976 to 976\n",
            "Saving 977 to 977\n",
            "Saving 978 to 978\n",
            "Saving 979 to 979\n",
            "Saving 980 to 980\n",
            "Saving 981 to 981\n",
            "Saving 982 to 982\n",
            "Saving 983 to 983\n",
            "Saving 984 to 984\n",
            "Saving 985 to 985\n",
            "Saving 986 to 986\n",
            "Saving 987 to 987\n",
            "Saving 988 to 988\n",
            "Saving 989 to 989\n",
            "Saving 990 to 990\n",
            "Saving 991 to 991\n",
            "Saving 992 to 992\n",
            "Saving 993 to 993\n",
            "Saving 994 to 994\n",
            "Saving 995 to 995\n",
            "Saving 996 to 996\n",
            "Saving 997 to 997\n",
            "Saving 998 to 998\n",
            "Saving 999 to 999\n",
            "Saving 1000 to 1000\n",
            "Saving 1001 to 1001\n",
            "Saving 1002 to 1002\n",
            "Saving 1003 to 1003\n",
            "Saving 1004 to 1004\n",
            "Saving 1005 to 1005\n",
            "Saving 1006 to 1006\n",
            "Saving 1007 to 1007\n",
            "Saving 1008 to 1008\n",
            "Saving 1009 to 1009\n",
            "Saving 1010 to 1010\n",
            "Saving 1011 to 1011\n",
            "Saving 1012 to 1012\n",
            "Saving 1013 to 1013\n",
            "Saving 1014 to 1014\n",
            "Saving 1015 to 1015\n",
            "Saving 1016 to 1016\n",
            "Saving 1017 to 1017\n",
            "Saving 1018 to 1018\n",
            "Saving 1019 to 1019\n",
            "Saving 1020 to 1020\n",
            "Saving 1021 to 1021\n",
            "Saving 1022 to 1022\n",
            "Saving 1023 to 1023\n",
            "Saving 1024 to 1024\n",
            "Saving 1025 to 1025\n",
            "Saving 1026 to 1026\n",
            "Saving 1027 to 1027\n",
            "Saving 1028 to 1028\n",
            "Saving 1029 to 1029\n",
            "Saving 1030 to 1030\n",
            "Saving 1031 to 1031\n",
            "Saving 1032 to 1032\n",
            "Saving 1033 to 1033\n",
            "Saving 1034 to 1034\n",
            "Saving 1035 to 1035\n",
            "Saving 1036 to 1036\n",
            "Saving 1037 to 1037\n",
            "Saving 1038 to 1038\n",
            "Saving 1039 to 1039\n",
            "Saving 1040 to 1040\n",
            "Saving 1041 to 1041\n",
            "Saving 1042 to 1042\n",
            "Saving 1043 to 1043\n",
            "Saving 1044 to 1044\n",
            "Saving 1045 to 1045\n",
            "Saving 1046 to 1046\n",
            "Saving 1047 to 1047\n",
            "Saving 1048 to 1048\n",
            "Saving 1049 to 1049\n",
            "Saving 1050 to 1050\n",
            "Saving 1051 to 1051\n",
            "Saving 1052 to 1052\n",
            "Saving 1053 to 1053\n",
            "Saving 1054 to 1054\n",
            "Saving 1055 to 1055\n",
            "Saving 1056 to 1056\n",
            "Saving 1057 to 1057\n",
            "Saving 1058 to 1058\n",
            "Saving 1059 to 1059\n",
            "Saving 1060 to 1060\n",
            "Saving 1061 to 1061\n",
            "Saving 1062 to 1062\n",
            "Saving 1063 to 1063\n",
            "Saving 1064 to 1064\n",
            "Saving 1065 to 1065\n",
            "Saving 1066 to 1066\n",
            "Saving 1067 to 1067\n",
            "Saving 1068 to 1068\n",
            "Saving 1069 to 1069\n",
            "Saving 1070 to 1070\n",
            "Saving 1071 to 1071\n",
            "Saving 1072 to 1072\n",
            "Saving 1073 to 1073\n",
            "Saving 1074 to 1074\n",
            "Saving 1075 to 1075\n",
            "Saving 1076 to 1076\n",
            "Saving 1077 to 1077\n",
            "Saving 1078 to 1078\n",
            "Saving 1079 to 1079\n",
            "Saving 1080 to 1080\n",
            "Saving 1081 to 1081\n",
            "Saving 1082 to 1082\n",
            "Saving 1083 to 1083\n",
            "Saving 1084 to 1084\n",
            "Saving 1085 to 1085\n",
            "Saving 1086 to 1086\n",
            "Saving 1087 to 1087\n",
            "Saving 1088 to 1088\n",
            "Saving 1089 to 1089\n",
            "Saving 1090 to 1090\n",
            "Saving 1091 to 1091\n",
            "Saving 1092 to 1092\n",
            "Saving 1093 to 1093\n",
            "Saving 1094 to 1094\n",
            "Saving 1095 to 1095\n",
            "Saving 1096 to 1096\n",
            "Saving 1097 to 1097\n",
            "Saving 1098 to 1098\n",
            "Saving 1099 to 1099\n",
            "Saving 1100 to 1100\n",
            "Saving 1101 to 1101\n",
            "Saving 1102 to 1102\n",
            "Saving 1103 to 1103\n",
            "Saving 1104 to 1104\n",
            "Saving 1105 to 1105\n",
            "Saving 1106 to 1106\n",
            "Saving 1107 to 1107\n",
            "Saving 1108 to 1108\n",
            "Saving 1109 to 1109\n",
            "Saving 1110 to 1110\n",
            "Saving 1111 to 1111\n",
            "Saving 1112 to 1112\n",
            "Saving 1113 to 1113\n"
          ],
          "name": "stdout"
        }
      ]
    },
    {
      "cell_type": "code",
      "metadata": {
        "id": "2yPV5tFyq0tn",
        "colab_type": "code",
        "colab": {}
      },
      "source": [
        "# remove files\n",
        "!rm '1 (1)'"
      ],
      "execution_count": 0,
      "outputs": []
    },
    {
      "cell_type": "code",
      "metadata": {
        "id": "pvtyLKkc1Ezq",
        "colab_type": "code",
        "colab": {}
      },
      "source": [
        "import os\n",
        "n_files=len([uploaded for uploaded in os.listdir('.') if (os.path.isfile(uploaded))])"
      ],
      "execution_count": 0,
      "outputs": []
    },
    {
      "cell_type": "code",
      "metadata": {
        "id": "tX14lM8fxdak",
        "colab_type": "code",
        "colab": {}
      },
      "source": [
        "df = pd.DataFrame(index=range(1,n_files+1),columns=['edges','nodes','avg_edg','avg_deg','med_edg','med_deg','IQR_edg','IQR_deg','STD_edg','STD_deg','STD_deg', 'Total_edg','Total_deg','Total_deg','is_connected','avg_length','radius','diameter','eccentricity','center','periphery','density','n.connected.comp','n.of_isolates','is_distance_regular','is_eulerian', 'label'])"
      ],
      "execution_count": 0,
      "outputs": []
    },
    {
      "cell_type": "code",
      "metadata": {
        "id": "740p47J7FuJk",
        "colab_type": "code",
        "colab": {}
      },
      "source": [
        "from operator import itemgetter \n",
        "def get_edg(i):\n",
        "  edg=list(map(itemgetter(i), G.edges()))\n",
        "  count_vals=list(pd.Index(edg).value_counts())\n",
        "  return count_vals"
      ],
      "execution_count": 0,
      "outputs": []
    },
    {
      "cell_type": "code",
      "metadata": {
        "id": "On7LX1Jqthyq",
        "colab_type": "code",
        "colab": {}
      },
      "source": [
        "for filename in range(1,n_files+1):\n",
        "  if(type(filename)==int):\n",
        "    G=nx.read_adjlist(str(filename), nodetype=int)\n",
        "    deg=list(dict(G.degree()).values())\n",
        "    edg=get_edg(0)\n",
        "    df.xs(filename)['edges']=G.size() #The number of edges\n",
        "    df.xs(filename)['nodes']=len(G)#Total amount of nodes\n",
        "    df.xs(filename)['avg_edg']= np.mean(edg)#Average connections for each node\n",
        "    df.xs(filename)['avg_deg']= np.mean(deg)#Average degree for each node\n",
        "    df.xs(filename)['med_edg']= np.median(edg)#Median connections for each node\n",
        "    df.xs(filename)['med_deg']= np.median(deg)#Median degree for each node\n",
        "    df.xs(filename)['IQR_edg']= np.subtract(*np.percentile(edg, [75, 25]))#IQR connections for each node\n",
        "    df.xs(filename)['IQR_deg']= np.subtract(*np.percentile(deg, [75, 25]))#IQR degree\n",
        "    df.xs(filename)['STD_edg']= np.std(edg)#STD connections for each node\n",
        "    df.xs(filename)['STD_deg']= np.std(deg)#STD degree\n",
        "    df.xs(filename)['Total_edg']= np.sum(edg)#Total sum of connections\n",
        "    df.xs(filename)['Total_deg']= np.sum(deg)#Total sum of degrees\n",
        "    df.xs(filename)['is_connected']= nx.is_connected(G)\n",
        "    if(nx.is_connected(G)):\n",
        "      df.xs(filename)['avg_length']= nx.average_shortest_path_length(G)\n",
        "      df.xs(filename)['radius']= nx.radius(G)\n",
        "      df.xs(filename)['diameter']= nx.diameter(G)\n",
        "      ecc= nx.eccentricity(G) # The eccentricity of a node v is the maximum distance from v to all other nodes in G\n",
        "      df.xs(filename)['eccentricity']= sum(ecc.values()) # sum the eccentricity\n",
        "      df.xs(filename)['center']= len(nx.center(G)) # The center is the set of nodes with eccentricity equal to radius.\n",
        "      df.xs(filename)['periphery']= len(nx.periphery(G))# The periphery is the set of nodes with eccentricity equal to the diameter.\n",
        "    else:\n",
        "      sum_avg_short= 0\n",
        "      diameter= 0\n",
        "      radius= 0\n",
        "      ecc_sum= 0\n",
        "      len_center= 0\n",
        "      len_periphery= 0      \n",
        "      for g in nx.connected_component_subgraphs(G):\n",
        "        sum_avg_short+= nx.average_shortest_path_length(g)  \n",
        "        radius+= nx.radius(g)\n",
        "        diameter+= nx.diameter(g)           \n",
        "        ecc= nx.eccentricity(g) # The eccentricity of a node v is the maximum distance from v to all other nodes in G\n",
        "        ecc_sum+= sum(ecc.values())\n",
        "        center=nx.center(g)\n",
        "        len_center+=len(nx.center(g))\n",
        "        len_periphery+=len(nx.periphery(g))\n",
        "      df.xs(filename)['avg_length']= sum_avg_short/nx.number_connected_components(G)\n",
        "      df.xs(filename)['radius']= radius/nx.number_connected_components(G)\n",
        "      df.xs(filename)['diameter']= diameter/nx.number_connected_components(G)     \n",
        "      df.xs(filename)['eccentricity']= ecc_sum/nx.number_connected_components(G) # sum the eccentricity\n",
        "      df.xs(filename)['center']= len_center/nx.number_connected_components(G) # The center is the set of nodes with eccentricity equal to radius.\n",
        "      df.xs(filename)['periphery']= len_periphery/nx.number_connected_components(G)# The periphery is the set of nodes with eccentricity equal to the diameter.     \n",
        "    df.xs(filename)['density']= nx.density(G)\n",
        "    df.xs(filename)['n.connected.comp']= nx.number_connected_components(G)# How many groups\n",
        "    df.xs(filename)['n.of_isolates']= nx.number_of_isolates(G)# Returns the number of isolates in the graph.\n",
        "    df.xs(filename)['is_distance_regular']= nx.is_distance_regular(G)\n",
        "    df.xs(filename)['is_eulerian']= nx.is_eulerian(G)"
      ],
      "execution_count": 0,
      "outputs": []
    },
    {
      "cell_type": "code",
      "metadata": {
        "id": "Kxezzq3vbkbw",
        "colab_type": "code",
        "colab": {}
      },
      "source": [
        "df.to_csv('data.csv')\n",
        "files.download('data.csv')\n",
        "# df=pd.read_csv('data.csv')"
      ],
      "execution_count": 0,
      "outputs": []
    },
    {
      "cell_type": "code",
      "metadata": {
        "id": "gp3fhL4gEt2o",
        "colab_type": "code",
        "outputId": "65c13690-24de-44a9-eb7d-c2d336ea778f",
        "colab": {
          "resources": {
            "http://localhost:8080/nbextensions/google.colab/files.js": {
              "data": "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",
              "ok": true,
              "headers": [
                [
                  "content-type",
                  "application/javascript"
                ]
              ],
              "status": 200,
              "status_text": ""
            }
          },
          "base_uri": "https://localhost:8080/",
          "height": 108
        }
      },
      "source": [
        "uploaded = files.upload()"
      ],
      "execution_count": 0,
      "outputs": [
        {
          "output_type": "display_data",
          "data": {
            "text/html": [
              "\n",
              "     <input type=\"file\" id=\"files-56fc1624-b29f-471b-8b17-dab87d91a8ea\" name=\"files[]\" multiple disabled />\n",
              "     <output id=\"result-56fc1624-b29f-471b-8b17-dab87d91a8ea\">\n",
              "      Upload widget is only available when the cell has been executed in the\n",
              "      current browser session. Please rerun this cell to enable.\n",
              "      </output>\n",
              "      <script src=\"/nbextensions/google.colab/files.js\"></script> "
            ],
            "text/plain": [
              "<IPython.core.display.HTML object>"
            ]
          },
          "metadata": {
            "tags": []
          }
        },
        {
          "output_type": "stream",
          "text": [
            "Saving labels_test.csv to labels_test.csv\n",
            "Saving labels_train.csv to labels_train.csv\n"
          ],
          "name": "stdout"
        }
      ]
    },
    {
      "cell_type": "code",
      "metadata": {
        "id": "c2lYABaYwGc3",
        "colab_type": "code",
        "colab": {}
      },
      "source": [
        "data=df.copy()"
      ],
      "execution_count": 0,
      "outputs": []
    },
    {
      "cell_type": "code",
      "metadata": {
        "id": "rdA98DvSkSnI",
        "colab_type": "code",
        "colab": {}
      },
      "source": [
        "import io\n",
        "labels_train = pd.read_csv(io.BytesIO(uploaded['labels_train.csv']), names=['graph','label1','label2', 'label3', 'label4'])\n",
        "labels_test = pd.read_csv(io.BytesIO(uploaded['labels_test.csv']), names=['graph','label'])"
      ],
      "execution_count": 0,
      "outputs": []
    },
    {
      "cell_type": "code",
      "metadata": {
        "id": "t8XDky6vVb3h",
        "colab_type": "code",
        "colab": {}
      },
      "source": [
        "def get_labels(df, csv):\n",
        "  for i in range(1,len(csv)):\n",
        "    row=csv.loc[i,'graph']\n",
        "    df.loc[row,'label']=csv.loc[i,'label']\n",
        "  return df"
      ],
      "execution_count": 0,
      "outputs": []
    },
    {
      "cell_type": "code",
      "metadata": {
        "id": "0_EiB5V19QZr",
        "colab_type": "code",
        "colab": {}
      },
      "source": [
        "labels_train['label']=labels_train.apply(lambda x: 1 if np.mean(x[1:5])>0.5 else(0 if np.mean(x[1:5])<0.5 else np.nan), axis=1)"
      ],
      "execution_count": 0,
      "outputs": []
    },
    {
      "cell_type": "code",
      "metadata": {
        "id": "_J8EmTJwnjWl",
        "colab_type": "code",
        "colab": {}
      },
      "source": [
        "df = get_labels(df, labels_test)\n",
        "df = get_labels(df, labels_train)"
      ],
      "execution_count": 0,
      "outputs": []
    },
    {
      "cell_type": "code",
      "metadata": {
        "id": "2RCpgnaSjOII",
        "colab_type": "code",
        "colab": {}
      },
      "source": [
        "cols=list(df.columns)\n",
        "cols.remove('label')"
      ],
      "execution_count": 0,
      "outputs": []
    },
    {
      "cell_type": "code",
      "metadata": {
        "id": "9TVyqxFyRIYQ",
        "colab_type": "code",
        "colab": {}
      },
      "source": [
        "for col in cols:\n",
        "    df[col] = df[col].astype('int64')"
      ],
      "execution_count": 0,
      "outputs": []
    },
    {
      "cell_type": "markdown",
      "metadata": {
        "id": "Q8_jmd9cbxcq",
        "colab_type": "text"
      },
      "source": [
        "#### KNN Imputer "
      ]
    },
    {
      "cell_type": "code",
      "metadata": {
        "id": "x7fMkSOx9wON",
        "colab_type": "code",
        "colab": {}
      },
      "source": [
        "from sklearn.neighbors import KNeighborsClassifier\n",
        "clf = KNeighborsClassifier(3, weights='distance')\n",
        "not_null_x=df[~df.isnull().any(axis=1)].drop('label', axis=1)\n",
        "not_null_y=df.loc[~df.isnull().any(axis=1),'label']\n",
        "not_null_y=not_null_y.astype('int')\n",
        "trained_model = clf.fit(not_null_x, not_null_y)"
      ],
      "execution_count": 0,
      "outputs": []
    },
    {
      "cell_type": "code",
      "metadata": {
        "id": "FSiyqx-LbwrJ",
        "colab_type": "code",
        "colab": {}
      },
      "source": [
        "predicted_labels = trained_model.predict(df[df.isnull().any(axis=1)].drop('label', axis=1))"
      ],
      "execution_count": 0,
      "outputs": []
    },
    {
      "cell_type": "code",
      "metadata": {
        "id": "zN8x_E7dcPS2",
        "colab_type": "code",
        "colab": {}
      },
      "source": [
        "df.loc[df.isnull().any(axis=1),'label']=predicted_labels"
      ],
      "execution_count": 0,
      "outputs": []
    },
    {
      "cell_type": "code",
      "metadata": {
        "id": "2Hs5VLAAyrko",
        "colab_type": "code",
        "colab": {}
      },
      "source": [
        "df['label'] = df['label'].astype('int64')"
      ],
      "execution_count": 0,
      "outputs": []
    },
    {
      "cell_type": "markdown",
      "metadata": {
        "id": "eCm1rAYOKD8O",
        "colab_type": "text"
      },
      "source": [
        "### Exploratory Data Analysis (EDA)"
      ]
    },
    {
      "cell_type": "markdown",
      "metadata": {
        "id": "DazFr1ckKhHe",
        "colab_type": "text"
      },
      "source": [
        "\n",
        "In order to understand the data, it is common to begin with descriptive statistics analysis before the pre-processing section and model building"
      ]
    },
    {
      "cell_type": "code",
      "metadata": {
        "id": "wHNJCmar0WCY",
        "colab_type": "code",
        "outputId": "a6764e6d-641c-467c-89eb-145f13fb8d57",
        "colab": {
          "base_uri": "https://localhost:8080/",
          "height": 295
        }
      },
      "source": [
        "ax = sns.countplot(y=\"label\", data=df)\n",
        "plt.title('Labels Distribution')\n",
        "plt.xlabel('Amount')\n",
        "\n",
        "total = len(df['label'])\n",
        "for p in ax.patches:\n",
        "        percentage = '{:.1f}%'.format(100 * p.get_width()/total)\n",
        "        x = p.get_x() + p.get_width() + 0.02\n",
        "        y = p.get_y() + p.get_height()/2\n",
        "        ax.annotate(percentage, (x, y))\n",
        "\n",
        "plt.show()"
      ],
      "execution_count": 0,
      "outputs": [
        {
          "output_type": "display_data",
          "data": {
            "image/png": "[encoded data removed]",
            "text/plain": [
              "<Figure size 432x288 with 1 Axes>"
            ]
          },
          "metadata": {
            "tags": []
          }
        }
      ]
    },
    {
      "cell_type": "code",
      "metadata": {
        "id": "8l88zaf5JR-0",
        "colab_type": "code",
        "outputId": "79622e31-2d66-46d5-d722-e043c860b172",
        "colab": {
          "base_uri": "https://localhost:8080/",
          "height": 34
        }
      },
      "source": [
        "df.shape"
      ],
      "execution_count": 0,
      "outputs": [
        {
          "output_type": "execute_result",
          "data": {
            "text/plain": [
              "(1113, 27)"
            ]
          },
          "metadata": {
            "tags": []
          },
          "execution_count": 246
        }
      ]
    },
    {
      "cell_type": "code",
      "metadata": {
        "id": "rJiNaaV4K_89",
        "colab_type": "code",
        "outputId": "de397e72-39b4-4146-b8be-d0af37af43db",
        "colab": {
          "base_uri": "https://localhost:8080/",
          "height": 886
        }
      },
      "source": [
        "# Check features datatypes\n",
        "types = df.dtypes\n",
        "pd.DataFrame(types)"
      ],
      "execution_count": 0,
      "outputs": [
        {
          "output_type": "execute_result",
          "data": {
            "text/html": [
              "<div>\n",
              "<style scoped>\n",
              "    .dataframe tbody tr th:only-of-type {\n",
              "        vertical-align: middle;\n",
              "    }\n",
              "\n",
              "    .dataframe tbody tr th {\n",
              "        vertical-align: top;\n",
              "    }\n",
              "\n",
              "    .dataframe thead th {\n",
              "        text-align: right;\n",
              "    }\n",
              "</style>\n",
              "<table border=\"1\" class=\"dataframe\">\n",
              "  <thead>\n",
              "    <tr style=\"text-align: right;\">\n",
              "      <th></th>\n",
              "      <th>0</th>\n",
              "    </tr>\n",
              "  </thead>\n",
              "  <tbody>\n",
              "    <tr>\n",
              "      <th>edges</th>\n",
              "      <td>int64</td>\n",
              "    </tr>\n",
              "    <tr>\n",
              "      <th>nodes</th>\n",
              "      <td>int64</td>\n",
              "    </tr>\n",
              "    <tr>\n",
              "      <th>avg_edg</th>\n",
              "      <td>int64</td>\n",
              "    </tr>\n",
              "    <tr>\n",
              "      <th>avg_deg</th>\n",
              "      <td>int64</td>\n",
              "    </tr>\n",
              "    <tr>\n",
              "      <th>med_edg</th>\n",
              "      <td>int64</td>\n",
              "    </tr>\n",
              "    <tr>\n",
              "      <th>med_deg</th>\n",
              "      <td>int64</td>\n",
              "    </tr>\n",
              "    <tr>\n",
              "      <th>IQR_edg</th>\n",
              "      <td>int64</td>\n",
              "    </tr>\n",
              "    <tr>\n",
              "      <th>IQR_deg</th>\n",
              "      <td>int64</td>\n",
              "    </tr>\n",
              "    <tr>\n",
              "      <th>STD_edg</th>\n",
              "      <td>int64</td>\n",
              "    </tr>\n",
              "    <tr>\n",
              "      <th>STD_deg</th>\n",
              "      <td>int64</td>\n",
              "    </tr>\n",
              "    <tr>\n",
              "      <th>STD_deg</th>\n",
              "      <td>int64</td>\n",
              "    </tr>\n",
              "    <tr>\n",
              "      <th>Total_edg</th>\n",
              "      <td>int64</td>\n",
              "    </tr>\n",
              "    <tr>\n",
              "      <th>Total_deg</th>\n",
              "      <td>int64</td>\n",
              "    </tr>\n",
              "    <tr>\n",
              "      <th>Total_deg</th>\n",
              "      <td>int64</td>\n",
              "    </tr>\n",
              "    <tr>\n",
              "      <th>is_connected</th>\n",
              "      <td>int64</td>\n",
              "    </tr>\n",
              "    <tr>\n",
              "      <th>avg_length</th>\n",
              "      <td>int64</td>\n",
              "    </tr>\n",
              "    <tr>\n",
              "      <th>radius</th>\n",
              "      <td>int64</td>\n",
              "    </tr>\n",
              "    <tr>\n",
              "      <th>diameter</th>\n",
              "      <td>int64</td>\n",
              "    </tr>\n",
              "    <tr>\n",
              "      <th>eccentricity</th>\n",
              "      <td>int64</td>\n",
              "    </tr>\n",
              "    <tr>\n",
              "      <th>center</th>\n",
              "      <td>int64</td>\n",
              "    </tr>\n",
              "    <tr>\n",
              "      <th>periphery</th>\n",
              "      <td>int64</td>\n",
              "    </tr>\n",
              "    <tr>\n",
              "      <th>density</th>\n",
              "      <td>int64</td>\n",
              "    </tr>\n",
              "    <tr>\n",
              "      <th>n.connected.comp</th>\n",
              "      <td>int64</td>\n",
              "    </tr>\n",
              "    <tr>\n",
              "      <th>n.of_isolates</th>\n",
              "      <td>int64</td>\n",
              "    </tr>\n",
              "    <tr>\n",
              "      <th>is_distance_regular</th>\n",
              "      <td>int64</td>\n",
              "    </tr>\n",
              "    <tr>\n",
              "      <th>is_eulerian</th>\n",
              "      <td>int64</td>\n",
              "    </tr>\n",
              "    <tr>\n",
              "      <th>label</th>\n",
              "      <td>int64</td>\n",
              "    </tr>\n",
              "  </tbody>\n",
              "</table>\n",
              "</div>"
            ],
            "text/plain": [
              "                         0\n",
              "edges                int64\n",
              "nodes                int64\n",
              "avg_edg              int64\n",
              "avg_deg              int64\n",
              "med_edg              int64\n",
              "med_deg              int64\n",
              "IQR_edg              int64\n",
              "IQR_deg              int64\n",
              "STD_edg              int64\n",
              "STD_deg              int64\n",
              "STD_deg              int64\n",
              "Total_edg            int64\n",
              "Total_deg            int64\n",
              "Total_deg            int64\n",
              "is_connected         int64\n",
              "avg_length           int64\n",
              "radius               int64\n",
              "diameter             int64\n",
              "eccentricity         int64\n",
              "center               int64\n",
              "periphery            int64\n",
              "density              int64\n",
              "n.connected.comp     int64\n",
              "n.of_isolates        int64\n",
              "is_distance_regular  int64\n",
              "is_eulerian          int64\n",
              "label                int64"
            ]
          },
          "metadata": {
            "tags": []
          },
          "execution_count": 247
        }
      ]
    },
    {
      "cell_type": "code",
      "metadata": {
        "id": "ci4AY74Y1_-X",
        "colab_type": "code",
        "outputId": "67416533-31fe-4d9a-d35f-f2b7ec58fc5b",
        "colab": {
          "base_uri": "https://localhost:8080/",
          "height": 119
        }
      },
      "source": [
        "df.columns"
      ],
      "execution_count": 0,
      "outputs": [
        {
          "output_type": "execute_result",
          "data": {
            "text/plain": [
              "Index(['edges', 'nodes', 'avg_edg', 'avg_deg', 'med_edg', 'med_deg', 'IQR_edg',\n",
              "       'IQR_deg', 'STD_edg', 'STD_deg', 'STD_deg', 'Total_edg', 'Total_deg',\n",
              "       'Total_deg', 'is_connected', 'avg_length', 'radius', 'diameter',\n",
              "       'eccentricity', 'center', 'periphery', 'density', 'n.connected.comp',\n",
              "       'n.of_isolates', 'is_distance_regular', 'is_eulerian', 'label'],\n",
              "      dtype='object')"
            ]
          },
          "metadata": {
            "tags": []
          },
          "execution_count": 248
        }
      ]
    },
    {
      "cell_type": "code",
      "metadata": {
        "id": "knQFZNWL5XHu",
        "colab_type": "code",
        "colab": {}
      },
      "source": [
        "\n",
        "# df=df.dropna()\n",
        "# df.drop(df.tail(1).index,inplace=True) # drop last n rows"
      ],
      "execution_count": 0,
      "outputs": []
    },
    {
      "cell_type": "code",
      "metadata": {
        "id": "RONx9coV6r0u",
        "colab_type": "code",
        "outputId": "f646ba7d-492d-4fe0-d804-b717f4d1af47",
        "colab": {
          "base_uri": "https://localhost:8080/",
          "height": 34
        }
      },
      "source": [
        "df.shape\n",
        "# drop unnecessary features\n",
        "# df=df.drop(\"Unnamed: 0\",axis=1)"
      ],
      "execution_count": 0,
      "outputs": [
        {
          "output_type": "execute_result",
          "data": {
            "text/plain": [
              "(1113, 27)"
            ]
          },
          "metadata": {
            "tags": []
          },
          "execution_count": 250
        }
      ]
    },
    {
      "cell_type": "code",
      "metadata": {
        "id": "unD-G9qhNsIR",
        "colab_type": "code",
        "outputId": "564beef0-8998-4543-a69c-76e32790bce9",
        "colab": {
          "base_uri": "https://localhost:8080/",
          "height": 561
        }
      },
      "source": [
        "df.info()"
      ],
      "execution_count": 0,
      "outputs": [
        {
          "output_type": "stream",
          "text": [
            "<class 'pandas.core.frame.DataFrame'>\n",
            "RangeIndex: 1113 entries, 1 to 1113\n",
            "Data columns (total 27 columns):\n",
            "edges                  1113 non-null int64\n",
            "nodes                  1113 non-null int64\n",
            "avg_edg                1113 non-null int64\n",
            "avg_deg                1113 non-null int64\n",
            "med_edg                1113 non-null int64\n",
            "med_deg                1113 non-null int64\n",
            "IQR_edg                1113 non-null int64\n",
            "IQR_deg                1113 non-null int64\n",
            "STD_edg                1113 non-null int64\n",
            "STD_deg                1113 non-null int64\n",
            "STD_deg                1113 non-null int64\n",
            "Total_edg              1113 non-null int64\n",
            "Total_deg              1113 non-null int64\n",
            "Total_deg              1113 non-null int64\n",
            "is_connected           1113 non-null int64\n",
            "avg_length             1113 non-null int64\n",
            "radius                 1113 non-null int64\n",
            "diameter               1113 non-null int64\n",
            "eccentricity           1113 non-null int64\n",
            "center                 1113 non-null int64\n",
            "periphery              1113 non-null int64\n",
            "density                1113 non-null int64\n",
            "n.connected.comp       1113 non-null int64\n",
            "n.of_isolates          1113 non-null int64\n",
            "is_distance_regular    1113 non-null int64\n",
            "is_eulerian            1113 non-null int64\n",
            "label                  1113 non-null int64\n",
            "dtypes: int64(27)\n",
            "memory usage: 234.9 KB\n"
          ],
          "name": "stdout"
        }
      ]
    },
    {
      "cell_type": "code",
      "metadata": {
        "id": "ZV6YfDIxN4d-",
        "colab_type": "code",
        "outputId": "7b4a6949-6ef6-4e32-89f3-399401b57100",
        "colab": {
          "base_uri": "https://localhost:8080/",
          "height": 493
        }
      },
      "source": [
        "df.isnull().sum()"
      ],
      "execution_count": 0,
      "outputs": [
        {
          "output_type": "execute_result",
          "data": {
            "text/plain": [
              "edges                  0\n",
              "nodes                  0\n",
              "avg_edg                0\n",
              "avg_deg                0\n",
              "med_edg                0\n",
              "med_deg                0\n",
              "IQR_edg                0\n",
              "IQR_deg                0\n",
              "STD_edg                0\n",
              "STD_deg                0\n",
              "STD_deg                0\n",
              "Total_edg              0\n",
              "Total_deg              0\n",
              "Total_deg              0\n",
              "is_connected           0\n",
              "avg_length             0\n",
              "radius                 0\n",
              "diameter               0\n",
              "eccentricity           0\n",
              "center                 0\n",
              "periphery              0\n",
              "density                0\n",
              "n.connected.comp       0\n",
              "n.of_isolates          0\n",
              "is_distance_regular    0\n",
              "is_eulerian            0\n",
              "label                  0\n",
              "dtype: int64"
            ]
          },
          "metadata": {
            "tags": []
          },
          "execution_count": 253
        }
      ]
    },
    {
      "cell_type": "code",
      "metadata": {
        "id": "pbTOk6_rOmnj",
        "colab_type": "code",
        "outputId": "d1bc915d-39d1-4a1f-e2d1-05df4a3ed107",
        "colab": {
          "base_uri": "https://localhost:8080/",
          "height": 493
        }
      },
      "source": [
        "df.nunique()"
      ],
      "execution_count": 0,
      "outputs": [
        {
          "output_type": "execute_result",
          "data": {
            "text/plain": [
              "edges                  223\n",
              "nodes                  148\n",
              "avg_edg                  3\n",
              "avg_deg                  5\n",
              "med_edg                  3\n",
              "med_deg                  5\n",
              "IQR_edg                  4\n",
              "IQR_deg                  4\n",
              "STD_edg                  3\n",
              "STD_deg                  3\n",
              "STD_deg                  3\n",
              "Total_edg              223\n",
              "Total_deg              223\n",
              "Total_deg              223\n",
              "is_connected             2\n",
              "avg_length              18\n",
              "radius                  24\n",
              "diameter                44\n",
              "eccentricity           605\n",
              "center                  13\n",
              "periphery               17\n",
              "density                  2\n",
              "n.connected.comp         7\n",
              "n.of_isolates            1\n",
              "is_distance_regular      2\n",
              "is_eulerian              2\n",
              "label                    2\n",
              "dtype: int64"
            ]
          },
          "metadata": {
            "tags": []
          },
          "execution_count": 254
        }
      ]
    },
    {
      "cell_type": "code",
      "metadata": {
        "id": "XnslE0i80yOK",
        "colab_type": "code",
        "colab": {}
      },
      "source": [
        "df=df.drop('n.of_isolates',axis=1)"
      ],
      "execution_count": 0,
      "outputs": []
    },
    {
      "cell_type": "code",
      "metadata": {
        "id": "xYfRgBT1O55I",
        "colab_type": "code",
        "outputId": "b6e8bded-a7ef-4744-fbe0-cce12035b845",
        "colab": {
          "base_uri": "https://localhost:8080/",
          "height": 224
        }
      },
      "source": [
        "df.head()"
      ],
      "execution_count": 0,
      "outputs": [
        {
          "output_type": "execute_result",
          "data": {
            "text/html": [
              "<div>\n",
              "<style scoped>\n",
              "    .dataframe tbody tr th:only-of-type {\n",
              "        vertical-align: middle;\n",
              "    }\n",
              "\n",
              "    .dataframe tbody tr th {\n",
              "        vertical-align: top;\n",
              "    }\n",
              "\n",
              "    .dataframe thead th {\n",
              "        text-align: right;\n",
              "    }\n",
              "</style>\n",
              "<table border=\"1\" class=\"dataframe\">\n",
              "  <thead>\n",
              "    <tr style=\"text-align: right;\">\n",
              "      <th></th>\n",
              "      <th>edges</th>\n",
              "      <th>nodes</th>\n",
              "      <th>avg_edg</th>\n",
              "      <th>avg_deg</th>\n",
              "      <th>med_edg</th>\n",
              "      <th>med_deg</th>\n",
              "      <th>IQR_edg</th>\n",
              "      <th>IQR_deg</th>\n",
              "      <th>STD_edg</th>\n",
              "      <th>STD_deg</th>\n",
              "      <th>STD_deg</th>\n",
              "      <th>Total_edg</th>\n",
              "      <th>Total_deg</th>\n",
              "      <th>Total_deg</th>\n",
              "      <th>is_connected</th>\n",
              "      <th>avg_length</th>\n",
              "      <th>radius</th>\n",
              "      <th>diameter</th>\n",
              "      <th>eccentricity</th>\n",
              "      <th>center</th>\n",
              "      <th>periphery</th>\n",
              "      <th>density</th>\n",
              "      <th>n.connected.comp</th>\n",
              "      <th>n.of_isolates</th>\n",
              "      <th>is_distance_regular</th>\n",
              "      <th>is_eulerian</th>\n",
              "      <th>label</th>\n",
              "    </tr>\n",
              "  </thead>\n",
              "  <tbody>\n",
              "    <tr>\n",
              "      <th>1</th>\n",
              "      <td>81</td>\n",
              "      <td>42</td>\n",
              "      <td>2</td>\n",
              "      <td>3</td>\n",
              "      <td>2</td>\n",
              "      <td>3</td>\n",
              "      <td>2</td>\n",
              "      <td>1</td>\n",
              "      <td>1</td>\n",
              "      <td>1</td>\n",
              "      <td>1</td>\n",
              "      <td>81</td>\n",
              "      <td>162</td>\n",
              "      <td>162</td>\n",
              "      <td>1</td>\n",
              "      <td>5</td>\n",
              "      <td>7</td>\n",
              "      <td>14</td>\n",
              "      <td>455</td>\n",
              "      <td>1</td>\n",
              "      <td>3</td>\n",
              "      <td>0</td>\n",
              "      <td>1</td>\n",
              "      <td>0</td>\n",
              "      <td>0</td>\n",
              "      <td>0</td>\n",
              "      <td>0</td>\n",
              "    </tr>\n",
              "    <tr>\n",
              "      <th>2</th>\n",
              "      <td>46</td>\n",
              "      <td>27</td>\n",
              "      <td>1</td>\n",
              "      <td>3</td>\n",
              "      <td>2</td>\n",
              "      <td>3</td>\n",
              "      <td>1</td>\n",
              "      <td>1</td>\n",
              "      <td>0</td>\n",
              "      <td>0</td>\n",
              "      <td>0</td>\n",
              "      <td>46</td>\n",
              "      <td>92</td>\n",
              "      <td>92</td>\n",
              "      <td>1</td>\n",
              "      <td>5</td>\n",
              "      <td>8</td>\n",
              "      <td>15</td>\n",
              "      <td>319</td>\n",
              "      <td>2</td>\n",
              "      <td>5</td>\n",
              "      <td>0</td>\n",
              "      <td>1</td>\n",
              "      <td>0</td>\n",
              "      <td>0</td>\n",
              "      <td>0</td>\n",
              "      <td>0</td>\n",
              "    </tr>\n",
              "    <tr>\n",
              "      <th>3</th>\n",
              "      <td>17</td>\n",
              "      <td>10</td>\n",
              "      <td>2</td>\n",
              "      <td>3</td>\n",
              "      <td>2</td>\n",
              "      <td>3</td>\n",
              "      <td>0</td>\n",
              "      <td>0</td>\n",
              "      <td>0</td>\n",
              "      <td>0</td>\n",
              "      <td>0</td>\n",
              "      <td>17</td>\n",
              "      <td>34</td>\n",
              "      <td>34</td>\n",
              "      <td>1</td>\n",
              "      <td>2</td>\n",
              "      <td>2</td>\n",
              "      <td>4</td>\n",
              "      <td>35</td>\n",
              "      <td>1</td>\n",
              "      <td>6</td>\n",
              "      <td>0</td>\n",
              "      <td>1</td>\n",
              "      <td>0</td>\n",
              "      <td>0</td>\n",
              "      <td>0</td>\n",
              "      <td>1</td>\n",
              "    </tr>\n",
              "    <tr>\n",
              "      <th>4</th>\n",
              "      <td>46</td>\n",
              "      <td>24</td>\n",
              "      <td>2</td>\n",
              "      <td>3</td>\n",
              "      <td>2</td>\n",
              "      <td>3</td>\n",
              "      <td>1</td>\n",
              "      <td>1</td>\n",
              "      <td>0</td>\n",
              "      <td>1</td>\n",
              "      <td>1</td>\n",
              "      <td>46</td>\n",
              "      <td>92</td>\n",
              "      <td>92</td>\n",
              "      <td>1</td>\n",
              "      <td>2</td>\n",
              "      <td>3</td>\n",
              "      <td>6</td>\n",
              "      <td>121</td>\n",
              "      <td>1</td>\n",
              "      <td>9</td>\n",
              "      <td>0</td>\n",
              "      <td>1</td>\n",
              "      <td>0</td>\n",
              "      <td>0</td>\n",
              "      <td>0</td>\n",
              "      <td>0</td>\n",
              "    </tr>\n",
              "    <tr>\n",
              "      <th>5</th>\n",
              "      <td>21</td>\n",
              "      <td>11</td>\n",
              "      <td>2</td>\n",
              "      <td>3</td>\n",
              "      <td>2</td>\n",
              "      <td>3</td>\n",
              "      <td>2</td>\n",
              "      <td>2</td>\n",
              "      <td>0</td>\n",
              "      <td>0</td>\n",
              "      <td>0</td>\n",
              "      <td>21</td>\n",
              "      <td>42</td>\n",
              "      <td>42</td>\n",
              "      <td>1</td>\n",
              "      <td>2</td>\n",
              "      <td>2</td>\n",
              "      <td>4</td>\n",
              "      <td>37</td>\n",
              "      <td>1</td>\n",
              "      <td>5</td>\n",
              "      <td>0</td>\n",
              "      <td>1</td>\n",
              "      <td>0</td>\n",
              "      <td>0</td>\n",
              "      <td>0</td>\n",
              "      <td>0</td>\n",
              "    </tr>\n",
              "  </tbody>\n",
              "</table>\n",
              "</div>"
            ],
            "text/plain": [
              "   edges  nodes  avg_edg  ...  is_distance_regular  is_eulerian  label\n",
              "1     81     42        2  ...                    0            0      0\n",
              "2     46     27        1  ...                    0            0      0\n",
              "3     17     10        2  ...                    0            0      1\n",
              "4     46     24        2  ...                    0            0      0\n",
              "5     21     11        2  ...                    0            0      0\n",
              "\n",
              "[5 rows x 27 columns]"
            ]
          },
          "metadata": {
            "tags": []
          },
          "execution_count": 256
        }
      ]
    },
    {
      "cell_type": "code",
      "metadata": {
        "id": "wlnI2KVCN9Cn",
        "colab_type": "code",
        "outputId": "f9e0e026-f211-4447-bda6-adc007c8b09c",
        "colab": {
          "base_uri": "https://localhost:8080/",
          "height": 410
        }
      },
      "source": [
        "def describe(df):\n",
        "    return pd.concat([df.describe().T,\n",
        "                      df.mad().rename('mad'),\n",
        "                      df.skew().rename('skew'),\n",
        "                      df.kurt().rename('kurt'),\n",
        "                     ], axis=1).T\n",
        "\n",
        "# Descriptive statistics\n",
        "describe(df)"
      ],
      "execution_count": 0,
      "outputs": [
        {
          "output_type": "execute_result",
          "data": {
            "text/html": [
              "<div>\n",
              "<style scoped>\n",
              "    .dataframe tbody tr th:only-of-type {\n",
              "        vertical-align: middle;\n",
              "    }\n",
              "\n",
              "    .dataframe tbody tr th {\n",
              "        vertical-align: top;\n",
              "    }\n",
              "\n",
              "    .dataframe thead th {\n",
              "        text-align: right;\n",
              "    }\n",
              "</style>\n",
              "<table border=\"1\" class=\"dataframe\">\n",
              "  <thead>\n",
              "    <tr style=\"text-align: right;\">\n",
              "      <th></th>\n",
              "      <th>edges</th>\n",
              "      <th>nodes</th>\n",
              "      <th>avg_edg</th>\n",
              "      <th>avg_deg</th>\n",
              "      <th>med_edg</th>\n",
              "      <th>med_deg</th>\n",
              "      <th>IQR_edg</th>\n",
              "      <th>IQR_deg</th>\n",
              "      <th>STD_edg</th>\n",
              "      <th>STD_deg</th>\n",
              "      <th>STD_deg</th>\n",
              "      <th>Total_edg</th>\n",
              "      <th>Total_deg</th>\n",
              "      <th>Total_deg</th>\n",
              "      <th>is_connected</th>\n",
              "      <th>avg_length</th>\n",
              "      <th>radius</th>\n",
              "      <th>diameter</th>\n",
              "      <th>eccentricity</th>\n",
              "      <th>center</th>\n",
              "      <th>periphery</th>\n",
              "      <th>density</th>\n",
              "      <th>n.connected.comp</th>\n",
              "      <th>is_distance_regular</th>\n",
              "      <th>is_eulerian</th>\n",
              "      <th>label</th>\n",
              "    </tr>\n",
              "  </thead>\n",
              "  <tbody>\n",
              "    <tr>\n",
              "      <th>count</th>\n",
              "      <td>1113.000000</td>\n",
              "      <td>1113.000000</td>\n",
              "      <td>1113.000000</td>\n",
              "      <td>1113.000000</td>\n",
              "      <td>1113.000000</td>\n",
              "      <td>1113.000000</td>\n",
              "      <td>1113.000000</td>\n",
              "      <td>1113.000000</td>\n",
              "      <td>1113.000000</td>\n",
              "      <td>1113.000000</td>\n",
              "      <td>1113.000000</td>\n",
              "      <td>1113.000000</td>\n",
              "      <td>1113.000000</td>\n",
              "      <td>1113.000000</td>\n",
              "      <td>1113.000000</td>\n",
              "      <td>1113.000000</td>\n",
              "      <td>1113.000000</td>\n",
              "      <td>1113.000000</td>\n",
              "      <td>1113.000000</td>\n",
              "      <td>1113.000000</td>\n",
              "      <td>1113.000000</td>\n",
              "      <td>1113.000000</td>\n",
              "      <td>1113.000000</td>\n",
              "      <td>1113.000000</td>\n",
              "      <td>1113.000000</td>\n",
              "      <td>1113.000000</td>\n",
              "    </tr>\n",
              "    <tr>\n",
              "      <th>mean</th>\n",
              "      <td>72.815813</td>\n",
              "      <td>39.053010</td>\n",
              "      <td>1.795148</td>\n",
              "      <td>3.248877</td>\n",
              "      <td>2.010782</td>\n",
              "      <td>3.553459</td>\n",
              "      <td>1.165319</td>\n",
              "      <td>1.113208</td>\n",
              "      <td>0.475292</td>\n",
              "      <td>0.293801</td>\n",
              "      <td>0.293801</td>\n",
              "      <td>72.815813</td>\n",
              "      <td>145.631626</td>\n",
              "      <td>145.631626</td>\n",
              "      <td>0.962264</td>\n",
              "      <td>4.203953</td>\n",
              "      <td>6.029650</td>\n",
              "      <td>11.489668</td>\n",
              "      <td>522.327044</td>\n",
              "      <td>2.787062</td>\n",
              "      <td>5.270440</td>\n",
              "      <td>0.010782</td>\n",
              "      <td>1.073675</td>\n",
              "      <td>0.010782</td>\n",
              "      <td>0.001797</td>\n",
              "      <td>0.417790</td>\n",
              "    </tr>\n",
              "    <tr>\n",
              "      <th>std</th>\n",
              "      <td>84.637076</td>\n",
              "      <td>45.775943</td>\n",
              "      <td>0.410402</td>\n",
              "      <td>0.508967</td>\n",
              "      <td>0.257741</td>\n",
              "      <td>0.610953</td>\n",
              "      <td>0.621542</td>\n",
              "      <td>0.531165</td>\n",
              "      <td>0.503201</td>\n",
              "      <td>0.459636</td>\n",
              "      <td>0.459636</td>\n",
              "      <td>84.637076</td>\n",
              "      <td>169.274151</td>\n",
              "      <td>169.274151</td>\n",
              "      <td>0.190642</td>\n",
              "      <td>2.713990</td>\n",
              "      <td>3.951143</td>\n",
              "      <td>7.858239</td>\n",
              "      <td>1279.851244</td>\n",
              "      <td>1.871438</td>\n",
              "      <td>2.031585</td>\n",
              "      <td>0.103320</td>\n",
              "      <td>0.512399</td>\n",
              "      <td>0.103320</td>\n",
              "      <td>0.042371</td>\n",
              "      <td>0.493417</td>\n",
              "    </tr>\n",
              "    <tr>\n",
              "      <th>min</th>\n",
              "      <td>5.000000</td>\n",
              "      <td>4.000000</td>\n",
              "      <td>1.000000</td>\n",
              "      <td>1.000000</td>\n",
              "      <td>1.000000</td>\n",
              "      <td>1.000000</td>\n",
              "      <td>0.000000</td>\n",
              "      <td>0.000000</td>\n",
              "      <td>0.000000</td>\n",
              "      <td>0.000000</td>\n",
              "      <td>0.000000</td>\n",
              "      <td>5.000000</td>\n",
              "      <td>10.000000</td>\n",
              "      <td>10.000000</td>\n",
              "      <td>0.000000</td>\n",
              "      <td>1.000000</td>\n",
              "      <td>1.000000</td>\n",
              "      <td>1.000000</td>\n",
              "      <td>4.000000</td>\n",
              "      <td>1.000000</td>\n",
              "      <td>2.000000</td>\n",
              "      <td>0.000000</td>\n",
              "      <td>1.000000</td>\n",
              "      <td>0.000000</td>\n",
              "      <td>0.000000</td>\n",
              "      <td>0.000000</td>\n",
              "    </tr>\n",
              "    <tr>\n",
              "      <th>25%</th>\n",
              "      <td>28.000000</td>\n",
              "      <td>15.000000</td>\n",
              "      <td>2.000000</td>\n",
              "      <td>3.000000</td>\n",
              "      <td>2.000000</td>\n",
              "      <td>3.000000</td>\n",
              "      <td>1.000000</td>\n",
              "      <td>1.000000</td>\n",
              "      <td>0.000000</td>\n",
              "      <td>0.000000</td>\n",
              "      <td>0.000000</td>\n",
              "      <td>28.000000</td>\n",
              "      <td>56.000000</td>\n",
              "      <td>56.000000</td>\n",
              "      <td>1.000000</td>\n",
              "      <td>2.000000</td>\n",
              "      <td>3.000000</td>\n",
              "      <td>6.000000</td>\n",
              "      <td>74.000000</td>\n",
              "      <td>1.000000</td>\n",
              "      <td>4.000000</td>\n",
              "      <td>0.000000</td>\n",
              "      <td>1.000000</td>\n",
              "      <td>0.000000</td>\n",
              "      <td>0.000000</td>\n",
              "      <td>0.000000</td>\n",
              "    </tr>\n",
              "    <tr>\n",
              "      <th>50%</th>\n",
              "      <td>49.000000</td>\n",
              "      <td>26.000000</td>\n",
              "      <td>2.000000</td>\n",
              "      <td>3.000000</td>\n",
              "      <td>2.000000</td>\n",
              "      <td>4.000000</td>\n",
              "      <td>1.000000</td>\n",
              "      <td>1.000000</td>\n",
              "      <td>0.000000</td>\n",
              "      <td>0.000000</td>\n",
              "      <td>0.000000</td>\n",
              "      <td>49.000000</td>\n",
              "      <td>98.000000</td>\n",
              "      <td>98.000000</td>\n",
              "      <td>1.000000</td>\n",
              "      <td>4.000000</td>\n",
              "      <td>5.000000</td>\n",
              "      <td>10.000000</td>\n",
              "      <td>202.000000</td>\n",
              "      <td>2.000000</td>\n",
              "      <td>5.000000</td>\n",
              "      <td>0.000000</td>\n",
              "      <td>1.000000</td>\n",
              "      <td>0.000000</td>\n",
              "      <td>0.000000</td>\n",
              "      <td>0.000000</td>\n",
              "    </tr>\n",
              "    <tr>\n",
              "      <th>75%</th>\n",
              "      <td>87.000000</td>\n",
              "      <td>45.000000</td>\n",
              "      <td>2.000000</td>\n",
              "      <td>4.000000</td>\n",
              "      <td>2.000000</td>\n",
              "      <td>4.000000</td>\n",
              "      <td>2.000000</td>\n",
              "      <td>1.000000</td>\n",
              "      <td>1.000000</td>\n",
              "      <td>1.000000</td>\n",
              "      <td>1.000000</td>\n",
              "      <td>87.000000</td>\n",
              "      <td>174.000000</td>\n",
              "      <td>174.000000</td>\n",
              "      <td>1.000000</td>\n",
              "      <td>5.000000</td>\n",
              "      <td>8.000000</td>\n",
              "      <td>15.000000</td>\n",
              "      <td>484.000000</td>\n",
              "      <td>4.000000</td>\n",
              "      <td>6.000000</td>\n",
              "      <td>0.000000</td>\n",
              "      <td>1.000000</td>\n",
              "      <td>0.000000</td>\n",
              "      <td>0.000000</td>\n",
              "      <td>1.000000</td>\n",
              "    </tr>\n",
              "    <tr>\n",
              "      <th>max</th>\n",
              "      <td>1049.000000</td>\n",
              "      <td>620.000000</td>\n",
              "      <td>3.000000</td>\n",
              "      <td>5.000000</td>\n",
              "      <td>3.000000</td>\n",
              "      <td>5.000000</td>\n",
              "      <td>3.000000</td>\n",
              "      <td>3.000000</td>\n",
              "      <td>2.000000</td>\n",
              "      <td>2.000000</td>\n",
              "      <td>2.000000</td>\n",
              "      <td>1049.000000</td>\n",
              "      <td>2098.000000</td>\n",
              "      <td>2098.000000</td>\n",
              "      <td>1.000000</td>\n",
              "      <td>23.000000</td>\n",
              "      <td>32.000000</td>\n",
              "      <td>64.000000</td>\n",
              "      <td>30492.000000</td>\n",
              "      <td>16.000000</td>\n",
              "      <td>18.000000</td>\n",
              "      <td>1.000000</td>\n",
              "      <td>9.000000</td>\n",
              "      <td>1.000000</td>\n",
              "      <td>1.000000</td>\n",
              "      <td>1.000000</td>\n",
              "    </tr>\n",
              "    <tr>\n",
              "      <th>mad</th>\n",
              "      <td>49.402454</td>\n",
              "      <td>26.514456</td>\n",
              "      <td>0.330062</td>\n",
              "      <td>0.422904</td>\n",
              "      <td>0.076436</td>\n",
              "      <td>0.558296</td>\n",
              "      <td>0.475743</td>\n",
              "      <td>0.347828</td>\n",
              "      <td>0.500487</td>\n",
              "      <td>0.416019</td>\n",
              "      <td>0.416019</td>\n",
              "      <td>49.402454</td>\n",
              "      <td>98.804907</td>\n",
              "      <td>98.804907</td>\n",
              "      <td>0.072624</td>\n",
              "      <td>2.054590</td>\n",
              "      <td>2.972133</td>\n",
              "      <td>5.942054</td>\n",
              "      <td>538.216854</td>\n",
              "      <td>1.363242</td>\n",
              "      <td>1.411054</td>\n",
              "      <td>0.021331</td>\n",
              "      <td>0.141789</td>\n",
              "      <td>0.021331</td>\n",
              "      <td>0.003587</td>\n",
              "      <td>0.486483</td>\n",
              "    </tr>\n",
              "    <tr>\n",
              "      <th>skew</th>\n",
              "      <td>5.241192</td>\n",
              "      <td>5.227466</td>\n",
              "      <td>-1.346709</td>\n",
              "      <td>0.428885</td>\n",
              "      <td>0.505610</td>\n",
              "      <td>0.008443</td>\n",
              "      <td>0.007194</td>\n",
              "      <td>0.467900</td>\n",
              "      <td>0.141502</td>\n",
              "      <td>0.962161</td>\n",
              "      <td>0.962161</td>\n",
              "      <td>5.241192</td>\n",
              "      <td>5.241192</td>\n",
              "      <td>5.241192</td>\n",
              "      <td>-4.858273</td>\n",
              "      <td>1.448250</td>\n",
              "      <td>1.399835</td>\n",
              "      <td>1.432436</td>\n",
              "      <td>13.596208</td>\n",
              "      <td>2.156567</td>\n",
              "      <td>1.726298</td>\n",
              "      <td>9.487013</td>\n",
              "      <td>10.520455</td>\n",
              "      <td>9.487013</td>\n",
              "      <td>23.558381</td>\n",
              "      <td>0.333828</td>\n",
              "    </tr>\n",
              "    <tr>\n",
              "      <th>kurt</th>\n",
              "      <td>44.748467</td>\n",
              "      <td>45.324258</td>\n",
              "      <td>0.185820</td>\n",
              "      <td>0.268498</td>\n",
              "      <td>12.057720</td>\n",
              "      <td>-0.178851</td>\n",
              "      <td>-0.224540</td>\n",
              "      <td>1.404052</td>\n",
              "      <td>-1.872796</td>\n",
              "      <td>-0.918432</td>\n",
              "      <td>-0.918432</td>\n",
              "      <td>44.748467</td>\n",
              "      <td>44.748467</td>\n",
              "      <td>44.748467</td>\n",
              "      <td>21.641702</td>\n",
              "      <td>3.650862</td>\n",
              "      <td>3.120402</td>\n",
              "      <td>3.285980</td>\n",
              "      <td>282.784837</td>\n",
              "      <td>8.713755</td>\n",
              "      <td>6.101337</td>\n",
              "      <td>88.161842</td>\n",
              "      <td>130.218597</td>\n",
              "      <td>88.161842</td>\n",
              "      <td>553.992794</td>\n",
              "      <td>-1.891962</td>\n",
              "    </tr>\n",
              "  </tbody>\n",
              "</table>\n",
              "</div>"
            ],
            "text/plain": [
              "             edges        nodes  ...  is_eulerian        label\n",
              "count  1113.000000  1113.000000  ...  1113.000000  1113.000000\n",
              "mean     72.815813    39.053010  ...     0.001797     0.417790\n",
              "std      84.637076    45.775943  ...     0.042371     0.493417\n",
              "min       5.000000     4.000000  ...     0.000000     0.000000\n",
              "25%      28.000000    15.000000  ...     0.000000     0.000000\n",
              "50%      49.000000    26.000000  ...     0.000000     0.000000\n",
              "75%      87.000000    45.000000  ...     0.000000     1.000000\n",
              "max    1049.000000   620.000000  ...     1.000000     1.000000\n",
              "mad      49.402454    26.514456  ...     0.003587     0.486483\n",
              "skew      5.241192     5.227466  ...    23.558381     0.333828\n",
              "kurt     44.748467    45.324258  ...   553.992794    -1.891962\n",
              "\n",
              "[11 rows x 26 columns]"
            ]
          },
          "metadata": {
            "tags": []
          },
          "execution_count": 259
        }
      ]
    },
    {
      "cell_type": "code",
      "metadata": {
        "id": "3bdCnmPiLlLQ",
        "colab_type": "code",
        "outputId": "cb5ca3c9-fd91-4b7c-a475-9b00e2bbbc12",
        "colab": {
          "base_uri": "https://localhost:8080/",
          "height": 3291
        }
      },
      "source": [
        "for col in df.columns:\n",
        "    col_data = df[col]\n",
        "    plt.hist(col_data)\n",
        "    plt.xlabel(col)\n",
        "    plt.ylabel('freq')\n",
        "    plt.title('Histogram')\n",
        "    plt.grid(True)\n",
        "    plt.show()"
      ],
      "execution_count": 0,
      "outputs": [
        {
          "output_type": "display_data",
          "data": {
            "image/png": "[encoded data removed]",
            "text/plain": [
              "<Figure size 432x288 with 1 Axes>"
            ]
          },
          "metadata": {
            "tags": []
          }
        },
        {
          "output_type": "display_data",
          "data": {
            "image/png": "[encoded data removed]",
            "text/plain": [
              "<Figure size 432x288 with 1 Axes>"
            ]
          },
          "metadata": {
            "tags": []
          }
        },
        {
          "output_type": "display_data",
          "data": {
            "image/png": "[encoded data removed]",
            "text/plain": [
              "<Figure size 432x288 with 1 Axes>"
            ]
          },
          "metadata": {
            "tags": []
          }
        },
        {
          "output_type": "display_data",
          "data": {
            "image/png": "[encoded data removed]",
            "text/plain": [
              "<Figure size 432x288 with 1 Axes>"
            ]
          },
          "metadata": {
            "tags": []
          }
        },
        {
          "output_type": "display_data",
          "data": {
            "image/png": "[encoded data removed]",
            "text/plain": [
              "<Figure size 432x288 with 1 Axes>"
            ]
          },
          "metadata": {
            "tags": []
          }
        },
        {
          "output_type": "display_data",
          "data": {
            "image/png": "[encoded data removed]",
            "text/plain": [
              "<Figure size 432x288 with 1 Axes>"
            ]
          },
          "metadata": {
            "tags": []
          }
        },
        {
          "output_type": "display_data",
          "data": {
            "image/png": "[encoded data removed]",
            "text/plain": [
              "<Figure size 432x288 with 1 Axes>"
            ]
          },
          "metadata": {
            "tags": []
          }
        },
        {
          "output_type": "display_data",
          "data": {
            "image/png": "[encoded data removed]",
            "text/plain": [
              "<Figure size 432x288 with 1 Axes>"
            ]
          },
          "metadata": {
            "tags": []
          }
        },
        {
          "output_type": "display_data",
          "data": {
            "image/png": "[encoded data removed]",
            "text/plain": [
              "<Figure size 432x288 with 1 Axes>"
            ]
          },
          "metadata": {
            "tags": []
          }
        },
        {
          "output_type": "error",
          "ename": "KeyboardInterrupt",
          "evalue": "ignored",
          "traceback": [
            "\u001b[0;31m---------------------------------------------------------------------------\u001b[0m",
            "\u001b[0;31mKeyboardInterrupt\u001b[0m                         Traceback (most recent call last)",
            "\u001b[0;32m<ipython-input-263-67317b09f677>\u001b[0m in \u001b[0;36m<module>\u001b[0;34m()\u001b[0m\n\u001b[1;32m      1\u001b[0m \u001b[0;32mfor\u001b[0m \u001b[0mcol\u001b[0m \u001b[0;32min\u001b[0m \u001b[0mdf\u001b[0m\u001b[0;34m.\u001b[0m\u001b[0mcolumns\u001b[0m\u001b[0;34m:\u001b[0m\u001b[0;34m\u001b[0m\u001b[0;34m\u001b[0m\u001b[0m\n\u001b[1;32m      2\u001b[0m     \u001b[0mcol_data\u001b[0m \u001b[0;34m=\u001b[0m \u001b[0mdf\u001b[0m\u001b[0;34m[\u001b[0m\u001b[0mcol\u001b[0m\u001b[0;34m]\u001b[0m\u001b[0;34m\u001b[0m\u001b[0;34m\u001b[0m\u001b[0m\n\u001b[0;32m----> 3\u001b[0;31m     \u001b[0mplt\u001b[0m\u001b[0;34m.\u001b[0m\u001b[0mhist\u001b[0m\u001b[0;34m(\u001b[0m\u001b[0mcol_data\u001b[0m\u001b[0;34m)\u001b[0m\u001b[0;34m\u001b[0m\u001b[0;34m\u001b[0m\u001b[0m\n\u001b[0m\u001b[1;32m      4\u001b[0m     \u001b[0mplt\u001b[0m\u001b[0;34m.\u001b[0m\u001b[0mxlabel\u001b[0m\u001b[0;34m(\u001b[0m\u001b[0mcol\u001b[0m\u001b[0;34m)\u001b[0m\u001b[0;34m\u001b[0m\u001b[0;34m\u001b[0m\u001b[0m\n\u001b[1;32m      5\u001b[0m     \u001b[0mplt\u001b[0m\u001b[0;34m.\u001b[0m\u001b[0mylabel\u001b[0m\u001b[0;34m(\u001b[0m\u001b[0;34m'freq'\u001b[0m\u001b[0;34m)\u001b[0m\u001b[0;34m\u001b[0m\u001b[0;34m\u001b[0m\u001b[0m\n",
            "\u001b[0;32m/usr/local/lib/python3.6/dist-packages/matplotlib/pyplot.py\u001b[0m in \u001b[0;36mhist\u001b[0;34m(x, bins, range, density, weights, cumulative, bottom, histtype, align, orientation, rwidth, log, color, label, stacked, normed, data, **kwargs)\u001b[0m\n\u001b[1;32m   2657\u001b[0m         \u001b[0malign\u001b[0m\u001b[0;34m=\u001b[0m\u001b[0malign\u001b[0m\u001b[0;34m,\u001b[0m \u001b[0morientation\u001b[0m\u001b[0;34m=\u001b[0m\u001b[0morientation\u001b[0m\u001b[0;34m,\u001b[0m \u001b[0mrwidth\u001b[0m\u001b[0;34m=\u001b[0m\u001b[0mrwidth\u001b[0m\u001b[0;34m,\u001b[0m \u001b[0mlog\u001b[0m\u001b[0;34m=\u001b[0m\u001b[0mlog\u001b[0m\u001b[0;34m,\u001b[0m\u001b[0;34m\u001b[0m\u001b[0;34m\u001b[0m\u001b[0m\n\u001b[1;32m   2658\u001b[0m         \u001b[0mcolor\u001b[0m\u001b[0;34m=\u001b[0m\u001b[0mcolor\u001b[0m\u001b[0;34m,\u001b[0m \u001b[0mlabel\u001b[0m\u001b[0;34m=\u001b[0m\u001b[0mlabel\u001b[0m\u001b[0;34m,\u001b[0m \u001b[0mstacked\u001b[0m\u001b[0;34m=\u001b[0m\u001b[0mstacked\u001b[0m\u001b[0;34m,\u001b[0m \u001b[0mnormed\u001b[0m\u001b[0;34m=\u001b[0m\u001b[0mnormed\u001b[0m\u001b[0;34m,\u001b[0m\u001b[0;34m\u001b[0m\u001b[0;34m\u001b[0m\u001b[0m\n\u001b[0;32m-> 2659\u001b[0;31m         **({\"data\": data} if data is not None else {}), **kwargs)\n\u001b[0m\u001b[1;32m   2660\u001b[0m \u001b[0;34m\u001b[0m\u001b[0m\n\u001b[1;32m   2661\u001b[0m \u001b[0;34m\u001b[0m\u001b[0m\n",
            "\u001b[0;32m/usr/local/lib/python3.6/dist-packages/matplotlib/__init__.py\u001b[0m in \u001b[0;36minner\u001b[0;34m(ax, data, *args, **kwargs)\u001b[0m\n\u001b[1;32m   1808\u001b[0m                         \u001b[0;34m\"the Matplotlib list!)\"\u001b[0m \u001b[0;34m%\u001b[0m \u001b[0;34m(\u001b[0m\u001b[0mlabel_namer\u001b[0m\u001b[0;34m,\u001b[0m \u001b[0mfunc\u001b[0m\u001b[0;34m.\u001b[0m\u001b[0m__name__\u001b[0m\u001b[0;34m)\u001b[0m\u001b[0;34m,\u001b[0m\u001b[0;34m\u001b[0m\u001b[0;34m\u001b[0m\u001b[0m\n\u001b[1;32m   1809\u001b[0m                         RuntimeWarning, stacklevel=2)\n\u001b[0;32m-> 1810\u001b[0;31m             \u001b[0;32mreturn\u001b[0m \u001b[0mfunc\u001b[0m\u001b[0;34m(\u001b[0m\u001b[0max\u001b[0m\u001b[0;34m,\u001b[0m \u001b[0;34m*\u001b[0m\u001b[0margs\u001b[0m\u001b[0;34m,\u001b[0m \u001b[0;34m**\u001b[0m\u001b[0mkwargs\u001b[0m\u001b[0;34m)\u001b[0m\u001b[0;34m\u001b[0m\u001b[0;34m\u001b[0m\u001b[0m\n\u001b[0m\u001b[1;32m   1811\u001b[0m \u001b[0;34m\u001b[0m\u001b[0m\n\u001b[1;32m   1812\u001b[0m         inner.__doc__ = _add_data_doc(inner.__doc__,\n",
            "\u001b[0;32m/usr/local/lib/python3.6/dist-packages/matplotlib/axes/_axes.py\u001b[0m in \u001b[0;36mhist\u001b[0;34m(self, x, bins, range, density, weights, cumulative, bottom, histtype, align, orientation, rwidth, log, color, label, stacked, normed, **kwargs)\u001b[0m\n\u001b[1;32m   6665\u001b[0m                 patch = _barfunc(bins[:-1]+boffset, height, width,\n\u001b[1;32m   6666\u001b[0m                                  \u001b[0malign\u001b[0m\u001b[0;34m=\u001b[0m\u001b[0;34m'center'\u001b[0m\u001b[0;34m,\u001b[0m \u001b[0mlog\u001b[0m\u001b[0;34m=\u001b[0m\u001b[0mlog\u001b[0m\u001b[0;34m,\u001b[0m\u001b[0;34m\u001b[0m\u001b[0;34m\u001b[0m\u001b[0m\n\u001b[0;32m-> 6667\u001b[0;31m                                  color=c, **{bottom_kwarg: bottom})\n\u001b[0m\u001b[1;32m   6668\u001b[0m                 \u001b[0mpatches\u001b[0m\u001b[0;34m.\u001b[0m\u001b[0mappend\u001b[0m\u001b[0;34m(\u001b[0m\u001b[0mpatch\u001b[0m\u001b[0;34m)\u001b[0m\u001b[0;34m\u001b[0m\u001b[0;34m\u001b[0m\u001b[0m\n\u001b[1;32m   6669\u001b[0m                 \u001b[0;32mif\u001b[0m \u001b[0mstacked\u001b[0m\u001b[0;34m:\u001b[0m\u001b[0;34m\u001b[0m\u001b[0;34m\u001b[0m\u001b[0m\n",
            "\u001b[0;32m/usr/local/lib/python3.6/dist-packages/matplotlib/__init__.py\u001b[0m in \u001b[0;36minner\u001b[0;34m(ax, data, *args, **kwargs)\u001b[0m\n\u001b[1;32m   1808\u001b[0m                         \u001b[0;34m\"the Matplotlib list!)\"\u001b[0m \u001b[0;34m%\u001b[0m \u001b[0;34m(\u001b[0m\u001b[0mlabel_namer\u001b[0m\u001b[0;34m,\u001b[0m \u001b[0mfunc\u001b[0m\u001b[0;34m.\u001b[0m\u001b[0m__name__\u001b[0m\u001b[0;34m)\u001b[0m\u001b[0;34m,\u001b[0m\u001b[0;34m\u001b[0m\u001b[0;34m\u001b[0m\u001b[0m\n\u001b[1;32m   1809\u001b[0m                         RuntimeWarning, stacklevel=2)\n\u001b[0;32m-> 1810\u001b[0;31m             \u001b[0;32mreturn\u001b[0m \u001b[0mfunc\u001b[0m\u001b[0;34m(\u001b[0m\u001b[0max\u001b[0m\u001b[0;34m,\u001b[0m \u001b[0;34m*\u001b[0m\u001b[0margs\u001b[0m\u001b[0;34m,\u001b[0m \u001b[0;34m**\u001b[0m\u001b[0mkwargs\u001b[0m\u001b[0;34m)\u001b[0m\u001b[0;34m\u001b[0m\u001b[0;34m\u001b[0m\u001b[0m\n\u001b[0m\u001b[1;32m   1811\u001b[0m \u001b[0;34m\u001b[0m\u001b[0m\n\u001b[1;32m   1812\u001b[0m         inner.__doc__ = _add_data_doc(inner.__doc__,\n",
            "\u001b[0;32m/usr/local/lib/python3.6/dist-packages/matplotlib/axes/_axes.py\u001b[0m in \u001b[0;36mbar\u001b[0;34m(self, x, height, width, bottom, align, **kwargs)\u001b[0m\n\u001b[1;32m   2339\u001b[0m             \u001b[0mymin\u001b[0m \u001b[0;34m=\u001b[0m \u001b[0mmax\u001b[0m\u001b[0;34m(\u001b[0m\u001b[0mymin\u001b[0m \u001b[0;34m*\u001b[0m \u001b[0;36m0.9\u001b[0m\u001b[0;34m,\u001b[0m \u001b[0;36m1e-100\u001b[0m\u001b[0;34m)\u001b[0m\u001b[0;34m\u001b[0m\u001b[0;34m\u001b[0m\u001b[0m\n\u001b[1;32m   2340\u001b[0m             \u001b[0mself\u001b[0m\u001b[0;34m.\u001b[0m\u001b[0mdataLim\u001b[0m\u001b[0;34m.\u001b[0m\u001b[0mintervaly\u001b[0m \u001b[0;34m=\u001b[0m \u001b[0;34m(\u001b[0m\u001b[0mymin\u001b[0m\u001b[0;34m,\u001b[0m \u001b[0mymax\u001b[0m\u001b[0;34m)\u001b[0m\u001b[0;34m\u001b[0m\u001b[0;34m\u001b[0m\u001b[0m\n\u001b[0;32m-> 2341\u001b[0;31m         \u001b[0mself\u001b[0m\u001b[0;34m.\u001b[0m\u001b[0mautoscale_view\u001b[0m\u001b[0;34m(\u001b[0m\u001b[0;34m)\u001b[0m\u001b[0;34m\u001b[0m\u001b[0;34m\u001b[0m\u001b[0m\n\u001b[0m\u001b[1;32m   2342\u001b[0m \u001b[0;34m\u001b[0m\u001b[0m\n\u001b[1;32m   2343\u001b[0m         \u001b[0mbar_container\u001b[0m \u001b[0;34m=\u001b[0m \u001b[0mBarContainer\u001b[0m\u001b[0;34m(\u001b[0m\u001b[0mpatches\u001b[0m\u001b[0;34m,\u001b[0m \u001b[0merrorbar\u001b[0m\u001b[0;34m,\u001b[0m \u001b[0mlabel\u001b[0m\u001b[0;34m=\u001b[0m\u001b[0mlabel\u001b[0m\u001b[0;34m)\u001b[0m\u001b[0;34m\u001b[0m\u001b[0;34m\u001b[0m\u001b[0m\n",
            "\u001b[0;32m/usr/local/lib/python3.6/dist-packages/matplotlib/axes/_base.py\u001b[0m in \u001b[0;36mautoscale_view\u001b[0;34m(self, tight, scalex, scaley)\u001b[0m\n\u001b[1;32m   2426\u001b[0m             \u001b[0mstickies\u001b[0m \u001b[0;34m=\u001b[0m \u001b[0;34m[\u001b[0m\u001b[0martist\u001b[0m\u001b[0;34m.\u001b[0m\u001b[0msticky_edges\u001b[0m \u001b[0;32mfor\u001b[0m \u001b[0martist\u001b[0m \u001b[0;32min\u001b[0m \u001b[0mself\u001b[0m\u001b[0;34m.\u001b[0m\u001b[0mget_children\u001b[0m\u001b[0;34m(\u001b[0m\u001b[0;34m)\u001b[0m\u001b[0;34m]\u001b[0m\u001b[0;34m\u001b[0m\u001b[0;34m\u001b[0m\u001b[0m\n\u001b[1;32m   2427\u001b[0m             \u001b[0mx_stickies\u001b[0m \u001b[0;34m=\u001b[0m \u001b[0msum\u001b[0m\u001b[0;34m(\u001b[0m\u001b[0;34m[\u001b[0m\u001b[0msticky\u001b[0m\u001b[0;34m.\u001b[0m\u001b[0mx\u001b[0m \u001b[0;32mfor\u001b[0m \u001b[0msticky\u001b[0m \u001b[0;32min\u001b[0m \u001b[0mstickies\u001b[0m\u001b[0;34m]\u001b[0m\u001b[0;34m,\u001b[0m \u001b[0;34m[\u001b[0m\u001b[0;34m]\u001b[0m\u001b[0;34m)\u001b[0m\u001b[0;34m\u001b[0m\u001b[0;34m\u001b[0m\u001b[0m\n\u001b[0;32m-> 2428\u001b[0;31m             \u001b[0my_stickies\u001b[0m \u001b[0;34m=\u001b[0m \u001b[0msum\u001b[0m\u001b[0;34m(\u001b[0m\u001b[0;34m[\u001b[0m\u001b[0msticky\u001b[0m\u001b[0;34m.\u001b[0m\u001b[0my\u001b[0m \u001b[0;32mfor\u001b[0m \u001b[0msticky\u001b[0m \u001b[0;32min\u001b[0m \u001b[0mstickies\u001b[0m\u001b[0;34m]\u001b[0m\u001b[0;34m,\u001b[0m \u001b[0;34m[\u001b[0m\u001b[0;34m]\u001b[0m\u001b[0;34m)\u001b[0m\u001b[0;34m\u001b[0m\u001b[0;34m\u001b[0m\u001b[0m\n\u001b[0m\u001b[1;32m   2429\u001b[0m             \u001b[0;32mif\u001b[0m \u001b[0mself\u001b[0m\u001b[0;34m.\u001b[0m\u001b[0mget_xscale\u001b[0m\u001b[0;34m(\u001b[0m\u001b[0;34m)\u001b[0m\u001b[0;34m.\u001b[0m\u001b[0mlower\u001b[0m\u001b[0;34m(\u001b[0m\u001b[0;34m)\u001b[0m \u001b[0;34m==\u001b[0m \u001b[0;34m'log'\u001b[0m\u001b[0;34m:\u001b[0m\u001b[0;34m\u001b[0m\u001b[0;34m\u001b[0m\u001b[0m\n\u001b[1;32m   2430\u001b[0m                 \u001b[0mx_stickies\u001b[0m \u001b[0;34m=\u001b[0m \u001b[0;34m[\u001b[0m\u001b[0mxs\u001b[0m \u001b[0;32mfor\u001b[0m \u001b[0mxs\u001b[0m \u001b[0;32min\u001b[0m \u001b[0mx_stickies\u001b[0m \u001b[0;32mif\u001b[0m \u001b[0mxs\u001b[0m \u001b[0;34m>\u001b[0m \u001b[0;36m0\u001b[0m\u001b[0;34m]\u001b[0m\u001b[0;34m\u001b[0m\u001b[0;34m\u001b[0m\u001b[0m\n",
            "\u001b[0;31mKeyboardInterrupt\u001b[0m: "
          ]
        },
        {
          "output_type": "stream",
          "text": [
            "Error in callback <function flush_figures at 0x7f6aaf0cb400> (for post_execute):\n"
          ],
          "name": "stdout"
        },
        {
          "output_type": "error",
          "ename": "KeyboardInterrupt",
          "evalue": "ignored",
          "traceback": [
            "\u001b[0;31m---------------------------------------------------------------------------\u001b[0m",
            "\u001b[0;31mKeyboardInterrupt\u001b[0m                         Traceback (most recent call last)",
            "\u001b[0;32m/usr/local/lib/python3.6/dist-packages/ipykernel/pylab/backend_inline.py\u001b[0m in \u001b[0;36mflush_figures\u001b[0;34m()\u001b[0m\n\u001b[1;32m    111\u001b[0m         \u001b[0;31m# ignore the tracking, just draw and close all figures\u001b[0m\u001b[0;34m\u001b[0m\u001b[0;34m\u001b[0m\u001b[0;34m\u001b[0m\u001b[0m\n\u001b[1;32m    112\u001b[0m         \u001b[0;32mtry\u001b[0m\u001b[0;34m:\u001b[0m\u001b[0;34m\u001b[0m\u001b[0;34m\u001b[0m\u001b[0m\n\u001b[0;32m--> 113\u001b[0;31m             \u001b[0;32mreturn\u001b[0m \u001b[0mshow\u001b[0m\u001b[0;34m(\u001b[0m\u001b[0;32mTrue\u001b[0m\u001b[0;34m)\u001b[0m\u001b[0;34m\u001b[0m\u001b[0;34m\u001b[0m\u001b[0m\n\u001b[0m\u001b[1;32m    114\u001b[0m         \u001b[0;32mexcept\u001b[0m \u001b[0mException\u001b[0m \u001b[0;32mas\u001b[0m \u001b[0me\u001b[0m\u001b[0;34m:\u001b[0m\u001b[0;34m\u001b[0m\u001b[0;34m\u001b[0m\u001b[0m\n\u001b[1;32m    115\u001b[0m             \u001b[0;31m# safely show traceback if in IPython, else raise\u001b[0m\u001b[0;34m\u001b[0m\u001b[0;34m\u001b[0m\u001b[0;34m\u001b[0m\u001b[0m\n",
            "\u001b[0;32m/usr/local/lib/python3.6/dist-packages/ipykernel/pylab/backend_inline.py\u001b[0m in \u001b[0;36mshow\u001b[0;34m(close, block)\u001b[0m\n\u001b[1;32m     34\u001b[0m     \u001b[0;32mtry\u001b[0m\u001b[0;34m:\u001b[0m\u001b[0;34m\u001b[0m\u001b[0;34m\u001b[0m\u001b[0m\n\u001b[1;32m     35\u001b[0m         \u001b[0;32mfor\u001b[0m \u001b[0mfigure_manager\u001b[0m \u001b[0;32min\u001b[0m \u001b[0mGcf\u001b[0m\u001b[0;34m.\u001b[0m\u001b[0mget_all_fig_managers\u001b[0m\u001b[0;34m(\u001b[0m\u001b[0;34m)\u001b[0m\u001b[0;34m:\u001b[0m\u001b[0;34m\u001b[0m\u001b[0;34m\u001b[0m\u001b[0m\n\u001b[0;32m---> 36\u001b[0;31m             \u001b[0mdisplay\u001b[0m\u001b[0;34m(\u001b[0m\u001b[0mfigure_manager\u001b[0m\u001b[0;34m.\u001b[0m\u001b[0mcanvas\u001b[0m\u001b[0;34m.\u001b[0m\u001b[0mfigure\u001b[0m\u001b[0;34m)\u001b[0m\u001b[0;34m\u001b[0m\u001b[0;34m\u001b[0m\u001b[0m\n\u001b[0m\u001b[1;32m     37\u001b[0m     \u001b[0;32mfinally\u001b[0m\u001b[0;34m:\u001b[0m\u001b[0;34m\u001b[0m\u001b[0;34m\u001b[0m\u001b[0m\n\u001b[1;32m     38\u001b[0m         \u001b[0mshow\u001b[0m\u001b[0;34m.\u001b[0m\u001b[0m_to_draw\u001b[0m \u001b[0;34m=\u001b[0m \u001b[0;34m[\u001b[0m\u001b[0;34m]\u001b[0m\u001b[0;34m\u001b[0m\u001b[0;34m\u001b[0m\u001b[0m\n",
            "\u001b[0;32m/usr/local/lib/python3.6/dist-packages/IPython/core/display.py\u001b[0m in \u001b[0;36mdisplay\u001b[0;34m(*objs, **kwargs)\u001b[0m\n\u001b[1;32m    304\u001b[0m             \u001b[0mpublish_display_data\u001b[0m\u001b[0;34m(\u001b[0m\u001b[0mdata\u001b[0m\u001b[0;34m=\u001b[0m\u001b[0mobj\u001b[0m\u001b[0;34m,\u001b[0m \u001b[0mmetadata\u001b[0m\u001b[0;34m=\u001b[0m\u001b[0mmetadata\u001b[0m\u001b[0;34m,\u001b[0m \u001b[0;34m**\u001b[0m\u001b[0mkwargs\u001b[0m\u001b[0;34m)\u001b[0m\u001b[0;34m\u001b[0m\u001b[0;34m\u001b[0m\u001b[0m\n\u001b[1;32m    305\u001b[0m         \u001b[0;32melse\u001b[0m\u001b[0;34m:\u001b[0m\u001b[0;34m\u001b[0m\u001b[0;34m\u001b[0m\u001b[0m\n\u001b[0;32m--> 306\u001b[0;31m             \u001b[0mformat_dict\u001b[0m\u001b[0;34m,\u001b[0m \u001b[0mmd_dict\u001b[0m \u001b[0;34m=\u001b[0m \u001b[0mformat\u001b[0m\u001b[0;34m(\u001b[0m\u001b[0mobj\u001b[0m\u001b[0;34m,\u001b[0m \u001b[0minclude\u001b[0m\u001b[0;34m=\u001b[0m\u001b[0minclude\u001b[0m\u001b[0;34m,\u001b[0m \u001b[0mexclude\u001b[0m\u001b[0;34m=\u001b[0m\u001b[0mexclude\u001b[0m\u001b[0;34m)\u001b[0m\u001b[0;34m\u001b[0m\u001b[0;34m\u001b[0m\u001b[0m\n\u001b[0m\u001b[1;32m    307\u001b[0m             \u001b[0;32mif\u001b[0m \u001b[0;32mnot\u001b[0m \u001b[0mformat_dict\u001b[0m\u001b[0;34m:\u001b[0m\u001b[0;34m\u001b[0m\u001b[0;34m\u001b[0m\u001b[0m\n\u001b[1;32m    308\u001b[0m                 \u001b[0;31m# nothing to display (e.g. _ipython_display_ took over)\u001b[0m\u001b[0;34m\u001b[0m\u001b[0;34m\u001b[0m\u001b[0;34m\u001b[0m\u001b[0m\n",
            "\u001b[0;32m/usr/local/lib/python3.6/dist-packages/IPython/core/formatters.py\u001b[0m in \u001b[0;36mformat\u001b[0;34m(self, obj, include, exclude)\u001b[0m\n\u001b[1;32m    171\u001b[0m             \u001b[0mmd\u001b[0m \u001b[0;34m=\u001b[0m \u001b[0;32mNone\u001b[0m\u001b[0;34m\u001b[0m\u001b[0;34m\u001b[0m\u001b[0m\n\u001b[1;32m    172\u001b[0m             \u001b[0;32mtry\u001b[0m\u001b[0;34m:\u001b[0m\u001b[0;34m\u001b[0m\u001b[0;34m\u001b[0m\u001b[0m\n\u001b[0;32m--> 173\u001b[0;31m                 \u001b[0mdata\u001b[0m \u001b[0;34m=\u001b[0m \u001b[0mformatter\u001b[0m\u001b[0;34m(\u001b[0m\u001b[0mobj\u001b[0m\u001b[0;34m)\u001b[0m\u001b[0;34m\u001b[0m\u001b[0;34m\u001b[0m\u001b[0m\n\u001b[0m\u001b[1;32m    174\u001b[0m             \u001b[0;32mexcept\u001b[0m\u001b[0;34m:\u001b[0m\u001b[0;34m\u001b[0m\u001b[0;34m\u001b[0m\u001b[0m\n\u001b[1;32m    175\u001b[0m                 \u001b[0;31m# FIXME: log the exception\u001b[0m\u001b[0;34m\u001b[0m\u001b[0;34m\u001b[0m\u001b[0;34m\u001b[0m\u001b[0m\n",
            "\u001b[0;32m</usr/local/lib/python3.6/dist-packages/decorator.py:decorator-gen-9>\u001b[0m in \u001b[0;36m__call__\u001b[0;34m(self, obj)\u001b[0m\n",
            "\u001b[0;32m/usr/local/lib/python3.6/dist-packages/IPython/core/formatters.py\u001b[0m in \u001b[0;36mcatch_format_error\u001b[0;34m(method, self, *args, **kwargs)\u001b[0m\n\u001b[1;32m    215\u001b[0m     \u001b[0;34m\"\"\"show traceback on failed format call\"\"\"\u001b[0m\u001b[0;34m\u001b[0m\u001b[0;34m\u001b[0m\u001b[0m\n\u001b[1;32m    216\u001b[0m     \u001b[0;32mtry\u001b[0m\u001b[0;34m:\u001b[0m\u001b[0;34m\u001b[0m\u001b[0;34m\u001b[0m\u001b[0m\n\u001b[0;32m--> 217\u001b[0;31m         \u001b[0mr\u001b[0m \u001b[0;34m=\u001b[0m \u001b[0mmethod\u001b[0m\u001b[0;34m(\u001b[0m\u001b[0mself\u001b[0m\u001b[0;34m,\u001b[0m \u001b[0;34m*\u001b[0m\u001b[0margs\u001b[0m\u001b[0;34m,\u001b[0m \u001b[0;34m**\u001b[0m\u001b[0mkwargs\u001b[0m\u001b[0;34m)\u001b[0m\u001b[0;34m\u001b[0m\u001b[0;34m\u001b[0m\u001b[0m\n\u001b[0m\u001b[1;32m    218\u001b[0m     \u001b[0;32mexcept\u001b[0m \u001b[0mNotImplementedError\u001b[0m\u001b[0;34m:\u001b[0m\u001b[0;34m\u001b[0m\u001b[0;34m\u001b[0m\u001b[0m\n\u001b[1;32m    219\u001b[0m         \u001b[0;31m# don't warn on NotImplementedErrors\u001b[0m\u001b[0;34m\u001b[0m\u001b[0;34m\u001b[0m\u001b[0;34m\u001b[0m\u001b[0m\n",
            "\u001b[0;32m/usr/local/lib/python3.6/dist-packages/IPython/core/formatters.py\u001b[0m in \u001b[0;36m__call__\u001b[0;34m(self, obj)\u001b[0m\n\u001b[1;32m    332\u001b[0m                 \u001b[0;32mpass\u001b[0m\u001b[0;34m\u001b[0m\u001b[0;34m\u001b[0m\u001b[0m\n\u001b[1;32m    333\u001b[0m             \u001b[0;32melse\u001b[0m\u001b[0;34m:\u001b[0m\u001b[0;34m\u001b[0m\u001b[0;34m\u001b[0m\u001b[0m\n\u001b[0;32m--> 334\u001b[0;31m                 \u001b[0;32mreturn\u001b[0m \u001b[0mprinter\u001b[0m\u001b[0;34m(\u001b[0m\u001b[0mobj\u001b[0m\u001b[0;34m)\u001b[0m\u001b[0;34m\u001b[0m\u001b[0;34m\u001b[0m\u001b[0m\n\u001b[0m\u001b[1;32m    335\u001b[0m             \u001b[0;31m# Finally look for special method names\u001b[0m\u001b[0;34m\u001b[0m\u001b[0;34m\u001b[0m\u001b[0;34m\u001b[0m\u001b[0m\n\u001b[1;32m    336\u001b[0m             \u001b[0mmethod\u001b[0m \u001b[0;34m=\u001b[0m \u001b[0mget_real_method\u001b[0m\u001b[0;34m(\u001b[0m\u001b[0mobj\u001b[0m\u001b[0;34m,\u001b[0m \u001b[0mself\u001b[0m\u001b[0;34m.\u001b[0m\u001b[0mprint_method\u001b[0m\u001b[0;34m)\u001b[0m\u001b[0;34m\u001b[0m\u001b[0;34m\u001b[0m\u001b[0m\n",
            "\u001b[0;32m/usr/local/lib/python3.6/dist-packages/IPython/core/pylabtools.py\u001b[0m in \u001b[0;36m<lambda>\u001b[0;34m(fig)\u001b[0m\n\u001b[1;32m    239\u001b[0m \u001b[0;34m\u001b[0m\u001b[0m\n\u001b[1;32m    240\u001b[0m     \u001b[0;32mif\u001b[0m \u001b[0;34m'png'\u001b[0m \u001b[0;32min\u001b[0m \u001b[0mformats\u001b[0m\u001b[0;34m:\u001b[0m\u001b[0;34m\u001b[0m\u001b[0;34m\u001b[0m\u001b[0m\n\u001b[0;32m--> 241\u001b[0;31m         \u001b[0mpng_formatter\u001b[0m\u001b[0;34m.\u001b[0m\u001b[0mfor_type\u001b[0m\u001b[0;34m(\u001b[0m\u001b[0mFigure\u001b[0m\u001b[0;34m,\u001b[0m \u001b[0;32mlambda\u001b[0m \u001b[0mfig\u001b[0m\u001b[0;34m:\u001b[0m \u001b[0mprint_figure\u001b[0m\u001b[0;34m(\u001b[0m\u001b[0mfig\u001b[0m\u001b[0;34m,\u001b[0m \u001b[0;34m'png'\u001b[0m\u001b[0;34m,\u001b[0m \u001b[0;34m**\u001b[0m\u001b[0mkwargs\u001b[0m\u001b[0;34m)\u001b[0m\u001b[0;34m)\u001b[0m\u001b[0;34m\u001b[0m\u001b[0;34m\u001b[0m\u001b[0m\n\u001b[0m\u001b[1;32m    242\u001b[0m     \u001b[0;32mif\u001b[0m \u001b[0;34m'retina'\u001b[0m \u001b[0;32min\u001b[0m \u001b[0mformats\u001b[0m \u001b[0;32mor\u001b[0m \u001b[0;34m'png2x'\u001b[0m \u001b[0;32min\u001b[0m \u001b[0mformats\u001b[0m\u001b[0;34m:\u001b[0m\u001b[0;34m\u001b[0m\u001b[0;34m\u001b[0m\u001b[0m\n\u001b[1;32m    243\u001b[0m         \u001b[0mpng_formatter\u001b[0m\u001b[0;34m.\u001b[0m\u001b[0mfor_type\u001b[0m\u001b[0;34m(\u001b[0m\u001b[0mFigure\u001b[0m\u001b[0;34m,\u001b[0m \u001b[0;32mlambda\u001b[0m \u001b[0mfig\u001b[0m\u001b[0;34m:\u001b[0m \u001b[0mretina_figure\u001b[0m\u001b[0;34m(\u001b[0m\u001b[0mfig\u001b[0m\u001b[0;34m,\u001b[0m \u001b[0;34m**\u001b[0m\u001b[0mkwargs\u001b[0m\u001b[0;34m)\u001b[0m\u001b[0;34m)\u001b[0m\u001b[0;34m\u001b[0m\u001b[0;34m\u001b[0m\u001b[0m\n",
            "\u001b[0;32m/usr/local/lib/python3.6/dist-packages/IPython/core/pylabtools.py\u001b[0m in \u001b[0;36mprint_figure\u001b[0;34m(fig, fmt, bbox_inches, **kwargs)\u001b[0m\n\u001b[1;32m    123\u001b[0m \u001b[0;34m\u001b[0m\u001b[0m\n\u001b[1;32m    124\u001b[0m     \u001b[0mbytes_io\u001b[0m \u001b[0;34m=\u001b[0m \u001b[0mBytesIO\u001b[0m\u001b[0;34m(\u001b[0m\u001b[0;34m)\u001b[0m\u001b[0;34m\u001b[0m\u001b[0;34m\u001b[0m\u001b[0m\n\u001b[0;32m--> 125\u001b[0;31m     \u001b[0mfig\u001b[0m\u001b[0;34m.\u001b[0m\u001b[0mcanvas\u001b[0m\u001b[0;34m.\u001b[0m\u001b[0mprint_figure\u001b[0m\u001b[0;34m(\u001b[0m\u001b[0mbytes_io\u001b[0m\u001b[0;34m,\u001b[0m \u001b[0;34m**\u001b[0m\u001b[0mkw\u001b[0m\u001b[0;34m)\u001b[0m\u001b[0;34m\u001b[0m\u001b[0;34m\u001b[0m\u001b[0m\n\u001b[0m\u001b[1;32m    126\u001b[0m     \u001b[0mdata\u001b[0m \u001b[0;34m=\u001b[0m \u001b[0mbytes_io\u001b[0m\u001b[0;34m.\u001b[0m\u001b[0mgetvalue\u001b[0m\u001b[0;34m(\u001b[0m\u001b[0;34m)\u001b[0m\u001b[0;34m\u001b[0m\u001b[0;34m\u001b[0m\u001b[0m\n\u001b[1;32m    127\u001b[0m     \u001b[0;32mif\u001b[0m \u001b[0mfmt\u001b[0m \u001b[0;34m==\u001b[0m \u001b[0;34m'svg'\u001b[0m\u001b[0;34m:\u001b[0m\u001b[0;34m\u001b[0m\u001b[0;34m\u001b[0m\u001b[0m\n",
            "\u001b[0;32m/usr/local/lib/python3.6/dist-packages/matplotlib/backend_bases.py\u001b[0m in \u001b[0;36mprint_figure\u001b[0;34m(self, filename, dpi, facecolor, edgecolor, orientation, format, bbox_inches, **kwargs)\u001b[0m\n\u001b[1;32m   2051\u001b[0m                     \u001b[0mbbox_artists\u001b[0m \u001b[0;34m=\u001b[0m \u001b[0mkwargs\u001b[0m\u001b[0;34m.\u001b[0m\u001b[0mpop\u001b[0m\u001b[0;34m(\u001b[0m\u001b[0;34m\"bbox_extra_artists\"\u001b[0m\u001b[0;34m,\u001b[0m \u001b[0;32mNone\u001b[0m\u001b[0;34m)\u001b[0m\u001b[0;34m\u001b[0m\u001b[0;34m\u001b[0m\u001b[0m\n\u001b[1;32m   2052\u001b[0m                     bbox_inches = self.figure.get_tightbbox(renderer,\n\u001b[0;32m-> 2053\u001b[0;31m                             bbox_extra_artists=bbox_artists)\n\u001b[0m\u001b[1;32m   2054\u001b[0m                     \u001b[0mpad\u001b[0m \u001b[0;34m=\u001b[0m \u001b[0mkwargs\u001b[0m\u001b[0;34m.\u001b[0m\u001b[0mpop\u001b[0m\u001b[0;34m(\u001b[0m\u001b[0;34m\"pad_inches\"\u001b[0m\u001b[0;34m,\u001b[0m \u001b[0;32mNone\u001b[0m\u001b[0;34m)\u001b[0m\u001b[0;34m\u001b[0m\u001b[0;34m\u001b[0m\u001b[0m\n\u001b[1;32m   2055\u001b[0m                     \u001b[0;32mif\u001b[0m \u001b[0mpad\u001b[0m \u001b[0;32mis\u001b[0m \u001b[0;32mNone\u001b[0m\u001b[0;34m:\u001b[0m\u001b[0;34m\u001b[0m\u001b[0;34m\u001b[0m\u001b[0m\n",
            "\u001b[0;32m/usr/local/lib/python3.6/dist-packages/matplotlib/figure.py\u001b[0m in \u001b[0;36mget_tightbbox\u001b[0;34m(self, renderer, bbox_extra_artists)\u001b[0m\n\u001b[1;32m   2268\u001b[0m \u001b[0;34m\u001b[0m\u001b[0m\n\u001b[1;32m   2269\u001b[0m         \u001b[0;32mfor\u001b[0m \u001b[0ma\u001b[0m \u001b[0;32min\u001b[0m \u001b[0martists\u001b[0m\u001b[0;34m:\u001b[0m\u001b[0;34m\u001b[0m\u001b[0;34m\u001b[0m\u001b[0m\n\u001b[0;32m-> 2270\u001b[0;31m             \u001b[0mbbox\u001b[0m \u001b[0;34m=\u001b[0m \u001b[0ma\u001b[0m\u001b[0;34m.\u001b[0m\u001b[0mget_tightbbox\u001b[0m\u001b[0;34m(\u001b[0m\u001b[0mrenderer\u001b[0m\u001b[0;34m)\u001b[0m\u001b[0;34m\u001b[0m\u001b[0;34m\u001b[0m\u001b[0m\n\u001b[0m\u001b[1;32m   2271\u001b[0m             \u001b[0;32mif\u001b[0m \u001b[0mbbox\u001b[0m \u001b[0;32mis\u001b[0m \u001b[0;32mnot\u001b[0m \u001b[0;32mNone\u001b[0m \u001b[0;32mand\u001b[0m \u001b[0;34m(\u001b[0m\u001b[0mbbox\u001b[0m\u001b[0;34m.\u001b[0m\u001b[0mwidth\u001b[0m \u001b[0;34m!=\u001b[0m \u001b[0;36m0\u001b[0m \u001b[0;32mor\u001b[0m \u001b[0mbbox\u001b[0m\u001b[0;34m.\u001b[0m\u001b[0mheight\u001b[0m \u001b[0;34m!=\u001b[0m \u001b[0;36m0\u001b[0m\u001b[0;34m)\u001b[0m\u001b[0;34m:\u001b[0m\u001b[0;34m\u001b[0m\u001b[0;34m\u001b[0m\u001b[0m\n\u001b[1;32m   2272\u001b[0m                 \u001b[0mbb\u001b[0m\u001b[0;34m.\u001b[0m\u001b[0mappend\u001b[0m\u001b[0;34m(\u001b[0m\u001b[0mbbox\u001b[0m\u001b[0;34m)\u001b[0m\u001b[0;34m\u001b[0m\u001b[0;34m\u001b[0m\u001b[0m\n",
            "\u001b[0;32m/usr/local/lib/python3.6/dist-packages/matplotlib/axes/_base.py\u001b[0m in \u001b[0;36mget_tightbbox\u001b[0;34m(self, renderer, call_axes_locator, bbox_extra_artists)\u001b[0m\n\u001b[1;32m   4394\u001b[0m \u001b[0;34m\u001b[0m\u001b[0m\n\u001b[1;32m   4395\u001b[0m         \u001b[0;32mfor\u001b[0m \u001b[0ma\u001b[0m \u001b[0;32min\u001b[0m \u001b[0mbbox_artists\u001b[0m\u001b[0;34m:\u001b[0m\u001b[0;34m\u001b[0m\u001b[0;34m\u001b[0m\u001b[0m\n\u001b[0;32m-> 4396\u001b[0;31m             \u001b[0mbbox\u001b[0m \u001b[0;34m=\u001b[0m \u001b[0ma\u001b[0m\u001b[0;34m.\u001b[0m\u001b[0mget_tightbbox\u001b[0m\u001b[0;34m(\u001b[0m\u001b[0mrenderer\u001b[0m\u001b[0;34m)\u001b[0m\u001b[0;34m\u001b[0m\u001b[0;34m\u001b[0m\u001b[0m\n\u001b[0m\u001b[1;32m   4397\u001b[0m             if (bbox is not None and\n\u001b[1;32m   4398\u001b[0m                     \u001b[0;34m(\u001b[0m\u001b[0mbbox\u001b[0m\u001b[0;34m.\u001b[0m\u001b[0mwidth\u001b[0m \u001b[0;34m!=\u001b[0m \u001b[0;36m0\u001b[0m \u001b[0;32mor\u001b[0m \u001b[0mbbox\u001b[0m\u001b[0;34m.\u001b[0m\u001b[0mheight\u001b[0m \u001b[0;34m!=\u001b[0m \u001b[0;36m0\u001b[0m\u001b[0;34m)\u001b[0m \u001b[0;32mand\u001b[0m\u001b[0;34m\u001b[0m\u001b[0;34m\u001b[0m\u001b[0m\n",
            "\u001b[0;32m/usr/local/lib/python3.6/dist-packages/matplotlib/artist.py\u001b[0m in \u001b[0;36mget_tightbbox\u001b[0;34m(self, renderer)\u001b[0m\n\u001b[1;32m    273\u001b[0m             \u001b[0mclip_box\u001b[0m \u001b[0;34m=\u001b[0m \u001b[0mself\u001b[0m\u001b[0;34m.\u001b[0m\u001b[0mget_clip_box\u001b[0m\u001b[0;34m(\u001b[0m\u001b[0;34m)\u001b[0m\u001b[0;34m\u001b[0m\u001b[0;34m\u001b[0m\u001b[0m\n\u001b[1;32m    274\u001b[0m             \u001b[0;32mif\u001b[0m \u001b[0mclip_box\u001b[0m \u001b[0;32mis\u001b[0m \u001b[0;32mnot\u001b[0m \u001b[0;32mNone\u001b[0m\u001b[0;34m:\u001b[0m\u001b[0;34m\u001b[0m\u001b[0;34m\u001b[0m\u001b[0m\n\u001b[0;32m--> 275\u001b[0;31m                 \u001b[0mbbox\u001b[0m \u001b[0;34m=\u001b[0m \u001b[0mBbox\u001b[0m\u001b[0;34m.\u001b[0m\u001b[0mintersection\u001b[0m\u001b[0;34m(\u001b[0m\u001b[0mbbox\u001b[0m\u001b[0;34m,\u001b[0m \u001b[0mclip_box\u001b[0m\u001b[0;34m)\u001b[0m\u001b[0;34m\u001b[0m\u001b[0;34m\u001b[0m\u001b[0m\n\u001b[0m\u001b[1;32m    276\u001b[0m             \u001b[0mclip_path\u001b[0m \u001b[0;34m=\u001b[0m \u001b[0mself\u001b[0m\u001b[0;34m.\u001b[0m\u001b[0mget_clip_path\u001b[0m\u001b[0;34m(\u001b[0m\u001b[0;34m)\u001b[0m\u001b[0;34m\u001b[0m\u001b[0;34m\u001b[0m\u001b[0m\n\u001b[1;32m    277\u001b[0m             \u001b[0;32mif\u001b[0m \u001b[0mclip_path\u001b[0m \u001b[0;32mis\u001b[0m \u001b[0;32mnot\u001b[0m \u001b[0;32mNone\u001b[0m \u001b[0;32mand\u001b[0m \u001b[0mbbox\u001b[0m \u001b[0;32mis\u001b[0m \u001b[0;32mnot\u001b[0m \u001b[0;32mNone\u001b[0m\u001b[0;34m:\u001b[0m\u001b[0;34m\u001b[0m\u001b[0;34m\u001b[0m\u001b[0m\n",
            "\u001b[0;32m/usr/local/lib/python3.6/dist-packages/matplotlib/transforms.py\u001b[0m in \u001b[0;36mintersection\u001b[0;34m(bbox1, bbox2)\u001b[0m\n\u001b[1;32m    746\u001b[0m         \u001b[0mx1\u001b[0m \u001b[0;34m=\u001b[0m \u001b[0mnp\u001b[0m\u001b[0;34m.\u001b[0m\u001b[0mminimum\u001b[0m\u001b[0;34m(\u001b[0m\u001b[0mbbox1\u001b[0m\u001b[0;34m.\u001b[0m\u001b[0mxmax\u001b[0m\u001b[0;34m,\u001b[0m \u001b[0mbbox2\u001b[0m\u001b[0;34m.\u001b[0m\u001b[0mxmax\u001b[0m\u001b[0;34m)\u001b[0m\u001b[0;34m\u001b[0m\u001b[0;34m\u001b[0m\u001b[0m\n\u001b[1;32m    747\u001b[0m         \u001b[0my0\u001b[0m \u001b[0;34m=\u001b[0m \u001b[0mnp\u001b[0m\u001b[0;34m.\u001b[0m\u001b[0mmaximum\u001b[0m\u001b[0;34m(\u001b[0m\u001b[0mbbox1\u001b[0m\u001b[0;34m.\u001b[0m\u001b[0mymin\u001b[0m\u001b[0;34m,\u001b[0m \u001b[0mbbox2\u001b[0m\u001b[0;34m.\u001b[0m\u001b[0mymin\u001b[0m\u001b[0;34m)\u001b[0m\u001b[0;34m\u001b[0m\u001b[0;34m\u001b[0m\u001b[0m\n\u001b[0;32m--> 748\u001b[0;31m         \u001b[0my1\u001b[0m \u001b[0;34m=\u001b[0m \u001b[0mnp\u001b[0m\u001b[0;34m.\u001b[0m\u001b[0mminimum\u001b[0m\u001b[0;34m(\u001b[0m\u001b[0mbbox1\u001b[0m\u001b[0;34m.\u001b[0m\u001b[0mymax\u001b[0m\u001b[0;34m,\u001b[0m \u001b[0mbbox2\u001b[0m\u001b[0;34m.\u001b[0m\u001b[0mymax\u001b[0m\u001b[0;34m)\u001b[0m\u001b[0;34m\u001b[0m\u001b[0;34m\u001b[0m\u001b[0m\n\u001b[0m\u001b[1;32m    749\u001b[0m         \u001b[0;32mreturn\u001b[0m \u001b[0mBbox\u001b[0m\u001b[0;34m(\u001b[0m\u001b[0;34m[\u001b[0m\u001b[0;34m[\u001b[0m\u001b[0mx0\u001b[0m\u001b[0;34m,\u001b[0m \u001b[0my0\u001b[0m\u001b[0;34m]\u001b[0m\u001b[0;34m,\u001b[0m \u001b[0;34m[\u001b[0m\u001b[0mx1\u001b[0m\u001b[0;34m,\u001b[0m \u001b[0my1\u001b[0m\u001b[0;34m]\u001b[0m\u001b[0;34m]\u001b[0m\u001b[0;34m)\u001b[0m \u001b[0;32mif\u001b[0m \u001b[0mx0\u001b[0m \u001b[0;34m<=\u001b[0m \u001b[0mx1\u001b[0m \u001b[0;32mand\u001b[0m \u001b[0my0\u001b[0m \u001b[0;34m<=\u001b[0m \u001b[0my1\u001b[0m \u001b[0;32melse\u001b[0m \u001b[0;32mNone\u001b[0m\u001b[0;34m\u001b[0m\u001b[0;34m\u001b[0m\u001b[0m\n\u001b[1;32m    750\u001b[0m \u001b[0;34m\u001b[0m\u001b[0m\n",
            "\u001b[0;32m/usr/local/lib/python3.6/dist-packages/matplotlib/transforms.py\u001b[0m in \u001b[0;36mymax\u001b[0;34m(self)\u001b[0m\n\u001b[1;32m    360\u001b[0m         \u001b[0;34m:\u001b[0m\u001b[0mattr\u001b[0m\u001b[0;34m:\u001b[0m\u001b[0;31m`\u001b[0m\u001b[0mymax\u001b[0m\u001b[0;31m`\u001b[0m \u001b[0;32mis\u001b[0m \u001b[0mthe\u001b[0m \u001b[0mtop\u001b[0m \u001b[0medge\u001b[0m \u001b[0mof\u001b[0m \u001b[0mthe\u001b[0m \u001b[0mbounding\u001b[0m \u001b[0mbox\u001b[0m\u001b[0;34m.\u001b[0m\u001b[0;34m\u001b[0m\u001b[0;34m\u001b[0m\u001b[0m\n\u001b[1;32m    361\u001b[0m         \"\"\"\n\u001b[0;32m--> 362\u001b[0;31m         \u001b[0;32mreturn\u001b[0m \u001b[0mnp\u001b[0m\u001b[0;34m.\u001b[0m\u001b[0mmax\u001b[0m\u001b[0;34m(\u001b[0m\u001b[0mself\u001b[0m\u001b[0;34m.\u001b[0m\u001b[0mget_points\u001b[0m\u001b[0;34m(\u001b[0m\u001b[0;34m)\u001b[0m\u001b[0;34m[\u001b[0m\u001b[0;34m:\u001b[0m\u001b[0;34m,\u001b[0m \u001b[0;36m1\u001b[0m\u001b[0;34m]\u001b[0m\u001b[0;34m)\u001b[0m\u001b[0;34m\u001b[0m\u001b[0;34m\u001b[0m\u001b[0m\n\u001b[0m\u001b[1;32m    363\u001b[0m \u001b[0;34m\u001b[0m\u001b[0m\n\u001b[1;32m    364\u001b[0m     \u001b[0;34m@\u001b[0m\u001b[0mproperty\u001b[0m\u001b[0;34m\u001b[0m\u001b[0;34m\u001b[0m\u001b[0m\n",
            "\u001b[0;32m/usr/local/lib/python3.6/dist-packages/numpy/core/fromnumeric.py\u001b[0m in \u001b[0;36mamax\u001b[0;34m(a, axis, out, keepdims, initial)\u001b[0m\n\u001b[1;32m   2503\u001b[0m     \"\"\"\n\u001b[1;32m   2504\u001b[0m     return _wrapreduction(a, np.maximum, 'max', axis, None, out, keepdims=keepdims,\n\u001b[0;32m-> 2505\u001b[0;31m                           initial=initial)\n\u001b[0m\u001b[1;32m   2506\u001b[0m \u001b[0;34m\u001b[0m\u001b[0m\n\u001b[1;32m   2507\u001b[0m \u001b[0;34m\u001b[0m\u001b[0m\n",
            "\u001b[0;32m/usr/local/lib/python3.6/dist-packages/numpy/core/fromnumeric.py\u001b[0m in \u001b[0;36m_wrapreduction\u001b[0;34m(obj, ufunc, method, axis, dtype, out, **kwargs)\u001b[0m\n\u001b[1;32m     67\u001b[0m \u001b[0;34m\u001b[0m\u001b[0m\n\u001b[1;32m     68\u001b[0m \u001b[0;34m\u001b[0m\u001b[0m\n\u001b[0;32m---> 69\u001b[0;31m \u001b[0;32mdef\u001b[0m \u001b[0m_wrapreduction\u001b[0m\u001b[0;34m(\u001b[0m\u001b[0mobj\u001b[0m\u001b[0;34m,\u001b[0m \u001b[0mufunc\u001b[0m\u001b[0;34m,\u001b[0m \u001b[0mmethod\u001b[0m\u001b[0;34m,\u001b[0m \u001b[0maxis\u001b[0m\u001b[0;34m,\u001b[0m \u001b[0mdtype\u001b[0m\u001b[0;34m,\u001b[0m \u001b[0mout\u001b[0m\u001b[0;34m,\u001b[0m \u001b[0;34m**\u001b[0m\u001b[0mkwargs\u001b[0m\u001b[0;34m)\u001b[0m\u001b[0;34m:\u001b[0m\u001b[0;34m\u001b[0m\u001b[0;34m\u001b[0m\u001b[0m\n\u001b[0m\u001b[1;32m     70\u001b[0m     passkwargs = {k: v for k, v in kwargs.items()\n\u001b[1;32m     71\u001b[0m                   if v is not np._NoValue}\n",
            "\u001b[0;31mKeyboardInterrupt\u001b[0m: "
          ]
        }
      ]
    },
    {
      "cell_type": "code",
      "metadata": {
        "id": "pTjfuF9BPe6m",
        "colab_type": "code",
        "outputId": "3c6b4a90-b77b-4254-be2f-58781d170dce",
        "colab": {
          "base_uri": "https://localhost:8080/",
          "height": 12591
        }
      },
      "source": [
        "# Boxplot\n",
        "for col in df.columns:\n",
        "    sns.boxplot(df[col])\n",
        "    plt.xlabel(col)\n",
        "    fig=plt.gcf()\n",
        "    fig.set_size_inches(8,8)\n",
        "    plt.show()"
      ],
      "execution_count": 0,
      "outputs": [
        {
          "output_type": "display_data",
          "data": {
            "image/png": "[encoded data removed]",
            "text/plain": [
              "<Figure size 576x576 with 1 Axes>"
            ]
          },
          "metadata": {
            "tags": []
          }
        },
        {
          "output_type": "display_data",
          "data": {
            "image/png": "[encoded data removed]",
            "text/plain": [
              "<Figure size 576x576 with 1 Axes>"
            ]
          },
          "metadata": {
            "tags": []
          }
        },
        {
          "output_type": "display_data",
          "data": {
            "image/png": "[encoded data removed]",
            "text/plain": [
              "<Figure size 576x576 with 1 Axes>"
            ]
          },
          "metadata": {
            "tags": []
          }
        },
        {
          "output_type": "display_data",
          "data": {
            "image/png": "[encoded data removed]",
            "text/plain": [
              "<Figure size 576x576 with 1 Axes>"
            ]
          },
          "metadata": {
            "tags": []
          }
        },
        {
          "output_type": "display_data",
          "data": {
            "image/png": "[encoded data removed]",
            "text/plain": [
              "<Figure size 576x576 with 1 Axes>"
            ]
          },
          "metadata": {
            "tags": []
          }
        },
        {
          "output_type": "display_data",
          "data": {
            "image/png": "[encoded data removed]",
            "text/plain": [
              "<Figure size 576x576 with 1 Axes>"
            ]
          },
          "metadata": {
            "tags": []
          }
        },
        {
          "output_type": "display_data",
          "data": {
            "image/png": "[encoded data removed]",
            "text/plain": [
              "<Figure size 576x576 with 1 Axes>"
            ]
          },
          "metadata": {
            "tags": []
          }
        },
        {
          "output_type": "display_data",
          "data": {
            "image/png": "[encoded data removed]",
            "text/plain": [
              "<Figure size 576x576 with 1 Axes>"
            ]
          },
          "metadata": {
            "tags": []
          }
        },
        {
          "output_type": "display_data",
          "data": {
            "image/png": "[encoded data removed]",
            "text/plain": [
              "<Figure size 576x576 with 1 Axes>"
            ]
          },
          "metadata": {
            "tags": []
          }
        },
        {
          "output_type": "display_data",
          "data": {
            "image/png": "[encoded data removed]",
            "text/plain": [
              "<Figure size 576x576 with 1 Axes>"
            ]
          },
          "metadata": {
            "tags": []
          }
        },
        {
          "output_type": "display_data",
          "data": {
            "image/png": "[encoded data removed]",
            "text/plain": [
              "<Figure size 576x576 with 1 Axes>"
            ]
          },
          "metadata": {
            "tags": []
          }
        },
        {
          "output_type": "display_data",
          "data": {
            "image/png": "[encoded data removed]",
            "text/plain": [
              "<Figure size 576x576 with 1 Axes>"
            ]
          },
          "metadata": {
            "tags": []
          }
        },
        {
          "output_type": "display_data",
          "data": {
            "image/png": "[encoded data removed]",
            "text/plain": [
              "<Figure size 576x576 with 1 Axes>"
            ]
          },
          "metadata": {
            "tags": []
          }
        },
        {
          "output_type": "display_data",
          "data": {
            "image/png": "[encoded data removed]",
            "text/plain": [
              "<Figure size 576x576 with 1 Axes>"
            ]
          },
          "metadata": {
            "tags": []
          }
        },
        {
          "output_type": "display_data",
          "data": {
            "image/png": "[encoded data removed]",
            "text/plain": [
              "<Figure size 576x576 with 1 Axes>"
            ]
          },
          "metadata": {
            "tags": []
          }
        },
        {
          "output_type": "display_data",
          "data": {
            "image/png": "[encoded data removed]",
            "text/plain": [
              "<Figure size 576x576 with 1 Axes>"
            ]
          },
          "metadata": {
            "tags": []
          }
        },
        {
          "output_type": "display_data",
          "data": {
            "image/png": "[encoded data removed]",
            "text/plain": [
              "<Figure size 576x576 with 1 Axes>"
            ]
          },
          "metadata": {
            "tags": []
          }
        },
        {
          "output_type": "display_data",
          "data": {
            "image/png": "[encoded data removed]",
            "text/plain": [
              "<Figure size 576x576 with 1 Axes>"
            ]
          },
          "metadata": {
            "tags": []
          }
        },
        {
          "output_type": "display_data",
          "data": {
            "image/png": "[encoded data removed]",
            "text/plain": [
              "<Figure size 576x576 with 1 Axes>"
            ]
          },
          "metadata": {
            "tags": []
          }
        },
        {
          "output_type": "display_data",
          "data": {
            "image/png": "[encoded data removed]",
            "text/plain": [
              "<Figure size 576x576 with 1 Axes>"
            ]
          },
          "metadata": {
            "tags": []
          }
        },
        {
          "output_type": "display_data",
          "data": {
            "image/png": "[encoded data removed]",
            "text/plain": [
              "<Figure size 576x576 with 1 Axes>"
            ]
          },
          "metadata": {
            "tags": []
          }
        },
        {
          "output_type": "display_data",
          "data": {
            "image/png": "[encoded data removed]",
            "text/plain": [
              "<Figure size 576x576 with 1 Axes>"
            ]
          },
          "metadata": {
            "tags": []
          }
        },
        {
          "output_type": "display_data",
          "data": {
            "image/png": "[encoded data removed]",
            "text/plain": [
              "<Figure size 576x576 with 1 Axes>"
            ]
          },
          "metadata": {
            "tags": []
          }
        },
        {
          "output_type": "display_data",
          "data": {
            "image/png": "[encoded data removed]",
            "text/plain": [
              "<Figure size 576x576 with 1 Axes>"
            ]
          },
          "metadata": {
            "tags": []
          }
        },
        {
          "output_type": "display_data",
          "data": {
            "image/png": "[encoded data removed]",
            "text/plain": [
              "<Figure size 576x576 with 1 Axes>"
            ]
          },
          "metadata": {
            "tags": []
          }
        },
        {
          "output_type": "display_data",
          "data": {
            "image/png": "[encoded data removed]",
            "text/plain": [
              "<Figure size 576x576 with 1 Axes>"
            ]
          },
          "metadata": {
            "tags": []
          }
        }
      ]
    },
    {
      "cell_type": "markdown",
      "metadata": {
        "id": "kQnsGUq7Pr0S",
        "colab_type": "text"
      },
      "source": [
        "### Multicollinearity"
      ]
    },
    {
      "cell_type": "code",
      "metadata": {
        "id": "LkFuNwvBLgQG",
        "colab_type": "code",
        "outputId": "5f52107d-74fe-45cd-df90-cd7813f5b7f3",
        "colab": {
          "base_uri": "https://localhost:8080/",
          "height": 642
        }
      },
      "source": [
        "# Compute the correlation matrix\n",
        "sns.set(style=\"white\")\n",
        "\n",
        "corr = df.corr()\n",
        "\n",
        "# Generate a mask for the upper triangle\n",
        "mask = np.zeros_like(corr, dtype=np.bool)\n",
        "mask[np.triu_indices_from(mask)] = True\n",
        "\n",
        "# Set up the matplotlib figure\n",
        "f, ax = plt.subplots(figsize=(11, 9))\n",
        "\n",
        "# Generate a custom diverging colormap\n",
        "cmap = sns.diverging_palette(220, 10, as_cmap=True)\n",
        "\n",
        "# Draw the heatmap with the mask and correct aspect ratio\n",
        "sns.heatmap(corr, mask=mask, cmap=cmap, vmax=.3, center=0,\n",
        "            square=True, linewidths=.5, cbar_kws={\"shrink\": .5})\n",
        "plt.show()"
      ],
      "execution_count": 0,
      "outputs": [
        {
          "output_type": "display_data",
          "data": {
            "image/png": "[encoded data removed]",
            "text/plain": [
              "<Figure size 792x648 with 2 Axes>"
            ]
          },
          "metadata": {
            "tags": []
          }
        }
      ]
    },
    {
      "cell_type": "code",
      "metadata": {
        "id": "DoFNTR-CwkyR",
        "colab_type": "code",
        "outputId": "cd945c0b-ae40-4a7d-a224-c67d52bbb123",
        "colab": {
          "base_uri": "https://localhost:8080/",
          "height": 875
        }
      },
      "source": [
        "df.corr()"
      ],
      "execution_count": 0,
      "outputs": [
        {
          "output_type": "execute_result",
          "data": {
            "text/html": [
              "<div>\n",
              "<style scoped>\n",
              "    .dataframe tbody tr th:only-of-type {\n",
              "        vertical-align: middle;\n",
              "    }\n",
              "\n",
              "    .dataframe tbody tr th {\n",
              "        vertical-align: top;\n",
              "    }\n",
              "\n",
              "    .dataframe thead th {\n",
              "        text-align: right;\n",
              "    }\n",
              "</style>\n",
              "<table border=\"1\" class=\"dataframe\">\n",
              "  <thead>\n",
              "    <tr style=\"text-align: right;\">\n",
              "      <th></th>\n",
              "      <th>edges</th>\n",
              "      <th>nodes</th>\n",
              "      <th>avg_edg</th>\n",
              "      <th>avg_deg</th>\n",
              "      <th>med_edg</th>\n",
              "      <th>med_deg</th>\n",
              "      <th>IQR_edg</th>\n",
              "      <th>IQR_deg</th>\n",
              "      <th>STD_edg</th>\n",
              "      <th>STD_deg</th>\n",
              "      <th>STD_deg</th>\n",
              "      <th>Total_edg</th>\n",
              "      <th>Total_deg</th>\n",
              "      <th>Total_deg</th>\n",
              "      <th>is_connected</th>\n",
              "      <th>avg_length</th>\n",
              "      <th>radius</th>\n",
              "      <th>diameter</th>\n",
              "      <th>eccentricity</th>\n",
              "      <th>center</th>\n",
              "      <th>periphery</th>\n",
              "      <th>density</th>\n",
              "      <th>n.connected.comp</th>\n",
              "      <th>is_distance_regular</th>\n",
              "      <th>is_eulerian</th>\n",
              "      <th>label</th>\n",
              "    </tr>\n",
              "  </thead>\n",
              "  <tbody>\n",
              "    <tr>\n",
              "      <th>edges</th>\n",
              "      <td>1.000000</td>\n",
              "      <td>0.984553</td>\n",
              "      <td>0.032233</td>\n",
              "      <td>0.100580</td>\n",
              "      <td>-0.065455</td>\n",
              "      <td>0.108198</td>\n",
              "      <td>0.256130</td>\n",
              "      <td>0.321020</td>\n",
              "      <td>0.197963</td>\n",
              "      <td>0.317047</td>\n",
              "      <td>0.317047</td>\n",
              "      <td>1.000000</td>\n",
              "      <td>1.000000</td>\n",
              "      <td>1.000000</td>\n",
              "      <td>-0.173985</td>\n",
              "      <td>0.669824</td>\n",
              "      <td>0.663774</td>\n",
              "      <td>0.662537</td>\n",
              "      <td>0.783369</td>\n",
              "      <td>0.092960</td>\n",
              "      <td>0.184223</td>\n",
              "      <td>-0.082454</td>\n",
              "      <td>0.351852</td>\n",
              "      <td>-0.082454</td>\n",
              "      <td>-0.028745</td>\n",
              "      <td>-0.272324</td>\n",
              "    </tr>\n",
              "    <tr>\n",
              "      <th>nodes</th>\n",
              "      <td>0.984553</td>\n",
              "      <td>1.000000</td>\n",
              "      <td>-0.025079</td>\n",
              "      <td>-0.002574</td>\n",
              "      <td>-0.124289</td>\n",
              "      <td>0.011555</td>\n",
              "      <td>0.260357</td>\n",
              "      <td>0.331695</td>\n",
              "      <td>0.189033</td>\n",
              "      <td>0.331057</td>\n",
              "      <td>0.331057</td>\n",
              "      <td>0.984553</td>\n",
              "      <td>0.984553</td>\n",
              "      <td>0.984553</td>\n",
              "      <td>-0.143213</td>\n",
              "      <td>0.698198</td>\n",
              "      <td>0.688615</td>\n",
              "      <td>0.685221</td>\n",
              "      <td>0.835506</td>\n",
              "      <td>0.094325</td>\n",
              "      <td>0.175906</td>\n",
              "      <td>-0.079980</td>\n",
              "      <td>0.301682</td>\n",
              "      <td>-0.079980</td>\n",
              "      <td>-0.028332</td>\n",
              "      <td>-0.263560</td>\n",
              "    </tr>\n",
              "    <tr>\n",
              "      <th>avg_edg</th>\n",
              "      <td>0.032233</td>\n",
              "      <td>-0.025079</td>\n",
              "      <td>1.000000</td>\n",
              "      <td>0.356231</td>\n",
              "      <td>0.224938</td>\n",
              "      <td>0.420304</td>\n",
              "      <td>0.150511</td>\n",
              "      <td>0.160109</td>\n",
              "      <td>0.354316</td>\n",
              "      <td>0.181093</td>\n",
              "      <td>0.181093</td>\n",
              "      <td>0.032233</td>\n",
              "      <td>0.032233</td>\n",
              "      <td>0.032233</td>\n",
              "      <td>-0.041421</td>\n",
              "      <td>-0.240194</td>\n",
              "      <td>-0.231947</td>\n",
              "      <td>-0.222895</td>\n",
              "      <td>-0.042606</td>\n",
              "      <td>0.041508</td>\n",
              "      <td>0.022284</td>\n",
              "      <td>0.052134</td>\n",
              "      <td>0.016241</td>\n",
              "      <td>0.052134</td>\n",
              "      <td>0.021188</td>\n",
              "      <td>0.054428</td>\n",
              "    </tr>\n",
              "    <tr>\n",
              "      <th>avg_deg</th>\n",
              "      <td>0.100580</td>\n",
              "      <td>-0.002574</td>\n",
              "      <td>0.356231</td>\n",
              "      <td>1.000000</td>\n",
              "      <td>0.349709</td>\n",
              "      <td>0.661375</td>\n",
              "      <td>0.068813</td>\n",
              "      <td>0.141843</td>\n",
              "      <td>0.254020</td>\n",
              "      <td>0.159980</td>\n",
              "      <td>0.159980</td>\n",
              "      <td>0.100580</td>\n",
              "      <td>0.100580</td>\n",
              "      <td>0.100580</td>\n",
              "      <td>-0.069947</td>\n",
              "      <td>-0.083653</td>\n",
              "      <td>-0.061359</td>\n",
              "      <td>-0.057703</td>\n",
              "      <td>-0.060788</td>\n",
              "      <td>0.110447</td>\n",
              "      <td>0.091395</td>\n",
              "      <td>-0.051072</td>\n",
              "      <td>0.053765</td>\n",
              "      <td>-0.051072</td>\n",
              "      <td>-0.020756</td>\n",
              "      <td>-0.145842</td>\n",
              "    </tr>\n",
              "    <tr>\n",
              "      <th>med_edg</th>\n",
              "      <td>-0.065455</td>\n",
              "      <td>-0.124289</td>\n",
              "      <td>0.224938</td>\n",
              "      <td>0.349709</td>\n",
              "      <td>1.000000</td>\n",
              "      <td>0.327568</td>\n",
              "      <td>0.033772</td>\n",
              "      <td>-0.015492</td>\n",
              "      <td>0.002056</td>\n",
              "      <td>-0.041945</td>\n",
              "      <td>-0.041945</td>\n",
              "      <td>-0.065455</td>\n",
              "      <td>-0.065455</td>\n",
              "      <td>-0.065455</td>\n",
              "      <td>0.008288</td>\n",
              "      <td>-0.098280</td>\n",
              "      <td>-0.088620</td>\n",
              "      <td>-0.086082</td>\n",
              "      <td>-0.146597</td>\n",
              "      <td>0.015950</td>\n",
              "      <td>0.027057</td>\n",
              "      <td>-0.004369</td>\n",
              "      <td>-0.060495</td>\n",
              "      <td>-0.004369</td>\n",
              "      <td>-0.001776</td>\n",
              "      <td>-0.063737</td>\n",
              "    </tr>\n",
              "    <tr>\n",
              "      <th>med_deg</th>\n",
              "      <td>0.108198</td>\n",
              "      <td>0.011555</td>\n",
              "      <td>0.420304</td>\n",
              "      <td>0.661375</td>\n",
              "      <td>0.327568</td>\n",
              "      <td>1.000000</td>\n",
              "      <td>0.071433</td>\n",
              "      <td>0.136518</td>\n",
              "      <td>0.187853</td>\n",
              "      <td>0.067310</td>\n",
              "      <td>0.067310</td>\n",
              "      <td>0.108198</td>\n",
              "      <td>0.108198</td>\n",
              "      <td>0.108198</td>\n",
              "      <td>-0.067594</td>\n",
              "      <td>-0.051868</td>\n",
              "      <td>-0.021705</td>\n",
              "      <td>-0.016602</td>\n",
              "      <td>-0.049615</td>\n",
              "      <td>0.120472</td>\n",
              "      <td>-0.006949</td>\n",
              "      <td>-0.094617</td>\n",
              "      <td>0.053478</td>\n",
              "      <td>-0.094617</td>\n",
              "      <td>-0.038453</td>\n",
              "      <td>-0.141277</td>\n",
              "    </tr>\n",
              "    <tr>\n",
              "      <th>IQR_edg</th>\n",
              "      <td>0.256130</td>\n",
              "      <td>0.260357</td>\n",
              "      <td>0.150511</td>\n",
              "      <td>0.068813</td>\n",
              "      <td>0.033772</td>\n",
              "      <td>0.071433</td>\n",
              "      <td>1.000000</td>\n",
              "      <td>0.237444</td>\n",
              "      <td>0.375360</td>\n",
              "      <td>0.279970</td>\n",
              "      <td>0.279970</td>\n",
              "      <td>0.256130</td>\n",
              "      <td>0.256130</td>\n",
              "      <td>0.256130</td>\n",
              "      <td>0.007160</td>\n",
              "      <td>0.186307</td>\n",
              "      <td>0.190250</td>\n",
              "      <td>0.184285</td>\n",
              "      <td>0.187771</td>\n",
              "      <td>0.099873</td>\n",
              "      <td>0.125514</td>\n",
              "      <td>-0.027781</td>\n",
              "      <td>0.001253</td>\n",
              "      <td>-0.027781</td>\n",
              "      <td>-0.079584</td>\n",
              "      <td>-0.049478</td>\n",
              "    </tr>\n",
              "    <tr>\n",
              "      <th>IQR_deg</th>\n",
              "      <td>0.321020</td>\n",
              "      <td>0.331695</td>\n",
              "      <td>0.160109</td>\n",
              "      <td>0.141843</td>\n",
              "      <td>-0.015492</td>\n",
              "      <td>0.136518</td>\n",
              "      <td>0.237444</td>\n",
              "      <td>1.000000</td>\n",
              "      <td>0.289730</td>\n",
              "      <td>0.456675</td>\n",
              "      <td>0.456675</td>\n",
              "      <td>0.321020</td>\n",
              "      <td>0.321020</td>\n",
              "      <td>0.321020</td>\n",
              "      <td>-0.082104</td>\n",
              "      <td>0.189829</td>\n",
              "      <td>0.195934</td>\n",
              "      <td>0.190520</td>\n",
              "      <td>0.215320</td>\n",
              "      <td>0.143689</td>\n",
              "      <td>0.034105</td>\n",
              "      <td>-0.218896</td>\n",
              "      <td>0.075060</td>\n",
              "      <td>-0.218896</td>\n",
              "      <td>-0.009047</td>\n",
              "      <td>-0.115432</td>\n",
              "    </tr>\n",
              "    <tr>\n",
              "      <th>STD_edg</th>\n",
              "      <td>0.197963</td>\n",
              "      <td>0.189033</td>\n",
              "      <td>0.354316</td>\n",
              "      <td>0.254020</td>\n",
              "      <td>0.002056</td>\n",
              "      <td>0.187853</td>\n",
              "      <td>0.375360</td>\n",
              "      <td>0.289730</td>\n",
              "      <td>1.000000</td>\n",
              "      <td>0.468828</td>\n",
              "      <td>0.468828</td>\n",
              "      <td>0.197963</td>\n",
              "      <td>0.197963</td>\n",
              "      <td>0.197963</td>\n",
              "      <td>0.018395</td>\n",
              "      <td>-0.027585</td>\n",
              "      <td>-0.022473</td>\n",
              "      <td>-0.027526</td>\n",
              "      <td>0.120497</td>\n",
              "      <td>0.149587</td>\n",
              "      <td>0.101107</td>\n",
              "      <td>-0.098653</td>\n",
              "      <td>0.000091</td>\n",
              "      <td>-0.098653</td>\n",
              "      <td>-0.040093</td>\n",
              "      <td>-0.003661</td>\n",
              "    </tr>\n",
              "    <tr>\n",
              "      <th>STD_deg</th>\n",
              "      <td>0.317047</td>\n",
              "      <td>0.331057</td>\n",
              "      <td>0.181093</td>\n",
              "      <td>0.159980</td>\n",
              "      <td>-0.041945</td>\n",
              "      <td>0.067310</td>\n",
              "      <td>0.279970</td>\n",
              "      <td>0.456675</td>\n",
              "      <td>0.468828</td>\n",
              "      <td>1.000000</td>\n",
              "      <td>1.000000</td>\n",
              "      <td>0.317047</td>\n",
              "      <td>0.317047</td>\n",
              "      <td>0.317047</td>\n",
              "      <td>0.013748</td>\n",
              "      <td>0.106193</td>\n",
              "      <td>0.109584</td>\n",
              "      <td>0.099311</td>\n",
              "      <td>0.227670</td>\n",
              "      <td>0.184660</td>\n",
              "      <td>0.156558</td>\n",
              "      <td>-0.066762</td>\n",
              "      <td>0.007287</td>\n",
              "      <td>-0.066762</td>\n",
              "      <td>0.019043</td>\n",
              "      <td>-0.050030</td>\n",
              "    </tr>\n",
              "    <tr>\n",
              "      <th>STD_deg</th>\n",
              "      <td>0.317047</td>\n",
              "      <td>0.331057</td>\n",
              "      <td>0.181093</td>\n",
              "      <td>0.159980</td>\n",
              "      <td>-0.041945</td>\n",
              "      <td>0.067310</td>\n",
              "      <td>0.279970</td>\n",
              "      <td>0.456675</td>\n",
              "      <td>0.468828</td>\n",
              "      <td>1.000000</td>\n",
              "      <td>1.000000</td>\n",
              "      <td>0.317047</td>\n",
              "      <td>0.317047</td>\n",
              "      <td>0.317047</td>\n",
              "      <td>0.013748</td>\n",
              "      <td>0.106193</td>\n",
              "      <td>0.109584</td>\n",
              "      <td>0.099311</td>\n",
              "      <td>0.227670</td>\n",
              "      <td>0.184660</td>\n",
              "      <td>0.156558</td>\n",
              "      <td>-0.066762</td>\n",
              "      <td>0.007287</td>\n",
              "      <td>-0.066762</td>\n",
              "      <td>0.019043</td>\n",
              "      <td>-0.050030</td>\n",
              "    </tr>\n",
              "    <tr>\n",
              "      <th>Total_edg</th>\n",
              "      <td>1.000000</td>\n",
              "      <td>0.984553</td>\n",
              "      <td>0.032233</td>\n",
              "      <td>0.100580</td>\n",
              "      <td>-0.065455</td>\n",
              "      <td>0.108198</td>\n",
              "      <td>0.256130</td>\n",
              "      <td>0.321020</td>\n",
              "      <td>0.197963</td>\n",
              "      <td>0.317047</td>\n",
              "      <td>0.317047</td>\n",
              "      <td>1.000000</td>\n",
              "      <td>1.000000</td>\n",
              "      <td>1.000000</td>\n",
              "      <td>-0.173985</td>\n",
              "      <td>0.669824</td>\n",
              "      <td>0.663774</td>\n",
              "      <td>0.662537</td>\n",
              "      <td>0.783369</td>\n",
              "      <td>0.092960</td>\n",
              "      <td>0.184223</td>\n",
              "      <td>-0.082454</td>\n",
              "      <td>0.351852</td>\n",
              "      <td>-0.082454</td>\n",
              "      <td>-0.028745</td>\n",
              "      <td>-0.272324</td>\n",
              "    </tr>\n",
              "    <tr>\n",
              "      <th>Total_deg</th>\n",
              "      <td>1.000000</td>\n",
              "      <td>0.984553</td>\n",
              "      <td>0.032233</td>\n",
              "      <td>0.100580</td>\n",
              "      <td>-0.065455</td>\n",
              "      <td>0.108198</td>\n",
              "      <td>0.256130</td>\n",
              "      <td>0.321020</td>\n",
              "      <td>0.197963</td>\n",
              "      <td>0.317047</td>\n",
              "      <td>0.317047</td>\n",
              "      <td>1.000000</td>\n",
              "      <td>1.000000</td>\n",
              "      <td>1.000000</td>\n",
              "      <td>-0.173985</td>\n",
              "      <td>0.669824</td>\n",
              "      <td>0.663774</td>\n",
              "      <td>0.662537</td>\n",
              "      <td>0.783369</td>\n",
              "      <td>0.092960</td>\n",
              "      <td>0.184223</td>\n",
              "      <td>-0.082454</td>\n",
              "      <td>0.351852</td>\n",
              "      <td>-0.082454</td>\n",
              "      <td>-0.028745</td>\n",
              "      <td>-0.272324</td>\n",
              "    </tr>\n",
              "    <tr>\n",
              "      <th>Total_deg</th>\n",
              "      <td>1.000000</td>\n",
              "      <td>0.984553</td>\n",
              "      <td>0.032233</td>\n",
              "      <td>0.100580</td>\n",
              "      <td>-0.065455</td>\n",
              "      <td>0.108198</td>\n",
              "      <td>0.256130</td>\n",
              "      <td>0.321020</td>\n",
              "      <td>0.197963</td>\n",
              "      <td>0.317047</td>\n",
              "      <td>0.317047</td>\n",
              "      <td>1.000000</td>\n",
              "      <td>1.000000</td>\n",
              "      <td>1.000000</td>\n",
              "      <td>-0.173985</td>\n",
              "      <td>0.669824</td>\n",
              "      <td>0.663774</td>\n",
              "      <td>0.662537</td>\n",
              "      <td>0.783369</td>\n",
              "      <td>0.092960</td>\n",
              "      <td>0.184223</td>\n",
              "      <td>-0.082454</td>\n",
              "      <td>0.351852</td>\n",
              "      <td>-0.082454</td>\n",
              "      <td>-0.028745</td>\n",
              "      <td>-0.272324</td>\n",
              "    </tr>\n",
              "    <tr>\n",
              "      <th>is_connected</th>\n",
              "      <td>-0.173985</td>\n",
              "      <td>-0.143213</td>\n",
              "      <td>-0.041421</td>\n",
              "      <td>-0.069947</td>\n",
              "      <td>0.008288</td>\n",
              "      <td>-0.067594</td>\n",
              "      <td>0.007160</td>\n",
              "      <td>-0.082104</td>\n",
              "      <td>0.018395</td>\n",
              "      <td>0.013748</td>\n",
              "      <td>0.013748</td>\n",
              "      <td>-0.173985</td>\n",
              "      <td>-0.173985</td>\n",
              "      <td>-0.173985</td>\n",
              "      <td>1.000000</td>\n",
              "      <td>0.086149</td>\n",
              "      <td>0.101771</td>\n",
              "      <td>0.093983</td>\n",
              "      <td>0.050931</td>\n",
              "      <td>0.053075</td>\n",
              "      <td>0.026373</td>\n",
              "      <td>0.020674</td>\n",
              "      <td>-0.726400</td>\n",
              "      <td>0.020674</td>\n",
              "      <td>0.008402</td>\n",
              "      <td>-0.004329</td>\n",
              "    </tr>\n",
              "    <tr>\n",
              "      <th>avg_length</th>\n",
              "      <td>0.669824</td>\n",
              "      <td>0.698198</td>\n",
              "      <td>-0.240194</td>\n",
              "      <td>-0.083653</td>\n",
              "      <td>-0.098280</td>\n",
              "      <td>-0.051868</td>\n",
              "      <td>0.186307</td>\n",
              "      <td>0.189829</td>\n",
              "      <td>-0.027585</td>\n",
              "      <td>0.106193</td>\n",
              "      <td>0.106193</td>\n",
              "      <td>0.669824</td>\n",
              "      <td>0.669824</td>\n",
              "      <td>0.669824</td>\n",
              "      <td>0.086149</td>\n",
              "      <td>1.000000</td>\n",
              "      <td>0.987999</td>\n",
              "      <td>0.989839</td>\n",
              "      <td>0.675728</td>\n",
              "      <td>0.019890</td>\n",
              "      <td>0.101547</td>\n",
              "      <td>-0.123302</td>\n",
              "      <td>-0.051555</td>\n",
              "      <td>-0.123302</td>\n",
              "      <td>-0.042291</td>\n",
              "      <td>-0.377969</td>\n",
              "    </tr>\n",
              "    <tr>\n",
              "      <th>radius</th>\n",
              "      <td>0.663774</td>\n",
              "      <td>0.688615</td>\n",
              "      <td>-0.231947</td>\n",
              "      <td>-0.061359</td>\n",
              "      <td>-0.088620</td>\n",
              "      <td>-0.021705</td>\n",
              "      <td>0.190250</td>\n",
              "      <td>0.195934</td>\n",
              "      <td>-0.022473</td>\n",
              "      <td>0.109584</td>\n",
              "      <td>0.109584</td>\n",
              "      <td>0.663774</td>\n",
              "      <td>0.663774</td>\n",
              "      <td>0.663774</td>\n",
              "      <td>0.101771</td>\n",
              "      <td>0.987999</td>\n",
              "      <td>1.000000</td>\n",
              "      <td>0.996331</td>\n",
              "      <td>0.665385</td>\n",
              "      <td>0.083555</td>\n",
              "      <td>0.072828</td>\n",
              "      <td>-0.132956</td>\n",
              "      <td>-0.065487</td>\n",
              "      <td>-0.132956</td>\n",
              "      <td>-0.048663</td>\n",
              "      <td>-0.380914</td>\n",
              "    </tr>\n",
              "    <tr>\n",
              "      <th>diameter</th>\n",
              "      <td>0.662537</td>\n",
              "      <td>0.685221</td>\n",
              "      <td>-0.222895</td>\n",
              "      <td>-0.057703</td>\n",
              "      <td>-0.086082</td>\n",
              "      <td>-0.016602</td>\n",
              "      <td>0.184285</td>\n",
              "      <td>0.190520</td>\n",
              "      <td>-0.027526</td>\n",
              "      <td>0.099311</td>\n",
              "      <td>0.099311</td>\n",
              "      <td>0.662537</td>\n",
              "      <td>0.662537</td>\n",
              "      <td>0.662537</td>\n",
              "      <td>0.093983</td>\n",
              "      <td>0.989839</td>\n",
              "      <td>0.996331</td>\n",
              "      <td>1.000000</td>\n",
              "      <td>0.665853</td>\n",
              "      <td>0.024708</td>\n",
              "      <td>0.060025</td>\n",
              "      <td>-0.139421</td>\n",
              "      <td>-0.058995</td>\n",
              "      <td>-0.139421</td>\n",
              "      <td>-0.045858</td>\n",
              "      <td>-0.383773</td>\n",
              "    </tr>\n",
              "    <tr>\n",
              "      <th>eccentricity</th>\n",
              "      <td>0.783369</td>\n",
              "      <td>0.835506</td>\n",
              "      <td>-0.042606</td>\n",
              "      <td>-0.060788</td>\n",
              "      <td>-0.146597</td>\n",
              "      <td>-0.049615</td>\n",
              "      <td>0.187771</td>\n",
              "      <td>0.215320</td>\n",
              "      <td>0.120497</td>\n",
              "      <td>0.227670</td>\n",
              "      <td>0.227670</td>\n",
              "      <td>0.783369</td>\n",
              "      <td>0.783369</td>\n",
              "      <td>0.783369</td>\n",
              "      <td>0.050931</td>\n",
              "      <td>0.675728</td>\n",
              "      <td>0.665385</td>\n",
              "      <td>0.665853</td>\n",
              "      <td>1.000000</td>\n",
              "      <td>0.044422</td>\n",
              "      <td>0.107241</td>\n",
              "      <td>-0.042300</td>\n",
              "      <td>-0.028077</td>\n",
              "      <td>-0.042300</td>\n",
              "      <td>-0.016528</td>\n",
              "      <td>-0.197204</td>\n",
              "    </tr>\n",
              "    <tr>\n",
              "      <th>center</th>\n",
              "      <td>0.092960</td>\n",
              "      <td>0.094325</td>\n",
              "      <td>0.041508</td>\n",
              "      <td>0.110447</td>\n",
              "      <td>0.015950</td>\n",
              "      <td>0.120472</td>\n",
              "      <td>0.099873</td>\n",
              "      <td>0.143689</td>\n",
              "      <td>0.149587</td>\n",
              "      <td>0.184660</td>\n",
              "      <td>0.184660</td>\n",
              "      <td>0.092960</td>\n",
              "      <td>0.092960</td>\n",
              "      <td>0.092960</td>\n",
              "      <td>0.053075</td>\n",
              "      <td>0.019890</td>\n",
              "      <td>0.083555</td>\n",
              "      <td>0.024708</td>\n",
              "      <td>0.044422</td>\n",
              "      <td>1.000000</td>\n",
              "      <td>0.009010</td>\n",
              "      <td>0.067695</td>\n",
              "      <td>-0.047396</td>\n",
              "      <td>0.067695</td>\n",
              "      <td>-0.017852</td>\n",
              "      <td>-0.007775</td>\n",
              "    </tr>\n",
              "    <tr>\n",
              "      <th>periphery</th>\n",
              "      <td>0.184223</td>\n",
              "      <td>0.175906</td>\n",
              "      <td>0.022284</td>\n",
              "      <td>0.091395</td>\n",
              "      <td>0.027057</td>\n",
              "      <td>-0.006949</td>\n",
              "      <td>0.125514</td>\n",
              "      <td>0.034105</td>\n",
              "      <td>0.101107</td>\n",
              "      <td>0.156558</td>\n",
              "      <td>0.156558</td>\n",
              "      <td>0.184223</td>\n",
              "      <td>0.184223</td>\n",
              "      <td>0.184223</td>\n",
              "      <td>0.026373</td>\n",
              "      <td>0.101547</td>\n",
              "      <td>0.072828</td>\n",
              "      <td>0.060025</td>\n",
              "      <td>0.107241</td>\n",
              "      <td>0.009010</td>\n",
              "      <td>1.000000</td>\n",
              "      <td>-0.065315</td>\n",
              "      <td>-0.039027</td>\n",
              "      <td>-0.065315</td>\n",
              "      <td>-0.016097</td>\n",
              "      <td>-0.032973</td>\n",
              "    </tr>\n",
              "    <tr>\n",
              "      <th>density</th>\n",
              "      <td>-0.082454</td>\n",
              "      <td>-0.079980</td>\n",
              "      <td>0.052134</td>\n",
              "      <td>-0.051072</td>\n",
              "      <td>-0.004369</td>\n",
              "      <td>-0.094617</td>\n",
              "      <td>-0.027781</td>\n",
              "      <td>-0.218896</td>\n",
              "      <td>-0.098653</td>\n",
              "      <td>-0.066762</td>\n",
              "      <td>-0.066762</td>\n",
              "      <td>-0.082454</td>\n",
              "      <td>-0.082454</td>\n",
              "      <td>-0.082454</td>\n",
              "      <td>0.020674</td>\n",
              "      <td>-0.123302</td>\n",
              "      <td>-0.132956</td>\n",
              "      <td>-0.139421</td>\n",
              "      <td>-0.042300</td>\n",
              "      <td>0.067695</td>\n",
              "      <td>-0.065315</td>\n",
              "      <td>1.000000</td>\n",
              "      <td>-0.015018</td>\n",
              "      <td>1.000000</td>\n",
              "      <td>-0.004430</td>\n",
              "      <td>0.105602</td>\n",
              "    </tr>\n",
              "    <tr>\n",
              "      <th>n.connected.comp</th>\n",
              "      <td>0.351852</td>\n",
              "      <td>0.301682</td>\n",
              "      <td>0.016241</td>\n",
              "      <td>0.053765</td>\n",
              "      <td>-0.060495</td>\n",
              "      <td>0.053478</td>\n",
              "      <td>0.001253</td>\n",
              "      <td>0.075060</td>\n",
              "      <td>0.000091</td>\n",
              "      <td>0.007287</td>\n",
              "      <td>0.007287</td>\n",
              "      <td>0.351852</td>\n",
              "      <td>0.351852</td>\n",
              "      <td>0.351852</td>\n",
              "      <td>-0.726400</td>\n",
              "      <td>-0.051555</td>\n",
              "      <td>-0.065487</td>\n",
              "      <td>-0.058995</td>\n",
              "      <td>-0.028077</td>\n",
              "      <td>-0.047396</td>\n",
              "      <td>-0.039027</td>\n",
              "      <td>-0.015018</td>\n",
              "      <td>1.000000</td>\n",
              "      <td>-0.015018</td>\n",
              "      <td>-0.006103</td>\n",
              "      <td>-0.011591</td>\n",
              "    </tr>\n",
              "    <tr>\n",
              "      <th>is_distance_regular</th>\n",
              "      <td>-0.082454</td>\n",
              "      <td>-0.079980</td>\n",
              "      <td>0.052134</td>\n",
              "      <td>-0.051072</td>\n",
              "      <td>-0.004369</td>\n",
              "      <td>-0.094617</td>\n",
              "      <td>-0.027781</td>\n",
              "      <td>-0.218896</td>\n",
              "      <td>-0.098653</td>\n",
              "      <td>-0.066762</td>\n",
              "      <td>-0.066762</td>\n",
              "      <td>-0.082454</td>\n",
              "      <td>-0.082454</td>\n",
              "      <td>-0.082454</td>\n",
              "      <td>0.020674</td>\n",
              "      <td>-0.123302</td>\n",
              "      <td>-0.132956</td>\n",
              "      <td>-0.139421</td>\n",
              "      <td>-0.042300</td>\n",
              "      <td>0.067695</td>\n",
              "      <td>-0.065315</td>\n",
              "      <td>1.000000</td>\n",
              "      <td>-0.015018</td>\n",
              "      <td>1.000000</td>\n",
              "      <td>-0.004430</td>\n",
              "      <td>0.105602</td>\n",
              "    </tr>\n",
              "    <tr>\n",
              "      <th>is_eulerian</th>\n",
              "      <td>-0.028745</td>\n",
              "      <td>-0.028332</td>\n",
              "      <td>0.021188</td>\n",
              "      <td>-0.020756</td>\n",
              "      <td>-0.001776</td>\n",
              "      <td>-0.038453</td>\n",
              "      <td>-0.079584</td>\n",
              "      <td>-0.009047</td>\n",
              "      <td>-0.040093</td>\n",
              "      <td>0.019043</td>\n",
              "      <td>0.019043</td>\n",
              "      <td>-0.028745</td>\n",
              "      <td>-0.028745</td>\n",
              "      <td>-0.028745</td>\n",
              "      <td>0.008402</td>\n",
              "      <td>-0.042291</td>\n",
              "      <td>-0.048663</td>\n",
              "      <td>-0.045858</td>\n",
              "      <td>-0.016528</td>\n",
              "      <td>-0.017852</td>\n",
              "      <td>-0.016097</td>\n",
              "      <td>-0.004430</td>\n",
              "      <td>-0.006103</td>\n",
              "      <td>-0.004430</td>\n",
              "      <td>1.000000</td>\n",
              "      <td>0.007072</td>\n",
              "    </tr>\n",
              "    <tr>\n",
              "      <th>label</th>\n",
              "      <td>-0.272324</td>\n",
              "      <td>-0.263560</td>\n",
              "      <td>0.054428</td>\n",
              "      <td>-0.145842</td>\n",
              "      <td>-0.063737</td>\n",
              "      <td>-0.141277</td>\n",
              "      <td>-0.049478</td>\n",
              "      <td>-0.115432</td>\n",
              "      <td>-0.003661</td>\n",
              "      <td>-0.050030</td>\n",
              "      <td>-0.050030</td>\n",
              "      <td>-0.272324</td>\n",
              "      <td>-0.272324</td>\n",
              "      <td>-0.272324</td>\n",
              "      <td>-0.004329</td>\n",
              "      <td>-0.377969</td>\n",
              "      <td>-0.380914</td>\n",
              "      <td>-0.383773</td>\n",
              "      <td>-0.197204</td>\n",
              "      <td>-0.007775</td>\n",
              "      <td>-0.032973</td>\n",
              "      <td>0.105602</td>\n",
              "      <td>-0.011591</td>\n",
              "      <td>0.105602</td>\n",
              "      <td>0.007072</td>\n",
              "      <td>1.000000</td>\n",
              "    </tr>\n",
              "  </tbody>\n",
              "</table>\n",
              "</div>"
            ],
            "text/plain": [
              "                        edges     nodes  ...  is_eulerian     label\n",
              "edges                1.000000  0.984553  ...    -0.028745 -0.272324\n",
              "nodes                0.984553  1.000000  ...    -0.028332 -0.263560\n",
              "avg_edg              0.032233 -0.025079  ...     0.021188  0.054428\n",
              "avg_deg              0.100580 -0.002574  ...    -0.020756 -0.145842\n",
              "med_edg             -0.065455 -0.124289  ...    -0.001776 -0.063737\n",
              "med_deg              0.108198  0.011555  ...    -0.038453 -0.141277\n",
              "IQR_edg              0.256130  0.260357  ...    -0.079584 -0.049478\n",
              "IQR_deg              0.321020  0.331695  ...    -0.009047 -0.115432\n",
              "STD_edg              0.197963  0.189033  ...    -0.040093 -0.003661\n",
              "STD_deg              0.317047  0.331057  ...     0.019043 -0.050030\n",
              "STD_deg              0.317047  0.331057  ...     0.019043 -0.050030\n",
              "Total_edg            1.000000  0.984553  ...    -0.028745 -0.272324\n",
              "Total_deg            1.000000  0.984553  ...    -0.028745 -0.272324\n",
              "Total_deg            1.000000  0.984553  ...    -0.028745 -0.272324\n",
              "is_connected        -0.173985 -0.143213  ...     0.008402 -0.004329\n",
              "avg_length           0.669824  0.698198  ...    -0.042291 -0.377969\n",
              "radius               0.663774  0.688615  ...    -0.048663 -0.380914\n",
              "diameter             0.662537  0.685221  ...    -0.045858 -0.383773\n",
              "eccentricity         0.783369  0.835506  ...    -0.016528 -0.197204\n",
              "center               0.092960  0.094325  ...    -0.017852 -0.007775\n",
              "periphery            0.184223  0.175906  ...    -0.016097 -0.032973\n",
              "density             -0.082454 -0.079980  ...    -0.004430  0.105602\n",
              "n.connected.comp     0.351852  0.301682  ...    -0.006103 -0.011591\n",
              "is_distance_regular -0.082454 -0.079980  ...    -0.004430  0.105602\n",
              "is_eulerian         -0.028745 -0.028332  ...     1.000000  0.007072\n",
              "label               -0.272324 -0.263560  ...     0.007072  1.000000\n",
              "\n",
              "[26 rows x 26 columns]"
            ]
          },
          "metadata": {
            "tags": []
          },
          "execution_count": 265
        }
      ]
    },
    {
      "cell_type": "code",
      "metadata": {
        "id": "_nyCMvCULhou",
        "colab_type": "code",
        "colab": {}
      },
      "source": [
        "co = corr.unstack()"
      ],
      "execution_count": 0,
      "outputs": []
    },
    {
      "cell_type": "markdown",
      "metadata": {
        "id": "GbZqzfj4Llpg",
        "colab_type": "text"
      },
      "source": [
        "#### Positive correlation"
      ]
    },
    {
      "cell_type": "code",
      "metadata": {
        "id": "sM5Wy9nSInvE",
        "colab_type": "code",
        "outputId": "cad68356-dd28-404f-9ea5-5869ba105380",
        "colab": {
          "base_uri": "https://localhost:8080/",
          "height": 1847
        }
      },
      "source": [
        "sort_cor = co.sort_values(kind=\"quicksort\")\n",
        "pd.DataFrame(sort_cor[sort_cor > 0.8])\n"
      ],
      "execution_count": 0,
      "outputs": [
        {
          "output_type": "execute_result",
          "data": {
            "text/html": [
              "<div>\n",
              "<style scoped>\n",
              "    .dataframe tbody tr th:only-of-type {\n",
              "        vertical-align: middle;\n",
              "    }\n",
              "\n",
              "    .dataframe tbody tr th {\n",
              "        vertical-align: top;\n",
              "    }\n",
              "\n",
              "    .dataframe thead th {\n",
              "        text-align: right;\n",
              "    }\n",
              "</style>\n",
              "<table border=\"1\" class=\"dataframe\">\n",
              "  <thead>\n",
              "    <tr style=\"text-align: right;\">\n",
              "      <th></th>\n",
              "      <th></th>\n",
              "      <th>0</th>\n",
              "    </tr>\n",
              "  </thead>\n",
              "  <tbody>\n",
              "    <tr>\n",
              "      <th>eccentricity</th>\n",
              "      <th>nodes</th>\n",
              "      <td>0.835506</td>\n",
              "    </tr>\n",
              "    <tr>\n",
              "      <th rowspan=\"2\" valign=\"top\">nodes</th>\n",
              "      <th>eccentricity</th>\n",
              "      <td>0.835506</td>\n",
              "    </tr>\n",
              "    <tr>\n",
              "      <th>Total_deg</th>\n",
              "      <td>0.984553</td>\n",
              "    </tr>\n",
              "    <tr>\n",
              "      <th>Total_edg</th>\n",
              "      <th>nodes</th>\n",
              "      <td>0.984553</td>\n",
              "    </tr>\n",
              "    <tr>\n",
              "      <th>nodes</th>\n",
              "      <th>Total_edg</th>\n",
              "      <td>0.984553</td>\n",
              "    </tr>\n",
              "    <tr>\n",
              "      <th>Total_deg</th>\n",
              "      <th>nodes</th>\n",
              "      <td>0.984553</td>\n",
              "    </tr>\n",
              "    <tr>\n",
              "      <th>edges</th>\n",
              "      <th>nodes</th>\n",
              "      <td>0.984553</td>\n",
              "    </tr>\n",
              "    <tr>\n",
              "      <th>nodes</th>\n",
              "      <th>Total_deg</th>\n",
              "      <td>0.984553</td>\n",
              "    </tr>\n",
              "    <tr>\n",
              "      <th>Total_deg</th>\n",
              "      <th>nodes</th>\n",
              "      <td>0.984553</td>\n",
              "    </tr>\n",
              "    <tr>\n",
              "      <th>nodes</th>\n",
              "      <th>edges</th>\n",
              "      <td>0.984553</td>\n",
              "    </tr>\n",
              "    <tr>\n",
              "      <th>radius</th>\n",
              "      <th>avg_length</th>\n",
              "      <td>0.987999</td>\n",
              "    </tr>\n",
              "    <tr>\n",
              "      <th rowspan=\"2\" valign=\"top\">avg_length</th>\n",
              "      <th>radius</th>\n",
              "      <td>0.987999</td>\n",
              "    </tr>\n",
              "    <tr>\n",
              "      <th>diameter</th>\n",
              "      <td>0.989839</td>\n",
              "    </tr>\n",
              "    <tr>\n",
              "      <th rowspan=\"2\" valign=\"top\">diameter</th>\n",
              "      <th>avg_length</th>\n",
              "      <td>0.989839</td>\n",
              "    </tr>\n",
              "    <tr>\n",
              "      <th>radius</th>\n",
              "      <td>0.996331</td>\n",
              "    </tr>\n",
              "    <tr>\n",
              "      <th>radius</th>\n",
              "      <th>diameter</th>\n",
              "      <td>0.996331</td>\n",
              "    </tr>\n",
              "    <tr>\n",
              "      <th>is_eulerian</th>\n",
              "      <th>is_eulerian</th>\n",
              "      <td>1.000000</td>\n",
              "    </tr>\n",
              "    <tr>\n",
              "      <th>edges</th>\n",
              "      <th>edges</th>\n",
              "      <td>1.000000</td>\n",
              "    </tr>\n",
              "    <tr>\n",
              "      <th>is_distance_regular</th>\n",
              "      <th>density</th>\n",
              "      <td>1.000000</td>\n",
              "    </tr>\n",
              "    <tr>\n",
              "      <th>Total_edg</th>\n",
              "      <th>edges</th>\n",
              "      <td>1.000000</td>\n",
              "    </tr>\n",
              "    <tr>\n",
              "      <th rowspan=\"4\" valign=\"top\">STD_deg</th>\n",
              "      <th>STD_deg</th>\n",
              "      <td>1.000000</td>\n",
              "    </tr>\n",
              "    <tr>\n",
              "      <th>STD_deg</th>\n",
              "      <td>1.000000</td>\n",
              "    </tr>\n",
              "    <tr>\n",
              "      <th>STD_deg</th>\n",
              "      <td>1.000000</td>\n",
              "    </tr>\n",
              "    <tr>\n",
              "      <th>STD_deg</th>\n",
              "      <td>1.000000</td>\n",
              "    </tr>\n",
              "    <tr>\n",
              "      <th>STD_edg</th>\n",
              "      <th>STD_edg</th>\n",
              "      <td>1.000000</td>\n",
              "    </tr>\n",
              "    <tr>\n",
              "      <th>IQR_deg</th>\n",
              "      <th>IQR_deg</th>\n",
              "      <td>1.000000</td>\n",
              "    </tr>\n",
              "    <tr>\n",
              "      <th>Total_edg</th>\n",
              "      <th>Total_edg</th>\n",
              "      <td>1.000000</td>\n",
              "    </tr>\n",
              "    <tr>\n",
              "      <th>IQR_edg</th>\n",
              "      <th>IQR_edg</th>\n",
              "      <td>1.000000</td>\n",
              "    </tr>\n",
              "    <tr>\n",
              "      <th>med_edg</th>\n",
              "      <th>med_edg</th>\n",
              "      <td>1.000000</td>\n",
              "    </tr>\n",
              "    <tr>\n",
              "      <th>avg_deg</th>\n",
              "      <th>avg_deg</th>\n",
              "      <td>1.000000</td>\n",
              "    </tr>\n",
              "    <tr>\n",
              "      <th>avg_edg</th>\n",
              "      <th>avg_edg</th>\n",
              "      <td>1.000000</td>\n",
              "    </tr>\n",
              "    <tr>\n",
              "      <th>nodes</th>\n",
              "      <th>nodes</th>\n",
              "      <td>1.000000</td>\n",
              "    </tr>\n",
              "    <tr>\n",
              "      <th rowspan=\"3\" valign=\"top\">edges</th>\n",
              "      <th>Total_deg</th>\n",
              "      <td>1.000000</td>\n",
              "    </tr>\n",
              "    <tr>\n",
              "      <th>Total_deg</th>\n",
              "      <td>1.000000</td>\n",
              "    </tr>\n",
              "    <tr>\n",
              "      <th>Total_edg</th>\n",
              "      <td>1.000000</td>\n",
              "    </tr>\n",
              "    <tr>\n",
              "      <th>med_deg</th>\n",
              "      <th>med_deg</th>\n",
              "      <td>1.000000</td>\n",
              "    </tr>\n",
              "    <tr>\n",
              "      <th rowspan=\"2\" valign=\"top\">Total_edg</th>\n",
              "      <th>Total_deg</th>\n",
              "      <td>1.000000</td>\n",
              "    </tr>\n",
              "    <tr>\n",
              "      <th>Total_deg</th>\n",
              "      <td>1.000000</td>\n",
              "    </tr>\n",
              "    <tr>\n",
              "      <th>Total_deg</th>\n",
              "      <th>edges</th>\n",
              "      <td>1.000000</td>\n",
              "    </tr>\n",
              "    <tr>\n",
              "      <th>n.connected.comp</th>\n",
              "      <th>n.connected.comp</th>\n",
              "      <td>1.000000</td>\n",
              "    </tr>\n",
              "    <tr>\n",
              "      <th rowspan=\"2\" valign=\"top\">density</th>\n",
              "      <th>is_distance_regular</th>\n",
              "      <td>1.000000</td>\n",
              "    </tr>\n",
              "    <tr>\n",
              "      <th>density</th>\n",
              "      <td>1.000000</td>\n",
              "    </tr>\n",
              "    <tr>\n",
              "      <th>periphery</th>\n",
              "      <th>periphery</th>\n",
              "      <td>1.000000</td>\n",
              "    </tr>\n",
              "    <tr>\n",
              "      <th>center</th>\n",
              "      <th>center</th>\n",
              "      <td>1.000000</td>\n",
              "    </tr>\n",
              "    <tr>\n",
              "      <th>eccentricity</th>\n",
              "      <th>eccentricity</th>\n",
              "      <td>1.000000</td>\n",
              "    </tr>\n",
              "    <tr>\n",
              "      <th>diameter</th>\n",
              "      <th>diameter</th>\n",
              "      <td>1.000000</td>\n",
              "    </tr>\n",
              "    <tr>\n",
              "      <th>radius</th>\n",
              "      <th>radius</th>\n",
              "      <td>1.000000</td>\n",
              "    </tr>\n",
              "    <tr>\n",
              "      <th>avg_length</th>\n",
              "      <th>avg_length</th>\n",
              "      <td>1.000000</td>\n",
              "    </tr>\n",
              "    <tr>\n",
              "      <th>is_connected</th>\n",
              "      <th>is_connected</th>\n",
              "      <td>1.000000</td>\n",
              "    </tr>\n",
              "    <tr>\n",
              "      <th rowspan=\"7\" valign=\"top\">Total_deg</th>\n",
              "      <th>Total_deg</th>\n",
              "      <td>1.000000</td>\n",
              "    </tr>\n",
              "    <tr>\n",
              "      <th>Total_deg</th>\n",
              "      <td>1.000000</td>\n",
              "    </tr>\n",
              "    <tr>\n",
              "      <th>Total_edg</th>\n",
              "      <td>1.000000</td>\n",
              "    </tr>\n",
              "    <tr>\n",
              "      <th>edges</th>\n",
              "      <td>1.000000</td>\n",
              "    </tr>\n",
              "    <tr>\n",
              "      <th>Total_deg</th>\n",
              "      <td>1.000000</td>\n",
              "    </tr>\n",
              "    <tr>\n",
              "      <th>Total_deg</th>\n",
              "      <td>1.000000</td>\n",
              "    </tr>\n",
              "    <tr>\n",
              "      <th>Total_edg</th>\n",
              "      <td>1.000000</td>\n",
              "    </tr>\n",
              "    <tr>\n",
              "      <th>is_distance_regular</th>\n",
              "      <th>is_distance_regular</th>\n",
              "      <td>1.000000</td>\n",
              "    </tr>\n",
              "    <tr>\n",
              "      <th>label</th>\n",
              "      <th>label</th>\n",
              "      <td>1.000000</td>\n",
              "    </tr>\n",
              "  </tbody>\n",
              "</table>\n",
              "</div>"
            ],
            "text/plain": [
              "                                                0\n",
              "eccentricity        nodes                0.835506\n",
              "nodes               eccentricity         0.835506\n",
              "                    Total_deg            0.984553\n",
              "Total_edg           nodes                0.984553\n",
              "nodes               Total_edg            0.984553\n",
              "Total_deg           nodes                0.984553\n",
              "edges               nodes                0.984553\n",
              "nodes               Total_deg            0.984553\n",
              "Total_deg           nodes                0.984553\n",
              "nodes               edges                0.984553\n",
              "radius              avg_length           0.987999\n",
              "avg_length          radius               0.987999\n",
              "                    diameter             0.989839\n",
              "diameter            avg_length           0.989839\n",
              "                    radius               0.996331\n",
              "radius              diameter             0.996331\n",
              "is_eulerian         is_eulerian          1.000000\n",
              "edges               edges                1.000000\n",
              "is_distance_regular density              1.000000\n",
              "Total_edg           edges                1.000000\n",
              "STD_deg             STD_deg              1.000000\n",
              "                    STD_deg              1.000000\n",
              "                    STD_deg              1.000000\n",
              "                    STD_deg              1.000000\n",
              "STD_edg             STD_edg              1.000000\n",
              "IQR_deg             IQR_deg              1.000000\n",
              "Total_edg           Total_edg            1.000000\n",
              "IQR_edg             IQR_edg              1.000000\n",
              "med_edg             med_edg              1.000000\n",
              "avg_deg             avg_deg              1.000000\n",
              "avg_edg             avg_edg              1.000000\n",
              "nodes               nodes                1.000000\n",
              "edges               Total_deg            1.000000\n",
              "                    Total_deg            1.000000\n",
              "                    Total_edg            1.000000\n",
              "med_deg             med_deg              1.000000\n",
              "Total_edg           Total_deg            1.000000\n",
              "                    Total_deg            1.000000\n",
              "Total_deg           edges                1.000000\n",
              "n.connected.comp    n.connected.comp     1.000000\n",
              "density             is_distance_regular  1.000000\n",
              "                    density              1.000000\n",
              "periphery           periphery            1.000000\n",
              "center              center               1.000000\n",
              "eccentricity        eccentricity         1.000000\n",
              "diameter            diameter             1.000000\n",
              "radius              radius               1.000000\n",
              "avg_length          avg_length           1.000000\n",
              "is_connected        is_connected         1.000000\n",
              "Total_deg           Total_deg            1.000000\n",
              "                    Total_deg            1.000000\n",
              "                    Total_edg            1.000000\n",
              "                    edges                1.000000\n",
              "                    Total_deg            1.000000\n",
              "                    Total_deg            1.000000\n",
              "                    Total_edg            1.000000\n",
              "is_distance_regular is_distance_regular  1.000000\n",
              "label               label                1.000000"
            ]
          },
          "metadata": {
            "tags": []
          },
          "execution_count": 267
        }
      ]
    },
    {
      "cell_type": "markdown",
      "metadata": {
        "id": "n7O6p8KXLsX7",
        "colab_type": "text"
      },
      "source": [
        "#### Negative correlation"
      ]
    },
    {
      "cell_type": "code",
      "metadata": {
        "id": "BzbVC7_IL2OX",
        "colab_type": "code",
        "outputId": "7268e2c1-dbfb-4b32-ccec-e75b7df95ab1",
        "colab": {
          "base_uri": "https://localhost:8080/",
          "height": 49
        }
      },
      "source": [
        "sort_cor = co.sort_values(kind=\"quicksort\")\n",
        "pd.DataFrame(sort_cor[sort_cor < -0.8])"
      ],
      "execution_count": 0,
      "outputs": [
        {
          "output_type": "execute_result",
          "data": {
            "text/html": [
              "<div>\n",
              "<style scoped>\n",
              "    .dataframe tbody tr th:only-of-type {\n",
              "        vertical-align: middle;\n",
              "    }\n",
              "\n",
              "    .dataframe tbody tr th {\n",
              "        vertical-align: top;\n",
              "    }\n",
              "\n",
              "    .dataframe thead th {\n",
              "        text-align: right;\n",
              "    }\n",
              "</style>\n",
              "<table border=\"1\" class=\"dataframe\">\n",
              "  <thead>\n",
              "    <tr style=\"text-align: right;\">\n",
              "      <th></th>\n",
              "      <th></th>\n",
              "      <th>0</th>\n",
              "    </tr>\n",
              "  </thead>\n",
              "  <tbody>\n",
              "  </tbody>\n",
              "</table>\n",
              "</div>"
            ],
            "text/plain": [
              "Empty DataFrame\n",
              "Columns: [0]\n",
              "Index: []"
            ]
          },
          "metadata": {
            "tags": []
          },
          "execution_count": 268
        }
      ]
    },
    {
      "cell_type": "code",
      "metadata": {
        "id": "Y0A1sLGWzN77",
        "colab_type": "code",
        "colab": {}
      },
      "source": [
        "df=df.drop([\"is_distance_regular\",\"Total_edg\", \"avg_length\"],axis=1)"
      ],
      "execution_count": 0,
      "outputs": []
    },
    {
      "cell_type": "markdown",
      "metadata": {
        "id": "oDHHTmPuQqqT",
        "colab_type": "text"
      },
      "source": [
        "### Classification Model"
      ]
    },
    {
      "cell_type": "code",
      "metadata": {
        "id": "kSXRtzX1QhJh",
        "colab_type": "code",
        "colab": {}
      },
      "source": [
        "#Normalaize the data\n",
        "from sklearn.preprocessing import MinMaxScaler,StandardScaler\n",
        "\n",
        "orig_df=df.copy()\n",
        "scaler = MinMaxScaler()\n",
        "scaler.fit(df)\n",
        "data=scaler.transform(df)"
      ],
      "execution_count": 0,
      "outputs": []
    },
    {
      "cell_type": "code",
      "metadata": {
        "id": "jsGoVNxZQxDu",
        "colab_type": "code",
        "colab": {}
      },
      "source": [
        "tr_rows=labels_train.loc[:,'graph']-1\n",
        "te_rows=labels_test.loc[:,'graph']-1"
      ],
      "execution_count": 0,
      "outputs": []
    },
    {
      "cell_type": "code",
      "metadata": {
        "id": "nUaLfNAcUHFk",
        "colab_type": "code",
        "colab": {}
      },
      "source": [
        "train = data[tr_rows,:]\n",
        "test = data[te_rows,:]"
      ],
      "execution_count": 0,
      "outputs": []
    },
    {
      "cell_type": "code",
      "metadata": {
        "id": "Dclp3xqzRApQ",
        "colab_type": "code",
        "outputId": "0eef9fdc-5f55-4232-d6c2-04c8ee0f89a5",
        "colab": {
          "base_uri": "https://localhost:8080/",
          "height": 51
        }
      },
      "source": [
        "print(train.shape)\n",
        "print(test.shape)"
      ],
      "execution_count": 0,
      "outputs": [
        {
          "output_type": "stream",
          "text": [
            "(992, 23)\n",
            "(121, 23)\n"
          ],
          "name": "stdout"
        }
      ]
    },
    {
      "cell_type": "code",
      "metadata": {
        "id": "9VR7N-2fKVQs",
        "colab_type": "code",
        "colab": {}
      },
      "source": [
        "train_set = train[:,:-1]  # Independent features\n",
        "train_labels = train[:,-1] # Target feature\n",
        "test_set = test[:,:-1]  # Independent features\n",
        "test_labels = test[:,-1] # Target feature"
      ],
      "execution_count": 0,
      "outputs": []
    },
    {
      "cell_type": "code",
      "metadata": {
        "id": "UM55nNQlRZlW",
        "colab_type": "code",
        "colab": {}
      },
      "source": [
        "import lightgbm as lgb\n",
        "lgb_train = lgb.Dataset(train_set, train_labels, free_raw_data=False)\n",
        "lgb_test = lgb.Dataset(test_set, test_labels, reference=lgb_train, free_raw_data=False)"
      ],
      "execution_count": 0,
      "outputs": []
    },
    {
      "cell_type": "code",
      "metadata": {
        "id": "uRy0KV8hSJce",
        "colab_type": "code",
        "colab": {}
      },
      "source": [
        "#Select Hyper-Parameters\n",
        "params = {'boosting_type': 'gbdt',\n",
        "          'max_depth' : 20,\n",
        "          'objective': 'binary',\n",
        "          'nthread': 5,\n",
        "          'num_leaves': 65,\n",
        "          'learning_rate': 0.03,\n",
        "          'max_bin': 512,\n",
        "          'subsample_for_bin': 200,\n",
        "          'subsample': 1,\n",
        "          'subsample_freq': 1,\n",
        "          'colsample_bytree': 0.8,\n",
        "          'reg_alpha': 1.2,\n",
        "          'reg_lambda': 1.2,\n",
        "          'min_split_gain': 0.5,\n",
        "          'min_child_weight': 1,\n",
        "          'min_child_samples': 5,\n",
        "          'is_unbalance': True,\n",
        "          'num_class' : 1,\n",
        "          'metric' : 'binary_error',\n",
        "          }\n",
        "\n",
        "# Create parameters to search\n",
        "gridParams = {\n",
        "    'learning_rate': [0.03],\n",
        "    'n_estimators': [500],\n",
        "    'num_leaves': [20, 24, 27],\n",
        "    'boosting_type' : ['gbdt'],\n",
        "    'objective' : ['binary'],\n",
        "    'random_state' : [501], \n",
        "    'colsample_bytree' : [0.64, 0.65],\n",
        "    'subsample' : [0.5,0.75],\n",
        "    'reg_alpha' : [1, 1.2],\n",
        "    'reg_lambda' : [1.2, 1.4],\n",
        "    }\n",
        "\n",
        "# Create classifier to use\n",
        "mdl = lgb.LGBMClassifier(boosting_type= 'gbdt',\n",
        "          objective = 'binary',\n",
        "          n_jobs = 5, \n",
        "          silent = True,\n",
        "          max_depth = params['max_depth'],\n",
        "          max_bin = params['max_bin'],\n",
        "          subsample_for_bin = params['subsample_for_bin'],\n",
        "          subsample = params['subsample'],\n",
        "          subsample_freq = params['subsample_freq'],\n",
        "          min_split_gain = params['min_split_gain'],\n",
        "          min_child_weight = params['min_child_weight'],\n",
        "          min_child_samples = params['min_child_samples'],)"
      ],
      "execution_count": 0,
      "outputs": []
    },
    {
      "cell_type": "code",
      "metadata": {
        "id": "tDzRE5ceSJwK",
        "colab_type": "code",
        "colab": {}
      },
      "source": [
        "# Create the grid\n",
        "from sklearn.model_selection import GridSearchCV\n",
        "grid = GridSearchCV(mdl, gridParams, verbose=2, cv=4, n_jobs=-1)"
      ],
      "execution_count": 0,
      "outputs": []
    },
    {
      "cell_type": "code",
      "metadata": {
        "id": "UTHPktUjSftt",
        "colab_type": "code",
        "outputId": "1a680746-bda4-41e2-8e09-db37bf56aa59",
        "colab": {
          "base_uri": "https://localhost:8080/",
          "height": 156
        }
      },
      "source": [
        "# Run the grid\n",
        "grid.fit(train_set, train_labels)\n",
        "\n",
        "# Print the best parameters found\n",
        "print(grid.best_params_)\n",
        "print(grid.best_score_)"
      ],
      "execution_count": 0,
      "outputs": [
        {
          "output_type": "stream",
          "text": [
            "Fitting 4 folds for each of 48 candidates, totalling 192 fits\n"
          ],
          "name": "stdout"
        },
        {
          "output_type": "stream",
          "text": [
            "[Parallel(n_jobs=-1)]: Using backend LokyBackend with 2 concurrent workers.\n",
            "[Parallel(n_jobs=-1)]: Done  37 tasks      | elapsed:   25.9s\n",
            "[Parallel(n_jobs=-1)]: Done 158 tasks      | elapsed:  1.8min\n",
            "[Parallel(n_jobs=-1)]: Done 192 out of 192 | elapsed:  2.2min finished\n"
          ],
          "name": "stderr"
        },
        {
          "output_type": "stream",
          "text": [
            "{'boosting_type': 'gbdt', 'colsample_bytree': 0.64, 'learning_rate': 0.03, 'n_estimators': 500, 'num_leaves': 20, 'objective': 'binary', 'random_state': 501, 'reg_alpha': 1.2, 'reg_lambda': 1.4, 'subsample': 0.75}\n",
            "0.7167338709677419\n"
          ],
          "name": "stdout"
        }
      ]
    },
    {
      "cell_type": "code",
      "metadata": {
        "id": "cgZdwMrfSrLm",
        "colab_type": "code",
        "colab": {}
      },
      "source": [
        "# Using parameters already set above, replace in the best from the grid search\n",
        "params['colsample_bytree'] = grid.best_params_['colsample_bytree']\n",
        "params['learning_rate'] = grid.best_params_['learning_rate']\n",
        "params['n_estimators'] = grid.best_params_['n_estimators']\n",
        "params['objective'] = grid.best_params_['objective']\n",
        "params['random_state'] = grid.best_params_['random_state']\n",
        "params['subsample'] = grid.best_params_['subsample']"
      ],
      "execution_count": 0,
      "outputs": []
    },
    {
      "cell_type": "code",
      "metadata": {
        "id": "1BpFjigpSuIf",
        "colab_type": "code",
        "outputId": "c79e32a1-7149-48d3-b663-2da7e517e23f",
        "colab": {
          "base_uri": "https://localhost:8080/",
          "height": 85
        }
      },
      "source": [
        "%%time\n",
        "lgbm = lgb.train(params, lgb_train, num_boost_round=300)"
      ],
      "execution_count": 0,
      "outputs": [
        {
          "output_type": "stream",
          "text": [
            "/usr/local/lib/python3.6/dist-packages/lightgbm/engine.py:118: UserWarning: Found `n_estimators` in params. Will use it instead of argument\n",
            "  warnings.warn(\"Found `{}` in params. Will use it instead of argument\".format(alias))\n"
          ],
          "name": "stderr"
        },
        {
          "output_type": "stream",
          "text": [
            "CPU times: user 1.35 s, sys: 568 ms, total: 1.92 s\n",
            "Wall time: 1.47 s\n"
          ],
          "name": "stdout"
        }
      ]
    },
    {
      "cell_type": "code",
      "metadata": {
        "id": "jsMUdxG0SyOm",
        "colab_type": "code",
        "colab": {}
      },
      "source": [
        "y_prob = lgbm.predict(test_set)"
      ],
      "execution_count": 0,
      "outputs": []
    },
    {
      "cell_type": "code",
      "metadata": {
        "id": "D8P38CYVTVAK",
        "colab_type": "code",
        "colab": {}
      },
      "source": [
        "y_pred = np.where(y_prob > 0.5, 1, 0) #Turn probability to 0-1 binary output  "
      ],
      "execution_count": 0,
      "outputs": []
    },
    {
      "cell_type": "markdown",
      "metadata": {
        "id": "3-SSTBxkTeOC",
        "colab_type": "text"
      },
      "source": [
        "### Model Evaluation"
      ]
    },
    {
      "cell_type": "code",
      "metadata": {
        "id": "TNYOzVr3Tc0O",
        "colab_type": "code",
        "outputId": "64525968-54b6-4e42-8d0a-33ed888caf6a",
        "colab": {
          "base_uri": "https://localhost:8080/",
          "height": 427
        }
      },
      "source": [
        "#Print Confusion Matrix\n",
        "from sklearn.metrics import confusion_matrix, recall_score, precision_score, f1_score, roc_curve, roc_auc_score\n",
        "\n",
        "plt.figure()\n",
        "cm = confusion_matrix(test_labels, y_pred)\n",
        "labels = ['1', '0']\n",
        "plt.figure(figsize=(8,6))\n",
        "sns.heatmap(cm, xticklabels = labels, yticklabels = labels, annot = True, fmt='d', cmap=\"Blues\", vmin = 0.2);\n",
        "plt.title('Confusion Matrix')\n",
        "plt.ylabel('True Class')\n",
        "plt.xlabel('Predicted Class')\n",
        "plt.show()"
      ],
      "execution_count": 0,
      "outputs": [
        {
          "output_type": "display_data",
          "data": {
            "text/plain": [
              "<Figure size 432x288 with 0 Axes>"
            ]
          },
          "metadata": {
            "tags": []
          }
        },
        {
          "output_type": "display_data",
          "data": {
            "image/png": "[encoded data removed]",
            "text/plain": [
              "<Figure size 576x432 with 2 Axes>"
            ]
          },
          "metadata": {
            "tags": []
          }
        }
      ]
    },
    {
      "cell_type": "markdown",
      "metadata": {
        "id": "cTn9nqjbTqg3",
        "colab_type": "text"
      },
      "source": [
        "#### Precision , Recall and F1 score"
      ]
    },
    {
      "cell_type": "code",
      "metadata": {
        "id": "y4DAxZYXTdtT",
        "colab_type": "code",
        "colab": {}
      },
      "source": [
        "y_prob = pd.DataFrame(y_prob)"
      ],
      "execution_count": 0,
      "outputs": []
    },
    {
      "cell_type": "code",
      "metadata": {
        "id": "xDaVYinfTo5U",
        "colab_type": "code",
        "colab": {}
      },
      "source": [
        "# calculate roc curve\n",
        "fpr, tpr, thresholds = roc_curve(test_labels, y_prob)"
      ],
      "execution_count": 0,
      "outputs": []
    },
    {
      "cell_type": "code",
      "metadata": {
        "id": "KY6LbDJUTuzo",
        "colab_type": "code",
        "outputId": "0f110a9e-e25e-40c3-ec49-30b322cb21f4",
        "colab": {
          "base_uri": "https://localhost:8080/",
          "height": 34
        }
      },
      "source": [
        "# calculate AUC\n",
        "auc = roc_auc_score(test_labels, y_prob)\n",
        "print('AUC: %.3f' % auc)"
      ],
      "execution_count": 0,
      "outputs": [
        {
          "output_type": "stream",
          "text": [
            "AUC: 0.854\n"
          ],
          "name": "stdout"
        }
      ]
    },
    {
      "cell_type": "code",
      "metadata": {
        "id": "dlfDhYpVTwNU",
        "colab_type": "code",
        "outputId": "0a584dd1-1212-4eef-cf5d-73cf0fde215e",
        "colab": {
          "base_uri": "https://localhost:8080/",
          "height": 34
        }
      },
      "source": [
        "print(\"Recall: {0}\".format(round(recall_score(test_labels, y_pred),4)))"
      ],
      "execution_count": 0,
      "outputs": [
        {
          "output_type": "stream",
          "text": [
            "Recall: 0.7255\n"
          ],
          "name": "stdout"
        }
      ]
    },
    {
      "cell_type": "code",
      "metadata": {
        "id": "sokc9qEpTziU",
        "colab_type": "code",
        "outputId": "10a107ec-9af1-4be8-891a-f8f0b963c2ee",
        "colab": {
          "base_uri": "https://localhost:8080/",
          "height": 34
        }
      },
      "source": [
        "print(\"Precision: {0}\".format(round(precision_score(test_labels, y_pred),4)))"
      ],
      "execution_count": 0,
      "outputs": [
        {
          "output_type": "stream",
          "text": [
            "Precision: 0.6981\n"
          ],
          "name": "stdout"
        }
      ]
    },
    {
      "cell_type": "code",
      "metadata": {
        "id": "jrhma0gvTzyI",
        "colab_type": "code",
        "outputId": "07ff9c05-da4c-4d3b-9bcf-0e7717cc47c1",
        "colab": {
          "base_uri": "https://localhost:8080/",
          "height": 34
        }
      },
      "source": [
        "# calculate F1 score\n",
        "f1_score(test_labels, y_pred)"
      ],
      "execution_count": 0,
      "outputs": [
        {
          "output_type": "execute_result",
          "data": {
            "text/plain": [
              "0.7115384615384615"
            ]
          },
          "metadata": {
            "tags": []
          },
          "execution_count": 333
        }
      ]
    }
  ]
}