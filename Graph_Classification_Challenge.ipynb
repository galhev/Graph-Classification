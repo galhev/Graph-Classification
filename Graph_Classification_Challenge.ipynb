{
  "nbformat": 4,
  "nbformat_minor": 0,
  "metadata": {
    "colab": {
      "name": "Graph Classification Challenge.ipynb",
      "version": "0.3.2",
      "provenance": [],
      "collapsed_sections": [],
      "include_colab_link": true
    },
    "kernelspec": {
      "name": "python3",
      "display_name": "Python 3"
    }
  },
  "cells": [
    {
      "cell_type": "markdown",
      "metadata": {
        "id": "view-in-github",
        "colab_type": "text"
      },
      "source": [
        "<a href=\"https://colab.research.google.com/github/galhev/Graph-Classification/blob/master/Graph_Classification_Challenge.ipynb\" target=\"_parent\"><img src=\"https://colab.research.google.com/assets/colab-badge.svg\" alt=\"Open In Colab\"/></a>"
      ]
    },
    {
      "cell_type": "markdown",
      "metadata": {
        "id": "MHvkn8U1yEPX",
        "colab_type": "text"
      },
      "source": [
        "Graph Classification Challenge"
      ]
    },
    {
      "cell_type": "markdown",
      "metadata": {
        "id": "a_2dGTO5vbX9",
        "colab_type": "text"
      },
      "source": [
        "By: Gal Hever"
      ]
    },
    {
      "cell_type": "markdown",
      "metadata": {
        "id": "eHsD2DSEw8kS",
        "colab_type": "text"
      },
      "source": [
        "In this challenge you'll be classifying graphs, which is the basis for the work we do at Intelici.\n",
        "\n",
        "This is a binary classification challenge with 992 graphs in the training set, and 121 in the test set. In order to extract graph features, you may use all algorithms and functions that networkx (or any other library) provides you, or write your own.\n",
        "\n",
        "We don't have the ground truth for this data. Instead, four annotators with different skill levels tagged the data, so you'll need to find a way to obtain labels to use for training.\n",
        "\n",
        "The purpose of this challenge is to see how you work. Writing clean and orderly code and demonstrating understanding is more important than receiving perfect results.\n",
        "\n",
        "# Layout\n",
        "- graphs/ contains 1113 graph files in edge list format\n",
        "- classes_train.csv contains 5 columns: Graph filename, Annotator 1, Annotator 2, Annotator 3, Annotator 4\n",
        "- classes_test.csv contains 2 columns: Graph filenae, class"
      ]
    },
    {
      "cell_type": "markdown",
      "metadata": {
        "id": "SgjKjJuwJN5h",
        "colab_type": "text"
      },
      "source": [
        "### Import Data"
      ]
    },
    {
      "cell_type": "code",
      "metadata": {
        "id": "w6pM2E_mjd-_",
        "colab_type": "code",
        "colab": {}
      },
      "source": [
        "import networkx as nx\n",
        "import matplotlib.pyplot as plt\n",
        "import pandas as pd\n",
        "import numpy as np\n",
        "import matplotlib.pyplot as plt\n",
        "import seaborn as sns\n",
        "import sklearn"
      ],
      "execution_count": 0,
      "outputs": []
    },
    {
      "cell_type": "markdown",
      "metadata": {
        "id": "v6BZzkHVVkce",
        "colab_type": "text"
      },
      "source": [
        "#### If you need to prepare the data  use the next steps"
      ]
    },
    {
      "cell_type": "markdown",
      "metadata": {
        "id": "Wsztq1_hWvKV",
        "colab_type": "text"
      },
      "source": [
        "##### Uplaod graph files"
      ]
    },
    {
      "cell_type": "code",
      "metadata": {
        "id": "FxTEIPbHb5Zr",
        "colab_type": "code",
        "outputId": "483f9997-be2c-444f-ab15-0baa262ae0d2",
        "colab": {
          "resources": {
            "http://localhost:8080/nbextensions/google.colab/files.js": {
              "data": "Ly8gQ29weXJpZ2h0IDIwMTcgR29vZ2xlIExMQwovLwovLyBMaWNlbnNlZCB1bmRlciB0aGUgQXBhY2hlIExpY2Vuc2UsIFZlcnNpb24gMi4wICh0aGUgIkxpY2Vuc2UiKTsKLy8geW91IG1heSBub3QgdXNlIHRoaXMgZmlsZSBleGNlcHQgaW4gY29tcGxpYW5jZSB3aXRoIHRoZSBMaWNlbnNlLgovLyBZb3UgbWF5IG9idGFpbiBhIGNvcHkgb2YgdGhlIExpY2Vuc2UgYXQKLy8KLy8gICAgICBodHRwOi8vd3d3LmFwYWNoZS5vcmcvbGljZW5zZXMvTElDRU5TRS0yLjAKLy8KLy8gVW5sZXNzIHJlcXVpcmVkIGJ5IGFwcGxpY2FibGUgbGF3IG9yIGFncmVlZCB0byBpbiB3cml0aW5nLCBzb2Z0d2FyZQovLyBkaXN0cmlidXRlZCB1bmRlciB0aGUgTGljZW5zZSBpcyBkaXN0cmlidXRlZCBvbiBhbiAiQVMgSVMiIEJBU0lTLAovLyBXSVRIT1VUIFdBUlJBTlRJRVMgT1IgQ09ORElUSU9OUyBPRiBBTlkgS0lORCwgZWl0aGVyIGV4cHJlc3Mgb3IgaW1wbGllZC4KLy8gU2VlIHRoZSBMaWNlbnNlIGZvciB0aGUgc3BlY2lmaWMgbGFuZ3VhZ2UgZ292ZXJuaW5nIHBlcm1pc3Npb25zIGFuZAovLyBsaW1pdGF0aW9ucyB1bmRlciB0aGUgTGljZW5zZS4KCi8qKgogKiBAZmlsZW92ZXJ2aWV3IEhlbHBlcnMgZm9yIGdvb2dsZS5jb2xhYiBQeXRob24gbW9kdWxlLgogKi8KKGZ1bmN0aW9uKHNjb3BlKSB7CmZ1bmN0aW9uIHNwYW4odGV4dCwgc3R5bGVBdHRyaWJ1dGVzID0ge30pIHsKICBjb25zdCBlbGVtZW50ID0gZG9jdW1lbnQuY3JlYXRlRWxlbWVudCgnc3BhbicpOwogIGVsZW1lbnQudGV4dENvbnRlbnQgPSB0ZXh0OwogIGZvciAoY29uc3Qga2V5IG9mIE9iamVjdC5rZXlzKHN0eWxlQXR0cmlidXRlcykpIHsKICAgIGVsZW1lbnQuc3R5bGVba2V5XSA9IHN0eWxlQXR0cmlidXRlc1trZXldOwogIH0KICByZXR1cm4gZWxlbWVudDsKfQoKLy8gTWF4IG51bWJlciBvZiBieXRlcyB3aGljaCB3aWxsIGJlIHVwbG9hZGVkIGF0IGEgdGltZS4KY29uc3QgTUFYX1BBWUxPQURfU0laRSA9IDEwMCAqIDEwMjQ7Ci8vIE1heCBhbW91bnQgb2YgdGltZSB0byBibG9jayB3YWl0aW5nIGZvciB0aGUgdXNlci4KY29uc3QgRklMRV9DSEFOR0VfVElNRU9VVF9NUyA9IDMwICogMTAwMDsKCmZ1bmN0aW9uIF91cGxvYWRGaWxlcyhpbnB1dElkLCBvdXRwdXRJZCkgewogIGNvbnN0IHN0ZXBzID0gdXBsb2FkRmlsZXNTdGVwKGlucHV0SWQsIG91dHB1dElkKTsKICBjb25zdCBvdXRwdXRFbGVtZW50ID0gZG9jdW1lbnQuZ2V0RWxlbWVudEJ5SWQob3V0cHV0SWQpOwogIC8vIENhY2hlIHN0ZXBzIG9uIHRoZSBvdXRwdXRFbGVtZW50IHRvIG1ha2UgaXQgYXZhaWxhYmxlIGZvciB0aGUgbmV4dCBjYWxsCiAgLy8gdG8gdXBsb2FkRmlsZXNDb250aW51ZSBmcm9tIFB5dGhvbi4KICBvdXRwdXRFbGVtZW50LnN0ZXBzID0gc3RlcHM7CgogIHJldHVybiBfdXBsb2FkRmlsZXNDb250aW51ZShvdXRwdXRJZCk7Cn0KCi8vIFRoaXMgaXMgcm91Z2hseSBhbiBhc3luYyBnZW5lcmF0b3IgKG5vdCBzdXBwb3J0ZWQgaW4gdGhlIGJyb3dzZXIgeWV0KSwKLy8gd2hlcmUgdGhlcmUgYXJlIG11bHRpcGxlIGFzeW5jaHJvbm91cyBzdGVwcyBhbmQgdGhlIFB5dGhvbiBzaWRlIGlzIGdvaW5nCi8vIHRvIHBvbGwgZm9yIGNvbXBsZXRpb24gb2YgZWFjaCBzdGVwLgovLyBUaGlzIHVzZXMgYSBQcm9taXNlIHRvIGJsb2NrIHRoZSBweXRob24gc2lkZSBvbiBjb21wbGV0aW9uIG9mIGVhY2ggc3RlcCwKLy8gdGhlbiBwYXNzZXMgdGhlIHJlc3VsdCBvZiB0aGUgcHJldmlvdXMgc3RlcCBhcyB0aGUgaW5wdXQgdG8gdGhlIG5leHQgc3RlcC4KZnVuY3Rpb24gX3VwbG9hZEZpbGVzQ29udGludWUob3V0cHV0SWQpIHsKICBjb25zdCBvdXRwdXRFbGVtZW50ID0gZG9jdW1lbnQuZ2V0RWxlbWVudEJ5SWQob3V0cHV0SWQpOwogIGNvbnN0IHN0ZXBzID0gb3V0cHV0RWxlbWVudC5zdGVwczsKCiAgY29uc3QgbmV4dCA9IHN0ZXBzLm5leHQob3V0cHV0RWxlbWVudC5sYXN0UHJvbWlzZVZhbHVlKTsKICByZXR1cm4gUHJvbWlzZS5yZXNvbHZlKG5leHQudmFsdWUucHJvbWlzZSkudGhlbigodmFsdWUpID0+IHsKICAgIC8vIENhY2hlIHRoZSBsYXN0IHByb21pc2UgdmFsdWUgdG8gbWFrZSBpdCBhdmFpbGFibGUgdG8gdGhlIG5leHQKICAgIC8vIHN0ZXAgb2YgdGhlIGdlbmVyYXRvci4KICAgIG91dHB1dEVsZW1lbnQubGFzdFByb21pc2VWYWx1ZSA9IHZhbHVlOwogICAgcmV0dXJuIG5leHQudmFsdWUucmVzcG9uc2U7CiAgfSk7Cn0KCi8qKgogKiBHZW5lcmF0b3IgZnVuY3Rpb24gd2hpY2ggaXMgY2FsbGVkIGJldHdlZW4gZWFjaCBhc3luYyBzdGVwIG9mIHRoZSB1cGxvYWQKICogcHJvY2Vzcy4KICogQHBhcmFtIHtzdHJpbmd9IGlucHV0SWQgRWxlbWVudCBJRCBvZiB0aGUgaW5wdXQgZmlsZSBwaWNrZXIgZWxlbWVudC4KICogQHBhcmFtIHtzdHJpbmd9IG91dHB1dElkIEVsZW1lbnQgSUQgb2YgdGhlIG91dHB1dCBkaXNwbGF5LgogKiBAcmV0dXJuIHshSXRlcmFibGU8IU9iamVjdD59IEl0ZXJhYmxlIG9mIG5leHQgc3RlcHMuCiAqLwpmdW5jdGlvbiogdXBsb2FkRmlsZXNTdGVwKGlucHV0SWQsIG91dHB1dElkKSB7CiAgY29uc3QgaW5wdXRFbGVtZW50ID0gZG9jdW1lbnQuZ2V0RWxlbWVudEJ5SWQoaW5wdXRJZCk7CiAgaW5wdXRFbGVtZW50LmRpc2FibGVkID0gZmFsc2U7CgogIGNvbnN0IG91dHB1dEVsZW1lbnQgPSBkb2N1bWVudC5nZXRFbGVtZW50QnlJZChvdXRwdXRJZCk7CiAgb3V0cHV0RWxlbWVudC5pbm5lckhUTUwgPSAnJzsKCiAgY29uc3QgcGlja2VkUHJvbWlzZSA9IG5ldyBQcm9taXNlKChyZXNvbHZlKSA9PiB7CiAgICBpbnB1dEVsZW1lbnQuYWRkRXZlbnRMaXN0ZW5lcignY2hhbmdlJywgKGUpID0+IHsKICAgICAgcmVzb2x2ZShlLnRhcmdldC5maWxlcyk7CiAgICB9KTsKICB9KTsKCiAgY29uc3QgY2FuY2VsID0gZG9jdW1lbnQuY3JlYXRlRWxlbWVudCgnYnV0dG9uJyk7CiAgaW5wdXRFbGVtZW50LnBhcmVudEVsZW1lbnQuYXBwZW5kQ2hpbGQoY2FuY2VsKTsKICBjYW5jZWwudGV4dENvbnRlbnQgPSAnQ2FuY2VsIHVwbG9hZCc7CiAgY29uc3QgY2FuY2VsUHJvbWlzZSA9IG5ldyBQcm9taXNlKChyZXNvbHZlKSA9PiB7CiAgICBjYW5jZWwub25jbGljayA9ICgpID0+IHsKICAgICAgcmVzb2x2ZShudWxsKTsKICAgIH07CiAgfSk7CgogIC8vIENhbmNlbCB1cGxvYWQgaWYgdXNlciBoYXNuJ3QgcGlja2VkIGFueXRoaW5nIGluIHRpbWVvdXQuCiAgY29uc3QgdGltZW91dFByb21pc2UgPSBuZXcgUHJvbWlzZSgocmVzb2x2ZSkgPT4gewogICAgc2V0VGltZW91dCgoKSA9PiB7CiAgICAgIHJlc29sdmUobnVsbCk7CiAgICB9LCBGSUxFX0NIQU5HRV9USU1FT1VUX01TKTsKICB9KTsKCiAgLy8gV2FpdCBmb3IgdGhlIHVzZXIgdG8gcGljayB0aGUgZmlsZXMuCiAgY29uc3QgZmlsZXMgPSB5aWVsZCB7CiAgICBwcm9taXNlOiBQcm9taXNlLnJhY2UoW3BpY2tlZFByb21pc2UsIHRpbWVvdXRQcm9taXNlLCBjYW5jZWxQcm9taXNlXSksCiAgICByZXNwb25zZTogewogICAgICBhY3Rpb246ICdzdGFydGluZycsCiAgICB9CiAgfTsKCiAgaWYgKCFmaWxlcykgewogICAgcmV0dXJuIHsKICAgICAgcmVzcG9uc2U6IHsKICAgICAgICBhY3Rpb246ICdjb21wbGV0ZScsCiAgICAgIH0KICAgIH07CiAgfQoKICBjYW5jZWwucmVtb3ZlKCk7CgogIC8vIERpc2FibGUgdGhlIGlucHV0IGVsZW1lbnQgc2luY2UgZnVydGhlciBwaWNrcyBhcmUgbm90IGFsbG93ZWQuCiAgaW5wdXRFbGVtZW50LmRpc2FibGVkID0gdHJ1ZTsKCiAgZm9yIChjb25zdCBmaWxlIG9mIGZpbGVzKSB7CiAgICBjb25zdCBsaSA9IGRvY3VtZW50LmNyZWF0ZUVsZW1lbnQoJ2xpJyk7CiAgICBsaS5hcHBlbmQoc3BhbihmaWxlLm5hbWUsIHtmb250V2VpZ2h0OiAnYm9sZCd9KSk7CiAgICBsaS5hcHBlbmQoc3BhbigKICAgICAgICBgKCR7ZmlsZS50eXBlIHx8ICduL2EnfSkgLSAke2ZpbGUuc2l6ZX0gYnl0ZXMsIGAgKwogICAgICAgIGBsYXN0IG1vZGlmaWVkOiAkewogICAgICAgICAgICBmaWxlLmxhc3RNb2RpZmllZERhdGUgPyBmaWxlLmxhc3RNb2RpZmllZERhdGUudG9Mb2NhbGVEYXRlU3RyaW5nKCkgOgogICAgICAgICAgICAgICAgICAgICAgICAgICAgICAgICAgICAnbi9hJ30gLSBgKSk7CiAgICBjb25zdCBwZXJjZW50ID0gc3BhbignMCUgZG9uZScpOwogICAgbGkuYXBwZW5kQ2hpbGQocGVyY2VudCk7CgogICAgb3V0cHV0RWxlbWVudC5hcHBlbmRDaGlsZChsaSk7CgogICAgY29uc3QgZmlsZURhdGFQcm9taXNlID0gbmV3IFByb21pc2UoKHJlc29sdmUpID0+IHsKICAgICAgY29uc3QgcmVhZGVyID0gbmV3IEZpbGVSZWFkZXIoKTsKICAgICAgcmVhZGVyLm9ubG9hZCA9IChlKSA9PiB7CiAgICAgICAgcmVzb2x2ZShlLnRhcmdldC5yZXN1bHQpOwogICAgICB9OwogICAgICByZWFkZXIucmVhZEFzQXJyYXlCdWZmZXIoZmlsZSk7CiAgICB9KTsKICAgIC8vIFdhaXQgZm9yIHRoZSBkYXRhIHRvIGJlIHJlYWR5LgogICAgbGV0IGZpbGVEYXRhID0geWllbGQgewogICAgICBwcm9taXNlOiBmaWxlRGF0YVByb21pc2UsCiAgICAgIHJlc3BvbnNlOiB7CiAgICAgICAgYWN0aW9uOiAnY29udGludWUnLAogICAgICB9CiAgICB9OwoKICAgIC8vIFVzZSBhIGNodW5rZWQgc2VuZGluZyB0byBhdm9pZCBtZXNzYWdlIHNpemUgbGltaXRzLiBTZWUgYi82MjExNTY2MC4KICAgIGxldCBwb3NpdGlvbiA9IDA7CiAgICB3aGlsZSAocG9zaXRpb24gPCBmaWxlRGF0YS5ieXRlTGVuZ3RoKSB7CiAgICAgIGNvbnN0IGxlbmd0aCA9IE1hdGgubWluKGZpbGVEYXRhLmJ5dGVMZW5ndGggLSBwb3NpdGlvbiwgTUFYX1BBWUxPQURfU0laRSk7CiAgICAgIGNvbnN0IGNodW5rID0gbmV3IFVpbnQ4QXJyYXkoZmlsZURhdGEsIHBvc2l0aW9uLCBsZW5ndGgpOwogICAgICBwb3NpdGlvbiArPSBsZW5ndGg7CgogICAgICBjb25zdCBiYXNlNjQgPSBidG9hKFN0cmluZy5mcm9tQ2hhckNvZGUuYXBwbHkobnVsbCwgY2h1bmspKTsKICAgICAgeWllbGQgewogICAgICAgIHJlc3BvbnNlOiB7CiAgICAgICAgICBhY3Rpb246ICdhcHBlbmQnLAogICAgICAgICAgZmlsZTogZmlsZS5uYW1lLAogICAgICAgICAgZGF0YTogYmFzZTY0LAogICAgICAgIH0sCiAgICAgIH07CiAgICAgIHBlcmNlbnQudGV4dENvbnRlbnQgPQogICAgICAgICAgYCR7TWF0aC5yb3VuZCgocG9zaXRpb24gLyBmaWxlRGF0YS5ieXRlTGVuZ3RoKSAqIDEwMCl9JSBkb25lYDsKICAgIH0KICB9CgogIC8vIEFsbCBkb25lLgogIHlpZWxkIHsKICAgIHJlc3BvbnNlOiB7CiAgICAgIGFjdGlvbjogJ2NvbXBsZXRlJywKICAgIH0KICB9Owp9CgpzY29wZS5nb29nbGUgPSBzY29wZS5nb29nbGUgfHwge307CnNjb3BlLmdvb2dsZS5jb2xhYiA9IHNjb3BlLmdvb2dsZS5jb2xhYiB8fCB7fTsKc2NvcGUuZ29vZ2xlLmNvbGFiLl9maWxlcyA9IHsKICBfdXBsb2FkRmlsZXMsCiAgX3VwbG9hZEZpbGVzQ29udGludWUsCn07Cn0pKHNlbGYpOwo=",
              "ok": true,
              "headers": [
                [
                  "content-type",
                  "application/javascript"
                ]
              ],
              "status": 200,
              "status_text": ""
            }
          },
          "base_uri": "https://localhost:8080/",
          "height": 37882
        }
      },
      "source": [
        "from google.colab import files\n",
        "uploaded = files.upload()"
      ],
      "execution_count": 0,
      "outputs": [
        {
          "output_type": "display_data",
          "data": {
            "text/html": [
              "\n",
              "     <input type=\"file\" id=\"files-062be452-85a2-4a22-82b1-c5e01cc9eb22\" name=\"files[]\" multiple disabled />\n",
              "     <output id=\"result-062be452-85a2-4a22-82b1-c5e01cc9eb22\">\n",
              "      Upload widget is only available when the cell has been executed in the\n",
              "      current browser session. Please rerun this cell to enable.\n",
              "      </output>\n",
              "      <script src=\"/nbextensions/google.colab/files.js\"></script> "
            ],
            "text/plain": [
              "<IPython.core.display.HTML object>"
            ]
          },
          "metadata": {
            "tags": []
          }
        },
        {
          "output_type": "stream",
          "text": [
            "Saving 1 to 1\n",
            "Saving 2 to 2\n",
            "Saving 3 to 3\n",
            "Saving 4 to 4\n",
            "Saving 5 to 5\n",
            "Saving 6 to 6\n",
            "Saving 7 to 7\n",
            "Saving 8 to 8\n",
            "Saving 9 to 9\n",
            "Saving 10 to 10\n",
            "Saving 11 to 11\n",
            "Saving 12 to 12\n",
            "Saving 13 to 13\n",
            "Saving 14 to 14\n",
            "Saving 15 to 15\n",
            "Saving 16 to 16\n",
            "Saving 17 to 17\n",
            "Saving 18 to 18\n",
            "Saving 19 to 19\n",
            "Saving 20 to 20\n",
            "Saving 21 to 21\n",
            "Saving 22 to 22\n",
            "Saving 23 to 23\n",
            "Saving 24 to 24\n",
            "Saving 25 to 25\n",
            "Saving 26 to 26\n",
            "Saving 27 to 27\n",
            "Saving 28 to 28\n",
            "Saving 29 to 29\n",
            "Saving 30 to 30\n",
            "Saving 31 to 31\n",
            "Saving 32 to 32\n",
            "Saving 33 to 33\n",
            "Saving 34 to 34\n",
            "Saving 35 to 35\n",
            "Saving 36 to 36\n",
            "Saving 37 to 37\n",
            "Saving 38 to 38\n",
            "Saving 39 to 39\n",
            "Saving 40 to 40\n",
            "Saving 41 to 41\n",
            "Saving 42 to 42\n",
            "Saving 43 to 43\n",
            "Saving 44 to 44\n",
            "Saving 45 to 45\n",
            "Saving 46 to 46\n",
            "Saving 47 to 47\n",
            "Saving 48 to 48\n",
            "Saving 49 to 49\n",
            "Saving 50 to 50\n",
            "Saving 51 to 51\n",
            "Saving 52 to 52\n",
            "Saving 53 to 53\n",
            "Saving 54 to 54\n",
            "Saving 55 to 55\n",
            "Saving 56 to 56\n",
            "Saving 57 to 57\n",
            "Saving 58 to 58\n",
            "Saving 59 to 59\n",
            "Saving 60 to 60\n",
            "Saving 61 to 61\n",
            "Saving 62 to 62\n",
            "Saving 63 to 63\n",
            "Saving 64 to 64\n",
            "Saving 65 to 65\n",
            "Saving 66 to 66\n",
            "Saving 67 to 67\n",
            "Saving 68 to 68\n",
            "Saving 69 to 69\n",
            "Saving 70 to 70\n",
            "Saving 71 to 71\n",
            "Saving 72 to 72\n",
            "Saving 73 to 73\n",
            "Saving 74 to 74\n",
            "Saving 75 to 75\n",
            "Saving 76 to 76\n",
            "Saving 77 to 77\n",
            "Saving 78 to 78\n",
            "Saving 79 to 79\n",
            "Saving 80 to 80\n",
            "Saving 81 to 81\n",
            "Saving 82 to 82\n",
            "Saving 83 to 83\n",
            "Saving 84 to 84\n",
            "Saving 85 to 85\n",
            "Saving 86 to 86\n",
            "Saving 87 to 87\n",
            "Saving 88 to 88\n",
            "Saving 89 to 89\n",
            "Saving 90 to 90\n",
            "Saving 91 to 91\n",
            "Saving 92 to 92\n",
            "Saving 93 to 93\n",
            "Saving 94 to 94\n",
            "Saving 95 to 95\n",
            "Saving 96 to 96\n",
            "Saving 97 to 97\n",
            "Saving 98 to 98\n",
            "Saving 99 to 99\n",
            "Saving 100 to 100\n",
            "Saving 101 to 101\n",
            "Saving 102 to 102\n",
            "Saving 103 to 103\n",
            "Saving 104 to 104\n",
            "Saving 105 to 105\n",
            "Saving 106 to 106\n",
            "Saving 107 to 107\n",
            "Saving 108 to 108\n",
            "Saving 109 to 109\n",
            "Saving 110 to 110\n",
            "Saving 111 to 111\n",
            "Saving 112 to 112\n",
            "Saving 113 to 113\n",
            "Saving 114 to 114\n",
            "Saving 115 to 115\n",
            "Saving 116 to 116\n",
            "Saving 117 to 117\n",
            "Saving 118 to 118\n",
            "Saving 119 to 119\n",
            "Saving 120 to 120\n",
            "Saving 121 to 121\n",
            "Saving 122 to 122\n",
            "Saving 123 to 123\n",
            "Saving 124 to 124\n",
            "Saving 125 to 125\n",
            "Saving 126 to 126\n",
            "Saving 127 to 127\n",
            "Saving 128 to 128\n",
            "Saving 129 to 129\n",
            "Saving 130 to 130\n",
            "Saving 131 to 131\n",
            "Saving 132 to 132\n",
            "Saving 133 to 133\n",
            "Saving 134 to 134\n",
            "Saving 135 to 135\n",
            "Saving 136 to 136\n",
            "Saving 137 to 137\n",
            "Saving 138 to 138\n",
            "Saving 139 to 139\n",
            "Saving 140 to 140\n",
            "Saving 141 to 141\n",
            "Saving 142 to 142\n",
            "Saving 143 to 143\n",
            "Saving 144 to 144\n",
            "Saving 145 to 145\n",
            "Saving 146 to 146\n",
            "Saving 147 to 147\n",
            "Saving 148 to 148\n",
            "Saving 149 to 149\n",
            "Saving 150 to 150\n",
            "Saving 151 to 151\n",
            "Saving 152 to 152\n",
            "Saving 153 to 153\n",
            "Saving 154 to 154\n",
            "Saving 155 to 155\n",
            "Saving 156 to 156\n",
            "Saving 157 to 157\n",
            "Saving 158 to 158\n",
            "Saving 159 to 159\n",
            "Saving 160 to 160\n",
            "Saving 161 to 161\n",
            "Saving 162 to 162\n",
            "Saving 163 to 163\n",
            "Saving 164 to 164\n",
            "Saving 165 to 165\n",
            "Saving 166 to 166\n",
            "Saving 167 to 167\n",
            "Saving 168 to 168\n",
            "Saving 169 to 169\n",
            "Saving 170 to 170\n",
            "Saving 171 to 171\n",
            "Saving 172 to 172\n",
            "Saving 173 to 173\n",
            "Saving 174 to 174\n",
            "Saving 175 to 175\n",
            "Saving 176 to 176\n",
            "Saving 177 to 177\n",
            "Saving 178 to 178\n",
            "Saving 179 to 179\n",
            "Saving 180 to 180\n",
            "Saving 181 to 181\n",
            "Saving 182 to 182\n",
            "Saving 183 to 183\n",
            "Saving 184 to 184\n",
            "Saving 185 to 185\n",
            "Saving 186 to 186\n",
            "Saving 187 to 187\n",
            "Saving 188 to 188\n",
            "Saving 189 to 189\n",
            "Saving 190 to 190\n",
            "Saving 191 to 191\n",
            "Saving 192 to 192\n",
            "Saving 193 to 193\n",
            "Saving 194 to 194\n",
            "Saving 195 to 195\n",
            "Saving 196 to 196\n",
            "Saving 197 to 197\n",
            "Saving 198 to 198\n",
            "Saving 199 to 199\n",
            "Saving 200 to 200\n",
            "Saving 201 to 201\n",
            "Saving 202 to 202\n",
            "Saving 203 to 203\n",
            "Saving 204 to 204\n",
            "Saving 205 to 205\n",
            "Saving 206 to 206\n",
            "Saving 207 to 207\n",
            "Saving 208 to 208\n",
            "Saving 209 to 209\n",
            "Saving 210 to 210\n",
            "Saving 211 to 211\n",
            "Saving 212 to 212\n",
            "Saving 213 to 213\n",
            "Saving 214 to 214\n",
            "Saving 215 to 215\n",
            "Saving 216 to 216\n",
            "Saving 217 to 217\n",
            "Saving 218 to 218\n",
            "Saving 219 to 219\n",
            "Saving 220 to 220\n",
            "Saving 221 to 221\n",
            "Saving 222 to 222\n",
            "Saving 223 to 223\n",
            "Saving 224 to 224\n",
            "Saving 225 to 225\n",
            "Saving 226 to 226\n",
            "Saving 227 to 227\n",
            "Saving 228 to 228\n",
            "Saving 229 to 229\n",
            "Saving 230 to 230\n",
            "Saving 231 to 231\n",
            "Saving 232 to 232\n",
            "Saving 233 to 233\n",
            "Saving 234 to 234\n",
            "Saving 235 to 235\n",
            "Saving 236 to 236\n",
            "Saving 237 to 237\n",
            "Saving 238 to 238\n",
            "Saving 239 to 239\n",
            "Saving 240 to 240\n",
            "Saving 241 to 241\n",
            "Saving 242 to 242\n",
            "Saving 243 to 243\n",
            "Saving 244 to 244\n",
            "Saving 245 to 245\n",
            "Saving 246 to 246\n",
            "Saving 247 to 247\n",
            "Saving 248 to 248\n",
            "Saving 249 to 249\n",
            "Saving 250 to 250\n",
            "Saving 251 to 251\n",
            "Saving 252 to 252\n",
            "Saving 253 to 253\n",
            "Saving 254 to 254\n",
            "Saving 255 to 255\n",
            "Saving 256 to 256\n",
            "Saving 257 to 257\n",
            "Saving 258 to 258\n",
            "Saving 259 to 259\n",
            "Saving 260 to 260\n",
            "Saving 261 to 261\n",
            "Saving 262 to 262\n",
            "Saving 263 to 263\n",
            "Saving 264 to 264\n",
            "Saving 265 to 265\n",
            "Saving 266 to 266\n",
            "Saving 267 to 267\n",
            "Saving 268 to 268\n",
            "Saving 269 to 269\n",
            "Saving 270 to 270\n",
            "Saving 271 to 271\n",
            "Saving 272 to 272\n",
            "Saving 273 to 273\n",
            "Saving 274 to 274\n",
            "Saving 275 to 275\n",
            "Saving 276 to 276\n",
            "Saving 277 to 277\n",
            "Saving 278 to 278\n",
            "Saving 279 to 279\n",
            "Saving 280 to 280\n",
            "Saving 281 to 281\n",
            "Saving 282 to 282\n",
            "Saving 283 to 283\n",
            "Saving 284 to 284\n",
            "Saving 285 to 285\n",
            "Saving 286 to 286\n",
            "Saving 287 to 287\n",
            "Saving 288 to 288\n",
            "Saving 289 to 289\n",
            "Saving 290 to 290\n",
            "Saving 291 to 291\n",
            "Saving 292 to 292\n",
            "Saving 293 to 293\n",
            "Saving 294 to 294\n",
            "Saving 295 to 295\n",
            "Saving 296 to 296\n",
            "Saving 297 to 297\n",
            "Saving 298 to 298\n",
            "Saving 299 to 299\n",
            "Saving 300 to 300\n",
            "Saving 301 to 301\n",
            "Saving 302 to 302\n",
            "Saving 303 to 303\n",
            "Saving 304 to 304\n",
            "Saving 305 to 305\n",
            "Saving 306 to 306\n",
            "Saving 307 to 307\n",
            "Saving 308 to 308\n",
            "Saving 309 to 309\n",
            "Saving 310 to 310\n",
            "Saving 311 to 311\n",
            "Saving 312 to 312\n",
            "Saving 313 to 313\n",
            "Saving 314 to 314\n",
            "Saving 315 to 315\n",
            "Saving 316 to 316\n",
            "Saving 317 to 317\n",
            "Saving 318 to 318\n",
            "Saving 319 to 319\n",
            "Saving 320 to 320\n",
            "Saving 321 to 321\n",
            "Saving 322 to 322\n",
            "Saving 323 to 323\n",
            "Saving 324 to 324\n",
            "Saving 325 to 325\n",
            "Saving 326 to 326\n",
            "Saving 327 to 327\n",
            "Saving 328 to 328\n",
            "Saving 329 to 329\n",
            "Saving 330 to 330\n",
            "Saving 331 to 331\n",
            "Saving 332 to 332\n",
            "Saving 333 to 333\n",
            "Saving 334 to 334\n",
            "Saving 335 to 335\n",
            "Saving 336 to 336\n",
            "Saving 337 to 337\n",
            "Saving 338 to 338\n",
            "Saving 339 to 339\n",
            "Saving 340 to 340\n",
            "Saving 341 to 341\n",
            "Saving 342 to 342\n",
            "Saving 343 to 343\n",
            "Saving 344 to 344\n",
            "Saving 345 to 345\n",
            "Saving 346 to 346\n",
            "Saving 347 to 347\n",
            "Saving 348 to 348\n",
            "Saving 349 to 349\n",
            "Saving 350 to 350\n",
            "Saving 351 to 351\n",
            "Saving 352 to 352\n",
            "Saving 353 to 353\n",
            "Saving 354 to 354\n",
            "Saving 355 to 355\n",
            "Saving 356 to 356\n",
            "Saving 357 to 357\n",
            "Saving 358 to 358\n",
            "Saving 359 to 359\n",
            "Saving 360 to 360\n",
            "Saving 361 to 361\n",
            "Saving 362 to 362\n",
            "Saving 363 to 363\n",
            "Saving 364 to 364\n",
            "Saving 365 to 365\n",
            "Saving 366 to 366\n",
            "Saving 367 to 367\n",
            "Saving 368 to 368\n",
            "Saving 369 to 369\n",
            "Saving 370 to 370\n",
            "Saving 371 to 371\n",
            "Saving 372 to 372\n",
            "Saving 373 to 373\n",
            "Saving 374 to 374\n",
            "Saving 375 to 375\n",
            "Saving 376 to 376\n",
            "Saving 377 to 377\n",
            "Saving 378 to 378\n",
            "Saving 379 to 379\n",
            "Saving 380 to 380\n",
            "Saving 381 to 381\n",
            "Saving 382 to 382\n",
            "Saving 383 to 383\n",
            "Saving 384 to 384\n",
            "Saving 385 to 385\n",
            "Saving 386 to 386\n",
            "Saving 387 to 387\n",
            "Saving 388 to 388\n",
            "Saving 389 to 389\n",
            "Saving 390 to 390\n",
            "Saving 391 to 391\n",
            "Saving 392 to 392\n",
            "Saving 393 to 393\n",
            "Saving 394 to 394\n",
            "Saving 395 to 395\n",
            "Saving 396 to 396\n",
            "Saving 397 to 397\n",
            "Saving 398 to 398\n",
            "Saving 399 to 399\n",
            "Saving 400 to 400\n",
            "Saving 401 to 401\n",
            "Saving 402 to 402\n",
            "Saving 403 to 403\n",
            "Saving 404 to 404\n",
            "Saving 405 to 405\n",
            "Saving 406 to 406\n",
            "Saving 407 to 407\n",
            "Saving 408 to 408\n",
            "Saving 409 to 409\n",
            "Saving 410 to 410\n",
            "Saving 411 to 411\n",
            "Saving 412 to 412\n",
            "Saving 413 to 413\n",
            "Saving 414 to 414\n",
            "Saving 415 to 415\n",
            "Saving 416 to 416\n",
            "Saving 417 to 417\n",
            "Saving 418 to 418\n",
            "Saving 419 to 419\n",
            "Saving 420 to 420\n",
            "Saving 421 to 421\n",
            "Saving 422 to 422\n",
            "Saving 423 to 423\n",
            "Saving 424 to 424\n",
            "Saving 425 to 425\n",
            "Saving 426 to 426\n",
            "Saving 427 to 427\n",
            "Saving 428 to 428\n",
            "Saving 429 to 429\n",
            "Saving 430 to 430\n",
            "Saving 431 to 431\n",
            "Saving 432 to 432\n",
            "Saving 433 to 433\n",
            "Saving 434 to 434\n",
            "Saving 435 to 435\n",
            "Saving 436 to 436\n",
            "Saving 437 to 437\n",
            "Saving 438 to 438\n",
            "Saving 439 to 439\n",
            "Saving 440 to 440\n",
            "Saving 441 to 441\n",
            "Saving 442 to 442\n",
            "Saving 443 to 443\n",
            "Saving 444 to 444\n",
            "Saving 445 to 445\n",
            "Saving 446 to 446\n",
            "Saving 447 to 447\n",
            "Saving 448 to 448\n",
            "Saving 449 to 449\n",
            "Saving 450 to 450\n",
            "Saving 451 to 451\n",
            "Saving 452 to 452\n",
            "Saving 453 to 453\n",
            "Saving 454 to 454\n",
            "Saving 455 to 455\n",
            "Saving 456 to 456\n",
            "Saving 457 to 457\n",
            "Saving 458 to 458\n",
            "Saving 459 to 459\n",
            "Saving 460 to 460\n",
            "Saving 461 to 461\n",
            "Saving 462 to 462\n",
            "Saving 463 to 463\n",
            "Saving 464 to 464\n",
            "Saving 465 to 465\n",
            "Saving 466 to 466\n",
            "Saving 467 to 467\n",
            "Saving 468 to 468\n",
            "Saving 469 to 469\n",
            "Saving 470 to 470\n",
            "Saving 471 to 471\n",
            "Saving 472 to 472\n",
            "Saving 473 to 473\n",
            "Saving 474 to 474\n",
            "Saving 475 to 475\n",
            "Saving 476 to 476\n",
            "Saving 477 to 477\n",
            "Saving 478 to 478\n",
            "Saving 479 to 479\n",
            "Saving 480 to 480\n",
            "Saving 481 to 481\n",
            "Saving 482 to 482\n",
            "Saving 483 to 483\n",
            "Saving 484 to 484\n",
            "Saving 485 to 485\n",
            "Saving 486 to 486\n",
            "Saving 487 to 487\n",
            "Saving 488 to 488\n",
            "Saving 489 to 489\n",
            "Saving 490 to 490\n",
            "Saving 491 to 491\n",
            "Saving 492 to 492\n",
            "Saving 493 to 493\n",
            "Saving 494 to 494\n",
            "Saving 495 to 495\n",
            "Saving 496 to 496\n",
            "Saving 497 to 497\n",
            "Saving 498 to 498\n",
            "Saving 499 to 499\n",
            "Saving 500 to 500\n",
            "Saving 501 to 501\n",
            "Saving 502 to 502\n",
            "Saving 503 to 503\n",
            "Saving 504 to 504\n",
            "Saving 505 to 505\n",
            "Saving 506 to 506\n",
            "Saving 507 to 507\n",
            "Saving 508 to 508\n",
            "Saving 509 to 509\n",
            "Saving 510 to 510\n",
            "Saving 511 to 511\n",
            "Saving 512 to 512\n",
            "Saving 513 to 513\n",
            "Saving 514 to 514\n",
            "Saving 515 to 515\n",
            "Saving 516 to 516\n",
            "Saving 517 to 517\n",
            "Saving 518 to 518\n",
            "Saving 519 to 519\n",
            "Saving 520 to 520\n",
            "Saving 521 to 521\n",
            "Saving 522 to 522\n",
            "Saving 523 to 523\n",
            "Saving 524 to 524\n",
            "Saving 525 to 525\n",
            "Saving 526 to 526\n",
            "Saving 527 to 527\n",
            "Saving 528 to 528\n",
            "Saving 529 to 529\n",
            "Saving 530 to 530\n",
            "Saving 531 to 531\n",
            "Saving 532 to 532\n",
            "Saving 533 to 533\n",
            "Saving 534 to 534\n",
            "Saving 535 to 535\n",
            "Saving 536 to 536\n",
            "Saving 537 to 537\n",
            "Saving 538 to 538\n",
            "Saving 539 to 539\n",
            "Saving 540 to 540\n",
            "Saving 541 to 541\n",
            "Saving 542 to 542\n",
            "Saving 543 to 543\n",
            "Saving 544 to 544\n",
            "Saving 545 to 545\n",
            "Saving 546 to 546\n",
            "Saving 547 to 547\n",
            "Saving 548 to 548\n",
            "Saving 549 to 549\n",
            "Saving 550 to 550\n",
            "Saving 551 to 551\n",
            "Saving 552 to 552\n",
            "Saving 553 to 553\n",
            "Saving 554 to 554\n",
            "Saving 555 to 555\n",
            "Saving 556 to 556\n",
            "Saving 557 to 557\n",
            "Saving 558 to 558\n",
            "Saving 559 to 559\n",
            "Saving 560 to 560\n",
            "Saving 561 to 561\n",
            "Saving 562 to 562\n",
            "Saving 563 to 563\n",
            "Saving 564 to 564\n",
            "Saving 565 to 565\n",
            "Saving 566 to 566\n",
            "Saving 567 to 567\n",
            "Saving 568 to 568\n",
            "Saving 569 to 569\n",
            "Saving 570 to 570\n",
            "Saving 571 to 571\n",
            "Saving 572 to 572\n",
            "Saving 573 to 573\n",
            "Saving 574 to 574\n",
            "Saving 575 to 575\n",
            "Saving 576 to 576\n",
            "Saving 577 to 577\n",
            "Saving 578 to 578\n",
            "Saving 579 to 579\n",
            "Saving 580 to 580\n",
            "Saving 581 to 581\n",
            "Saving 582 to 582\n",
            "Saving 583 to 583\n",
            "Saving 584 to 584\n",
            "Saving 585 to 585\n",
            "Saving 586 to 586\n",
            "Saving 587 to 587\n",
            "Saving 588 to 588\n",
            "Saving 589 to 589\n",
            "Saving 590 to 590\n",
            "Saving 591 to 591\n",
            "Saving 592 to 592\n",
            "Saving 593 to 593\n",
            "Saving 594 to 594\n",
            "Saving 595 to 595\n",
            "Saving 596 to 596\n",
            "Saving 597 to 597\n",
            "Saving 598 to 598\n",
            "Saving 599 to 599\n",
            "Saving 600 to 600\n",
            "Saving 601 to 601\n",
            "Saving 602 to 602\n",
            "Saving 603 to 603\n",
            "Saving 604 to 604\n",
            "Saving 605 to 605\n",
            "Saving 606 to 606\n",
            "Saving 607 to 607\n",
            "Saving 608 to 608\n",
            "Saving 609 to 609\n",
            "Saving 610 to 610\n",
            "Saving 611 to 611\n",
            "Saving 612 to 612\n",
            "Saving 613 to 613\n",
            "Saving 614 to 614\n",
            "Saving 615 to 615\n",
            "Saving 616 to 616\n",
            "Saving 617 to 617\n",
            "Saving 618 to 618\n",
            "Saving 619 to 619\n",
            "Saving 620 to 620\n",
            "Saving 621 to 621\n",
            "Saving 622 to 622\n",
            "Saving 623 to 623\n",
            "Saving 624 to 624\n",
            "Saving 625 to 625\n",
            "Saving 626 to 626\n",
            "Saving 627 to 627\n",
            "Saving 628 to 628\n",
            "Saving 629 to 629\n",
            "Saving 630 to 630\n",
            "Saving 631 to 631\n",
            "Saving 632 to 632\n",
            "Saving 633 to 633\n",
            "Saving 634 to 634\n",
            "Saving 635 to 635\n",
            "Saving 636 to 636\n",
            "Saving 637 to 637\n",
            "Saving 638 to 638\n",
            "Saving 639 to 639\n",
            "Saving 640 to 640\n",
            "Saving 641 to 641\n",
            "Saving 642 to 642\n",
            "Saving 643 to 643\n",
            "Saving 644 to 644\n",
            "Saving 645 to 645\n",
            "Saving 646 to 646\n",
            "Saving 647 to 647\n",
            "Saving 648 to 648\n",
            "Saving 649 to 649\n",
            "Saving 650 to 650\n",
            "Saving 651 to 651\n",
            "Saving 652 to 652\n",
            "Saving 653 to 653\n",
            "Saving 654 to 654\n",
            "Saving 655 to 655\n",
            "Saving 656 to 656\n",
            "Saving 657 to 657\n",
            "Saving 658 to 658\n",
            "Saving 659 to 659\n",
            "Saving 660 to 660\n",
            "Saving 661 to 661\n",
            "Saving 662 to 662\n",
            "Saving 663 to 663\n",
            "Saving 664 to 664\n",
            "Saving 665 to 665\n",
            "Saving 666 to 666\n",
            "Saving 667 to 667\n",
            "Saving 668 to 668\n",
            "Saving 669 to 669\n",
            "Saving 670 to 670\n",
            "Saving 671 to 671\n",
            "Saving 672 to 672\n",
            "Saving 673 to 673\n",
            "Saving 674 to 674\n",
            "Saving 675 to 675\n",
            "Saving 676 to 676\n",
            "Saving 677 to 677\n",
            "Saving 678 to 678\n",
            "Saving 679 to 679\n",
            "Saving 680 to 680\n",
            "Saving 681 to 681\n",
            "Saving 682 to 682\n",
            "Saving 683 to 683\n",
            "Saving 684 to 684\n",
            "Saving 685 to 685\n",
            "Saving 686 to 686\n",
            "Saving 687 to 687\n",
            "Saving 688 to 688\n",
            "Saving 689 to 689\n",
            "Saving 690 to 690\n",
            "Saving 691 to 691\n",
            "Saving 692 to 692\n",
            "Saving 693 to 693\n",
            "Saving 694 to 694\n",
            "Saving 695 to 695\n",
            "Saving 696 to 696\n",
            "Saving 697 to 697\n",
            "Saving 698 to 698\n",
            "Saving 699 to 699\n",
            "Saving 700 to 700\n",
            "Saving 701 to 701\n",
            "Saving 702 to 702\n",
            "Saving 703 to 703\n",
            "Saving 704 to 704\n",
            "Saving 705 to 705\n",
            "Saving 706 to 706\n",
            "Saving 707 to 707\n",
            "Saving 708 to 708\n",
            "Saving 709 to 709\n",
            "Saving 710 to 710\n",
            "Saving 711 to 711\n",
            "Saving 712 to 712\n",
            "Saving 713 to 713\n",
            "Saving 714 to 714\n",
            "Saving 715 to 715\n",
            "Saving 716 to 716\n",
            "Saving 717 to 717\n",
            "Saving 718 to 718\n",
            "Saving 719 to 719\n",
            "Saving 720 to 720\n",
            "Saving 721 to 721\n",
            "Saving 722 to 722\n",
            "Saving 723 to 723\n",
            "Saving 724 to 724\n",
            "Saving 725 to 725\n",
            "Saving 726 to 726\n",
            "Saving 727 to 727\n",
            "Saving 728 to 728\n",
            "Saving 729 to 729\n",
            "Saving 730 to 730\n",
            "Saving 731 to 731\n",
            "Saving 732 to 732\n",
            "Saving 733 to 733\n",
            "Saving 734 to 734\n",
            "Saving 735 to 735\n",
            "Saving 736 to 736\n",
            "Saving 737 to 737\n",
            "Saving 738 to 738\n",
            "Saving 739 to 739\n",
            "Saving 740 to 740\n",
            "Saving 741 to 741\n",
            "Saving 742 to 742\n",
            "Saving 743 to 743\n",
            "Saving 744 to 744\n",
            "Saving 745 to 745\n",
            "Saving 746 to 746\n",
            "Saving 747 to 747\n",
            "Saving 748 to 748\n",
            "Saving 749 to 749\n",
            "Saving 750 to 750\n",
            "Saving 751 to 751\n",
            "Saving 752 to 752\n",
            "Saving 753 to 753\n",
            "Saving 754 to 754\n",
            "Saving 755 to 755\n",
            "Saving 756 to 756\n",
            "Saving 757 to 757\n",
            "Saving 758 to 758\n",
            "Saving 759 to 759\n",
            "Saving 760 to 760\n",
            "Saving 761 to 761\n",
            "Saving 762 to 762\n",
            "Saving 763 to 763\n",
            "Saving 764 to 764\n",
            "Saving 765 to 765\n",
            "Saving 766 to 766\n",
            "Saving 767 to 767\n",
            "Saving 768 to 768\n",
            "Saving 769 to 769\n",
            "Saving 770 to 770\n",
            "Saving 771 to 771\n",
            "Saving 772 to 772\n",
            "Saving 773 to 773\n",
            "Saving 774 to 774\n",
            "Saving 775 to 775\n",
            "Saving 776 to 776\n",
            "Saving 777 to 777\n",
            "Saving 778 to 778\n",
            "Saving 779 to 779\n",
            "Saving 780 to 780\n",
            "Saving 781 to 781\n",
            "Saving 782 to 782\n",
            "Saving 783 to 783\n",
            "Saving 784 to 784\n",
            "Saving 785 to 785\n",
            "Saving 786 to 786\n",
            "Saving 787 to 787\n",
            "Saving 788 to 788\n",
            "Saving 789 to 789\n",
            "Saving 790 to 790\n",
            "Saving 791 to 791\n",
            "Saving 792 to 792\n",
            "Saving 793 to 793\n",
            "Saving 794 to 794\n",
            "Saving 795 to 795\n",
            "Saving 796 to 796\n",
            "Saving 797 to 797\n",
            "Saving 798 to 798\n",
            "Saving 799 to 799\n",
            "Saving 800 to 800\n",
            "Saving 801 to 801\n",
            "Saving 802 to 802\n",
            "Saving 803 to 803\n",
            "Saving 804 to 804\n",
            "Saving 805 to 805\n",
            "Saving 806 to 806\n",
            "Saving 807 to 807\n",
            "Saving 808 to 808\n",
            "Saving 809 to 809\n",
            "Saving 810 to 810\n",
            "Saving 811 to 811\n",
            "Saving 812 to 812\n",
            "Saving 813 to 813\n",
            "Saving 814 to 814\n",
            "Saving 815 to 815\n",
            "Saving 816 to 816\n",
            "Saving 817 to 817\n",
            "Saving 818 to 818\n",
            "Saving 819 to 819\n",
            "Saving 820 to 820\n",
            "Saving 821 to 821\n",
            "Saving 822 to 822\n",
            "Saving 823 to 823\n",
            "Saving 824 to 824\n",
            "Saving 825 to 825\n",
            "Saving 826 to 826\n",
            "Saving 827 to 827\n",
            "Saving 828 to 828\n",
            "Saving 829 to 829\n",
            "Saving 830 to 830\n",
            "Saving 831 to 831\n",
            "Saving 832 to 832\n",
            "Saving 833 to 833\n",
            "Saving 834 to 834\n",
            "Saving 835 to 835\n",
            "Saving 836 to 836\n",
            "Saving 837 to 837\n",
            "Saving 838 to 838\n",
            "Saving 839 to 839\n",
            "Saving 840 to 840\n",
            "Saving 841 to 841\n",
            "Saving 842 to 842\n",
            "Saving 843 to 843\n",
            "Saving 844 to 844\n",
            "Saving 845 to 845\n",
            "Saving 846 to 846\n",
            "Saving 847 to 847\n",
            "Saving 848 to 848\n",
            "Saving 849 to 849\n",
            "Saving 850 to 850\n",
            "Saving 851 to 851\n",
            "Saving 852 to 852\n",
            "Saving 853 to 853\n",
            "Saving 854 to 854\n",
            "Saving 855 to 855\n",
            "Saving 856 to 856\n",
            "Saving 857 to 857\n",
            "Saving 858 to 858\n",
            "Saving 859 to 859\n",
            "Saving 860 to 860\n",
            "Saving 861 to 861\n",
            "Saving 862 to 862\n",
            "Saving 863 to 863\n",
            "Saving 864 to 864\n",
            "Saving 865 to 865\n",
            "Saving 866 to 866\n",
            "Saving 867 to 867\n",
            "Saving 868 to 868\n",
            "Saving 869 to 869\n",
            "Saving 870 to 870\n",
            "Saving 871 to 871\n",
            "Saving 872 to 872\n",
            "Saving 873 to 873\n",
            "Saving 874 to 874\n",
            "Saving 875 to 875\n",
            "Saving 876 to 876\n",
            "Saving 877 to 877\n",
            "Saving 878 to 878\n",
            "Saving 879 to 879\n",
            "Saving 880 to 880\n",
            "Saving 881 to 881\n",
            "Saving 882 to 882\n",
            "Saving 883 to 883\n",
            "Saving 884 to 884\n",
            "Saving 885 to 885\n",
            "Saving 886 to 886\n",
            "Saving 887 to 887\n",
            "Saving 888 to 888\n",
            "Saving 889 to 889\n",
            "Saving 890 to 890\n",
            "Saving 891 to 891\n",
            "Saving 892 to 892\n",
            "Saving 893 to 893\n",
            "Saving 894 to 894\n",
            "Saving 895 to 895\n",
            "Saving 896 to 896\n",
            "Saving 897 to 897\n",
            "Saving 898 to 898\n",
            "Saving 899 to 899\n",
            "Saving 900 to 900\n",
            "Saving 901 to 901\n",
            "Saving 902 to 902\n",
            "Saving 903 to 903\n",
            "Saving 904 to 904\n",
            "Saving 905 to 905\n",
            "Saving 906 to 906\n",
            "Saving 907 to 907\n",
            "Saving 908 to 908\n",
            "Saving 909 to 909\n",
            "Saving 910 to 910\n",
            "Saving 911 to 911\n",
            "Saving 912 to 912\n",
            "Saving 913 to 913\n",
            "Saving 914 to 914\n",
            "Saving 915 to 915\n",
            "Saving 916 to 916\n",
            "Saving 917 to 917\n",
            "Saving 918 to 918\n",
            "Saving 919 to 919\n",
            "Saving 920 to 920\n",
            "Saving 921 to 921\n",
            "Saving 922 to 922\n",
            "Saving 923 to 923\n",
            "Saving 924 to 924\n",
            "Saving 925 to 925\n",
            "Saving 926 to 926\n",
            "Saving 927 to 927\n",
            "Saving 928 to 928\n",
            "Saving 929 to 929\n",
            "Saving 930 to 930\n",
            "Saving 931 to 931\n",
            "Saving 932 to 932\n",
            "Saving 933 to 933\n",
            "Saving 934 to 934\n",
            "Saving 935 to 935\n",
            "Saving 936 to 936\n",
            "Saving 937 to 937\n",
            "Saving 938 to 938\n",
            "Saving 939 to 939\n",
            "Saving 940 to 940\n",
            "Saving 941 to 941\n",
            "Saving 942 to 942\n",
            "Saving 943 to 943\n",
            "Saving 944 to 944\n",
            "Saving 945 to 945\n",
            "Saving 946 to 946\n",
            "Saving 947 to 947\n",
            "Saving 948 to 948\n",
            "Saving 949 to 949\n",
            "Saving 950 to 950\n",
            "Saving 951 to 951\n",
            "Saving 952 to 952\n",
            "Saving 953 to 953\n",
            "Saving 954 to 954\n",
            "Saving 955 to 955\n",
            "Saving 956 to 956\n",
            "Saving 957 to 957\n",
            "Saving 958 to 958\n",
            "Saving 959 to 959\n",
            "Saving 960 to 960\n",
            "Saving 961 to 961\n",
            "Saving 962 to 962\n",
            "Saving 963 to 963\n",
            "Saving 964 to 964\n",
            "Saving 965 to 965\n",
            "Saving 966 to 966\n",
            "Saving 967 to 967\n",
            "Saving 968 to 968\n",
            "Saving 969 to 969\n",
            "Saving 970 to 970\n",
            "Saving 971 to 971\n",
            "Saving 972 to 972\n",
            "Saving 973 to 973\n",
            "Saving 974 to 974\n",
            "Saving 975 to 975\n",
            "Saving 976 to 976\n",
            "Saving 977 to 977\n",
            "Saving 978 to 978\n",
            "Saving 979 to 979\n",
            "Saving 980 to 980\n",
            "Saving 981 to 981\n",
            "Saving 982 to 982\n",
            "Saving 983 to 983\n",
            "Saving 984 to 984\n",
            "Saving 985 to 985\n",
            "Saving 986 to 986\n",
            "Saving 987 to 987\n",
            "Saving 988 to 988\n",
            "Saving 989 to 989\n",
            "Saving 990 to 990\n",
            "Saving 991 to 991\n",
            "Saving 992 to 992\n",
            "Saving 993 to 993\n",
            "Saving 994 to 994\n",
            "Saving 995 to 995\n",
            "Saving 996 to 996\n",
            "Saving 997 to 997\n",
            "Saving 998 to 998\n",
            "Saving 999 to 999\n",
            "Saving 1000 to 1000\n",
            "Saving 1001 to 1001\n",
            "Saving 1002 to 1002\n",
            "Saving 1003 to 1003\n",
            "Saving 1004 to 1004\n",
            "Saving 1005 to 1005\n",
            "Saving 1006 to 1006\n",
            "Saving 1007 to 1007\n",
            "Saving 1008 to 1008\n",
            "Saving 1009 to 1009\n",
            "Saving 1010 to 1010\n",
            "Saving 1011 to 1011\n",
            "Saving 1012 to 1012\n",
            "Saving 1013 to 1013\n",
            "Saving 1014 to 1014\n",
            "Saving 1015 to 1015\n",
            "Saving 1016 to 1016\n",
            "Saving 1017 to 1017\n",
            "Saving 1018 to 1018\n",
            "Saving 1019 to 1019\n",
            "Saving 1020 to 1020\n",
            "Saving 1021 to 1021\n",
            "Saving 1022 to 1022\n",
            "Saving 1023 to 1023\n",
            "Saving 1024 to 1024\n",
            "Saving 1025 to 1025\n",
            "Saving 1026 to 1026\n",
            "Saving 1027 to 1027\n",
            "Saving 1028 to 1028\n",
            "Saving 1029 to 1029\n",
            "Saving 1030 to 1030\n",
            "Saving 1031 to 1031\n",
            "Saving 1032 to 1032\n",
            "Saving 1033 to 1033\n",
            "Saving 1034 to 1034\n",
            "Saving 1035 to 1035\n",
            "Saving 1036 to 1036\n",
            "Saving 1037 to 1037\n",
            "Saving 1038 to 1038\n",
            "Saving 1039 to 1039\n",
            "Saving 1040 to 1040\n",
            "Saving 1041 to 1041\n",
            "Saving 1042 to 1042\n",
            "Saving 1043 to 1043\n",
            "Saving 1044 to 1044\n",
            "Saving 1045 to 1045\n",
            "Saving 1046 to 1046\n",
            "Saving 1047 to 1047\n",
            "Saving 1048 to 1048\n",
            "Saving 1049 to 1049\n",
            "Saving 1050 to 1050\n",
            "Saving 1051 to 1051\n",
            "Saving 1052 to 1052\n",
            "Saving 1053 to 1053\n",
            "Saving 1054 to 1054\n",
            "Saving 1055 to 1055\n",
            "Saving 1056 to 1056\n",
            "Saving 1057 to 1057\n",
            "Saving 1058 to 1058\n",
            "Saving 1059 to 1059\n",
            "Saving 1060 to 1060\n",
            "Saving 1061 to 1061\n",
            "Saving 1062 to 1062\n",
            "Saving 1063 to 1063\n",
            "Saving 1064 to 1064\n",
            "Saving 1065 to 1065\n",
            "Saving 1066 to 1066\n",
            "Saving 1067 to 1067\n",
            "Saving 1068 to 1068\n",
            "Saving 1069 to 1069\n",
            "Saving 1070 to 1070\n",
            "Saving 1071 to 1071\n",
            "Saving 1072 to 1072\n",
            "Saving 1073 to 1073\n",
            "Saving 1074 to 1074\n",
            "Saving 1075 to 1075\n",
            "Saving 1076 to 1076\n",
            "Saving 1077 to 1077\n",
            "Saving 1078 to 1078\n",
            "Saving 1079 to 1079\n",
            "Saving 1080 to 1080\n",
            "Saving 1081 to 1081\n",
            "Saving 1082 to 1082\n",
            "Saving 1083 to 1083\n",
            "Saving 1084 to 1084\n",
            "Saving 1085 to 1085\n",
            "Saving 1086 to 1086\n",
            "Saving 1087 to 1087\n",
            "Saving 1088 to 1088\n",
            "Saving 1089 to 1089\n",
            "Saving 1090 to 1090\n",
            "Saving 1091 to 1091\n",
            "Saving 1092 to 1092\n",
            "Saving 1093 to 1093\n",
            "Saving 1094 to 1094\n",
            "Saving 1095 to 1095\n",
            "Saving 1096 to 1096\n",
            "Saving 1097 to 1097\n",
            "Saving 1098 to 1098\n",
            "Saving 1099 to 1099\n",
            "Saving 1100 to 1100\n",
            "Saving 1101 to 1101\n",
            "Saving 1102 to 1102\n",
            "Saving 1103 to 1103\n",
            "Saving 1104 to 1104\n",
            "Saving 1105 to 1105\n",
            "Saving 1106 to 1106\n",
            "Saving 1107 to 1107\n",
            "Saving 1108 to 1108\n",
            "Saving 1109 to 1109\n",
            "Saving 1110 to 1110\n",
            "Saving 1111 to 1111\n",
            "Saving 1112 to 1112\n",
            "Saving 1113 to 1113\n"
          ],
          "name": "stdout"
        }
      ]
    },
    {
      "cell_type": "code",
      "metadata": {
        "id": "2yPV5tFyq0tn",
        "colab_type": "code",
        "colab": {}
      },
      "source": [
        "# remove files\n",
        "# !rm '1 (1)'"
      ],
      "execution_count": 0,
      "outputs": []
    },
    {
      "cell_type": "code",
      "metadata": {
        "id": "pvtyLKkc1Ezq",
        "colab_type": "code",
        "colab": {}
      },
      "source": [
        "import os\n",
        "n_files=len([uploaded for uploaded in os.listdir('.') if (os.path.isfile(uploaded))])"
      ],
      "execution_count": 0,
      "outputs": []
    },
    {
      "cell_type": "code",
      "metadata": {
        "id": "tX14lM8fxdak",
        "colab_type": "code",
        "colab": {}
      },
      "source": [
        "df = pd.DataFrame(index=range(1,n_files+1),columns=['edges','nodes','avg_edg','avg_deg','med_edg','med_deg','IQR_edg','IQR_deg','STD_edg','STD_deg', 'Total_edg','Total_deg','is_connected','avg_length','radius','diameter','eccentricity','center','periphery','density','n.connected.comp','n.of_isolates','is_distance_regular','is_eulerian', 'label'])"
      ],
      "execution_count": 0,
      "outputs": []
    },
    {
      "cell_type": "code",
      "metadata": {
        "id": "740p47J7FuJk",
        "colab_type": "code",
        "colab": {}
      },
      "source": [
        "from operator import itemgetter \n",
        "def get_edg(i):\n",
        "  edg=list(map(itemgetter(i), G.edges()))\n",
        "  count_vals=list(pd.Index(edg).value_counts())\n",
        "  return count_vals"
      ],
      "execution_count": 0,
      "outputs": []
    },
    {
      "cell_type": "markdown",
      "metadata": {
        "id": "pjjMDKVcWX1L",
        "colab_type": "text"
      },
      "source": [
        "#### Feature preparation"
      ]
    },
    {
      "cell_type": "code",
      "metadata": {
        "id": "qhNCMLDddsLa",
        "colab_type": "code",
        "colab": {}
      },
      "source": [
        "for filename in range(1,n_files+1):\n",
        "  if(type(filename)==int):\n",
        "    G=nx.read_adjlist(str(filename), nodetype=int)\n",
        "    deg=list(dict(G.degree()).values())\n",
        "    edg=get_edg(0)\n",
        "    df.xs(filename)['edges']=G.size() #The number of edges\n",
        "    df.xs(filename)['nodes']=len(G)#Total amount of nodes\n",
        "    df.xs(filename)['avg_edg']= np.mean(edg)#Average connections for each node\n",
        "    df.xs(filename)['avg_deg']= np.mean(deg)#Average degree for each node\n",
        "    df.xs(filename)['med_edg']= np.median(edg)#Median connections for each node\n",
        "    df.xs(filename)['med_deg']= np.median(deg)#Median degree for each node\n",
        "    df.xs(filename)['IQR_edg']= np.subtract(*np.percentile(edg, [75, 25]))#IQR connections for each node\n",
        "    df.xs(filename)['IQR_deg']= np.subtract(*np.percentile(deg, [75, 25]))#IQR degree\n",
        "    df.xs(filename)['STD_edg']= np.std(edg)#STD connections for each node\n",
        "    df.xs(filename)['STD_deg']= np.std(deg)#STD degree\n",
        "    df.xs(filename)['Total_edg']= np.sum(edg)#Total sum of connections\n",
        "    df.xs(filename)['Total_deg']= np.sum(deg)#Total sum of degrees\n",
        "    df.xs(filename)['is_connected']= nx.is_connected(G)\n",
        "    if(nx.is_connected(G)):\n",
        "      df.xs(filename)['avg_length']= nx.average_shortest_path_length(G)\n",
        "      df.xs(filename)['radius']= nx.radius(G)\n",
        "      df.xs(filename)['diameter']= nx.diameter(G)\n",
        "      ecc= nx.eccentricity(G) # The eccentricity of a node v is the maximum distance from v to all other nodes in G\n",
        "      df.xs(filename)['eccentricity']= sum(ecc.values()) # sum the eccentricity\n",
        "      df.xs(filename)['center']= len(nx.center(G)) # The center is the set of nodes with eccentricity equal to radius.\n",
        "      df.xs(filename)['periphery']= len(nx.periphery(G))# The periphery is the set of nodes with eccentricity equal to the diameter.\n",
        "    else:\n",
        "      sum_avg_short= 0\n",
        "      diameter= 0\n",
        "      radius= 0\n",
        "      ecc_sum= 0\n",
        "      len_center= 0\n",
        "      len_periphery= 0      \n",
        "      for g in nx.connected_component_subgraphs(G):\n",
        "        sum_avg_short+= nx.average_shortest_path_length(g)  \n",
        "        radius+= nx.radius(g)\n",
        "        diameter+= nx.diameter(g)           \n",
        "        ecc= nx.eccentricity(g) # The eccentricity of a node v is the maximum distance from v to all other nodes in G\n",
        "        ecc_sum+= sum(ecc.values())\n",
        "        center=nx.center(g)\n",
        "        len_center+=len(nx.center(g))\n",
        "        len_periphery+=len(nx.periphery(g))\n",
        "      df.xs(filename)['avg_length']= sum_avg_short/nx.number_connected_components(G)\n",
        "      df.xs(filename)['radius']= radius/nx.number_connected_components(G)\n",
        "      df.xs(filename)['diameter']= diameter/nx.number_connected_components(G)     \n",
        "      df.xs(filename)['eccentricity']= ecc_sum/nx.number_connected_components(G) # sum the eccentricity\n",
        "      df.xs(filename)['center']= len_center/nx.number_connected_components(G) # The center is the set of nodes with eccentricity equal to radius.\n",
        "      df.xs(filename)['periphery']= len_periphery/nx.number_connected_components(G)# The periphery is the set of nodes with eccentricity equal to the diameter.     \n",
        "    df.xs(filename)['density']= nx.density(G)\n",
        "    df.xs(filename)['n.connected.comp']= nx.number_connected_components(G)# How many groups\n",
        "    df.xs(filename)['n.of_isolates']= nx.number_of_isolates(G)# Returns the number of isolates in the graph.\n",
        "    df.xs(filename)['is_distance_regular']= nx.is_distance_regular(G)\n",
        "    df.xs(filename)['is_eulerian']= nx.is_eulerian(G)"
      ],
      "execution_count": 0,
      "outputs": []
    },
    {
      "cell_type": "code",
      "metadata": {
        "id": "DocejldRbbcd",
        "colab_type": "code",
        "colab": {}
      },
      "source": [
        "# Download file\n",
        "df.to_csv('data.csv')\n",
        "files.download('data.csv')"
      ],
      "execution_count": 0,
      "outputs": []
    },
    {
      "cell_type": "markdown",
      "metadata": {
        "id": "Bns5QN8qV5lw",
        "colab_type": "text"
      },
      "source": [
        "#### If you already prepared the data start here"
      ]
    },
    {
      "cell_type": "markdown",
      "metadata": {
        "id": "rFl_zV6bXAqJ",
        "colab_type": "text"
      },
      "source": [
        "##### Uplaod data and labels files"
      ]
    },
    {
      "cell_type": "code",
      "metadata": {
        "id": "9PZujtiaXPVB",
        "colab_type": "code",
        "outputId": "7d226dd7-86f1-45da-97c0-1159233b1d4f",
        "colab": {
          "resources": {
            "http://localhost:8080/nbextensions/google.colab/files.js": {
              "data": "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",
              "ok": true,
              "headers": [
                [
                  "content-type",
                  "application/javascript"
                ]
              ],
              "status": 200,
              "status_text": ""
            }
          },
          "base_uri": "https://localhost:8080/",
          "height": 108
        }
      },
      "source": [
        "uploaded = files.upload()"
      ],
      "execution_count": 0,
      "outputs": [
        {
          "output_type": "display_data",
          "data": {
            "text/html": [
              "\n",
              "     <input type=\"file\" id=\"files-d0ea7f9c-e7b0-476b-bc4a-7189777fc61f\" name=\"files[]\" multiple disabled />\n",
              "     <output id=\"result-d0ea7f9c-e7b0-476b-bc4a-7189777fc61f\">\n",
              "      Upload widget is only available when the cell has been executed in the\n",
              "      current browser session. Please rerun this cell to enable.\n",
              "      </output>\n",
              "      <script src=\"/nbextensions/google.colab/files.js\"></script> "
            ],
            "text/plain": [
              "<IPython.core.display.HTML object>"
            ]
          },
          "metadata": {
            "tags": []
          }
        },
        {
          "output_type": "stream",
          "text": [
            "Saving labels_test.csv to labels_test (4).csv\n",
            "Saving labels_train.csv to labels_train (4).csv\n"
          ],
          "name": "stdout"
        }
      ]
    },
    {
      "cell_type": "code",
      "metadata": {
        "id": "Kxezzq3vbkbw",
        "colab_type": "code",
        "colab": {}
      },
      "source": [
        "# Uplaod data file\n",
        "df=pd.read_csv('data.csv')\n",
        "df = pd.DataFrame(df)\n"
      ],
      "execution_count": 0,
      "outputs": []
    },
    {
      "cell_type": "code",
      "metadata": {
        "id": "ukTTX-FhY8lc",
        "colab_type": "code",
        "colab": {}
      },
      "source": [
        "df=df.rename(index=str, columns={\"Unnamed: 0\": \"index\"})"
      ],
      "execution_count": 0,
      "outputs": []
    },
    {
      "cell_type": "code",
      "metadata": {
        "id": "R84Y6Bi7YDuy",
        "colab_type": "code",
        "colab": {}
      },
      "source": [
        "df=df.set_index(['index'])"
      ],
      "execution_count": 0,
      "outputs": []
    },
    {
      "cell_type": "code",
      "metadata": {
        "id": "c2lYABaYwGc3",
        "colab_type": "code",
        "colab": {}
      },
      "source": [
        "data=df.copy()"
      ],
      "execution_count": 0,
      "outputs": []
    },
    {
      "cell_type": "code",
      "metadata": {
        "id": "rdA98DvSkSnI",
        "colab_type": "code",
        "colab": {}
      },
      "source": [
        "import io\n",
        "labels_train = pd.read_csv(io.BytesIO(uploaded['labels_train.csv']), names=['graph','label1','label2', 'label3', 'label4'])\n",
        "labels_test = pd.read_csv(io.BytesIO(uploaded['labels_test.csv']), names=['graph','label'])"
      ],
      "execution_count": 0,
      "outputs": []
    },
    {
      "cell_type": "code",
      "metadata": {
        "id": "t8XDky6vVb3h",
        "colab_type": "code",
        "colab": {}
      },
      "source": [
        "def get_labels(df, csv):\n",
        "  for i in range(0,len(csv)):\n",
        "    row=csv.loc[i,'graph']\n",
        "    df.loc[df.index==row,'label']=csv.loc[i,'label']\n",
        "  return df"
      ],
      "execution_count": 0,
      "outputs": []
    },
    {
      "cell_type": "markdown",
      "metadata": {
        "id": "NP_64JucZpX1",
        "colab_type": "text"
      },
      "source": [
        "#### Training Labels Completion"
      ]
    },
    {
      "cell_type": "code",
      "metadata": {
        "id": "0_EiB5V19QZr",
        "colab_type": "code",
        "colab": {}
      },
      "source": [
        "labels_train['label']=labels_train.apply(lambda x: 1 if np.mean(x[1:5])>0.5 else(0 if np.mean(x[1:5])<0.5 else np.nan), axis=1)"
      ],
      "execution_count": 0,
      "outputs": []
    },
    {
      "cell_type": "code",
      "metadata": {
        "id": "_J8EmTJwnjWl",
        "colab_type": "code",
        "colab": {}
      },
      "source": [
        "df = get_labels(df, labels_test)\n",
        "df = get_labels(df, labels_train)"
      ],
      "execution_count": 0,
      "outputs": []
    },
    {
      "cell_type": "code",
      "metadata": {
        "id": "2RCpgnaSjOII",
        "colab_type": "code",
        "colab": {}
      },
      "source": [
        "cols=list(df.columns)\n",
        "cols.remove('label')"
      ],
      "execution_count": 0,
      "outputs": []
    },
    {
      "cell_type": "code",
      "metadata": {
        "id": "dj6XNrSVjJp4",
        "colab_type": "code",
        "colab": {}
      },
      "source": [
        ""
      ],
      "execution_count": 0,
      "outputs": []
    },
    {
      "cell_type": "code",
      "metadata": {
        "id": "9TVyqxFyRIYQ",
        "colab_type": "code",
        "colab": {}
      },
      "source": [
        "# Change label type\n",
        "for col in cols:\n",
        "    df[col] = df[col].astype('float')"
      ],
      "execution_count": 0,
      "outputs": []
    },
    {
      "cell_type": "markdown",
      "metadata": {
        "id": "Q8_jmd9cbxcq",
        "colab_type": "text"
      },
      "source": [
        "#### KNN Imputer "
      ]
    },
    {
      "cell_type": "code",
      "metadata": {
        "id": "x7fMkSOx9wON",
        "colab_type": "code",
        "colab": {}
      },
      "source": [
        "from sklearn.neighbors import KNeighborsClassifier\n",
        "clf = KNeighborsClassifier(3, weights='distance')\n",
        "not_null_x=df[~df.isnull().any(axis=1)].drop('label', axis=1)\n",
        "not_null_y=df.loc[~df.isnull().any(axis=1),'label']\n",
        "not_null_y=not_null_y.astype('float')\n",
        "trained_model = clf.fit(not_null_x, not_null_y)"
      ],
      "execution_count": 0,
      "outputs": []
    },
    {
      "cell_type": "code",
      "metadata": {
        "id": "FSiyqx-LbwrJ",
        "colab_type": "code",
        "colab": {}
      },
      "source": [
        "predicted_labels = trained_model.predict(df[df.isnull().any(axis=1)].drop('label', axis=1))"
      ],
      "execution_count": 0,
      "outputs": []
    },
    {
      "cell_type": "code",
      "metadata": {
        "id": "zN8x_E7dcPS2",
        "colab_type": "code",
        "colab": {}
      },
      "source": [
        "df.loc[df.isnull().any(axis=1),'label']=predicted_labels"
      ],
      "execution_count": 0,
      "outputs": []
    },
    {
      "cell_type": "code",
      "metadata": {
        "id": "2Hs5VLAAyrko",
        "colab_type": "code",
        "colab": {}
      },
      "source": [
        "df['label'] = df['label'].astype('float')"
      ],
      "execution_count": 0,
      "outputs": []
    },
    {
      "cell_type": "markdown",
      "metadata": {
        "id": "eCm1rAYOKD8O",
        "colab_type": "text"
      },
      "source": [
        "### Exploratory Data Analysis (EDA)"
      ]
    },
    {
      "cell_type": "markdown",
      "metadata": {
        "id": "DazFr1ckKhHe",
        "colab_type": "text"
      },
      "source": [
        "\n",
        "In order to understand the data, it is common to begin with descriptive statistics analysis before the pre-processing section and model building"
      ]
    },
    {
      "cell_type": "code",
      "metadata": {
        "id": "wHNJCmar0WCY",
        "colab_type": "code",
        "outputId": "f904c2c7-4601-4b50-ab51-42926bb55a11",
        "colab": {
          "base_uri": "https://localhost:8080/",
          "height": 301
        }
      },
      "source": [
        "ax = sns.countplot(y=\"label\", data=df)\n",
        "plt.title('Labels Distribution')\n",
        "plt.xlabel('Amount')\n",
        "\n",
        "total = len(df['label'])\n",
        "for p in ax.patches:\n",
        "        percentage = '{:.1f}%'.format(100 * p.get_width()/total)\n",
        "        x = p.get_x() + p.get_width() + 0.02\n",
        "        y = p.get_y() + p.get_height()/2\n",
        "        ax.annotate(percentage, (x, y))\n",
        "\n",
        "plt.show()"
      ],
      "execution_count": 0,
      "outputs": [
        {
          "output_type": "display_data",
          "data": {
            "image/png": "[encoded data removed]",
            "text/plain": [
              "<Figure size 432x288 with 1 Axes>"
            ]
          },
          "metadata": {
            "tags": []
          }
        }
      ]
    },
    {
      "cell_type": "code",
      "metadata": {
        "id": "8l88zaf5JR-0",
        "colab_type": "code",
        "outputId": "349ea0c8-ea31-4c9a-a738-860f8340d0a0",
        "colab": {
          "base_uri": "https://localhost:8080/",
          "height": 34
        }
      },
      "source": [
        "df.shape"
      ],
      "execution_count": 0,
      "outputs": [
        {
          "output_type": "execute_result",
          "data": {
            "text/plain": [
              "(1113, 25)"
            ]
          },
          "metadata": {
            "tags": []
          },
          "execution_count": 515
        }
      ]
    },
    {
      "cell_type": "code",
      "metadata": {
        "id": "rJiNaaV4K_89",
        "colab_type": "code",
        "outputId": "ecadc5f6-8766-420d-fa14-0ac19a74402a",
        "colab": {
          "base_uri": "https://localhost:8080/",
          "height": 824
        }
      },
      "source": [
        "# Check features datatypes\n",
        "types = df.dtypes\n",
        "pd.DataFrame(types)"
      ],
      "execution_count": 0,
      "outputs": [
        {
          "output_type": "execute_result",
          "data": {
            "text/html": [
              "<div>\n",
              "<style scoped>\n",
              "    .dataframe tbody tr th:only-of-type {\n",
              "        vertical-align: middle;\n",
              "    }\n",
              "\n",
              "    .dataframe tbody tr th {\n",
              "        vertical-align: top;\n",
              "    }\n",
              "\n",
              "    .dataframe thead th {\n",
              "        text-align: right;\n",
              "    }\n",
              "</style>\n",
              "<table border=\"1\" class=\"dataframe\">\n",
              "  <thead>\n",
              "    <tr style=\"text-align: right;\">\n",
              "      <th></th>\n",
              "      <th>0</th>\n",
              "    </tr>\n",
              "  </thead>\n",
              "  <tbody>\n",
              "    <tr>\n",
              "      <th>edges</th>\n",
              "      <td>float64</td>\n",
              "    </tr>\n",
              "    <tr>\n",
              "      <th>nodes</th>\n",
              "      <td>float64</td>\n",
              "    </tr>\n",
              "    <tr>\n",
              "      <th>avg_edg</th>\n",
              "      <td>float64</td>\n",
              "    </tr>\n",
              "    <tr>\n",
              "      <th>avg_deg</th>\n",
              "      <td>float64</td>\n",
              "    </tr>\n",
              "    <tr>\n",
              "      <th>med_edg</th>\n",
              "      <td>float64</td>\n",
              "    </tr>\n",
              "    <tr>\n",
              "      <th>med_deg</th>\n",
              "      <td>float64</td>\n",
              "    </tr>\n",
              "    <tr>\n",
              "      <th>IQR_edg</th>\n",
              "      <td>float64</td>\n",
              "    </tr>\n",
              "    <tr>\n",
              "      <th>IQR_deg</th>\n",
              "      <td>float64</td>\n",
              "    </tr>\n",
              "    <tr>\n",
              "      <th>STD_edg</th>\n",
              "      <td>float64</td>\n",
              "    </tr>\n",
              "    <tr>\n",
              "      <th>STD_deg</th>\n",
              "      <td>float64</td>\n",
              "    </tr>\n",
              "    <tr>\n",
              "      <th>Total_edg</th>\n",
              "      <td>float64</td>\n",
              "    </tr>\n",
              "    <tr>\n",
              "      <th>Total_deg</th>\n",
              "      <td>float64</td>\n",
              "    </tr>\n",
              "    <tr>\n",
              "      <th>is_connected</th>\n",
              "      <td>float64</td>\n",
              "    </tr>\n",
              "    <tr>\n",
              "      <th>avg_length</th>\n",
              "      <td>float64</td>\n",
              "    </tr>\n",
              "    <tr>\n",
              "      <th>radius</th>\n",
              "      <td>float64</td>\n",
              "    </tr>\n",
              "    <tr>\n",
              "      <th>diameter</th>\n",
              "      <td>float64</td>\n",
              "    </tr>\n",
              "    <tr>\n",
              "      <th>eccentricity</th>\n",
              "      <td>float64</td>\n",
              "    </tr>\n",
              "    <tr>\n",
              "      <th>center</th>\n",
              "      <td>float64</td>\n",
              "    </tr>\n",
              "    <tr>\n",
              "      <th>periphery</th>\n",
              "      <td>float64</td>\n",
              "    </tr>\n",
              "    <tr>\n",
              "      <th>density</th>\n",
              "      <td>float64</td>\n",
              "    </tr>\n",
              "    <tr>\n",
              "      <th>n.connected.comp</th>\n",
              "      <td>float64</td>\n",
              "    </tr>\n",
              "    <tr>\n",
              "      <th>n.of_isolates</th>\n",
              "      <td>float64</td>\n",
              "    </tr>\n",
              "    <tr>\n",
              "      <th>is_distance_regular</th>\n",
              "      <td>float64</td>\n",
              "    </tr>\n",
              "    <tr>\n",
              "      <th>is_eulerian</th>\n",
              "      <td>float64</td>\n",
              "    </tr>\n",
              "    <tr>\n",
              "      <th>label</th>\n",
              "      <td>float64</td>\n",
              "    </tr>\n",
              "  </tbody>\n",
              "</table>\n",
              "</div>"
            ],
            "text/plain": [
              "                           0\n",
              "edges                float64\n",
              "nodes                float64\n",
              "avg_edg              float64\n",
              "avg_deg              float64\n",
              "med_edg              float64\n",
              "med_deg              float64\n",
              "IQR_edg              float64\n",
              "IQR_deg              float64\n",
              "STD_edg              float64\n",
              "STD_deg              float64\n",
              "Total_edg            float64\n",
              "Total_deg            float64\n",
              "is_connected         float64\n",
              "avg_length           float64\n",
              "radius               float64\n",
              "diameter             float64\n",
              "eccentricity         float64\n",
              "center               float64\n",
              "periphery            float64\n",
              "density              float64\n",
              "n.connected.comp     float64\n",
              "n.of_isolates        float64\n",
              "is_distance_regular  float64\n",
              "is_eulerian          float64\n",
              "label                float64"
            ]
          },
          "metadata": {
            "tags": []
          },
          "execution_count": 593
        }
      ]
    },
    {
      "cell_type": "code",
      "metadata": {
        "id": "ci4AY74Y1_-X",
        "colab_type": "code",
        "outputId": "5b8afd3a-54b6-49a6-a791-65a84601f39f",
        "colab": {
          "base_uri": "https://localhost:8080/",
          "height": 119
        }
      },
      "source": [
        "df.columns"
      ],
      "execution_count": 0,
      "outputs": [
        {
          "output_type": "execute_result",
          "data": {
            "text/plain": [
              "Index(['edges', 'nodes', 'avg_edg', 'avg_deg', 'med_edg', 'med_deg', 'IQR_edg',\n",
              "       'IQR_deg', 'STD_edg', 'STD_deg', 'Total_edg', 'Total_deg',\n",
              "       'is_connected', 'avg_length', 'radius', 'diameter', 'eccentricity',\n",
              "       'center', 'periphery', 'density', 'n.connected.comp', 'n.of_isolates',\n",
              "       'is_distance_regular', 'is_eulerian', 'label'],\n",
              "      dtype='object')"
            ]
          },
          "metadata": {
            "tags": []
          },
          "execution_count": 517
        }
      ]
    },
    {
      "cell_type": "code",
      "metadata": {
        "id": "unD-G9qhNsIR",
        "colab_type": "code",
        "outputId": "edb90e33-377e-4363-8f21-4b4db080f270",
        "colab": {
          "base_uri": "https://localhost:8080/",
          "height": 527
        }
      },
      "source": [
        "df.info()"
      ],
      "execution_count": 0,
      "outputs": [
        {
          "output_type": "stream",
          "text": [
            "<class 'pandas.core.frame.DataFrame'>\n",
            "Int64Index: 1113 entries, 1 to 1113\n",
            "Data columns (total 25 columns):\n",
            "edges                  1113 non-null float64\n",
            "nodes                  1113 non-null float64\n",
            "avg_edg                1113 non-null float64\n",
            "avg_deg                1113 non-null float64\n",
            "med_edg                1113 non-null float64\n",
            "med_deg                1113 non-null float64\n",
            "IQR_edg                1113 non-null float64\n",
            "IQR_deg                1113 non-null float64\n",
            "STD_edg                1113 non-null float64\n",
            "STD_deg                1113 non-null float64\n",
            "Total_edg              1113 non-null float64\n",
            "Total_deg              1113 non-null float64\n",
            "is_connected           1113 non-null float64\n",
            "avg_length             1113 non-null float64\n",
            "radius                 1113 non-null float64\n",
            "diameter               1113 non-null float64\n",
            "eccentricity           1113 non-null float64\n",
            "center                 1113 non-null float64\n",
            "periphery              1113 non-null float64\n",
            "density                1113 non-null float64\n",
            "n.connected.comp       1113 non-null float64\n",
            "n.of_isolates          1113 non-null float64\n",
            "is_distance_regular    1113 non-null float64\n",
            "is_eulerian            1113 non-null float64\n",
            "label                  1113 non-null float64\n",
            "dtypes: float64(25)\n",
            "memory usage: 266.1 KB\n"
          ],
          "name": "stdout"
        }
      ]
    },
    {
      "cell_type": "code",
      "metadata": {
        "id": "ZV6YfDIxN4d-",
        "colab_type": "code",
        "outputId": "aa5f63f0-3e95-498f-b2e7-22fcb842af3d",
        "colab": {
          "base_uri": "https://localhost:8080/",
          "height": 459
        }
      },
      "source": [
        "df.isnull().sum()"
      ],
      "execution_count": 0,
      "outputs": [
        {
          "output_type": "execute_result",
          "data": {
            "text/plain": [
              "edges                  0\n",
              "nodes                  0\n",
              "avg_edg                0\n",
              "avg_deg                0\n",
              "med_edg                0\n",
              "med_deg                0\n",
              "IQR_edg                0\n",
              "IQR_deg                0\n",
              "STD_edg                0\n",
              "STD_deg                0\n",
              "Total_edg              0\n",
              "Total_deg              0\n",
              "is_connected           0\n",
              "avg_length             0\n",
              "radius                 0\n",
              "diameter               0\n",
              "eccentricity           0\n",
              "center                 0\n",
              "periphery              0\n",
              "density                0\n",
              "n.connected.comp       0\n",
              "n.of_isolates          0\n",
              "is_distance_regular    0\n",
              "is_eulerian            0\n",
              "label                  0\n",
              "dtype: int64"
            ]
          },
          "metadata": {
            "tags": []
          },
          "execution_count": 595
        }
      ]
    },
    {
      "cell_type": "code",
      "metadata": {
        "id": "pbTOk6_rOmnj",
        "colab_type": "code",
        "outputId": "02c4e179-a7db-4630-c9d7-920abb130f8a",
        "colab": {
          "base_uri": "https://localhost:8080/",
          "height": 459
        }
      },
      "source": [
        "df.nunique()"
      ],
      "execution_count": 0,
      "outputs": [
        {
          "output_type": "execute_result",
          "data": {
            "text/plain": [
              "edges                  223\n",
              "nodes                  148\n",
              "avg_edg                459\n",
              "avg_deg                457\n",
              "med_edg                  5\n",
              "med_deg                  8\n",
              "IQR_edg                 13\n",
              "IQR_deg                 13\n",
              "STD_edg                850\n",
              "STD_deg                758\n",
              "Total_edg              223\n",
              "Total_deg              223\n",
              "is_connected             2\n",
              "avg_length             945\n",
              "radius                  35\n",
              "diameter                59\n",
              "eccentricity           617\n",
              "center                  25\n",
              "periphery               31\n",
              "density                642\n",
              "n.connected.comp         7\n",
              "n.of_isolates            1\n",
              "is_distance_regular      2\n",
              "is_eulerian              2\n",
              "label                    2\n",
              "dtype: int64"
            ]
          },
          "metadata": {
            "tags": []
          },
          "execution_count": 596
        }
      ]
    },
    {
      "cell_type": "code",
      "metadata": {
        "id": "XnslE0i80yOK",
        "colab_type": "code",
        "colab": {}
      },
      "source": [
        "df=df.drop('n.of_isolates',axis=1)"
      ],
      "execution_count": 0,
      "outputs": []
    },
    {
      "cell_type": "code",
      "metadata": {
        "id": "xYfRgBT1O55I",
        "colab_type": "code",
        "outputId": "015d9172-5685-4f62-e91f-462fc16df6c8",
        "colab": {
          "base_uri": "https://localhost:8080/",
          "height": 255
        }
      },
      "source": [
        "df.head()"
      ],
      "execution_count": 0,
      "outputs": [
        {
          "output_type": "execute_result",
          "data": {
            "text/html": [
              "<div>\n",
              "<style scoped>\n",
              "    .dataframe tbody tr th:only-of-type {\n",
              "        vertical-align: middle;\n",
              "    }\n",
              "\n",
              "    .dataframe tbody tr th {\n",
              "        vertical-align: top;\n",
              "    }\n",
              "\n",
              "    .dataframe thead th {\n",
              "        text-align: right;\n",
              "    }\n",
              "</style>\n",
              "<table border=\"1\" class=\"dataframe\">\n",
              "  <thead>\n",
              "    <tr style=\"text-align: right;\">\n",
              "      <th></th>\n",
              "      <th>edges</th>\n",
              "      <th>nodes</th>\n",
              "      <th>avg_edg</th>\n",
              "      <th>avg_deg</th>\n",
              "      <th>med_edg</th>\n",
              "      <th>med_deg</th>\n",
              "      <th>IQR_edg</th>\n",
              "      <th>IQR_deg</th>\n",
              "      <th>STD_edg</th>\n",
              "      <th>STD_deg</th>\n",
              "      <th>Total_edg</th>\n",
              "      <th>Total_deg</th>\n",
              "      <th>is_connected</th>\n",
              "      <th>avg_length</th>\n",
              "      <th>radius</th>\n",
              "      <th>diameter</th>\n",
              "      <th>eccentricity</th>\n",
              "      <th>center</th>\n",
              "      <th>periphery</th>\n",
              "      <th>density</th>\n",
              "      <th>n.connected.comp</th>\n",
              "      <th>is_distance_regular</th>\n",
              "      <th>is_eulerian</th>\n",
              "      <th>label</th>\n",
              "    </tr>\n",
              "    <tr>\n",
              "      <th>index</th>\n",
              "      <th></th>\n",
              "      <th></th>\n",
              "      <th></th>\n",
              "      <th></th>\n",
              "      <th></th>\n",
              "      <th></th>\n",
              "      <th></th>\n",
              "      <th></th>\n",
              "      <th></th>\n",
              "      <th></th>\n",
              "      <th></th>\n",
              "      <th></th>\n",
              "      <th></th>\n",
              "      <th></th>\n",
              "      <th></th>\n",
              "      <th></th>\n",
              "      <th></th>\n",
              "      <th></th>\n",
              "      <th></th>\n",
              "      <th></th>\n",
              "      <th></th>\n",
              "      <th></th>\n",
              "      <th></th>\n",
              "      <th></th>\n",
              "    </tr>\n",
              "  </thead>\n",
              "  <tbody>\n",
              "    <tr>\n",
              "      <th>1</th>\n",
              "      <td>81.0</td>\n",
              "      <td>42.0</td>\n",
              "      <td>2.314286</td>\n",
              "      <td>3.857143</td>\n",
              "      <td>2.0</td>\n",
              "      <td>3.0</td>\n",
              "      <td>2.00</td>\n",
              "      <td>1.00</td>\n",
              "      <td>1.304310</td>\n",
              "      <td>1.166424</td>\n",
              "      <td>81.0</td>\n",
              "      <td>162.0</td>\n",
              "      <td>1.0</td>\n",
              "      <td>5.364692</td>\n",
              "      <td>7.0</td>\n",
              "      <td>14.0</td>\n",
              "      <td>455.0</td>\n",
              "      <td>1.0</td>\n",
              "      <td>3.0</td>\n",
              "      <td>0.094077</td>\n",
              "      <td>1.0</td>\n",
              "      <td>0.0</td>\n",
              "      <td>0.0</td>\n",
              "      <td>0.0</td>\n",
              "    </tr>\n",
              "    <tr>\n",
              "      <th>2</th>\n",
              "      <td>46.0</td>\n",
              "      <td>27.0</td>\n",
              "      <td>1.769231</td>\n",
              "      <td>3.407407</td>\n",
              "      <td>2.0</td>\n",
              "      <td>3.0</td>\n",
              "      <td>1.00</td>\n",
              "      <td>1.00</td>\n",
              "      <td>0.638971</td>\n",
              "      <td>0.561694</td>\n",
              "      <td>46.0</td>\n",
              "      <td>92.0</td>\n",
              "      <td>1.0</td>\n",
              "      <td>5.945869</td>\n",
              "      <td>8.0</td>\n",
              "      <td>15.0</td>\n",
              "      <td>319.0</td>\n",
              "      <td>2.0</td>\n",
              "      <td>5.0</td>\n",
              "      <td>0.131054</td>\n",
              "      <td>1.0</td>\n",
              "      <td>0.0</td>\n",
              "      <td>0.0</td>\n",
              "      <td>0.0</td>\n",
              "    </tr>\n",
              "    <tr>\n",
              "      <th>3</th>\n",
              "      <td>17.0</td>\n",
              "      <td>10.0</td>\n",
              "      <td>2.125000</td>\n",
              "      <td>3.400000</td>\n",
              "      <td>2.0</td>\n",
              "      <td>3.0</td>\n",
              "      <td>0.25</td>\n",
              "      <td>0.75</td>\n",
              "      <td>0.599479</td>\n",
              "      <td>0.663325</td>\n",
              "      <td>17.0</td>\n",
              "      <td>34.0</td>\n",
              "      <td>1.0</td>\n",
              "      <td>2.222222</td>\n",
              "      <td>2.0</td>\n",
              "      <td>4.0</td>\n",
              "      <td>35.0</td>\n",
              "      <td>1.0</td>\n",
              "      <td>6.0</td>\n",
              "      <td>0.377778</td>\n",
              "      <td>1.0</td>\n",
              "      <td>0.0</td>\n",
              "      <td>0.0</td>\n",
              "      <td>1.0</td>\n",
              "    </tr>\n",
              "    <tr>\n",
              "      <th>4</th>\n",
              "      <td>46.0</td>\n",
              "      <td>24.0</td>\n",
              "      <td>2.190476</td>\n",
              "      <td>3.833333</td>\n",
              "      <td>2.0</td>\n",
              "      <td>3.5</td>\n",
              "      <td>1.00</td>\n",
              "      <td>1.00</td>\n",
              "      <td>0.851835</td>\n",
              "      <td>1.280191</td>\n",
              "      <td>46.0</td>\n",
              "      <td>92.0</td>\n",
              "      <td>1.0</td>\n",
              "      <td>2.956522</td>\n",
              "      <td>3.0</td>\n",
              "      <td>6.0</td>\n",
              "      <td>121.0</td>\n",
              "      <td>1.0</td>\n",
              "      <td>9.0</td>\n",
              "      <td>0.166667</td>\n",
              "      <td>1.0</td>\n",
              "      <td>0.0</td>\n",
              "      <td>0.0</td>\n",
              "      <td>0.0</td>\n",
              "    </tr>\n",
              "    <tr>\n",
              "      <th>5</th>\n",
              "      <td>21.0</td>\n",
              "      <td>11.0</td>\n",
              "      <td>2.100000</td>\n",
              "      <td>3.818182</td>\n",
              "      <td>2.5</td>\n",
              "      <td>3.0</td>\n",
              "      <td>2.00</td>\n",
              "      <td>2.00</td>\n",
              "      <td>0.943398</td>\n",
              "      <td>0.935966</td>\n",
              "      <td>21.0</td>\n",
              "      <td>42.0</td>\n",
              "      <td>1.0</td>\n",
              "      <td>2.072727</td>\n",
              "      <td>2.0</td>\n",
              "      <td>4.0</td>\n",
              "      <td>37.0</td>\n",
              "      <td>1.0</td>\n",
              "      <td>5.0</td>\n",
              "      <td>0.381818</td>\n",
              "      <td>1.0</td>\n",
              "      <td>0.0</td>\n",
              "      <td>0.0</td>\n",
              "      <td>0.0</td>\n",
              "    </tr>\n",
              "  </tbody>\n",
              "</table>\n",
              "</div>"
            ],
            "text/plain": [
              "       edges  nodes   avg_edg  ...  is_distance_regular  is_eulerian  label\n",
              "index                          ...                                         \n",
              "1       81.0   42.0  2.314286  ...                  0.0          0.0    0.0\n",
              "2       46.0   27.0  1.769231  ...                  0.0          0.0    0.0\n",
              "3       17.0   10.0  2.125000  ...                  0.0          0.0    1.0\n",
              "4       46.0   24.0  2.190476  ...                  0.0          0.0    0.0\n",
              "5       21.0   11.0  2.100000  ...                  0.0          0.0    0.0\n",
              "\n",
              "[5 rows x 24 columns]"
            ]
          },
          "metadata": {
            "tags": []
          },
          "execution_count": 598
        }
      ]
    },
    {
      "cell_type": "code",
      "metadata": {
        "id": "wlnI2KVCN9Cn",
        "colab_type": "code",
        "outputId": "3b15e47b-da6b-49cb-b6c6-5cc49bc39575",
        "colab": {
          "base_uri": "https://localhost:8080/",
          "height": 410
        }
      },
      "source": [
        "def describe(df):\n",
        "    return pd.concat([df.describe().T,\n",
        "                      df.mad().rename('mad'),\n",
        "                      df.skew().rename('skew'),\n",
        "                      df.kurt().rename('kurt'),\n",
        "                     ], axis=1).T\n",
        "\n",
        "# Descriptive statistics\n",
        "describe(df)"
      ],
      "execution_count": 0,
      "outputs": [
        {
          "output_type": "execute_result",
          "data": {
            "text/html": [
              "<div>\n",
              "<style scoped>\n",
              "    .dataframe tbody tr th:only-of-type {\n",
              "        vertical-align: middle;\n",
              "    }\n",
              "\n",
              "    .dataframe tbody tr th {\n",
              "        vertical-align: top;\n",
              "    }\n",
              "\n",
              "    .dataframe thead th {\n",
              "        text-align: right;\n",
              "    }\n",
              "</style>\n",
              "<table border=\"1\" class=\"dataframe\">\n",
              "  <thead>\n",
              "    <tr style=\"text-align: right;\">\n",
              "      <th></th>\n",
              "      <th>edges</th>\n",
              "      <th>nodes</th>\n",
              "      <th>avg_edg</th>\n",
              "      <th>avg_deg</th>\n",
              "      <th>med_edg</th>\n",
              "      <th>med_deg</th>\n",
              "      <th>IQR_edg</th>\n",
              "      <th>IQR_deg</th>\n",
              "      <th>STD_edg</th>\n",
              "      <th>STD_deg</th>\n",
              "      <th>Total_edg</th>\n",
              "      <th>Total_deg</th>\n",
              "      <th>is_connected</th>\n",
              "      <th>avg_length</th>\n",
              "      <th>radius</th>\n",
              "      <th>diameter</th>\n",
              "      <th>eccentricity</th>\n",
              "      <th>center</th>\n",
              "      <th>periphery</th>\n",
              "      <th>density</th>\n",
              "      <th>n.connected.comp</th>\n",
              "      <th>is_distance_regular</th>\n",
              "      <th>is_eulerian</th>\n",
              "      <th>label</th>\n",
              "    </tr>\n",
              "  </thead>\n",
              "  <tbody>\n",
              "    <tr>\n",
              "      <th>count</th>\n",
              "      <td>1113.000000</td>\n",
              "      <td>1113.000000</td>\n",
              "      <td>1113.000000</td>\n",
              "      <td>1113.000000</td>\n",
              "      <td>1113.000000</td>\n",
              "      <td>1113.000000</td>\n",
              "      <td>1113.000000</td>\n",
              "      <td>1113.000000</td>\n",
              "      <td>1113.000000</td>\n",
              "      <td>1113.000000</td>\n",
              "      <td>1113.000000</td>\n",
              "      <td>1113.000000</td>\n",
              "      <td>1113.000000</td>\n",
              "      <td>1113.000000</td>\n",
              "      <td>1113.000000</td>\n",
              "      <td>1113.000000</td>\n",
              "      <td>1113.000000</td>\n",
              "      <td>1113.000000</td>\n",
              "      <td>1113.000000</td>\n",
              "      <td>1113.000000</td>\n",
              "      <td>1113.000000</td>\n",
              "      <td>1113.000000</td>\n",
              "      <td>1113.000000</td>\n",
              "      <td>1113.000000</td>\n",
              "    </tr>\n",
              "    <tr>\n",
              "      <th>mean</th>\n",
              "      <td>72.815813</td>\n",
              "      <td>39.053010</td>\n",
              "      <td>2.178140</td>\n",
              "      <td>3.734917</td>\n",
              "      <td>2.033243</td>\n",
              "      <td>3.581761</td>\n",
              "      <td>1.297844</td>\n",
              "      <td>1.185085</td>\n",
              "      <td>1.000944</td>\n",
              "      <td>0.878793</td>\n",
              "      <td>72.815813</td>\n",
              "      <td>145.631626</td>\n",
              "      <td>0.962264</td>\n",
              "      <td>4.670772</td>\n",
              "      <td>6.038310</td>\n",
              "      <td>11.497953</td>\n",
              "      <td>522.335580</td>\n",
              "      <td>2.795573</td>\n",
              "      <td>5.281409</td>\n",
              "      <td>0.212197</td>\n",
              "      <td>1.073675</td>\n",
              "      <td>0.010782</td>\n",
              "      <td>0.001797</td>\n",
              "      <td>0.419587</td>\n",
              "    </tr>\n",
              "    <tr>\n",
              "      <th>std</th>\n",
              "      <td>84.637076</td>\n",
              "      <td>45.775943</td>\n",
              "      <td>0.233386</td>\n",
              "      <td>0.423575</td>\n",
              "      <td>0.260171</td>\n",
              "      <td>0.600554</td>\n",
              "      <td>0.566916</td>\n",
              "      <td>0.511884</td>\n",
              "      <td>0.228987</td>\n",
              "      <td>0.264356</td>\n",
              "      <td>84.637076</td>\n",
              "      <td>169.274151</td>\n",
              "      <td>0.190642</td>\n",
              "      <td>2.723055</td>\n",
              "      <td>3.946233</td>\n",
              "      <td>7.856541</td>\n",
              "      <td>1279.849493</td>\n",
              "      <td>1.869562</td>\n",
              "      <td>2.029344</td>\n",
              "      <td>0.198070</td>\n",
              "      <td>0.512399</td>\n",
              "      <td>0.103320</td>\n",
              "      <td>0.042371</td>\n",
              "      <td>0.493713</td>\n",
              "    </tr>\n",
              "    <tr>\n",
              "      <th>min</th>\n",
              "      <td>5.000000</td>\n",
              "      <td>4.000000</td>\n",
              "      <td>1.473684</td>\n",
              "      <td>1.714286</td>\n",
              "      <td>1.000000</td>\n",
              "      <td>1.000000</td>\n",
              "      <td>0.000000</td>\n",
              "      <td>0.000000</td>\n",
              "      <td>0.471405</td>\n",
              "      <td>0.000000</td>\n",
              "      <td>5.000000</td>\n",
              "      <td>10.000000</td>\n",
              "      <td>0.000000</td>\n",
              "      <td>1.000000</td>\n",
              "      <td>1.000000</td>\n",
              "      <td>1.000000</td>\n",
              "      <td>4.000000</td>\n",
              "      <td>1.000000</td>\n",
              "      <td>2.000000</td>\n",
              "      <td>0.005467</td>\n",
              "      <td>1.000000</td>\n",
              "      <td>0.000000</td>\n",
              "      <td>0.000000</td>\n",
              "      <td>0.000000</td>\n",
              "    </tr>\n",
              "    <tr>\n",
              "      <th>25%</th>\n",
              "      <td>28.000000</td>\n",
              "      <td>15.000000</td>\n",
              "      <td>2.000000</td>\n",
              "      <td>3.478261</td>\n",
              "      <td>2.000000</td>\n",
              "      <td>3.000000</td>\n",
              "      <td>1.000000</td>\n",
              "      <td>1.000000</td>\n",
              "      <td>0.840992</td>\n",
              "      <td>0.704004</td>\n",
              "      <td>28.000000</td>\n",
              "      <td>56.000000</td>\n",
              "      <td>1.000000</td>\n",
              "      <td>2.709069</td>\n",
              "      <td>3.000000</td>\n",
              "      <td>6.000000</td>\n",
              "      <td>74.000000</td>\n",
              "      <td>1.000000</td>\n",
              "      <td>4.000000</td>\n",
              "      <td>0.087347</td>\n",
              "      <td>1.000000</td>\n",
              "      <td>0.000000</td>\n",
              "      <td>0.000000</td>\n",
              "      <td>0.000000</td>\n",
              "    </tr>\n",
              "    <tr>\n",
              "      <th>50%</th>\n",
              "      <td>49.000000</td>\n",
              "      <td>26.000000</td>\n",
              "      <td>2.177778</td>\n",
              "      <td>3.677419</td>\n",
              "      <td>2.000000</td>\n",
              "      <td>4.000000</td>\n",
              "      <td>1.000000</td>\n",
              "      <td>1.000000</td>\n",
              "      <td>0.991085</td>\n",
              "      <td>0.871780</td>\n",
              "      <td>49.000000</td>\n",
              "      <td>98.000000</td>\n",
              "      <td>1.000000</td>\n",
              "      <td>4.191176</td>\n",
              "      <td>5.000000</td>\n",
              "      <td>10.000000</td>\n",
              "      <td>202.000000</td>\n",
              "      <td>2.000000</td>\n",
              "      <td>5.000000</td>\n",
              "      <td>0.148551</td>\n",
              "      <td>1.000000</td>\n",
              "      <td>0.000000</td>\n",
              "      <td>0.000000</td>\n",
              "      <td>0.000000</td>\n",
              "    </tr>\n",
              "    <tr>\n",
              "      <th>75%</th>\n",
              "      <td>87.000000</td>\n",
              "      <td>45.000000</td>\n",
              "      <td>2.333333</td>\n",
              "      <td>4.000000</td>\n",
              "      <td>2.000000</td>\n",
              "      <td>4.000000</td>\n",
              "      <td>2.000000</td>\n",
              "      <td>1.500000</td>\n",
              "      <td>1.126099</td>\n",
              "      <td>1.027402</td>\n",
              "      <td>87.000000</td>\n",
              "      <td>174.000000</td>\n",
              "      <td>1.000000</td>\n",
              "      <td>5.941224</td>\n",
              "      <td>8.000000</td>\n",
              "      <td>15.000000</td>\n",
              "      <td>484.000000</td>\n",
              "      <td>4.000000</td>\n",
              "      <td>6.000000</td>\n",
              "      <td>0.257143</td>\n",
              "      <td>1.000000</td>\n",
              "      <td>0.000000</td>\n",
              "      <td>0.000000</td>\n",
              "      <td>1.000000</td>\n",
              "    </tr>\n",
              "    <tr>\n",
              "      <th>max</th>\n",
              "      <td>1049.000000</td>\n",
              "      <td>620.000000</td>\n",
              "      <td>3.000000</td>\n",
              "      <td>5.071429</td>\n",
              "      <td>3.000000</td>\n",
              "      <td>5.000000</td>\n",
              "      <td>3.000000</td>\n",
              "      <td>3.000000</td>\n",
              "      <td>2.801268</td>\n",
              "      <td>2.610357</td>\n",
              "      <td>1049.000000</td>\n",
              "      <td>2098.000000</td>\n",
              "      <td>1.000000</td>\n",
              "      <td>23.331429</td>\n",
              "      <td>32.000000</td>\n",
              "      <td>64.000000</td>\n",
              "      <td>30492.000000</td>\n",
              "      <td>16.000000</td>\n",
              "      <td>18.000000</td>\n",
              "      <td>1.000000</td>\n",
              "      <td>9.000000</td>\n",
              "      <td>1.000000</td>\n",
              "      <td>1.000000</td>\n",
              "      <td>1.000000</td>\n",
              "    </tr>\n",
              "    <tr>\n",
              "      <th>mad</th>\n",
              "      <td>49.402454</td>\n",
              "      <td>26.514456</td>\n",
              "      <td>0.188747</td>\n",
              "      <td>0.324284</td>\n",
              "      <td>0.108249</td>\n",
              "      <td>0.536123</td>\n",
              "      <td>0.482005</td>\n",
              "      <td>0.383706</td>\n",
              "      <td>0.172919</td>\n",
              "      <td>0.200408</td>\n",
              "      <td>49.402454</td>\n",
              "      <td>98.804907</td>\n",
              "      <td>0.072624</td>\n",
              "      <td>2.061468</td>\n",
              "      <td>2.966729</td>\n",
              "      <td>5.938128</td>\n",
              "      <td>538.214780</td>\n",
              "      <td>1.357915</td>\n",
              "      <td>1.411469</td>\n",
              "      <td>0.139489</td>\n",
              "      <td>0.141789</td>\n",
              "      <td>0.021331</td>\n",
              "      <td>0.003587</td>\n",
              "      <td>0.487067</td>\n",
              "    </tr>\n",
              "    <tr>\n",
              "      <th>skew</th>\n",
              "      <td>5.241192</td>\n",
              "      <td>5.227466</td>\n",
              "      <td>0.230037</td>\n",
              "      <td>-0.016643</td>\n",
              "      <td>0.931171</td>\n",
              "      <td>-0.036317</td>\n",
              "      <td>0.088554</td>\n",
              "      <td>0.547421</td>\n",
              "      <td>1.160233</td>\n",
              "      <td>0.438370</td>\n",
              "      <td>5.241192</td>\n",
              "      <td>5.241192</td>\n",
              "      <td>-4.858273</td>\n",
              "      <td>1.410281</td>\n",
              "      <td>1.401842</td>\n",
              "      <td>1.431886</td>\n",
              "      <td>13.596246</td>\n",
              "      <td>2.156700</td>\n",
              "      <td>1.724732</td>\n",
              "      <td>2.012729</td>\n",
              "      <td>10.520455</td>\n",
              "      <td>9.487013</td>\n",
              "      <td>23.558381</td>\n",
              "      <td>0.326335</td>\n",
              "    </tr>\n",
              "    <tr>\n",
              "      <th>kurt</th>\n",
              "      <td>44.748467</td>\n",
              "      <td>45.324258</td>\n",
              "      <td>-0.061595</td>\n",
              "      <td>1.182519</td>\n",
              "      <td>9.661612</td>\n",
              "      <td>-0.065559</td>\n",
              "      <td>-0.333770</td>\n",
              "      <td>1.121363</td>\n",
              "      <td>5.438871</td>\n",
              "      <td>3.219262</td>\n",
              "      <td>44.748467</td>\n",
              "      <td>44.748467</td>\n",
              "      <td>21.641702</td>\n",
              "      <td>3.441850</td>\n",
              "      <td>3.135160</td>\n",
              "      <td>3.285507</td>\n",
              "      <td>282.786037</td>\n",
              "      <td>8.731531</td>\n",
              "      <td>6.097014</td>\n",
              "      <td>4.141674</td>\n",
              "      <td>130.218597</td>\n",
              "      <td>88.161842</td>\n",
              "      <td>553.992794</td>\n",
              "      <td>-1.896917</td>\n",
              "    </tr>\n",
              "  </tbody>\n",
              "</table>\n",
              "</div>"
            ],
            "text/plain": [
              "             edges        nodes  ...  is_eulerian        label\n",
              "count  1113.000000  1113.000000  ...  1113.000000  1113.000000\n",
              "mean     72.815813    39.053010  ...     0.001797     0.419587\n",
              "std      84.637076    45.775943  ...     0.042371     0.493713\n",
              "min       5.000000     4.000000  ...     0.000000     0.000000\n",
              "25%      28.000000    15.000000  ...     0.000000     0.000000\n",
              "50%      49.000000    26.000000  ...     0.000000     0.000000\n",
              "75%      87.000000    45.000000  ...     0.000000     1.000000\n",
              "max    1049.000000   620.000000  ...     1.000000     1.000000\n",
              "mad      49.402454    26.514456  ...     0.003587     0.487067\n",
              "skew      5.241192     5.227466  ...    23.558381     0.326335\n",
              "kurt     44.748467    45.324258  ...   553.992794    -1.896917\n",
              "\n",
              "[11 rows x 24 columns]"
            ]
          },
          "metadata": {
            "tags": []
          },
          "execution_count": 599
        }
      ]
    },
    {
      "cell_type": "code",
      "metadata": {
        "id": "3bdCnmPiLlLQ",
        "colab_type": "code",
        "outputId": "436c63ac-6332-468f-9872-b40e4cea1b94",
        "colab": {
          "base_uri": "https://localhost:8080/",
          "height": 6833
        }
      },
      "source": [
        "for col in df.columns:\n",
        "    col_data = df[col]\n",
        "    plt.hist(col_data)\n",
        "    plt.xlabel(col)\n",
        "    plt.ylabel('freq')\n",
        "    plt.title('Histogram')\n",
        "    plt.grid(True)\n",
        "    plt.show()"
      ],
      "execution_count": 0,
      "outputs": [
        {
          "output_type": "display_data",
          "data": {
            "image/png": "[encoded data removed]",
            "text/plain": [
              "<Figure size 432x288 with 1 Axes>"
            ]
          },
          "metadata": {
            "tags": []
          }
        },
        {
          "output_type": "display_data",
          "data": {
            "image/png": "[encoded data removed]",
            "text/plain": [
              "<Figure size 432x288 with 1 Axes>"
            ]
          },
          "metadata": {
            "tags": []
          }
        },
        {
          "output_type": "display_data",
          "data": {
            "image/png": "[encoded data removed]",
            "text/plain": [
              "<Figure size 432x288 with 1 Axes>"
            ]
          },
          "metadata": {
            "tags": []
          }
        },
        {
          "output_type": "display_data",
          "data": {
            "image/png": "[encoded data removed]",
            "text/plain": [
              "<Figure size 432x288 with 1 Axes>"
            ]
          },
          "metadata": {
            "tags": []
          }
        },
        {
          "output_type": "display_data",
          "data": {
            "image/png": "[encoded data removed]",
            "text/plain": [
              "<Figure size 432x288 with 1 Axes>"
            ]
          },
          "metadata": {
            "tags": []
          }
        },
        {
          "output_type": "display_data",
          "data": {
            "image/png": "[encoded data removed]",
            "text/plain": [
              "<Figure size 432x288 with 1 Axes>"
            ]
          },
          "metadata": {
            "tags": []
          }
        },
        {
          "output_type": "display_data",
          "data": {
            "image/png": "[encoded data removed]",
            "text/plain": [
              "<Figure size 432x288 with 1 Axes>"
            ]
          },
          "metadata": {
            "tags": []
          }
        },
        {
          "output_type": "display_data",
          "data": {
            "image/png": "[encoded data removed]",
            "text/plain": [
              "<Figure size 432x288 with 1 Axes>"
            ]
          },
          "metadata": {
            "tags": []
          }
        },
        {
          "output_type": "display_data",
          "data": {
            "image/png": "[encoded data removed]",
            "text/plain": [
              "<Figure size 432x288 with 1 Axes>"
            ]
          },
          "metadata": {
            "tags": []
          }
        },
        {
          "output_type": "display_data",
          "data": {
            "image/png": "[encoded data removed]",
            "text/plain": [
              "<Figure size 432x288 with 1 Axes>"
            ]
          },
          "metadata": {
            "tags": []
          }
        },
        {
          "output_type": "display_data",
          "data": {
            "image/png": "[encoded data removed]",
            "text/plain": [
              "<Figure size 432x288 with 1 Axes>"
            ]
          },
          "metadata": {
            "tags": []
          }
        },
        {
          "output_type": "display_data",
          "data": {
            "image/png": "[encoded data removed]",
            "text/plain": [
              "<Figure size 432x288 with 1 Axes>"
            ]
          },
          "metadata": {
            "tags": []
          }
        },
        {
          "output_type": "display_data",
          "data": {
            "image/png": "[encoded data removed]",
            "text/plain": [
              "<Figure size 432x288 with 1 Axes>"
            ]
          },
          "metadata": {
            "tags": []
          }
        },
        {
          "output_type": "display_data",
          "data": {
            "image/png": "[encoded data removed]",
            "text/plain": [
              "<Figure size 432x288 with 1 Axes>"
            ]
          },
          "metadata": {
            "tags": []
          }
        },
        {
          "output_type": "display_data",
          "data": {
            "image/png": "[encoded data removed]",
            "text/plain": [
              "<Figure size 432x288 with 1 Axes>"
            ]
          },
          "metadata": {
            "tags": []
          }
        },
        {
          "output_type": "display_data",
          "data": {
            "image/png": "[encoded data removed]",
            "text/plain": [
              "<Figure size 432x288 with 1 Axes>"
            ]
          },
          "metadata": {
            "tags": []
          }
        },
        {
          "output_type": "display_data",
          "data": {
            "image/png": "[encoded data removed]",
            "text/plain": [
              "<Figure size 432x288 with 1 Axes>"
            ]
          },
          "metadata": {
            "tags": []
          }
        },
        {
          "output_type": "display_data",
          "data": {
            "image/png": "[encoded data removed]",
            "text/plain": [
              "<Figure size 432x288 with 1 Axes>"
            ]
          },
          "metadata": {
            "tags": []
          }
        },
        {
          "output_type": "display_data",
          "data": {
            "image/png": "[encoded data removed]",
            "text/plain": [
              "<Figure size 432x288 with 1 Axes>"
            ]
          },
          "metadata": {
            "tags": []
          }
        },
        {
          "output_type": "display_data",
          "data": {
            "image/png": "[encoded data removed]",
            "text/plain": [
              "<Figure size 432x288 with 1 Axes>"
            ]
          },
          "metadata": {
            "tags": []
          }
        },
        {
          "output_type": "display_data",
          "data": {
            "image/png": "[encoded data removed]",
            "text/plain": [
              "<Figure size 432x288 with 1 Axes>"
            ]
          },
          "metadata": {
            "tags": []
          }
        },
        {
          "output_type": "display_data",
          "data": {
            "image/png": "[encoded data removed]",
            "text/plain": [
              "<Figure size 432x288 with 1 Axes>"
            ]
          },
          "metadata": {
            "tags": []
          }
        },
        {
          "output_type": "display_data",
          "data": {
            "image/png": "[encoded data removed]",
            "text/plain": [
              "<Figure size 432x288 with 1 Axes>"
            ]
          },
          "metadata": {
            "tags": []
          }
        },
        {
          "output_type": "display_data",
          "data": {
            "image/png": "[encoded data removed]",
            "text/plain": [
              "<Figure size 432x288 with 1 Axes>"
            ]
          },
          "metadata": {
            "tags": []
          }
        }
      ]
    },
    {
      "cell_type": "code",
      "metadata": {
        "id": "pTjfuF9BPe6m",
        "colab_type": "code",
        "outputId": "134efac4-c946-4073-8aa0-b010f3b6fbda",
        "colab": {
          "base_uri": "https://localhost:8080/",
          "height": 11801
        }
      },
      "source": [
        "# Boxplot\n",
        "for col in df.columns:\n",
        "    sns.boxplot(df[col])\n",
        "    plt.xlabel(col)\n",
        "    fig=plt.gcf()\n",
        "    fig.set_size_inches(8,8)\n",
        "    plt.show()"
      ],
      "execution_count": 0,
      "outputs": [
        {
          "output_type": "display_data",
          "data": {
            "image/png": "[encoded data removed]",
            "text/plain": [
              "<Figure size 576x576 with 1 Axes>"
            ]
          },
          "metadata": {
            "tags": []
          }
        },
        {
          "output_type": "display_data",
          "data": {
            "image/png": "[encoded data removed]",
            "text/plain": [
              "<Figure size 576x576 with 1 Axes>"
            ]
          },
          "metadata": {
            "tags": []
          }
        },
        {
          "output_type": "display_data",
          "data": {
            "image/png": "[encoded data removed]",
            "text/plain": [
              "<Figure size 576x576 with 1 Axes>"
            ]
          },
          "metadata": {
            "tags": []
          }
        },
        {
          "output_type": "display_data",
          "data": {
            "image/png": "[encoded data removed]",
            "text/plain": [
              "<Figure size 576x576 with 1 Axes>"
            ]
          },
          "metadata": {
            "tags": []
          }
        },
        {
          "output_type": "display_data",
          "data": {
            "image/png": "[encoded data removed]",
            "text/plain": [
              "<Figure size 576x576 with 1 Axes>"
            ]
          },
          "metadata": {
            "tags": []
          }
        },
        {
          "output_type": "display_data",
          "data": {
            "image/png": "[encoded data removed]",
            "text/plain": [
              "<Figure size 576x576 with 1 Axes>"
            ]
          },
          "metadata": {
            "tags": []
          }
        },
        {
          "output_type": "display_data",
          "data": {
            "image/png": "[encoded data removed]",
            "text/plain": [
              "<Figure size 576x576 with 1 Axes>"
            ]
          },
          "metadata": {
            "tags": []
          }
        },
        {
          "output_type": "display_data",
          "data": {
            "image/png": "[encoded data removed]",
            "text/plain": [
              "<Figure size 576x576 with 1 Axes>"
            ]
          },
          "metadata": {
            "tags": []
          }
        },
        {
          "output_type": "display_data",
          "data": {
            "image/png": "[encoded data removed]",
            "text/plain": [
              "<Figure size 576x576 with 1 Axes>"
            ]
          },
          "metadata": {
            "tags": []
          }
        },
        {
          "output_type": "display_data",
          "data": {
            "image/png": "[encoded data removed]",
            "text/plain": [
              "<Figure size 576x576 with 1 Axes>"
            ]
          },
          "metadata": {
            "tags": []
          }
        },
        {
          "output_type": "display_data",
          "data": {
            "image/png": "[encoded data removed]",
            "text/plain": [
              "<Figure size 576x576 with 1 Axes>"
            ]
          },
          "metadata": {
            "tags": []
          }
        },
        {
          "output_type": "display_data",
          "data": {
            "image/png": "[encoded data removed]",
            "text/plain": [
              "<Figure size 576x576 with 1 Axes>"
            ]
          },
          "metadata": {
            "tags": []
          }
        },
        {
          "output_type": "display_data",
          "data": {
            "image/png": "[encoded data removed]",
            "text/plain": [
              "<Figure size 576x576 with 1 Axes>"
            ]
          },
          "metadata": {
            "tags": []
          }
        },
        {
          "output_type": "display_data",
          "data": {
            "image/png": "[encoded data removed]",
            "text/plain": [
              "<Figure size 576x576 with 1 Axes>"
            ]
          },
          "metadata": {
            "tags": []
          }
        },
        {
          "output_type": "display_data",
          "data": {
            "image/png": "[encoded data removed]",
            "text/plain": [
              "<Figure size 576x576 with 1 Axes>"
            ]
          },
          "metadata": {
            "tags": []
          }
        },
        {
          "output_type": "display_data",
          "data": {
            "image/png": "[encoded data removed]",
            "text/plain": [
              "<Figure size 576x576 with 1 Axes>"
            ]
          },
          "metadata": {
            "tags": []
          }
        },
        {
          "output_type": "display_data",
          "data": {
            "image/png": "[encoded data removed]",
            "text/plain": [
              "<Figure size 576x576 with 1 Axes>"
            ]
          },
          "metadata": {
            "tags": []
          }
        },
        {
          "output_type": "display_data",
          "data": {
            "image/png": "[encoded data removed]",
            "text/plain": [
              "<Figure size 576x576 with 1 Axes>"
            ]
          },
          "metadata": {
            "tags": []
          }
        },
        {
          "output_type": "display_data",
          "data": {
            "image/png": "[encoded data removed]",
            "text/plain": [
              "<Figure size 576x576 with 1 Axes>"
            ]
          },
          "metadata": {
            "tags": []
          }
        },
        {
          "output_type": "display_data",
          "data": {
            "image/png": "[encoded data removed]",
            "text/plain": [
              "<Figure size 576x576 with 1 Axes>"
            ]
          },
          "metadata": {
            "tags": []
          }
        },
        {
          "output_type": "display_data",
          "data": {
            "image/png": "[encoded data removed]",
            "text/plain": [
              "<Figure size 576x576 with 1 Axes>"
            ]
          },
          "metadata": {
            "tags": []
          }
        },
        {
          "output_type": "display_data",
          "data": {
            "image/png": "[encoded data removed]",
            "text/plain": [
              "<Figure size 576x576 with 1 Axes>"
            ]
          },
          "metadata": {
            "tags": []
          }
        },
        {
          "output_type": "display_data",
          "data": {
            "image/png": "[encoded data removed]",
            "text/plain": [
              "<Figure size 576x576 with 1 Axes>"
            ]
          },
          "metadata": {
            "tags": []
          }
        },
        {
          "output_type": "display_data",
          "data": {
            "image/png": "[encoded data removed]",
            "text/plain": [
              "<Figure size 576x576 with 1 Axes>"
            ]
          },
          "metadata": {
            "tags": []
          }
        }
      ]
    },
    {
      "cell_type": "markdown",
      "metadata": {
        "id": "kQnsGUq7Pr0S",
        "colab_type": "text"
      },
      "source": [
        "### Multicollinearity"
      ]
    },
    {
      "cell_type": "code",
      "metadata": {
        "id": "LkFuNwvBLgQG",
        "colab_type": "code",
        "outputId": "7894e54b-8e11-49b6-b2e7-39c2d3269a05",
        "colab": {
          "base_uri": "https://localhost:8080/",
          "height": 642
        }
      },
      "source": [
        "# Compute the correlation matrix\n",
        "sns.set(style=\"white\")\n",
        "\n",
        "corr = df.corr()\n",
        "\n",
        "# Generate a mask for the upper triangle\n",
        "mask = np.zeros_like(corr, dtype=np.bool)\n",
        "mask[np.triu_indices_from(mask)] = True\n",
        "\n",
        "# Set up the matplotlib figure\n",
        "f, ax = plt.subplots(figsize=(11, 9))\n",
        "\n",
        "# Generate a custom diverging colormap\n",
        "cmap = sns.diverging_palette(220, 10, as_cmap=True)\n",
        "\n",
        "# Draw the heatmap with the mask and correct aspect ratio\n",
        "sns.heatmap(corr, mask=mask, cmap=cmap, vmax=.3, center=0,\n",
        "            square=True, linewidths=.5, cbar_kws={\"shrink\": .5})\n",
        "plt.show()"
      ],
      "execution_count": 0,
      "outputs": [
        {
          "output_type": "display_data",
          "data": {
            "image/png": "[encoded data removed]",
            "text/plain": [
              "<Figure size 792x648 with 2 Axes>"
            ]
          },
          "metadata": {
            "tags": []
          }
        }
      ]
    },
    {
      "cell_type": "code",
      "metadata": {
        "id": "DoFNTR-CwkyR",
        "colab_type": "code",
        "outputId": "6d4ff73a-33aa-4568-d738-9cc9f861106c",
        "colab": {
          "base_uri": "https://localhost:8080/",
          "height": 813
        }
      },
      "source": [
        "df.corr()"
      ],
      "execution_count": 0,
      "outputs": [
        {
          "output_type": "execute_result",
          "data": {
            "text/html": [
              "<div>\n",
              "<style scoped>\n",
              "    .dataframe tbody tr th:only-of-type {\n",
              "        vertical-align: middle;\n",
              "    }\n",
              "\n",
              "    .dataframe tbody tr th {\n",
              "        vertical-align: top;\n",
              "    }\n",
              "\n",
              "    .dataframe thead th {\n",
              "        text-align: right;\n",
              "    }\n",
              "</style>\n",
              "<table border=\"1\" class=\"dataframe\">\n",
              "  <thead>\n",
              "    <tr style=\"text-align: right;\">\n",
              "      <th></th>\n",
              "      <th>edges</th>\n",
              "      <th>nodes</th>\n",
              "      <th>avg_edg</th>\n",
              "      <th>avg_deg</th>\n",
              "      <th>med_edg</th>\n",
              "      <th>med_deg</th>\n",
              "      <th>IQR_edg</th>\n",
              "      <th>IQR_deg</th>\n",
              "      <th>STD_edg</th>\n",
              "      <th>STD_deg</th>\n",
              "      <th>Total_edg</th>\n",
              "      <th>Total_deg</th>\n",
              "      <th>is_connected</th>\n",
              "      <th>avg_length</th>\n",
              "      <th>radius</th>\n",
              "      <th>diameter</th>\n",
              "      <th>eccentricity</th>\n",
              "      <th>center</th>\n",
              "      <th>periphery</th>\n",
              "      <th>density</th>\n",
              "      <th>n.connected.comp</th>\n",
              "      <th>is_distance_regular</th>\n",
              "      <th>is_eulerian</th>\n",
              "      <th>label</th>\n",
              "    </tr>\n",
              "  </thead>\n",
              "  <tbody>\n",
              "    <tr>\n",
              "      <th>edges</th>\n",
              "      <td>1.000000</td>\n",
              "      <td>0.984553</td>\n",
              "      <td>0.086212</td>\n",
              "      <td>0.107622</td>\n",
              "      <td>-0.094836</td>\n",
              "      <td>0.095808</td>\n",
              "      <td>0.201131</td>\n",
              "      <td>0.295027</td>\n",
              "      <td>0.219832</td>\n",
              "      <td>0.403669</td>\n",
              "      <td>1.000000</td>\n",
              "      <td>1.000000</td>\n",
              "      <td>-0.173985</td>\n",
              "      <td>0.672563</td>\n",
              "      <td>0.666714</td>\n",
              "      <td>0.664473</td>\n",
              "      <td>0.783384</td>\n",
              "      <td>0.101639</td>\n",
              "      <td>0.192573</td>\n",
              "      <td>-0.477307</td>\n",
              "      <td>0.351852</td>\n",
              "      <td>-0.082454</td>\n",
              "      <td>-0.028745</td>\n",
              "      <td>-0.274046</td>\n",
              "    </tr>\n",
              "    <tr>\n",
              "      <th>nodes</th>\n",
              "      <td>0.984553</td>\n",
              "      <td>1.000000</td>\n",
              "      <td>0.003454</td>\n",
              "      <td>-0.011776</td>\n",
              "      <td>-0.154526</td>\n",
              "      <td>-0.001957</td>\n",
              "      <td>0.204909</td>\n",
              "      <td>0.304689</td>\n",
              "      <td>0.211164</td>\n",
              "      <td>0.409839</td>\n",
              "      <td>0.984553</td>\n",
              "      <td>0.984553</td>\n",
              "      <td>-0.143213</td>\n",
              "      <td>0.699799</td>\n",
              "      <td>0.691417</td>\n",
              "      <td>0.686959</td>\n",
              "      <td>0.835517</td>\n",
              "      <td>0.101584</td>\n",
              "      <td>0.182985</td>\n",
              "      <td>-0.479075</td>\n",
              "      <td>0.301682</td>\n",
              "      <td>-0.079980</td>\n",
              "      <td>-0.028332</td>\n",
              "      <td>-0.265395</td>\n",
              "    </tr>\n",
              "    <tr>\n",
              "      <th>avg_edg</th>\n",
              "      <td>0.086212</td>\n",
              "      <td>0.003454</td>\n",
              "      <td>1.000000</td>\n",
              "      <td>0.739419</td>\n",
              "      <td>0.517128</td>\n",
              "      <td>0.612890</td>\n",
              "      <td>0.220184</td>\n",
              "      <td>0.275065</td>\n",
              "      <td>0.541187</td>\n",
              "      <td>0.418721</td>\n",
              "      <td>0.086212</td>\n",
              "      <td>0.086212</td>\n",
              "      <td>-0.069631</td>\n",
              "      <td>-0.210267</td>\n",
              "      <td>-0.197572</td>\n",
              "      <td>-0.189863</td>\n",
              "      <td>-0.050186</td>\n",
              "      <td>0.092851</td>\n",
              "      <td>0.069965</td>\n",
              "      <td>0.110845</td>\n",
              "      <td>0.041341</td>\n",
              "      <td>-0.079722</td>\n",
              "      <td>0.014448</td>\n",
              "      <td>-0.027266</td>\n",
              "    </tr>\n",
              "    <tr>\n",
              "      <th>avg_deg</th>\n",
              "      <td>0.107622</td>\n",
              "      <td>-0.011776</td>\n",
              "      <td>0.739419</td>\n",
              "      <td>1.000000</td>\n",
              "      <td>0.444364</td>\n",
              "      <td>0.830736</td>\n",
              "      <td>0.071784</td>\n",
              "      <td>0.160499</td>\n",
              "      <td>0.252480</td>\n",
              "      <td>0.257057</td>\n",
              "      <td>0.107622</td>\n",
              "      <td>0.107622</td>\n",
              "      <td>-0.076006</td>\n",
              "      <td>-0.079588</td>\n",
              "      <td>-0.060036</td>\n",
              "      <td>-0.051049</td>\n",
              "      <td>-0.073012</td>\n",
              "      <td>0.081288</td>\n",
              "      <td>0.074926</td>\n",
              "      <td>-0.091912</td>\n",
              "      <td>0.061335</td>\n",
              "      <td>-0.181218</td>\n",
              "      <td>-0.033563</td>\n",
              "      <td>-0.172136</td>\n",
              "    </tr>\n",
              "    <tr>\n",
              "      <th>med_edg</th>\n",
              "      <td>-0.094836</td>\n",
              "      <td>-0.154526</td>\n",
              "      <td>0.517128</td>\n",
              "      <td>0.444364</td>\n",
              "      <td>1.000000</td>\n",
              "      <td>0.343747</td>\n",
              "      <td>0.069230</td>\n",
              "      <td>-0.009948</td>\n",
              "      <td>0.051929</td>\n",
              "      <td>-0.032303</td>\n",
              "      <td>-0.094836</td>\n",
              "      <td>-0.094836</td>\n",
              "      <td>-0.001881</td>\n",
              "      <td>-0.148781</td>\n",
              "      <td>-0.142675</td>\n",
              "      <td>-0.138943</td>\n",
              "      <td>-0.168284</td>\n",
              "      <td>0.020198</td>\n",
              "      <td>0.027828</td>\n",
              "      <td>0.101615</td>\n",
              "      <td>-0.062236</td>\n",
              "      <td>-0.013346</td>\n",
              "      <td>-0.005424</td>\n",
              "      <td>-0.038679</td>\n",
              "    </tr>\n",
              "    <tr>\n",
              "      <th>med_deg</th>\n",
              "      <td>0.095808</td>\n",
              "      <td>-0.001957</td>\n",
              "      <td>0.612890</td>\n",
              "      <td>0.830736</td>\n",
              "      <td>0.343747</td>\n",
              "      <td>1.000000</td>\n",
              "      <td>0.078306</td>\n",
              "      <td>0.138315</td>\n",
              "      <td>0.172294</td>\n",
              "      <td>0.146808</td>\n",
              "      <td>0.095808</td>\n",
              "      <td>0.095808</td>\n",
              "      <td>-0.063355</td>\n",
              "      <td>-0.061829</td>\n",
              "      <td>-0.037260</td>\n",
              "      <td>-0.031707</td>\n",
              "      <td>-0.060295</td>\n",
              "      <td>0.115852</td>\n",
              "      <td>-0.010856</td>\n",
              "      <td>-0.078312</td>\n",
              "      <td>0.049083</td>\n",
              "      <td>-0.101178</td>\n",
              "      <td>-0.041119</td>\n",
              "      <td>-0.132487</td>\n",
              "    </tr>\n",
              "    <tr>\n",
              "      <th>IQR_edg</th>\n",
              "      <td>0.201131</td>\n",
              "      <td>0.204909</td>\n",
              "      <td>0.220184</td>\n",
              "      <td>0.071784</td>\n",
              "      <td>0.069230</td>\n",
              "      <td>0.078306</td>\n",
              "      <td>1.000000</td>\n",
              "      <td>0.264239</td>\n",
              "      <td>0.522099</td>\n",
              "      <td>0.331290</td>\n",
              "      <td>0.201131</td>\n",
              "      <td>0.201131</td>\n",
              "      <td>0.033361</td>\n",
              "      <td>0.107202</td>\n",
              "      <td>0.108351</td>\n",
              "      <td>0.104160</td>\n",
              "      <td>0.149784</td>\n",
              "      <td>0.086312</td>\n",
              "      <td>0.106147</td>\n",
              "      <td>-0.125220</td>\n",
              "      <td>-0.016789</td>\n",
              "      <td>-0.054873</td>\n",
              "      <td>-0.059738</td>\n",
              "      <td>0.002914</td>\n",
              "    </tr>\n",
              "    <tr>\n",
              "      <th>IQR_deg</th>\n",
              "      <td>0.295027</td>\n",
              "      <td>0.304689</td>\n",
              "      <td>0.275065</td>\n",
              "      <td>0.160499</td>\n",
              "      <td>-0.009948</td>\n",
              "      <td>0.138315</td>\n",
              "      <td>0.264239</td>\n",
              "      <td>1.000000</td>\n",
              "      <td>0.293753</td>\n",
              "      <td>0.578345</td>\n",
              "      <td>0.295027</td>\n",
              "      <td>0.295027</td>\n",
              "      <td>-0.066593</td>\n",
              "      <td>0.147315</td>\n",
              "      <td>0.151300</td>\n",
              "      <td>0.147388</td>\n",
              "      <td>0.196144</td>\n",
              "      <td>0.121795</td>\n",
              "      <td>0.025492</td>\n",
              "      <td>-0.222986</td>\n",
              "      <td>0.061108</td>\n",
              "      <td>-0.241808</td>\n",
              "      <td>-0.015348</td>\n",
              "      <td>-0.095844</td>\n",
              "    </tr>\n",
              "    <tr>\n",
              "      <th>STD_edg</th>\n",
              "      <td>0.219832</td>\n",
              "      <td>0.211164</td>\n",
              "      <td>0.541187</td>\n",
              "      <td>0.252480</td>\n",
              "      <td>0.051929</td>\n",
              "      <td>0.172294</td>\n",
              "      <td>0.522099</td>\n",
              "      <td>0.293753</td>\n",
              "      <td>1.000000</td>\n",
              "      <td>0.606035</td>\n",
              "      <td>0.219832</td>\n",
              "      <td>0.219832</td>\n",
              "      <td>-0.002187</td>\n",
              "      <td>-0.023803</td>\n",
              "      <td>-0.023613</td>\n",
              "      <td>-0.025084</td>\n",
              "      <td>0.150878</td>\n",
              "      <td>0.132284</td>\n",
              "      <td>0.161680</td>\n",
              "      <td>-0.051034</td>\n",
              "      <td>0.010891</td>\n",
              "      <td>-0.084130</td>\n",
              "      <td>-0.064629</td>\n",
              "      <td>0.027431</td>\n",
              "    </tr>\n",
              "    <tr>\n",
              "      <th>STD_deg</th>\n",
              "      <td>0.403669</td>\n",
              "      <td>0.409839</td>\n",
              "      <td>0.418721</td>\n",
              "      <td>0.257057</td>\n",
              "      <td>-0.032303</td>\n",
              "      <td>0.146808</td>\n",
              "      <td>0.331290</td>\n",
              "      <td>0.578345</td>\n",
              "      <td>0.606035</td>\n",
              "      <td>1.000000</td>\n",
              "      <td>0.403669</td>\n",
              "      <td>0.403669</td>\n",
              "      <td>-0.040717</td>\n",
              "      <td>0.147558</td>\n",
              "      <td>0.146847</td>\n",
              "      <td>0.141060</td>\n",
              "      <td>0.267353</td>\n",
              "      <td>0.173957</td>\n",
              "      <td>0.240421</td>\n",
              "      <td>-0.361284</td>\n",
              "      <td>0.070497</td>\n",
              "      <td>-0.347207</td>\n",
              "      <td>0.030260</td>\n",
              "      <td>-0.066090</td>\n",
              "    </tr>\n",
              "    <tr>\n",
              "      <th>Total_edg</th>\n",
              "      <td>1.000000</td>\n",
              "      <td>0.984553</td>\n",
              "      <td>0.086212</td>\n",
              "      <td>0.107622</td>\n",
              "      <td>-0.094836</td>\n",
              "      <td>0.095808</td>\n",
              "      <td>0.201131</td>\n",
              "      <td>0.295027</td>\n",
              "      <td>0.219832</td>\n",
              "      <td>0.403669</td>\n",
              "      <td>1.000000</td>\n",
              "      <td>1.000000</td>\n",
              "      <td>-0.173985</td>\n",
              "      <td>0.672563</td>\n",
              "      <td>0.666714</td>\n",
              "      <td>0.664473</td>\n",
              "      <td>0.783384</td>\n",
              "      <td>0.101639</td>\n",
              "      <td>0.192573</td>\n",
              "      <td>-0.477307</td>\n",
              "      <td>0.351852</td>\n",
              "      <td>-0.082454</td>\n",
              "      <td>-0.028745</td>\n",
              "      <td>-0.274046</td>\n",
              "    </tr>\n",
              "    <tr>\n",
              "      <th>Total_deg</th>\n",
              "      <td>1.000000</td>\n",
              "      <td>0.984553</td>\n",
              "      <td>0.086212</td>\n",
              "      <td>0.107622</td>\n",
              "      <td>-0.094836</td>\n",
              "      <td>0.095808</td>\n",
              "      <td>0.201131</td>\n",
              "      <td>0.295027</td>\n",
              "      <td>0.219832</td>\n",
              "      <td>0.403669</td>\n",
              "      <td>1.000000</td>\n",
              "      <td>1.000000</td>\n",
              "      <td>-0.173985</td>\n",
              "      <td>0.672563</td>\n",
              "      <td>0.666714</td>\n",
              "      <td>0.664473</td>\n",
              "      <td>0.783384</td>\n",
              "      <td>0.101639</td>\n",
              "      <td>0.192573</td>\n",
              "      <td>-0.477307</td>\n",
              "      <td>0.351852</td>\n",
              "      <td>-0.082454</td>\n",
              "      <td>-0.028745</td>\n",
              "      <td>-0.274046</td>\n",
              "    </tr>\n",
              "    <tr>\n",
              "      <th>is_connected</th>\n",
              "      <td>-0.173985</td>\n",
              "      <td>-0.143213</td>\n",
              "      <td>-0.069631</td>\n",
              "      <td>-0.076006</td>\n",
              "      <td>-0.001881</td>\n",
              "      <td>-0.063355</td>\n",
              "      <td>0.033361</td>\n",
              "      <td>-0.066593</td>\n",
              "      <td>-0.002187</td>\n",
              "      <td>-0.040717</td>\n",
              "      <td>-0.173985</td>\n",
              "      <td>-0.173985</td>\n",
              "      <td>1.000000</td>\n",
              "      <td>0.087484</td>\n",
              "      <td>0.090810</td>\n",
              "      <td>0.088675</td>\n",
              "      <td>0.050898</td>\n",
              "      <td>0.030131</td>\n",
              "      <td>-0.000905</td>\n",
              "      <td>0.114602</td>\n",
              "      <td>-0.726400</td>\n",
              "      <td>0.020674</td>\n",
              "      <td>0.008402</td>\n",
              "      <td>-0.003605</td>\n",
              "    </tr>\n",
              "    <tr>\n",
              "      <th>avg_length</th>\n",
              "      <td>0.672563</td>\n",
              "      <td>0.699799</td>\n",
              "      <td>-0.210267</td>\n",
              "      <td>-0.079588</td>\n",
              "      <td>-0.148781</td>\n",
              "      <td>-0.061829</td>\n",
              "      <td>0.107202</td>\n",
              "      <td>0.147315</td>\n",
              "      <td>-0.023803</td>\n",
              "      <td>0.147558</td>\n",
              "      <td>0.672563</td>\n",
              "      <td>0.672563</td>\n",
              "      <td>0.087484</td>\n",
              "      <td>1.000000</td>\n",
              "      <td>0.994157</td>\n",
              "      <td>0.995551</td>\n",
              "      <td>0.674096</td>\n",
              "      <td>0.018629</td>\n",
              "      <td>0.107583</td>\n",
              "      <td>-0.670513</td>\n",
              "      <td>-0.052825</td>\n",
              "      <td>-0.140797</td>\n",
              "      <td>-0.046616</td>\n",
              "      <td>-0.388403</td>\n",
              "    </tr>\n",
              "    <tr>\n",
              "      <th>radius</th>\n",
              "      <td>0.666714</td>\n",
              "      <td>0.691417</td>\n",
              "      <td>-0.197572</td>\n",
              "      <td>-0.060036</td>\n",
              "      <td>-0.142675</td>\n",
              "      <td>-0.037260</td>\n",
              "      <td>0.108351</td>\n",
              "      <td>0.151300</td>\n",
              "      <td>-0.023613</td>\n",
              "      <td>0.146847</td>\n",
              "      <td>0.666714</td>\n",
              "      <td>0.666714</td>\n",
              "      <td>0.090810</td>\n",
              "      <td>0.994157</td>\n",
              "      <td>1.000000</td>\n",
              "      <td>0.996438</td>\n",
              "      <td>0.665615</td>\n",
              "      <td>0.081898</td>\n",
              "      <td>0.070339</td>\n",
              "      <td>-0.663535</td>\n",
              "      <td>-0.054605</td>\n",
              "      <td>-0.133350</td>\n",
              "      <td>-0.048816</td>\n",
              "      <td>-0.388399</td>\n",
              "    </tr>\n",
              "    <tr>\n",
              "      <th>diameter</th>\n",
              "      <td>0.664473</td>\n",
              "      <td>0.686959</td>\n",
              "      <td>-0.189863</td>\n",
              "      <td>-0.051049</td>\n",
              "      <td>-0.138943</td>\n",
              "      <td>-0.031707</td>\n",
              "      <td>0.104160</td>\n",
              "      <td>0.147388</td>\n",
              "      <td>-0.025084</td>\n",
              "      <td>0.141060</td>\n",
              "      <td>0.664473</td>\n",
              "      <td>0.664473</td>\n",
              "      <td>0.088675</td>\n",
              "      <td>0.995551</td>\n",
              "      <td>0.996438</td>\n",
              "      <td>1.000000</td>\n",
              "      <td>0.665812</td>\n",
              "      <td>0.023387</td>\n",
              "      <td>0.057604</td>\n",
              "      <td>-0.657057</td>\n",
              "      <td>-0.053625</td>\n",
              "      <td>-0.139561</td>\n",
              "      <td>-0.045913</td>\n",
              "      <td>-0.390864</td>\n",
              "    </tr>\n",
              "    <tr>\n",
              "      <th>eccentricity</th>\n",
              "      <td>0.783384</td>\n",
              "      <td>0.835517</td>\n",
              "      <td>-0.050186</td>\n",
              "      <td>-0.073012</td>\n",
              "      <td>-0.168284</td>\n",
              "      <td>-0.060295</td>\n",
              "      <td>0.149784</td>\n",
              "      <td>0.196144</td>\n",
              "      <td>0.150878</td>\n",
              "      <td>0.267353</td>\n",
              "      <td>0.783384</td>\n",
              "      <td>0.783384</td>\n",
              "      <td>0.050898</td>\n",
              "      <td>0.674096</td>\n",
              "      <td>0.665615</td>\n",
              "      <td>0.665812</td>\n",
              "      <td>1.000000</td>\n",
              "      <td>0.043533</td>\n",
              "      <td>0.106113</td>\n",
              "      <td>-0.302711</td>\n",
              "      <td>-0.028046</td>\n",
              "      <td>-0.042300</td>\n",
              "      <td>-0.016528</td>\n",
              "      <td>-0.198837</td>\n",
              "    </tr>\n",
              "    <tr>\n",
              "      <th>center</th>\n",
              "      <td>0.101639</td>\n",
              "      <td>0.101584</td>\n",
              "      <td>0.092851</td>\n",
              "      <td>0.081288</td>\n",
              "      <td>0.020198</td>\n",
              "      <td>0.115852</td>\n",
              "      <td>0.086312</td>\n",
              "      <td>0.121795</td>\n",
              "      <td>0.132284</td>\n",
              "      <td>0.173957</td>\n",
              "      <td>0.101639</td>\n",
              "      <td>0.101639</td>\n",
              "      <td>0.030131</td>\n",
              "      <td>0.018629</td>\n",
              "      <td>0.081898</td>\n",
              "      <td>0.023387</td>\n",
              "      <td>0.043533</td>\n",
              "      <td>1.000000</td>\n",
              "      <td>0.007575</td>\n",
              "      <td>-0.057301</td>\n",
              "      <td>-0.022257</td>\n",
              "      <td>0.067287</td>\n",
              "      <td>-0.018063</td>\n",
              "      <td>-0.008232</td>\n",
              "    </tr>\n",
              "    <tr>\n",
              "      <th>periphery</th>\n",
              "      <td>0.192573</td>\n",
              "      <td>0.182985</td>\n",
              "      <td>0.069965</td>\n",
              "      <td>0.074926</td>\n",
              "      <td>0.027828</td>\n",
              "      <td>-0.010856</td>\n",
              "      <td>0.106147</td>\n",
              "      <td>0.025492</td>\n",
              "      <td>0.161680</td>\n",
              "      <td>0.240421</td>\n",
              "      <td>0.192573</td>\n",
              "      <td>0.192573</td>\n",
              "      <td>-0.000905</td>\n",
              "      <td>0.107583</td>\n",
              "      <td>0.070339</td>\n",
              "      <td>0.057604</td>\n",
              "      <td>0.106113</td>\n",
              "      <td>0.007575</td>\n",
              "      <td>1.000000</td>\n",
              "      <td>-0.225338</td>\n",
              "      <td>-0.013218</td>\n",
              "      <td>-0.065951</td>\n",
              "      <td>-0.016345</td>\n",
              "      <td>-0.036914</td>\n",
              "    </tr>\n",
              "    <tr>\n",
              "      <th>density</th>\n",
              "      <td>-0.477307</td>\n",
              "      <td>-0.479075</td>\n",
              "      <td>0.110845</td>\n",
              "      <td>-0.091912</td>\n",
              "      <td>0.101615</td>\n",
              "      <td>-0.078312</td>\n",
              "      <td>-0.125220</td>\n",
              "      <td>-0.222986</td>\n",
              "      <td>-0.051034</td>\n",
              "      <td>-0.361284</td>\n",
              "      <td>-0.477307</td>\n",
              "      <td>-0.477307</td>\n",
              "      <td>0.114602</td>\n",
              "      <td>-0.670513</td>\n",
              "      <td>-0.663535</td>\n",
              "      <td>-0.657057</td>\n",
              "      <td>-0.302711</td>\n",
              "      <td>-0.057301</td>\n",
              "      <td>-0.225338</td>\n",
              "      <td>1.000000</td>\n",
              "      <td>-0.105944</td>\n",
              "      <td>0.415423</td>\n",
              "      <td>0.068497</td>\n",
              "      <td>0.400099</td>\n",
              "    </tr>\n",
              "    <tr>\n",
              "      <th>n.connected.comp</th>\n",
              "      <td>0.351852</td>\n",
              "      <td>0.301682</td>\n",
              "      <td>0.041341</td>\n",
              "      <td>0.061335</td>\n",
              "      <td>-0.062236</td>\n",
              "      <td>0.049083</td>\n",
              "      <td>-0.016789</td>\n",
              "      <td>0.061108</td>\n",
              "      <td>0.010891</td>\n",
              "      <td>0.070497</td>\n",
              "      <td>0.351852</td>\n",
              "      <td>0.351852</td>\n",
              "      <td>-0.726400</td>\n",
              "      <td>-0.052825</td>\n",
              "      <td>-0.054605</td>\n",
              "      <td>-0.053625</td>\n",
              "      <td>-0.028046</td>\n",
              "      <td>-0.022257</td>\n",
              "      <td>-0.013218</td>\n",
              "      <td>-0.105944</td>\n",
              "      <td>1.000000</td>\n",
              "      <td>-0.015018</td>\n",
              "      <td>-0.006103</td>\n",
              "      <td>-0.012108</td>\n",
              "    </tr>\n",
              "    <tr>\n",
              "      <th>is_distance_regular</th>\n",
              "      <td>-0.082454</td>\n",
              "      <td>-0.079980</td>\n",
              "      <td>-0.079722</td>\n",
              "      <td>-0.181218</td>\n",
              "      <td>-0.013346</td>\n",
              "      <td>-0.101178</td>\n",
              "      <td>-0.054873</td>\n",
              "      <td>-0.241808</td>\n",
              "      <td>-0.084130</td>\n",
              "      <td>-0.347207</td>\n",
              "      <td>-0.082454</td>\n",
              "      <td>-0.082454</td>\n",
              "      <td>0.020674</td>\n",
              "      <td>-0.140797</td>\n",
              "      <td>-0.133350</td>\n",
              "      <td>-0.139561</td>\n",
              "      <td>-0.042300</td>\n",
              "      <td>0.067287</td>\n",
              "      <td>-0.065951</td>\n",
              "      <td>0.415423</td>\n",
              "      <td>-0.015018</td>\n",
              "      <td>1.000000</td>\n",
              "      <td>-0.004430</td>\n",
              "      <td>0.105158</td>\n",
              "    </tr>\n",
              "    <tr>\n",
              "      <th>is_eulerian</th>\n",
              "      <td>-0.028745</td>\n",
              "      <td>-0.028332</td>\n",
              "      <td>0.014448</td>\n",
              "      <td>-0.033563</td>\n",
              "      <td>-0.005424</td>\n",
              "      <td>-0.041119</td>\n",
              "      <td>-0.059738</td>\n",
              "      <td>-0.015348</td>\n",
              "      <td>-0.064629</td>\n",
              "      <td>0.030260</td>\n",
              "      <td>-0.028745</td>\n",
              "      <td>-0.028745</td>\n",
              "      <td>0.008402</td>\n",
              "      <td>-0.046616</td>\n",
              "      <td>-0.048816</td>\n",
              "      <td>-0.045913</td>\n",
              "      <td>-0.016528</td>\n",
              "      <td>-0.018063</td>\n",
              "      <td>-0.016345</td>\n",
              "      <td>0.068497</td>\n",
              "      <td>-0.006103</td>\n",
              "      <td>-0.004430</td>\n",
              "      <td>1.000000</td>\n",
              "      <td>0.006914</td>\n",
              "    </tr>\n",
              "    <tr>\n",
              "      <th>label</th>\n",
              "      <td>-0.274046</td>\n",
              "      <td>-0.265395</td>\n",
              "      <td>-0.027266</td>\n",
              "      <td>-0.172136</td>\n",
              "      <td>-0.038679</td>\n",
              "      <td>-0.132487</td>\n",
              "      <td>0.002914</td>\n",
              "      <td>-0.095844</td>\n",
              "      <td>0.027431</td>\n",
              "      <td>-0.066090</td>\n",
              "      <td>-0.274046</td>\n",
              "      <td>-0.274046</td>\n",
              "      <td>-0.003605</td>\n",
              "      <td>-0.388403</td>\n",
              "      <td>-0.388399</td>\n",
              "      <td>-0.390864</td>\n",
              "      <td>-0.198837</td>\n",
              "      <td>-0.008232</td>\n",
              "      <td>-0.036914</td>\n",
              "      <td>0.400099</td>\n",
              "      <td>-0.012108</td>\n",
              "      <td>0.105158</td>\n",
              "      <td>0.006914</td>\n",
              "      <td>1.000000</td>\n",
              "    </tr>\n",
              "  </tbody>\n",
              "</table>\n",
              "</div>"
            ],
            "text/plain": [
              "                        edges     nodes  ...  is_eulerian     label\n",
              "edges                1.000000  0.984553  ...    -0.028745 -0.274046\n",
              "nodes                0.984553  1.000000  ...    -0.028332 -0.265395\n",
              "avg_edg              0.086212  0.003454  ...     0.014448 -0.027266\n",
              "avg_deg              0.107622 -0.011776  ...    -0.033563 -0.172136\n",
              "med_edg             -0.094836 -0.154526  ...    -0.005424 -0.038679\n",
              "med_deg              0.095808 -0.001957  ...    -0.041119 -0.132487\n",
              "IQR_edg              0.201131  0.204909  ...    -0.059738  0.002914\n",
              "IQR_deg              0.295027  0.304689  ...    -0.015348 -0.095844\n",
              "STD_edg              0.219832  0.211164  ...    -0.064629  0.027431\n",
              "STD_deg              0.403669  0.409839  ...     0.030260 -0.066090\n",
              "Total_edg            1.000000  0.984553  ...    -0.028745 -0.274046\n",
              "Total_deg            1.000000  0.984553  ...    -0.028745 -0.274046\n",
              "is_connected        -0.173985 -0.143213  ...     0.008402 -0.003605\n",
              "avg_length           0.672563  0.699799  ...    -0.046616 -0.388403\n",
              "radius               0.666714  0.691417  ...    -0.048816 -0.388399\n",
              "diameter             0.664473  0.686959  ...    -0.045913 -0.390864\n",
              "eccentricity         0.783384  0.835517  ...    -0.016528 -0.198837\n",
              "center               0.101639  0.101584  ...    -0.018063 -0.008232\n",
              "periphery            0.192573  0.182985  ...    -0.016345 -0.036914\n",
              "density             -0.477307 -0.479075  ...     0.068497  0.400099\n",
              "n.connected.comp     0.351852  0.301682  ...    -0.006103 -0.012108\n",
              "is_distance_regular -0.082454 -0.079980  ...    -0.004430  0.105158\n",
              "is_eulerian         -0.028745 -0.028332  ...     1.000000  0.006914\n",
              "label               -0.274046 -0.265395  ...     0.006914  1.000000\n",
              "\n",
              "[24 rows x 24 columns]"
            ]
          },
          "metadata": {
            "tags": []
          },
          "execution_count": 601
        }
      ]
    },
    {
      "cell_type": "code",
      "metadata": {
        "id": "_nyCMvCULhou",
        "colab_type": "code",
        "colab": {}
      },
      "source": [
        "co = corr.unstack()"
      ],
      "execution_count": 0,
      "outputs": []
    },
    {
      "cell_type": "markdown",
      "metadata": {
        "id": "GbZqzfj4Llpg",
        "colab_type": "text"
      },
      "source": [
        "#### Positive correlation"
      ]
    },
    {
      "cell_type": "code",
      "metadata": {
        "id": "sM5Wy9nSInvE",
        "colab_type": "code",
        "outputId": "af0769d3-0840-4286-8fab-233a26877f8a",
        "colab": {
          "base_uri": "https://localhost:8080/",
          "height": 1475
        }
      },
      "source": [
        "sort_cor = co.sort_values(kind=\"quicksort\")\n",
        "pd.DataFrame(sort_cor[sort_cor > 0.8])"
      ],
      "execution_count": 0,
      "outputs": [
        {
          "output_type": "execute_result",
          "data": {
            "text/html": [
              "<div>\n",
              "<style scoped>\n",
              "    .dataframe tbody tr th:only-of-type {\n",
              "        vertical-align: middle;\n",
              "    }\n",
              "\n",
              "    .dataframe tbody tr th {\n",
              "        vertical-align: top;\n",
              "    }\n",
              "\n",
              "    .dataframe thead th {\n",
              "        text-align: right;\n",
              "    }\n",
              "</style>\n",
              "<table border=\"1\" class=\"dataframe\">\n",
              "  <thead>\n",
              "    <tr style=\"text-align: right;\">\n",
              "      <th></th>\n",
              "      <th></th>\n",
              "      <th>0</th>\n",
              "    </tr>\n",
              "  </thead>\n",
              "  <tbody>\n",
              "    <tr>\n",
              "      <th>avg_deg</th>\n",
              "      <th>med_deg</th>\n",
              "      <td>0.830736</td>\n",
              "    </tr>\n",
              "    <tr>\n",
              "      <th>med_deg</th>\n",
              "      <th>avg_deg</th>\n",
              "      <td>0.830736</td>\n",
              "    </tr>\n",
              "    <tr>\n",
              "      <th>eccentricity</th>\n",
              "      <th>nodes</th>\n",
              "      <td>0.835517</td>\n",
              "    </tr>\n",
              "    <tr>\n",
              "      <th rowspan=\"3\" valign=\"top\">nodes</th>\n",
              "      <th>eccentricity</th>\n",
              "      <td>0.835517</td>\n",
              "    </tr>\n",
              "    <tr>\n",
              "      <th>Total_edg</th>\n",
              "      <td>0.984553</td>\n",
              "    </tr>\n",
              "    <tr>\n",
              "      <th>edges</th>\n",
              "      <td>0.984553</td>\n",
              "    </tr>\n",
              "    <tr>\n",
              "      <th>Total_deg</th>\n",
              "      <th>nodes</th>\n",
              "      <td>0.984553</td>\n",
              "    </tr>\n",
              "    <tr>\n",
              "      <th>edges</th>\n",
              "      <th>nodes</th>\n",
              "      <td>0.984553</td>\n",
              "    </tr>\n",
              "    <tr>\n",
              "      <th>Total_edg</th>\n",
              "      <th>nodes</th>\n",
              "      <td>0.984553</td>\n",
              "    </tr>\n",
              "    <tr>\n",
              "      <th>nodes</th>\n",
              "      <th>Total_deg</th>\n",
              "      <td>0.984553</td>\n",
              "    </tr>\n",
              "    <tr>\n",
              "      <th>radius</th>\n",
              "      <th>avg_length</th>\n",
              "      <td>0.994157</td>\n",
              "    </tr>\n",
              "    <tr>\n",
              "      <th>avg_length</th>\n",
              "      <th>radius</th>\n",
              "      <td>0.994157</td>\n",
              "    </tr>\n",
              "    <tr>\n",
              "      <th>diameter</th>\n",
              "      <th>avg_length</th>\n",
              "      <td>0.995551</td>\n",
              "    </tr>\n",
              "    <tr>\n",
              "      <th>avg_length</th>\n",
              "      <th>diameter</th>\n",
              "      <td>0.995551</td>\n",
              "    </tr>\n",
              "    <tr>\n",
              "      <th>diameter</th>\n",
              "      <th>radius</th>\n",
              "      <td>0.996438</td>\n",
              "    </tr>\n",
              "    <tr>\n",
              "      <th>radius</th>\n",
              "      <th>diameter</th>\n",
              "      <td>0.996438</td>\n",
              "    </tr>\n",
              "    <tr>\n",
              "      <th>is_eulerian</th>\n",
              "      <th>is_eulerian</th>\n",
              "      <td>1.000000</td>\n",
              "    </tr>\n",
              "    <tr>\n",
              "      <th>edges</th>\n",
              "      <th>edges</th>\n",
              "      <td>1.000000</td>\n",
              "    </tr>\n",
              "    <tr>\n",
              "      <th>n.connected.comp</th>\n",
              "      <th>n.connected.comp</th>\n",
              "      <td>1.000000</td>\n",
              "    </tr>\n",
              "    <tr>\n",
              "      <th rowspan=\"2\" valign=\"top\">edges</th>\n",
              "      <th>Total_edg</th>\n",
              "      <td>1.000000</td>\n",
              "    </tr>\n",
              "    <tr>\n",
              "      <th>Total_deg</th>\n",
              "      <td>1.000000</td>\n",
              "    </tr>\n",
              "    <tr>\n",
              "      <th>nodes</th>\n",
              "      <th>nodes</th>\n",
              "      <td>1.000000</td>\n",
              "    </tr>\n",
              "    <tr>\n",
              "      <th>avg_edg</th>\n",
              "      <th>avg_edg</th>\n",
              "      <td>1.000000</td>\n",
              "    </tr>\n",
              "    <tr>\n",
              "      <th>avg_deg</th>\n",
              "      <th>avg_deg</th>\n",
              "      <td>1.000000</td>\n",
              "    </tr>\n",
              "    <tr>\n",
              "      <th>med_edg</th>\n",
              "      <th>med_edg</th>\n",
              "      <td>1.000000</td>\n",
              "    </tr>\n",
              "    <tr>\n",
              "      <th>med_deg</th>\n",
              "      <th>med_deg</th>\n",
              "      <td>1.000000</td>\n",
              "    </tr>\n",
              "    <tr>\n",
              "      <th>IQR_edg</th>\n",
              "      <th>IQR_edg</th>\n",
              "      <td>1.000000</td>\n",
              "    </tr>\n",
              "    <tr>\n",
              "      <th>IQR_deg</th>\n",
              "      <th>IQR_deg</th>\n",
              "      <td>1.000000</td>\n",
              "    </tr>\n",
              "    <tr>\n",
              "      <th>STD_edg</th>\n",
              "      <th>STD_edg</th>\n",
              "      <td>1.000000</td>\n",
              "    </tr>\n",
              "    <tr>\n",
              "      <th>STD_deg</th>\n",
              "      <th>STD_deg</th>\n",
              "      <td>1.000000</td>\n",
              "    </tr>\n",
              "    <tr>\n",
              "      <th rowspan=\"3\" valign=\"top\">Total_edg</th>\n",
              "      <th>edges</th>\n",
              "      <td>1.000000</td>\n",
              "    </tr>\n",
              "    <tr>\n",
              "      <th>Total_edg</th>\n",
              "      <td>1.000000</td>\n",
              "    </tr>\n",
              "    <tr>\n",
              "      <th>Total_deg</th>\n",
              "      <td>1.000000</td>\n",
              "    </tr>\n",
              "    <tr>\n",
              "      <th rowspan=\"3\" valign=\"top\">Total_deg</th>\n",
              "      <th>edges</th>\n",
              "      <td>1.000000</td>\n",
              "    </tr>\n",
              "    <tr>\n",
              "      <th>Total_edg</th>\n",
              "      <td>1.000000</td>\n",
              "    </tr>\n",
              "    <tr>\n",
              "      <th>Total_deg</th>\n",
              "      <td>1.000000</td>\n",
              "    </tr>\n",
              "    <tr>\n",
              "      <th>is_connected</th>\n",
              "      <th>is_connected</th>\n",
              "      <td>1.000000</td>\n",
              "    </tr>\n",
              "    <tr>\n",
              "      <th>avg_length</th>\n",
              "      <th>avg_length</th>\n",
              "      <td>1.000000</td>\n",
              "    </tr>\n",
              "    <tr>\n",
              "      <th>radius</th>\n",
              "      <th>radius</th>\n",
              "      <td>1.000000</td>\n",
              "    </tr>\n",
              "    <tr>\n",
              "      <th>diameter</th>\n",
              "      <th>diameter</th>\n",
              "      <td>1.000000</td>\n",
              "    </tr>\n",
              "    <tr>\n",
              "      <th>eccentricity</th>\n",
              "      <th>eccentricity</th>\n",
              "      <td>1.000000</td>\n",
              "    </tr>\n",
              "    <tr>\n",
              "      <th>center</th>\n",
              "      <th>center</th>\n",
              "      <td>1.000000</td>\n",
              "    </tr>\n",
              "    <tr>\n",
              "      <th>periphery</th>\n",
              "      <th>periphery</th>\n",
              "      <td>1.000000</td>\n",
              "    </tr>\n",
              "    <tr>\n",
              "      <th>density</th>\n",
              "      <th>density</th>\n",
              "      <td>1.000000</td>\n",
              "    </tr>\n",
              "    <tr>\n",
              "      <th>is_distance_regular</th>\n",
              "      <th>is_distance_regular</th>\n",
              "      <td>1.000000</td>\n",
              "    </tr>\n",
              "    <tr>\n",
              "      <th>label</th>\n",
              "      <th>label</th>\n",
              "      <td>1.000000</td>\n",
              "    </tr>\n",
              "  </tbody>\n",
              "</table>\n",
              "</div>"
            ],
            "text/plain": [
              "                                                0\n",
              "avg_deg             med_deg              0.830736\n",
              "med_deg             avg_deg              0.830736\n",
              "eccentricity        nodes                0.835517\n",
              "nodes               eccentricity         0.835517\n",
              "                    Total_edg            0.984553\n",
              "                    edges                0.984553\n",
              "Total_deg           nodes                0.984553\n",
              "edges               nodes                0.984553\n",
              "Total_edg           nodes                0.984553\n",
              "nodes               Total_deg            0.984553\n",
              "radius              avg_length           0.994157\n",
              "avg_length          radius               0.994157\n",
              "diameter            avg_length           0.995551\n",
              "avg_length          diameter             0.995551\n",
              "diameter            radius               0.996438\n",
              "radius              diameter             0.996438\n",
              "is_eulerian         is_eulerian          1.000000\n",
              "edges               edges                1.000000\n",
              "n.connected.comp    n.connected.comp     1.000000\n",
              "edges               Total_edg            1.000000\n",
              "                    Total_deg            1.000000\n",
              "nodes               nodes                1.000000\n",
              "avg_edg             avg_edg              1.000000\n",
              "avg_deg             avg_deg              1.000000\n",
              "med_edg             med_edg              1.000000\n",
              "med_deg             med_deg              1.000000\n",
              "IQR_edg             IQR_edg              1.000000\n",
              "IQR_deg             IQR_deg              1.000000\n",
              "STD_edg             STD_edg              1.000000\n",
              "STD_deg             STD_deg              1.000000\n",
              "Total_edg           edges                1.000000\n",
              "                    Total_edg            1.000000\n",
              "                    Total_deg            1.000000\n",
              "Total_deg           edges                1.000000\n",
              "                    Total_edg            1.000000\n",
              "                    Total_deg            1.000000\n",
              "is_connected        is_connected         1.000000\n",
              "avg_length          avg_length           1.000000\n",
              "radius              radius               1.000000\n",
              "diameter            diameter             1.000000\n",
              "eccentricity        eccentricity         1.000000\n",
              "center              center               1.000000\n",
              "periphery           periphery            1.000000\n",
              "density             density              1.000000\n",
              "is_distance_regular is_distance_regular  1.000000\n",
              "label               label                1.000000"
            ]
          },
          "metadata": {
            "tags": []
          },
          "execution_count": 603
        }
      ]
    },
    {
      "cell_type": "markdown",
      "metadata": {
        "id": "n7O6p8KXLsX7",
        "colab_type": "text"
      },
      "source": [
        "#### Negative correlation"
      ]
    },
    {
      "cell_type": "code",
      "metadata": {
        "id": "BzbVC7_IL2OX",
        "colab_type": "code",
        "outputId": "2759975a-eb9a-4919-9172-06e6779cdb04",
        "colab": {
          "base_uri": "https://localhost:8080/",
          "height": 49
        }
      },
      "source": [
        "sort_cor = co.sort_values(kind=\"quicksort\")\n",
        "pd.DataFrame(sort_cor[sort_cor < -0.8])"
      ],
      "execution_count": 0,
      "outputs": [
        {
          "output_type": "execute_result",
          "data": {
            "text/html": [
              "<div>\n",
              "<style scoped>\n",
              "    .dataframe tbody tr th:only-of-type {\n",
              "        vertical-align: middle;\n",
              "    }\n",
              "\n",
              "    .dataframe tbody tr th {\n",
              "        vertical-align: top;\n",
              "    }\n",
              "\n",
              "    .dataframe thead th {\n",
              "        text-align: right;\n",
              "    }\n",
              "</style>\n",
              "<table border=\"1\" class=\"dataframe\">\n",
              "  <thead>\n",
              "    <tr style=\"text-align: right;\">\n",
              "      <th></th>\n",
              "      <th></th>\n",
              "      <th>0</th>\n",
              "    </tr>\n",
              "  </thead>\n",
              "  <tbody>\n",
              "  </tbody>\n",
              "</table>\n",
              "</div>"
            ],
            "text/plain": [
              "Empty DataFrame\n",
              "Columns: [0]\n",
              "Index: []"
            ]
          },
          "metadata": {
            "tags": []
          },
          "execution_count": 604
        }
      ]
    },
    {
      "cell_type": "code",
      "metadata": {
        "id": "UDQDlpIkf452",
        "colab_type": "code",
        "colab": {}
      },
      "source": [
        "# delete multicolinear features\n",
        "df=df.drop([\"Total_edg\", \"avg_length\",\"diameter\", \"eccentricity\"],axis=1)"
      ],
      "execution_count": 0,
      "outputs": []
    },
    {
      "cell_type": "code",
      "metadata": {
        "id": "XSYNpljZeFbO",
        "colab_type": "code",
        "colab": {}
      },
      "source": [
        "# Select numeric columns\n",
        "num_columns=list(df.columns)\n",
        "num_columns.remove('is_eulerian')\n",
        "num_columns.remove('is_connected')\n",
        "num_columns.remove('is_distance_regular')"
      ],
      "execution_count": 0,
      "outputs": []
    },
    {
      "cell_type": "markdown",
      "metadata": {
        "id": "oDHHTmPuQqqT",
        "colab_type": "text"
      },
      "source": [
        "### Classification Model"
      ]
    },
    {
      "cell_type": "code",
      "metadata": {
        "id": "kSXRtzX1QhJh",
        "colab_type": "code",
        "colab": {}
      },
      "source": [
        "# Normalaize the data\n",
        "from sklearn.preprocessing import MinMaxScaler,StandardScaler\n",
        "\n",
        "orig_df=df.copy()\n",
        "data=df.copy()\n",
        "scaler = MinMaxScaler()\n",
        "scaler.fit(df[num_columns])\n",
        "data[num_columns]=scaler.transform(df[num_columns])"
      ],
      "execution_count": 0,
      "outputs": []
    },
    {
      "cell_type": "code",
      "metadata": {
        "id": "jsGoVNxZQxDu",
        "colab_type": "code",
        "colab": {}
      },
      "source": [
        "tr_rows=labels_train.loc[:,'graph']\n",
        "te_rows=labels_test.loc[:,'graph']"
      ],
      "execution_count": 0,
      "outputs": []
    },
    {
      "cell_type": "code",
      "metadata": {
        "id": "nUaLfNAcUHFk",
        "colab_type": "code",
        "colab": {}
      },
      "source": [
        "train = data.loc[tr_rows,:]\n",
        "test = data.loc[te_rows,:]"
      ],
      "execution_count": 0,
      "outputs": []
    },
    {
      "cell_type": "code",
      "metadata": {
        "id": "Dclp3xqzRApQ",
        "colab_type": "code",
        "outputId": "103a5ba1-e1d6-4817-a799-2ba23d3a759b",
        "colab": {
          "base_uri": "https://localhost:8080/",
          "height": 51
        }
      },
      "source": [
        "print(train.shape)\n",
        "print(test.shape)"
      ],
      "execution_count": 0,
      "outputs": [
        {
          "output_type": "stream",
          "text": [
            "(992, 20)\n",
            "(121, 20)\n"
          ],
          "name": "stdout"
        }
      ]
    },
    {
      "cell_type": "code",
      "metadata": {
        "id": "9VR7N-2fKVQs",
        "colab_type": "code",
        "colab": {}
      },
      "source": [
        "train_set = train.iloc[:,:-1]  # Independent features\n",
        "train_labels = train.iloc[:,-1] # Target feature\n",
        "test_set = test.iloc[:,:-1]  # Independent features\n",
        "test_labels = test.iloc[:,-1] # Target feature"
      ],
      "execution_count": 0,
      "outputs": []
    },
    {
      "cell_type": "code",
      "metadata": {
        "id": "UM55nNQlRZlW",
        "colab_type": "code",
        "colab": {}
      },
      "source": [
        "import lightgbm as lgb\n",
        "\n",
        "lgb_train = lgb.Dataset(train_set, train_labels, free_raw_data=False, categorical_feature=['is_distance_regular','is_eulerian','is_connected'])\n",
        "lgb_test = lgb.Dataset(test_set, test_labels, reference=lgb_train, free_raw_data=False, categorical_feature=['is_distance_regular','is_eulerian','is_connected'])"
      ],
      "execution_count": 0,
      "outputs": []
    },
    {
      "cell_type": "code",
      "metadata": {
        "id": "uRy0KV8hSJce",
        "colab_type": "code",
        "colab": {}
      },
      "source": [
        "#Select Hyper-Parameters\n",
        "params = {'boosting_type': 'gbdt',\n",
        "          'max_depth' : 20,\n",
        "          'objective': 'binary',\n",
        "          'nthread': 5,\n",
        "          'num_leaves': 65,\n",
        "          'learning_rate': 0.03,\n",
        "          'max_bin': 512,\n",
        "          'subsample_for_bin': 200,\n",
        "          'subsample': 1,\n",
        "          'subsample_freq': 1,\n",
        "          'colsample_bytree': 0.8,\n",
        "          'reg_alpha': 1.2,\n",
        "          'reg_lambda': 1.2,\n",
        "          'min_split_gain': 0.5,\n",
        "          'min_child_weight': 1,\n",
        "          'min_child_samples': 5,\n",
        "          'num_class' : 1,\n",
        "          'metric' : 'binary_error',\n",
        "          }\n",
        "\n",
        "# Create parameters to search\n",
        "gridParams = {\n",
        "    'learning_rate': [0.03,0.05,0.08],\n",
        "    'n_estimators': [500],\n",
        "    'num_leaves': [20, 24, 27],\n",
        "    'boosting_type' : ['gbdt'],\n",
        "    'objective' : ['binary'],\n",
        "    'random_state' : [501], \n",
        "    'colsample_bytree' : [0.4, 0.6],\n",
        "    'subsample' : [0.5,0.75],\n",
        "    'reg_alpha' : [1, 1.2],\n",
        "    'reg_lambda' : [1.2, 1.4],\n",
        "    }\n",
        "\n",
        "# Create classifier to use\n",
        "mdl = lgb.LGBMClassifier(boosting_type= 'gbdt',\n",
        "          objective = 'binary',\n",
        "          n_jobs = 5, \n",
        "          silent = True,\n",
        "          max_depth = params['max_depth'],\n",
        "          max_bin = params['max_bin'],\n",
        "          subsample_for_bin = params['subsample_for_bin'],\n",
        "          subsample = params['subsample'],\n",
        "          subsample_freq = params['subsample_freq'],\n",
        "          min_split_gain = params['min_split_gain'],\n",
        "          min_child_weight = params['min_child_weight'],\n",
        "          min_child_samples = params['min_child_samples'],)"
      ],
      "execution_count": 0,
      "outputs": []
    },
    {
      "cell_type": "code",
      "metadata": {
        "id": "tDzRE5ceSJwK",
        "colab_type": "code",
        "colab": {}
      },
      "source": [
        "# Create the grid\n",
        "from sklearn.model_selection import GridSearchCV\n",
        "grid = GridSearchCV(mdl, gridParams, verbose=2, cv=4, n_jobs=-1)"
      ],
      "execution_count": 0,
      "outputs": []
    },
    {
      "cell_type": "code",
      "metadata": {
        "id": "UTHPktUjSftt",
        "colab_type": "code",
        "outputId": "87baaa2b-5790-4154-c66c-621388e63822",
        "colab": {
          "base_uri": "https://localhost:8080/",
          "height": 173
        }
      },
      "source": [
        "# Run the grid\n",
        "grid.fit(train_set, train_labels)\n",
        "\n",
        "# Print the best parameters found\n",
        "print(grid.best_params_)\n",
        "print(grid.best_score_)"
      ],
      "execution_count": 0,
      "outputs": [
        {
          "output_type": "stream",
          "text": [
            "Fitting 4 folds for each of 144 candidates, totalling 576 fits\n"
          ],
          "name": "stdout"
        },
        {
          "output_type": "stream",
          "text": [
            "[Parallel(n_jobs=-1)]: Using backend LokyBackend with 2 concurrent workers.\n",
            "[Parallel(n_jobs=-1)]: Done  37 tasks      | elapsed:   46.9s\n",
            "[Parallel(n_jobs=-1)]: Done 158 tasks      | elapsed:  2.9min\n",
            "[Parallel(n_jobs=-1)]: Done 361 tasks      | elapsed:  5.9min\n",
            "[Parallel(n_jobs=-1)]: Done 576 out of 576 | elapsed:  8.9min finished\n"
          ],
          "name": "stderr"
        },
        {
          "output_type": "stream",
          "text": [
            "{'boosting_type': 'gbdt', 'colsample_bytree': 0.4, 'learning_rate': 0.05, 'n_estimators': 1000, 'num_leaves': 24, 'objective': 'binary', 'random_state': 501, 'reg_alpha': 1.2, 'reg_lambda': 1.2, 'subsample': 0.5}\n",
            "0.7227822580645161\n"
          ],
          "name": "stdout"
        }
      ]
    },
    {
      "cell_type": "code",
      "metadata": {
        "id": "cgZdwMrfSrLm",
        "colab_type": "code",
        "colab": {}
      },
      "source": [
        "# Using parameters already set above, replace in the best from the grid search\n",
        "params['colsample_bytree'] = grid.best_params_['colsample_bytree']\n",
        "params['learning_rate'] = grid.best_params_['learning_rate']\n",
        "params['n_estimators'] = grid.best_params_['n_estimators']\n",
        "params['objective'] = grid.best_params_['objective']\n",
        "params['random_state'] = grid.best_params_['random_state']\n",
        "params['subsample'] = grid.best_params_['subsample']"
      ],
      "execution_count": 0,
      "outputs": []
    },
    {
      "cell_type": "code",
      "metadata": {
        "id": "1BpFjigpSuIf",
        "colab_type": "code",
        "outputId": "6eac830d-f2f2-480b-bc48-c74a3425d6b4",
        "colab": {
          "base_uri": "https://localhost:8080/",
          "height": 119
        }
      },
      "source": [
        "%%time\n",
        "lgbm = lgb.train(params, lgb_train, num_boost_round=300)"
      ],
      "execution_count": 0,
      "outputs": [
        {
          "output_type": "stream",
          "text": [
            "/usr/local/lib/python3.6/dist-packages/lightgbm/engine.py:118: UserWarning: Found `n_estimators` in params. Will use it instead of argument\n",
            "  warnings.warn(\"Found `{}` in params. Will use it instead of argument\".format(alias))\n",
            "/usr/local/lib/python3.6/dist-packages/lightgbm/basic.py:1205: UserWarning: Using categorical_feature in Dataset.\n",
            "  warnings.warn('Using categorical_feature in Dataset.')\n"
          ],
          "name": "stderr"
        },
        {
          "output_type": "stream",
          "text": [
            "CPU times: user 1.57 s, sys: 670 ms, total: 2.24 s\n",
            "Wall time: 1.89 s\n"
          ],
          "name": "stdout"
        }
      ]
    },
    {
      "cell_type": "code",
      "metadata": {
        "id": "jsMUdxG0SyOm",
        "colab_type": "code",
        "colab": {}
      },
      "source": [
        "y_prob = lgbm.predict(test_set)"
      ],
      "execution_count": 0,
      "outputs": []
    },
    {
      "cell_type": "code",
      "metadata": {
        "id": "D8P38CYVTVAK",
        "colab_type": "code",
        "colab": {}
      },
      "source": [
        "y_pred = np.where(y_prob > 0.5, 1, 0) #Turn probability to 0-1 binary output  "
      ],
      "execution_count": 0,
      "outputs": []
    },
    {
      "cell_type": "markdown",
      "metadata": {
        "id": "3-SSTBxkTeOC",
        "colab_type": "text"
      },
      "source": [
        "### Model Evaluation"
      ]
    },
    {
      "cell_type": "code",
      "metadata": {
        "id": "TNYOzVr3Tc0O",
        "colab_type": "code",
        "outputId": "3a67865f-c573-452e-bc51-f909b2f31876",
        "colab": {
          "base_uri": "https://localhost:8080/",
          "height": 427
        }
      },
      "source": [
        "#Print Confusion Matrix\n",
        "from sklearn.metrics import confusion_matrix, recall_score, precision_score, f1_score, roc_curve, roc_auc_score\n",
        "\n",
        "plt.figure()\n",
        "cm = confusion_matrix(test_labels, y_pred)\n",
        "labels = ['1', '0']\n",
        "plt.figure(figsize=(8,6))\n",
        "sns.heatmap(cm, xticklabels = labels, yticklabels = labels, annot = True, fmt='d', cmap=\"Blues\", vmin = 0.2);\n",
        "plt.title('Confusion Matrix')\n",
        "plt.ylabel('True Class')\n",
        "plt.xlabel('Predicted Class')\n",
        "plt.show()"
      ],
      "execution_count": 0,
      "outputs": [
        {
          "output_type": "display_data",
          "data": {
            "text/plain": [
              "<Figure size 432x288 with 0 Axes>"
            ]
          },
          "metadata": {
            "tags": []
          }
        },
        {
          "output_type": "display_data",
          "data": {
            "image/png": "[encoded data removed]",
            "text/plain": [
              "<Figure size 576x432 with 2 Axes>"
            ]
          },
          "metadata": {
            "tags": []
          }
        }
      ]
    },
    {
      "cell_type": "markdown",
      "metadata": {
        "id": "cTn9nqjbTqg3",
        "colab_type": "text"
      },
      "source": [
        "#### Precision , Recall and F1 score"
      ]
    },
    {
      "cell_type": "code",
      "metadata": {
        "id": "y4DAxZYXTdtT",
        "colab_type": "code",
        "colab": {}
      },
      "source": [
        "y_prob = pd.DataFrame(y_prob)"
      ],
      "execution_count": 0,
      "outputs": []
    },
    {
      "cell_type": "code",
      "metadata": {
        "id": "xDaVYinfTo5U",
        "colab_type": "code",
        "colab": {}
      },
      "source": [
        "# calculate roc curve\n",
        "fpr, tpr, thresholds = roc_curve(test_labels, y_prob)"
      ],
      "execution_count": 0,
      "outputs": []
    },
    {
      "cell_type": "code",
      "metadata": {
        "id": "KY6LbDJUTuzo",
        "colab_type": "code",
        "outputId": "e4ee3c2c-3202-4fc0-8902-819c6f877d74",
        "colab": {
          "base_uri": "https://localhost:8080/",
          "height": 34
        }
      },
      "source": [
        "# calculate AUC\n",
        "auc = roc_auc_score(test_labels, y_prob)\n",
        "print('AUC: %.3f' % auc)"
      ],
      "execution_count": 0,
      "outputs": [
        {
          "output_type": "stream",
          "text": [
            "AUC: 0.829\n"
          ],
          "name": "stdout"
        }
      ]
    },
    {
      "cell_type": "code",
      "metadata": {
        "id": "dlfDhYpVTwNU",
        "colab_type": "code",
        "outputId": "e5f71647-bcfb-440c-febd-0c67e86d5f83",
        "colab": {
          "base_uri": "https://localhost:8080/",
          "height": 34
        }
      },
      "source": [
        "print(\"Recall: {0}\".format(round(recall_score(test_labels, y_pred),4)))"
      ],
      "execution_count": 0,
      "outputs": [
        {
          "output_type": "stream",
          "text": [
            "Recall: 0.6471\n"
          ],
          "name": "stdout"
        }
      ]
    },
    {
      "cell_type": "code",
      "metadata": {
        "id": "sokc9qEpTziU",
        "colab_type": "code",
        "outputId": "961d8445-eceb-40f1-9146-043bb12fbc4f",
        "colab": {
          "base_uri": "https://localhost:8080/",
          "height": 34
        }
      },
      "source": [
        "print(\"Precision: {0}\".format(round(precision_score(test_labels, y_pred),4)))"
      ],
      "execution_count": 0,
      "outputs": [
        {
          "output_type": "stream",
          "text": [
            "Precision: 0.75\n"
          ],
          "name": "stdout"
        }
      ]
    },
    {
      "cell_type": "code",
      "metadata": {
        "id": "jrhma0gvTzyI",
        "colab_type": "code",
        "outputId": "a680ce33-599d-4cd9-bb12-28f16813703f",
        "colab": {
          "base_uri": "https://localhost:8080/",
          "height": 34
        }
      },
      "source": [
        "# calculate F1 score\n",
        "f1_score(test_labels, y_pred)"
      ],
      "execution_count": 0,
      "outputs": [
        {
          "output_type": "execute_result",
          "data": {
            "text/plain": [
              "0.6947368421052633"
            ]
          },
          "metadata": {
            "tags": []
          },
          "execution_count": 625
        }
      ]
    },
    {
      "cell_type": "code",
      "metadata": {
        "id": "7Km7BIMP2DqD",
        "colab_type": "code",
        "colab": {}
      },
      "source": [
        ""
      ],
      "execution_count": 0,
      "outputs": []
    }
  ]
}